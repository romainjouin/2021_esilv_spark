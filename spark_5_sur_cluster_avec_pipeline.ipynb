{
 "cells": [
  {
   "cell_type": "markdown",
   "id": "c03b185f",
   "metadata": {},
   "source": [
    "# -1) imports"
   ]
  },
  {
   "cell_type": "code",
   "execution_count": 1,
   "id": "84e963b5",
   "metadata": {},
   "outputs": [],
   "source": [
    "from pyspark.sql import SparkSession"
   ]
  },
  {
   "cell_type": "markdown",
   "id": "6e6a0913",
   "metadata": {},
   "source": [
    "# 1) configurations"
   ]
  },
  {
   "cell_type": "code",
   "execution_count": 2,
   "id": "b5325965",
   "metadata": {},
   "outputs": [],
   "source": [
    "master  = \"spark://bigdataspark000.xynzil3hn5duhdxf2phc4yyyne.ax.internal.cloudapp.net:7077\"\n",
    "appName = \"Esilv\""
   ]
  },
  {
   "cell_type": "markdown",
   "id": "fef349ab",
   "metadata": {},
   "source": [
    "# 2) création d'une sparkSession"
   ]
  },
  {
   "cell_type": "code",
   "execution_count": 3,
   "id": "c19071d5",
   "metadata": {},
   "outputs": [
    {
     "name": "stderr",
     "output_type": "stream",
     "text": [
      "WARNING: An illegal reflective access operation has occurred\n",
      "WARNING: Illegal reflective access by org.apache.spark.unsafe.Platform (file:/home/student/spark/spark-3.2.0-bin-hadoop3.2/jars/spark-unsafe_2.12-3.2.0.jar) to constructor java.nio.DirectByteBuffer(long,int)\n",
      "WARNING: Please consider reporting this to the maintainers of org.apache.spark.unsafe.Platform\n",
      "WARNING: Use --illegal-access=warn to enable warnings of further illegal reflective access operations\n",
      "WARNING: All illegal access operations will be denied in a future release\n",
      "Using Spark's default log4j profile: org/apache/spark/log4j-defaults.properties\n",
      "Setting default log level to \"WARN\".\n",
      "To adjust logging level use sc.setLogLevel(newLevel). For SparkR, use setLogLevel(newLevel).\n",
      "22/01/14 12:40:33 WARN NativeCodeLoader: Unable to load native-hadoop library for your platform... using builtin-java classes where applicable\n"
     ]
    }
   ],
   "source": [
    "session_builder = SparkSession.builder\n",
    "session_builder.master(master)\n",
    "session_builder.appName(appName)\n",
    "spark_session = session_builder.getOrCreate()"
   ]
  },
  {
   "cell_type": "markdown",
   "id": "1153b798",
   "metadata": {},
   "source": [
    "# 3) récupération du sparkContext"
   ]
  },
  {
   "cell_type": "code",
   "execution_count": 4,
   "id": "1268199c",
   "metadata": {},
   "outputs": [],
   "source": [
    "spark_context = spark_session.sparkContext\n",
    "sc = spark_context"
   ]
  },
  {
   "cell_type": "code",
   "execution_count": 5,
   "id": "006dec94",
   "metadata": {},
   "outputs": [
    {
     "data": {
      "text/html": [
       "\n",
       "        <div>\n",
       "            <p><b>SparkContext</b></p>\n",
       "\n",
       "            <p><a href=\"http://bigdataspark000.internal.cloudapp.net:4040\">Spark UI</a></p>\n",
       "\n",
       "            <dl>\n",
       "              <dt>Version</dt>\n",
       "                <dd><code>v3.2.0</code></dd>\n",
       "              <dt>Master</dt>\n",
       "                <dd><code>spark://bigdataspark000.xynzil3hn5duhdxf2phc4yyyne.ax.internal.cloudapp.net:7077</code></dd>\n",
       "              <dt>AppName</dt>\n",
       "                <dd><code>Esilv</code></dd>\n",
       "            </dl>\n",
       "        </div>\n",
       "        "
      ],
      "text/plain": [
       "<SparkContext master=spark://bigdataspark000.xynzil3hn5duhdxf2phc4yyyne.ax.internal.cloudapp.net:7077 appName=Esilv>"
      ]
     },
     "execution_count": 5,
     "metadata": {},
     "output_type": "execute_result"
    }
   ],
   "source": [
    "sc"
   ]
  },
  {
   "cell_type": "markdown",
   "id": "ee843bf5",
   "metadata": {},
   "source": [
    "# 4) Lecture d'un fichier sur le filesystem des ordinateurs du cluster\n",
    "=> Attention : le fichier doit exister au même endroit sur chaque noeud du réseau  \n",
    "=> c'est pour ça qu'on utilise hdfs => on peut avoir un ajustement automatique des noeuds et des blocs lus"
   ]
  },
  {
   "cell_type": "code",
   "execution_count": 6,
   "id": "21544540",
   "metadata": {},
   "outputs": [],
   "source": [
    "path_to_readme = \"/home/student/spark/spark-3.2.0-bin-hadoop3.2/README.md\""
   ]
  },
  {
   "cell_type": "code",
   "execution_count": 7,
   "id": "98aa561b",
   "metadata": {},
   "outputs": [],
   "source": [
    "rdd = spark_context.textFile(path_to_readme)"
   ]
  },
  {
   "cell_type": "code",
   "execution_count": 8,
   "id": "f2d18ee2",
   "metadata": {},
   "outputs": [
    {
     "name": "stderr",
     "output_type": "stream",
     "text": [
      "                                                                                \r"
     ]
    },
    {
     "data": {
      "text/plain": [
       "109"
      ]
     },
     "execution_count": 8,
     "metadata": {},
     "output_type": "execute_result"
    }
   ],
   "source": [
    "rdd.count()"
   ]
  },
  {
   "cell_type": "markdown",
   "id": "aa236196",
   "metadata": {},
   "source": [
    "# 5) lecture d'un fichier sur hdfs"
   ]
  },
  {
   "cell_type": "code",
   "execution_count": 12,
   "id": "a9c1e24d",
   "metadata": {},
   "outputs": [],
   "source": [
    "hdfs_path = \"hdfs://bigdataspark000.westeurope.cloudapp.azure.com:8020/README.txt\"\n",
    "rdd_hdfs_2 = spark_context.textFile(hdfs_path)"
   ]
  },
  {
   "cell_type": "code",
   "execution_count": 13,
   "id": "ea69c9a6",
   "metadata": {},
   "outputs": [
    {
     "name": "stderr",
     "output_type": "stream",
     "text": [
      "                                                                                \r"
     ]
    },
    {
     "data": {
      "text/plain": [
       "7"
      ]
     },
     "execution_count": 13,
     "metadata": {},
     "output_type": "execute_result"
    }
   ],
   "source": [
    "rdd_hdfs_2.count()"
   ]
  },
  {
   "cell_type": "markdown",
   "id": "9eb5bcf8",
   "metadata": {},
   "source": [
    "# 6) Lecture de la base x, et requête SQL (p 189 du du support de cours)"
   ]
  },
  {
   "cell_type": "code",
   "execution_count": 14,
   "id": "91049f2f",
   "metadata": {},
   "outputs": [
    {
     "name": "stderr",
     "output_type": "stream",
     "text": [
      "                                                                                \r"
     ]
    }
   ],
   "source": [
    "hdfs_path = \"hdfs://10.0.0.4:8020/base_x.csv\"\n",
    "\n",
    "tentatitive = spark_session.read.options(\n",
    "                                            header=\"true\", \n",
    "                                            delimiter=\",\", \n",
    "                                            quote=\"\\\"\", \n",
    "                                            mode=\"FAILFAST\", \n",
    "                                            inferSchema=\"true\").csv(hdfs_path)"
   ]
  },
  {
   "cell_type": "code",
   "execution_count": 15,
   "id": "8740fb23",
   "metadata": {},
   "outputs": [
    {
     "name": "stderr",
     "output_type": "stream",
     "text": [
      "[Stage 4:>                                                          (0 + 4) / 5]\r"
     ]
    },
    {
     "name": "stdout",
     "output_type": "stream",
     "text": [
      "(39045, 3418)\n"
     ]
    },
    {
     "name": "stderr",
     "output_type": "stream",
     "text": [
      "                                                                                \r"
     ]
    }
   ],
   "source": [
    "print((tentatitive.count(), len(tentatitive.columns)))"
   ]
  },
  {
   "cell_type": "markdown",
   "id": "a7e647a0",
   "metadata": {},
   "source": [
    "## 6.1) enregistrement en tant que table temporaire"
   ]
  },
  {
   "cell_type": "code",
   "execution_count": 16,
   "id": "dee38953",
   "metadata": {},
   "outputs": [
    {
     "name": "stderr",
     "output_type": "stream",
     "text": [
      "/home/student/anaconda3/lib/python3.9/site-packages/pyspark/sql/dataframe.py:138: FutureWarning: Deprecated in 2.0, use createOrReplaceTempView instead.\n",
      "  warnings.warn(\n",
      "22/01/14 12:41:55 WARN package: Truncated the string representation of a plan since it was too large. This behavior can be adjusted by setting 'spark.sql.debug.maxToStringFields'.\n"
     ]
    }
   ],
   "source": [
    "tentatitive.registerTempTable(\"base_x\")"
   ]
  },
  {
   "cell_type": "markdown",
   "id": "d8f6ae51",
   "metadata": {},
   "source": [
    "## 6.2) exécution d'une requête sql "
   ]
  },
  {
   "cell_type": "code",
   "execution_count": 17,
   "id": "a74841e0",
   "metadata": {},
   "outputs": [],
   "source": [
    "requete_sql = \"Select count(*) from base_x\""
   ]
  },
  {
   "cell_type": "code",
   "execution_count": 18,
   "id": "2beebeda",
   "metadata": {},
   "outputs": [
    {
     "name": "stderr",
     "output_type": "stream",
     "text": [
      "                                                                                \r"
     ]
    },
    {
     "data": {
      "text/plain": [
       "[Row(count(1)=39045)]"
      ]
     },
     "execution_count": 18,
     "metadata": {},
     "output_type": "execute_result"
    }
   ],
   "source": [
    "spark_session.sql(requete_sql).collect()"
   ]
  },
  {
   "cell_type": "markdown",
   "id": "9083e072",
   "metadata": {},
   "source": [
    "# 7) Analyse des Cyclistes (p224 du cours)\n"
   ]
  },
  {
   "cell_type": "markdown",
   "id": "d2374b20",
   "metadata": {},
   "source": [
    "## 7.1) lecture des cyclistes"
   ]
  },
  {
   "cell_type": "code",
   "execution_count": 19,
   "id": "79fcf30f",
   "metadata": {},
   "outputs": [],
   "source": [
    "hdfs_path = \"hdfs://10.0.0.4:8020/cycliste_cyclistes.csv\"\n",
    "\n",
    "cyclistes = spark_session.read.options(\n",
    "                                            header=\"true\", \n",
    "                                            delimiter=\",\", \n",
    "                                            quote=\"\\\"\", \n",
    "                                            mode=\"FAILFAST\", \n",
    "                                            inferSchema=\"true\").csv(hdfs_path)"
   ]
  },
  {
   "cell_type": "code",
   "execution_count": 20,
   "id": "d3dff3ef",
   "metadata": {},
   "outputs": [
    {
     "data": {
      "text/plain": [
       "4829"
      ]
     },
     "execution_count": 20,
     "metadata": {},
     "output_type": "execute_result"
    }
   ],
   "source": [
    "cyclistes.count()"
   ]
  },
  {
   "cell_type": "markdown",
   "id": "fe272264",
   "metadata": {},
   "source": [
    "## 7.2) one-hot encoding"
   ]
  },
  {
   "cell_type": "code",
   "execution_count": 21,
   "id": "b338c0a2",
   "metadata": {},
   "outputs": [],
   "source": [
    "from pyspark.ml.feature import StringIndexer"
   ]
  },
  {
   "cell_type": "code",
   "execution_count": 57,
   "id": "d6f24fd9",
   "metadata": {},
   "outputs": [],
   "source": [
    "string_indexer = StringIndexer()"
   ]
  },
  {
   "cell_type": "code",
   "execution_count": 58,
   "id": "74c2f95b",
   "metadata": {},
   "outputs": [],
   "source": [
    "string_indexer = string_indexer.setInputCol(\"sexe\").setOutputCol(\"sex-num\")"
   ]
  },
  {
   "cell_type": "code",
   "execution_count": 59,
   "id": "1b19d37e",
   "metadata": {},
   "outputs": [],
   "source": [
    "string_indexer_modele = string_indexer.fit(cyclistes)"
   ]
  },
  {
   "cell_type": "code",
   "execution_count": 60,
   "id": "ac6a9589",
   "metadata": {},
   "outputs": [],
   "source": [
    "cyclistes_double = string_indexer_modele.transform(cyclistes)"
   ]
  },
  {
   "cell_type": "code",
   "execution_count": 61,
   "id": "86f1cdee",
   "metadata": {},
   "outputs": [
    {
     "name": "stdout",
     "output_type": "stream",
     "text": [
      "+--------------+-------+---+-----+-------------+-------------+-------+-------+\n",
      "|      cycliste|sportif|age| sexe|        nb_km|      vitesse|attente|sex-num|\n",
      "+--------------+-------+---+-----+-------------+-------------+-------+-------+\n",
      "|cycliste_azrc5|   -0.5| 24|femme|14.9038044082|12.0815937384|    0.5|    0.0|\n",
      "|cycliste_azrs0|   -0.5| 67|femme|14.5112928217|14.0640955863|    0.5|    0.0|\n",
      "+--------------+-------+---+-----+-------------+-------------+-------+-------+\n",
      "only showing top 2 rows\n",
      "\n"
     ]
    }
   ],
   "source": [
    "cyclistes_double.show(2) # on observe la création de la colonne supplémentaire "
   ]
  },
  {
   "cell_type": "markdown",
   "id": "4cb829a7",
   "metadata": {},
   "source": [
    "# 7.3) création d'une colonne de type 'vector'"
   ]
  },
  {
   "cell_type": "code",
   "execution_count": 27,
   "id": "dd36a788",
   "metadata": {},
   "outputs": [],
   "source": [
    "from pyspark.ml.feature import VectorAssembler"
   ]
  },
  {
   "cell_type": "code",
   "execution_count": 62,
   "id": "f54b400e",
   "metadata": {},
   "outputs": [],
   "source": [
    "vector_assembler = VectorAssembler()"
   ]
  },
  {
   "cell_type": "code",
   "execution_count": 63,
   "id": "0f2dc229",
   "metadata": {},
   "outputs": [],
   "source": [
    "colonnes_a_assembler = [\"sportif\", \"age\", \"nb_km\", \"vitesse\"]"
   ]
  },
  {
   "cell_type": "code",
   "execution_count": 64,
   "id": "28540319",
   "metadata": {},
   "outputs": [],
   "source": [
    "vector_assembler = vector_assembler.setInputCols(colonnes_a_assembler)\n",
    "vector_assembler = vector_assembler.setOutputCol(\"features\")"
   ]
  },
  {
   "cell_type": "code",
   "execution_count": 65,
   "id": "a5c42bd2",
   "metadata": {},
   "outputs": [],
   "source": [
    "points = vector_assembler.transform(cyclistes_double)"
   ]
  },
  {
   "cell_type": "code",
   "execution_count": 66,
   "id": "f1324909",
   "metadata": {},
   "outputs": [
    {
     "name": "stdout",
     "output_type": "stream",
     "text": [
      "+--------------+-------+---+-----+-------------+-------------+-------+-------+--------------------+\n",
      "|      cycliste|sportif|age| sexe|        nb_km|      vitesse|attente|sex-num|            features|\n",
      "+--------------+-------+---+-----+-------------+-------------+-------+-------+--------------------+\n",
      "|cycliste_azrc5|   -0.5| 24|femme|14.9038044082|12.0815937384|    0.5|    0.0|[-0.5,24.0,14.903...|\n",
      "|cycliste_azrs0|   -0.5| 67|femme|14.5112928217|14.0640955863|    0.5|    0.0|[-0.5,67.0,14.511...|\n",
      "+--------------+-------+---+-----+-------------+-------------+-------+-------+--------------------+\n",
      "only showing top 2 rows\n",
      "\n"
     ]
    }
   ],
   "source": [
    "points.show(2)"
   ]
  },
  {
   "cell_type": "markdown",
   "id": "c7fce234",
   "metadata": {},
   "source": [
    "## 7.4) renommange de la colonne à prédire en nom \"labels\""
   ]
  },
  {
   "cell_type": "code",
   "execution_count": 33,
   "id": "865250d7",
   "metadata": {},
   "outputs": [],
   "source": [
    "points = points.withColumnRenamed(\"sex-num\", \"label\")"
   ]
  },
  {
   "cell_type": "code",
   "execution_count": 34,
   "id": "46b7e1d6",
   "metadata": {},
   "outputs": [
    {
     "name": "stdout",
     "output_type": "stream",
     "text": [
      "+--------------+-------+---+-----+-------------+-------------+-------+-----+--------------------+\n",
      "|      cycliste|sportif|age| sexe|        nb_km|      vitesse|attente|label|            features|\n",
      "+--------------+-------+---+-----+-------------+-------------+-------+-----+--------------------+\n",
      "|cycliste_azrc5|   -0.5| 24|femme|14.9038044082|12.0815937384|    0.5|  0.0|[-0.5,24.0,14.903...|\n",
      "|cycliste_azrs0|   -0.5| 67|femme|14.5112928217|14.0640955863|    0.5|  0.0|[-0.5,67.0,14.511...|\n",
      "+--------------+-------+---+-----+-------------+-------------+-------+-----+--------------------+\n",
      "only showing top 2 rows\n",
      "\n"
     ]
    }
   ],
   "source": [
    "points.show(2)"
   ]
  },
  {
   "cell_type": "markdown",
   "id": "c656741b",
   "metadata": {},
   "source": [
    "## 7.5) création d'un jeu d'apprentissage et d'un jeu de tests"
   ]
  },
  {
   "cell_type": "code",
   "execution_count": 35,
   "id": "19aa7ca5",
   "metadata": {},
   "outputs": [],
   "source": [
    "jeu_d_apprentissage, jeu_de_test = points.randomSplit([0.8, 0.2])"
   ]
  },
  {
   "cell_type": "markdown",
   "id": "b26dc8a0",
   "metadata": {},
   "source": [
    "# 7.6) modélisation"
   ]
  },
  {
   "cell_type": "code",
   "execution_count": 36,
   "id": "0aa9810a",
   "metadata": {},
   "outputs": [],
   "source": [
    "from pyspark.ml.classification import DecisionTreeClassifier"
   ]
  },
  {
   "cell_type": "code",
   "execution_count": 37,
   "id": "0490746b",
   "metadata": {},
   "outputs": [],
   "source": [
    "algo = DecisionTreeClassifier()"
   ]
  },
  {
   "cell_type": "code",
   "execution_count": 67,
   "id": "f75f2a43",
   "metadata": {},
   "outputs": [],
   "source": [
    "modele_decision_tree = algo.fit(jeu_d_apprentissage)"
   ]
  },
  {
   "cell_type": "markdown",
   "id": "e7636d1c",
   "metadata": {},
   "source": [
    "## 7.7) usage du modèle"
   ]
  },
  {
   "cell_type": "code",
   "execution_count": 68,
   "id": "93f1b444",
   "metadata": {},
   "outputs": [],
   "source": [
    "predictions = modele_decision_tree.transform(jeu_de_test)"
   ]
  },
  {
   "cell_type": "code",
   "execution_count": 71,
   "id": "0b89eebe",
   "metadata": {},
   "outputs": [
    {
     "name": "stdout",
     "output_type": "stream",
     "text": [
      "+----------+\n",
      "|prediction|\n",
      "+----------+\n",
      "|       0.0|\n",
      "|       0.0|\n",
      "|       1.0|\n",
      "|       0.0|\n",
      "|       0.0|\n",
      "|       1.0|\n",
      "|       0.0|\n",
      "|       0.0|\n",
      "|       0.0|\n",
      "|       0.0|\n",
      "|       0.0|\n",
      "|       1.0|\n",
      "|       0.0|\n",
      "|       0.0|\n",
      "|       0.0|\n",
      "|       0.0|\n",
      "|       0.0|\n",
      "|       0.0|\n",
      "|       0.0|\n",
      "|       0.0|\n",
      "+----------+\n",
      "only showing top 20 rows\n",
      "\n"
     ]
    }
   ],
   "source": [
    "predictions.select(\"prediction\").show(20)"
   ]
  },
  {
   "cell_type": "markdown",
   "id": "ac363dde",
   "metadata": {},
   "source": [
    "## 7.8) évaluation de la prédiction "
   ]
  },
  {
   "cell_type": "code",
   "execution_count": 42,
   "id": "dc319d8e",
   "metadata": {},
   "outputs": [],
   "source": [
    "from pyspark.ml.evaluation import BinaryClassificationEvaluator"
   ]
  },
  {
   "cell_type": "code",
   "execution_count": 43,
   "id": "a75c6c24",
   "metadata": {},
   "outputs": [],
   "source": [
    "evaluator = BinaryClassificationEvaluator()"
   ]
  },
  {
   "cell_type": "code",
   "execution_count": 44,
   "id": "f2f01f8a",
   "metadata": {},
   "outputs": [
    {
     "data": {
      "text/plain": [
       "0.688919698314108"
      ]
     },
     "execution_count": 44,
     "metadata": {},
     "output_type": "execute_result"
    }
   ],
   "source": [
    "evaluator.evaluate(predictions)"
   ]
  },
  {
   "cell_type": "code",
   "execution_count": 16,
   "id": "5e03eec0",
   "metadata": {},
   "outputs": [
    {
     "data": {
      "text/plain": [
       "[',aag.schlau,aag.schlaudanke,adac.aktuelleverkehrslage,adac.alpenstrassen,adac.alternativekraftstoffe,adac.andertankstelle,adac.auslandlzhome,adac.auslandlzkont,adac.auslandlzrechner,adac.auslkrankschkontaktfaq,adac.auslkrankschrechnerantrag,adac.auslkrankschueberblick,adac.auslkrankschuleistungen,adac.auslkrankschverteiler,adac.autobahneroeffnungen,adac.autodaten,adac.autodatenautokosten,adac.autokosten,adac.autokreditdankeseite,adac.autokreditlandingpage,adac.autotest,adac.autovermietungproduktseite,adac.autoveskontaktfaq,adac.autovesleistungen,adac.autovesueberblick,adac.benzindiesel,adac.crashtest,adac.ecotest,adac.finanzdiensteproduktseite,adac.gebrauchtwagen,adac.homepage,adac.importexport,adac.infotestrateinsatz,adac.infotestratmotorrad,adac.infotestratoldtimer,adac.infotestratrecht,adac.infotestratstart,adac.infotestrattests,adac.infotestratunfall,adac.infotestratverkehr,adac.kamp1406,adac.kamp1411,adac.kfzsteuer,adac.kfzvers,adac.kraftstoffpreise,adac.kreditkarteantrag,adac.kreditkartekontaktfaq,adac.kreditkarteleistungen,adac.maut,adac.meinadac,adac.meinadacmitglied,adac.meinekreditkarte,adac.mitgliedgeneplus,adac.mitgliedleistlexikon,adac.mitgliedleistungen,adac.mitgliedstart,adac.mitgliedtarife,adac.mitgliedvorteile,adac.motorradroller,adac.musterkaufvertraegeuformulare,adac.neuwagen,adac.neuwagenberater,adac.oldvshome,adac.oldvskontakt,adac.oldvsleist,adac.parken,adac.privhftpflkontaktfaq,adac.privhftpflleistungen,adac.privhftpflrechnerantrag,adac.privhftpflueberblick,adac.rechtdankeseitemgl4,adac.rechtformulareingabe,adac.rechtsschkontaktfaq,adac.rechtsschleistungen,adac.rechtsschrechnerantrag,adac.rechtsschueberblick,adac.reifentest,adac.reisefeiattraktionen,adac.reisefeicamping,adac.reisefeimaut,adac.reisefeinews,adac.reisefeiratgeber,adac.reisefeireiseangebote,adac.reisefeistadt,adac.reisefeistart,adac.reisefeitourset,adac.reisefeiverkehr,adac.reisefeiwassersport,adac.reisefeiwetter,adac.reiserueckveskontaktfaq,adac.reiserueckvesleistungen,adac.reiserueckvesrechnerantrag,adac.reiserueckvesueberblick,adac.reisever,adac.reisevesdankeseiteaksbep4,adac.reisevesdankeseiterrvjahr4,adac.reisevesformulareingabeaks,adac.reisevesformulareingaberrv,adac.reiseveslandingpage,adac.servicenummern,adac.spritsparen,adac.staumelder,adac.stauscanner,adac.tankenkraftstoffantrieb,adac.unfallschutzhome,adac.unfallschutzkont,adac.unfallschutzkontaktfaq,adac.unfallschutzleistungen,adac.unfallschutzrechner,adac.unfallschutzrechnerantrag,adac.unfallschutztarif,adac.unfallschutzueberblick,adac.unfallschutzverteiler,adac.unfallvers,adac.versicherungenproduktseite,adac.versicherungsrecht,adac.wochenprognose,adac.zulassung,ADEX_FEED_117.17561,ADEX_FEED_117.17562,ADEX_FEED_117.17563,ADEX_FEED_117.17564,ADEX_FEED_117.17565,ADEX_FEED_117.17566,ADEX_FEED_117.17567,ADEX_FEED_117.17568,age.1419,age.2029,age.3039,age.4049,age.5059,age.6069,aok.homepage,aok.infosanfordern,aok.wahltarife,aokbund.kamp14003,aokbund.kamp140102,atp.danke,atp.page,ats.homepage,aud.cust,aud.odprodnr,aud.page,aud.prodnr,aud.wkprodnr,banklupe.01,banklupe.02,banklupe.03,banklupe.04,banklupe.05,banklupe.06,banklupe.07,banklupe.08,beautylane.page,beautylane.prodnumber,beautylane.wkprodnumber,beautylaneat.page,beautylanech.page,beruftaet.ausb,beruftaet.berufst,bet.cat,bet.danke,bet.page,bet.wrk,billyboy.startseite,bmw.bmwkamp14040,bmw.handelsblatt,bmw.kamp14060,bmw.loginmeinbmw,bmw.retargeting,bmw.startmeinbmw,bmw.sueddeutsche,bmwch.bmwch,bmwde.page,bmwpe.career,bmwpe.engineer,bmwpe.ing,bmwpe.it,bmwpe.iten,bmwpe.karriere,bmwpe.manu,bmwpe.pkt,bmwpe.pupils,bmwpe.schueler,bmwpe.trainee,bmwsmd.dotierung,bsh.kamp14007diamant,bsh.kamp14008family,bsh.kamp14009silence,bsh.kamp14012,bsh.klick,bsh.lpsilence,bsh.serie8kochen,bsh.testsieger,bsh.view,carn.costayoutube,CenterParcs.Aktivitaeten,CenterParcs.Bestellabbrecher,CenterParcs.Ferienparks,CenterParcs.FPBelgien,CenterParcs.FPDeutschland,CenterParcs.FPFrankreich,CenterParcs.FPNiederlande,CenterParcs.Fruehbucher,CenterParcs.Homepage,CenterParcs.KatalogDankeseite,CenterParcs.LastMinute,CenterParcs.NewsletterDankeseite,CenterParcs.TeaserFMD,CenterParcsValue.Ankunftsdatum,CenterParcsValue.Haustyp,CenterParcsValue.Personananzahl,CenterParcsValue.Reiseziel,cli.kampagne,cli.kampagne2,clubmed.zielgruppe1,clubmed.zielgruppe2,clubmed.zielgruppe3,condor.businessfliegen,condor.dankedata,condor.data,condor.kurzfliegen,condor.langfliegen,condor.page,condor.premiumfliegen,condor.wkdata,coop.formabm,coop.formdanke,coop.formreg,coop.home,coop.kasse,coop.kassedanke,coop.login,coop.superabm,coop.superdanke,coop.superreg,coop.wein,coop_its.destination,coop_its.page,coop_its.reiseland,coop_natplan.seitenaufrufe,cun.ang,cun.ang06,cun.ang18,cun.ang26,cun.ang28,cun.ang29,cun.ang40,cun.buch,cun.fahrtge,cun.kalender,cun.kontakt,cun.kontaktdanke,cun.kplaner,cun.mki,cun.nl,cun.nldanke,cun.nsk,cun.nwe,cun.qe,cun.qm2,cun.qv,cun.sr,cun.start,cun.tp,cun.welc,cun.wr,cunard.cat,cunard.product,cunard.subcat,dadirekt.entry,dadirekt.key,dadirekt.lead,dadirekt.op,dadirekt.page,dadirekt.sale,dadirekt.startlead,dadirekt.startsale,dadirekt.tr,db.page,dbauto.abfahrthin,dbauto.abfahrtrueck,dbauto.angebote,dbauto.anzahl,dbauto.dankeabfahrthin,dbauto.dankeabfahrtrueck,dbauto.dankeanzahl,dbauto.dankekinder,dbauto.dankekleinkinder,dbauto.dankelanguage,dbauto.dankereisende,dbauto.danketyp,dbauto.dankezielorthin,dbauto.dankezielortrueck,dbauto.kinder,dbauto.kleinkinder,dbauto.language,dbauto.page,dbauto.reisende,dbauto.rzland,dbauto.rzregion,dbauto.terland,dbauto.terstadt,dbauto.typ,dbauto.zielorthin,dbauto.zielortrueck,ddruck.orderdanke,ddruck.warenkorb,deichmann.customer,deichmann.odprodnr,deichmann.page,deichmann.price,deichmann.prodnr,deichmann.wkprodnr,dertour.rubrik,dertour.subkat,dertourdanke.abflug,dertourdanke.abreise,dertourdanke.anreise,dertourdanke.dauer,dertourdanke.kinder,dertourdanke.linie,dertourdanke.reiseart,dertourdanke.reiseziel,dertourdanke.teilnehmer,dertoursuche.abflug,dertoursuche.abreise,dertoursuche.anreise,dertoursuche.dauer,dertoursuche.kinder,dertoursuche.reiseart,dertoursuche.reiseziel,dertoursuche.teilnehmer,dertourwrk.abflug,dertourwrk.abreise,dertourwrk.anreise,dertourwrk.dauer,dertourwrk.kinder,dertourwrk.linie,dertourwrk.reiseart,dertourwrk.reiseziel,dertourwrk.teilnehmer,dfl.cat,dfl.prod,dfl.subcat,dibade.check24,dibade.check24media_autokredit,dibade.check24media_ratenkredit,dibade.check24media_RoC_finanzen,dibade.CONFIRMATION,dibade.googlemedia_RoN_selectedkeywords,dibade.page,dibade.par5,dlt.abschluss1,dlt.abschluss2,dlt.page,dlt.wilp14,eaglemoss.opel,eaglemoss.train,eco.espardanke,eco.esparLP,eco.kalkgwLP,eco.kalkkondanke,eco.kalkkonlp,econtrol.besucher_frage_seite,edu.abitur,edu.hochschule,edu.none,energiekontor.lp,famstand.heiratka,famstand.ledig,fb.Alter_13_24,fb.Frauen_25_99,flugladen.homepage,fom.15001mode,fom.15001sozio,fom.home,forws.page,fotokasten.category,fotokasten.odprod,fotokasten.page,fotokasten.prod,fotokasten.wrkprod,fr_ausgehen.monat,fr_ausgehen.monatein,fr_ausgehen.woche,fr_basteln.monat,fr_basteln.monatein,fr_basteln.Selten,fr_fernsehen.monat,fr_fernsehen.monatein,fr_fernsehen.Nie,fr_fernsehen.Selten,fr_fernsehen.woche,fr_kino.monat,fr_kino.monatein,fr_kino.woche,fr_kultur.monat,fr_kultur.monatein,fr_kultur.Selten,fr_kultur.woche,fr_musik.woche,fr_radio.monat,fr_radio.monatein,fr_radio.woche,fr_sport.monat,fr_sport.monatein,fr_sport.selten,fr_sport.woche,fr_stricken_schneidern.monatein,fr_stricken_schneidern.Nie,fr_stricken_schneidern.Selten,fr_viddvdblu.monat,fr_viddvdblu.monatein,fr_viddvdblu.woche,fr_zeitschriften.monat,fr_zeitschriften.monatein,fr_zeitschriften.Selten,fr_zeitschriften.woche,fr_zeitung.monat,fr_zeitung.monatein,fr_zeitung.Selten,fr_zeitung.woche,fuerstenberg.biere,fuerstenberg.edelbraeu,fuerstenberg.events,fuerstenberg.gastro,fuerstenberg.home,fuerstenberg.pils,fuerstenberg.sueden,gefro.page,gefro.prod,gefro.prodorder,gefro.prodwrknr,gothaer.kamp1502_interactivemedia_2,gothaer.kamp1502_ipdeutschland_2,gothaer.kamp1502_modemedia_2,gothaer.kamp1502_oms_2,gothaer.kamp1502_sevenone_2,gothaer.kamp1502_stroeer_2,gothaer.kamp1502_tofo_2,gothaer.kamp1502_uim,gothaer.kamp1502_viacom_2,gothaer.kamp1502_weischer_2,gothaer.kamp1502google,gothaer.kamp1502interactivemedia,gothaer.kamp1502IPDeutschland,gothaer.kamp1502iqdigital,gothaer.kamp1502modemedia,gothaer.kamp1502OMS,gothaer.kamp1502sevenone,gothaer.kamp1502ToFo,gothaer.kamp1502viacom,gothaer.kamp1502werbeweischer,grunergeo.page,heb.heb,heb.keinheb,hhe.blutsbruedaz,hhe.dashausderkrokodile,hhe.dashochzeitsvideo,hhe.gottdesgemetzels,hhe.krieggoetter,hhe.lol,hhe.tuerkischfueranfaenger,hhnetto.2025,hhnetto.3035,hhnetto.3540,hhnetto.4045,hhnetto.4550,hhnetto.5000,hhsab14.3pers,hhsab14.4pers,hhsab14.5pers,hhsbis14.1pers,hhsbis14.2pers,hhsbis14.3pers,hmc.kamp15001allgemein,hmc.kamp15001baecker,ikead.page,ikiosk.danke,ikiosk.home,ING_DiBa_Sequenz.retargeting,ING_DiBa_Sequenz.week,ingdiba.kampagne,insm.insmblog,insm.insmgerechtigkeit,insm.insmoekonomenblog,insm.insmpresse,insm.insmthemen,kamp.adc1495,kamp.adc1504,kamp.adc1506,kamp.adc1508,kamp.adc1508display,kamp.adc1509,kamp.adc1510RRV,kamp.adc1510RV,kamp.adc1512,kamp.adc1515,kamp.adc1516,kamp.adc1595,kamp.adc1595zusatz,kamp.adh15001,kamp.aok15003,kamp.aok15004,kamp.aok15004fb,kamp.aok15004mobile,kamp.atp1501,kamp.blg1501,kamp.bmw14020,kamp.bmw15004,kamp.bmw15020,kamp.bmw15021,kamp.bmw15055,kamp.bmw15056,kamp.bmw15062,kamp.bmw15072,kamp.bmw15078,kamp.bmw15079,kamp.bmw15087,kamp.bmw15127,kamp.bmw15131,kamp.bmw15144,kamp.bmw15149,kamp.bmw15151,kamp.bmw15176,kamp.bmw15184,kamp.bmw15185,kamp.bmw15186,kamp.bmw15191,kamp.bnp1401,kamp.bnp15003,kamp.bnp15009,kamp.bnp15010,kamp.btm1501,kamp.con1509,kamp.con1513,kamp.con1523,kamp.con1527,kamp.crc15001,kamp.cst1503,kamp.cst1503himedia,kamp.cun15002,kamp.cun15004,kamp.cun15005,kamp.dad1501,kamp.dad1520,kamp.dad1550,kamp.dal15001,kamp.dat15005,kamp.dat15016,kamp.dat15017,kamp.dei1420,kamp.dev15001,kamp.dex15003,kamp.dfl15001,kamp.dfl15003,kamp.dfl15004,kamp.dfl15004nero,kamp.dfl15005,kamp.dmn15003,kamp.dmn15004,kamp.dmn15005,kamp.dmn15006,kamp.dmn15007,kamp.dmn15008,kamp.dmn15022,kamp.dmn15025,kamp.dmn15029,kamp.dmn15030,kamp.dtp1503,kamp.dtp1504,kamp.ejp1502,kamp.eng15001,kamp.eng15002,kamp.erf15009,kamp.exp1504,kamp.fed15002,kamp.fom15001,kamp.fot15001,kamp.fot15003,kamp.fuer15003,kamp.gef1503,kamp.gj15007,kamp.guj15024,kamp.ike1425,kamp.ike15008,kamp.ike15017,kamp.ike15025,kamp.ike15030,kamp.ike15034,kamp.ike15037,kamp.ike15038,kamp.ike15039,kamp.ike15041,kamp.ike15042,kamp.ike15043,kamp.ike15044,kamp.ike15045,kamp.ike15049,kamp.kae1501,kamp.kae1502,kamp.kbs15001,kamp.kbs15002,kamp.kbs15003,kamp.kbs15005,kamp.ken1501,kamp.kik1502,kamp.kik1530,kamp.kik1580,kamp.lfa15001,kamp.lfa15002,kamp.lot1503,kamp.lot1504,kamp.lot1513,kamp.mnt1502,kamp.mnt1504,kamp.mnt1508,kamp.mnt1510,kamp.mnt1512,kamp.mnt1513,kamp.mnt1515,kamp.pau15004,kamp.pec15016,kamp.prk1501,kamp.rav1502,kamp.rbd15007,kamp.rbd15007nero,kamp.rbd15040apotheker,kamp.rbd15040special,kamp.rbd15040standards,kamp.rhh1504,kamp.rod1505,kamp.rueg15002,kamp.rueg15004,kamp.sat15029,kamp.sat15039,kamp.sat15061,kamp.sob15017,kamp.sob15036,kamp.spb15003,kamp.spb15004,kamp.spb1505,kamp.spb1506,kamp.stu15003,kamp.sun1501,kamp.suz1502,kamp.suz1505,kamp.tak1502,kamp.tak1503,kamp.tra15001,kamp.vit15002,kamp.vom15001f3,kamp.vom1501,kamp.vom1501F2,kamp.wdr1504,kamp.wdr1511,kamp.web1502,kamp.zdf15007,kamp.zdf15009,kamp.zdf15010,kampid_aid1401.aid01begeisterung1,kampid_aid1401.aid01begeisterung2,kampid_aid1401.aid01yoga1,kampid_aid1401.aid01yoga2,kbs.kamp001Dornroeschen,kbs.kamp002Dornroeschen,kbs.kamp002Dornroeschen_ms,kbs.kamp002schneewittchen,kbs.kamp002schneewittchen_ms,kbs.KBS_14_02_Arbeitgeber,kbs.KBS_14_02_Arbeitnehmer,keks.0,keks.00,keks.1018,keks.1082,keks.1089,keks.1127,keks.1155,keks.1163,keks.1172,keks.1197,keks.1218,keks.1219,keks.1220,keks.1235,keks.1237,keks.1243,keks.1244,keks.1246,keks.1253,keks.1255,keks.1256,keks.1268,keks.1271,keks.1272,keks.1282,keks.1283,keks.1285,keks.1286,keks.1291,keks.1296,keks.1307,keks.1308,keks.1311,keks.1315,keks.1316,keks.1324,keks.1330,keks.1332,keks.1335,keks.1336,keks.1339,keks.1343,keks.1349,keks.1358,keks.1359,keks.1360,keks.1368,keks.1400,keks.1403,keks.1404,keks.1405,keks.1414,keks.1426,keks.1427,keks.1431,keks.1432,keks.1433,keks.1435,keks.1436,keks.1438,keks.1443,keks.1449,keks.1468,keks.1489,keks.1490,keks.1497,keks.1500,keks.1501,keks.1502,keks.1506,keks.1515,keks.1518,keks.1519,keks.1521,keks.1522,keks.1523,keks.1524,keks.1529,keks.1532,keks.1533,keks.1558,keks.1564,keks.1572,keks.1591,keks.1604,keks.1613,keks.1618,keks.1619,keks.1621,keks.1634,keks.1644,keks.1655,keks.1658,keks.1663,keks.1667,keks.1670,keks.1672,keks.1676,keks.1688,keks.1689,keks.1691,keks.1692,keks.1693,keks.1701,keks.1711,keks.1713,keks.1723,keks.1724,keks.1727,keks.1730,keks.1739,keks.1740,keks.1754,keks.1758,keks.1763,keks.1771,keks.1772,keks.1779,keks.1784,keks.1791,keks.1794,keks.1803,keks.1817,keks.1818,keks.1819,keks.1820,keks.1828,keks.1833,keks.1839,keks.1846,keks.1847,keks.1848,keks.1850,keks.1853,keks.1857,keks.1859,keks.1872,keks.1881,keks.1884,keks.1892,keks.1893,keks.1896,keks.1898,keks.1900,keks.1906,keks.1907,keks.1908,keks.1909,keks.1910,keks.1915,keks.1918,keks.1922,keks.1927,keks.1933,keks.1935,keks.1936,keks.1939,keks.1940,keks.1943,keks.1945,keks.1952,keks.1957,keks.1961,keks.1962,keks.1963,keks.1964,keks.1966,keks.1987,keks.1994,keks.1995,keks.1998,keks.2003,keks.2005,keks.2009,keks.2015,keks.2030,keks.2034,keks.2035,keks.2037,keks.2045,keks.2047,keks.2051,keks.2053,keks.2054,keks.2055,keks.2056,keks.2065,keks.2073,keks.2075,keks.2077,keks.2080,keks.2093,keks.2096,keks.2102,keks.2104,keks.2112,keks.2115,keks.2121,keks.2122,keks.2126,keks.2127,keks.2128,keks.2129,keks.2133,keks.2139,keks.2141,keks.2142,keks.2146,keks.2151,keks.2153,keks.2157,keks.2158,keks.2159,keks.2160,keks.2161,keks.2164,keks.2185,keks.2193,keks.2199,keks.2201,keks.2202,keks.2205,keks.2216,keks.2220,keks.2223,keks.2224,keks.2225,keks.2235,keks.2237,keks.2239,keks.2258,keks.2275,keks.2298,keks.2314,keks.2315,keks.2337,keks.2343,keks.2344,keks.2349,keks.2351,keks.2352,keks.2354,keks.2355,keks.2356,keks.2358,keks.2360,keks.2361,keks.2388,keks.2391,keks.2410,keks.2412,keks.2419,keks.2424,keks.2429,keks.2430,keks.2432,keks.2437,keks.2440,keks.2442,keks.2445,keks.2446,keks.2450,keks.2461,keks.2469,keks.2476,keks.2477,keks.2481,keks.2482,keks.2484,keks.2485,keks.2486,keks.2487,keks.2490,keks.2492,keks.2494,keks.2495,keks.2497,keks.2498,keks.2500,keks.2502,keks.2504,keks.2505,keks.2506,keks.2530,keks.2532,keks.2534,keks.2546,keks.2548,keks.2560,keks.2562,keks.2563,keks.2565,keks.2567,keks.2568,keks.2569,keks.2574,keks.2576,keks.2578,keks.2579,keks.2601,keks.2606,keks.2610,keks.2620,keks.2623,keks.2625,keks.2626,keks.2628,keks.2642,keks.2644,keks.2645,keks.2652,keks.2654,keks.2664,keks.2666,keks.2667,keks.2670,keks.2680,keks.2684,keks.2687,keks.2691,keks.2694,keks.2706,keks.2711,keks.2723,keks.2724,keks.2727,keks.2728,keks.2733,keks.2736,keks.2741,keks.2766,keks.2769,keks.2773,keks.2784,keks.2788,keks.2790,keks.2792,keks.2795,keks.2797,keks.2805,keks.2806,keks.2807,keks.2820,keks.2829,keks.2831,keks.2833,keks.2835,keks.2836,keks.2845,keks.2851,keks.2871,keks.2877,keks.2878,keks.2879,keks.2892,keks.2894,keks.2895,keks.2902,keks.2903,keks.2904,keks.2912,keks.2918,keks.2924,keks.2934,keks.2936,keks.2939,keks.2942,keks.2948,keks.2954,keks.2955,keks.2956,keks.2957,keks.2962,keks.2963,keks.2964,keks.2967,keks.2973,keks.2974,keks.2990,keks.2991,keks.2996,keks.3001,keks.3010,keks.3018,keks.3019,keks.3024,keks.3028,keks.3040,keks.3044,keks.3046,keks.3086,keks.3102,keks.3109,keks.3132,keks.3140,keks.3172,keks.3197,keks.3200,keks.3204,keks.3211,keks.3213,keks.3219,keks.3220,keks.3226,keks.3227,keks.3230,keks.3234,keks.3235,keks.3237,keks.3254,keks.3260,keks.3273,keks.3281,keks.3286,keks.3293,keks.3294,keks.3298,keks.3301,keks.3303,keks.3315,keks.3324,keks.3344,keks.3345,keks.3348,keks.3350,keks.3357,keks.3361,keks.3364,keks.3375,keks.3378,keks.3379,keks.3380,keks.3389,keks.3401,keks.3402,keks.3414,keks.3415,keks.3423,keks.3430,keks.3439,keks.3449,keks.3458,keks.3459,keks.3461,keks.3469,keks.3471,keks.3473,keks.3476,keks.3477,keks.3480,keks.3484,keks.3487,keks.3494,keks.3495,keks.3502,keks.3504,keks.3506,keks.3507,keks.3509,keks.3513,keks.3519,keks.3526,keks.3537,keks.3546,keks.3570,keks.3574,keks.3575,keks.3581,keks.3605,keks.3606,keks.3607,keks.3614,keks.3620,keks.3628,keks.3637,keks.3647,keks.3649,keks.3668,keks.3671,keks.3676,keks.3678,keks.3683,keks.3691,keks.3699,keks.3703,keks.3705,keks.3730,keks.3732,keks.3733,keks.3737,keks.3747,keks.3762,keks.3766,keks.3776,keks.3781,keks.3787,keks.3793,keks.3794,keks.3796,keks.3797,keks.3799,keks.3800,keks.3816,keks.3821,keks.3822,keks.3841,keks.3899,keks.3916,keks.3920,keks.3926,keks.3927,keks.3930,keks.3953,keks.3983,keks.3984,keks.4003,keks.4011,keks.4013,keks.4016,keks.4018,keks.4034,keks.4036,keks.4039,keks.4052,keks.4060,keks.4091,keks.4100,keks.4102,keks.4103,keks.4107,keks.4123,keks.4124,keks.4132,keks.4143,keks.4145,keks.4147,keks.4148,keks.4149,keks.4161,keks.4162,keks.4168,keks.5037,keks.5063,keks.5064,keks.5073,keks.5091,keks.5095,keks.5109,keks.5119,keks.5121,keks.5122,keks.5130,keks.5134,keks.5140,keks.5149,keks.5151,keks.5157,keks.5158,keks.5161,keks.5162,keks.5165,keks.5169,keks.5170,keks.5186,keks.5187,keks.5195,keks.5209,keks.5217,keks.5220,keks.5222,keks.5227,keks.5229,keks.5249,keks.5261,keks.5274,keks.5278,keks.5281,keks.5282,keks.5283,keks.5352,keks.5354,keks.5361,keks.5363,keks.5364,keks.5365,keks.5366,keks.5368,keks.5379,keks.5383,keks.5390,keks.5391,keks.5392,keks.5393,keks.5412,keks.5421,keks.5422,keks.5423,keks.5424,keks.5425,keks.5427,keks.5428,keks.5430,keks.5431,keks.5434,keks.5446,keks.5447,keks.5449,keks.5450,keks.5457,keks.5460,keks.5463,keks.5469,keks.5473,keks.5475,keks.5476,keks.5483,keks.5488,keks.5489,keks.5490,keks.5491,keks.5495,keks.5504,keks.5522,keks.5526,keks.5527,keks.5534,keks.5536,keks.5538,keks.5557,keks.5560,keks.5564,keks.5568,keks.5569,keks.5572,keks.5583,keks.5588,keks.5593,keks.5604,keks.5605,keks.5606,keks.5619,keks.5621,keks.5622,keks.5630,keks.5631,keks.5641,keks.5644,keks.5645,keks.5650,keks.5652,keks.5657,keks.5664,keks.5666,keks.5671,keks.5674,keks.5676,keks.5681,keks.5685,keks.5699,keks.5703,keks.5704,keks.5707,keks.5708,keks.5709,keks.5710,keks.5714,keks.5723,keks.5724,keks.5727,keks.5729,keks.5742,keks.5743,keks.5749,keks.5756,keks.5757,keks.5760,keks.5761,keks.5762,keks.5765,keks.5766,keks.5779,keks.5781,keks.5783,keks.5786,keks.5792,keks.5795,keks.5798,keks.5799,keks.5800,keks.5808,keks.5816,keks.5820,keks.5821,keks.5841,keks.5842,keks.5852,keks.5862,keks.5863,keks.5866,keks.5870,keks.5872,keks.5873,keks.5878,keks.5891,keks.5896,keks.5903,keks.5907,keks.5910,keks.5915,keks.5925,keks.5942,keks.5943,keks.5944,keks.5947,keks.5949,keks.5950,keks.5951,keks.5953,keks.5958,keks.5959,keks.5971,keks.5972,keks.5978,keks.5979,keks.5986,keks.5990,keks.5994,keks.6000,keks.6001,keks.6011,keks.6013,keks.6021,keks.6022,keks.6035,keks.6037,keks.6038,keks.6039,keks.6045,keks.6050,keks.6053,keks.6055,keks.6062,keks.6063,keks.6067,keks.6076,keks.6098,keks.6100,keks.6104,keks.6107,keks.6112,keks.6113,keks.6114,keks.6115,keks.6117,keks.6122,keks.6123,keks.6125,keks.6126,keks.6131,keks.6134,keks.6145,keks.6173,keks.6177,keks.6187,keks.6191,keks.6197,keks.6200,keks.6201,keks.6202,keks.6203,keks.6206,keks.6207,keks.6214,keks.6215,keks.6230,keks.6233,keks.6236,keks.6238,keks.6239,keks.6240,keks.6242,keks.6244,keks.6248,keks.6250,keks.6260,keks.6265,keks.6275,keks.6279,keks.6280,keks.6281,keks.6284,keks.6287,keks.6290,keks.6291,keks.6299,keks.6300,keks.6301,keks.6303,keks.6306,keks.6307,keks.6309,keks.6312,keks.6314,keks.6315,keks.6317,keks.6319,keks.6342,keks.6343,keks.6344,keks.6345,keks.6346,keks.6355,keks.6359,keks.6361,keks.6362,keks.6384,keks.6385,keks.6386,keks.6390,keks.6391,keks.6395,keks.6396,keks.6406,keks.6407,keks.6408,keks.6426,keks.6457,keks.6460,keks.6466,keks.6471,keks.6472,keks.6474,keks.6476,keks.6478,keks.6479,keks.6481,keks.6485,keks.6493,keks.6494,keks.6495,keks.6499,keks.6500,keks.6502,keks.6503,keks.6508,keks.6509,keks.6514,keks.6517,keks.6520,keks.6521,keks.6522,keks.6526,keks.6541,keks.6545,keks.6555,keks.6558,keks.6561,keks.6581,keks.6616,keks.6630,keks.6636,keks.6637,keks.6639,keks.6644,keks.6645,keks.6651,keks.6652,keks.6653,keks.6654,keks.6655,keks.6656,keks.6660,keks.6661,keks.6663,keks.6666,keks.6668,keks.6669,keks.6673,keks.6676,keks.6682,keks.6683,keks.6684,keks.6685,keks.6686,keks.6688,keks.6689,keks.6690,keks.6691,keks.6692,keks.6699,keks.6701,keks.6703,keks.6709,keks.6711,keks.6715,keks.6719,keks.6724,keks.6727,keks.6728,keks.6729,keks.6735,keks.6737,keks.6739,keks.6742,keks.6744,keks.6747,keks.6749,keks.6752,keks.6753,keks.6758,keks.6759,keks.6760,keks.6762,keks.6766,keks.6768,keks.6786,keks.6843,keks.6846,keks.6847,keks.6848,keks.6849,keks.6850,keks.6852,keks.6853,keks.6855,keks.6856,keks.6857,keks.6858,keks.6859,keks.6862,keks.6864,keks.6865,keks.6866,keks.6867,keks.6868,keks.6875,keks.6879,keks.6883,keks.6891,keks.6893,keks.6895,keks.6898,keks.6908,keks.6915,keks.6917,keks.6918,keks.6919,keks.6921,keks.6922,keks.6923,keks.6924,keks.6925,keks.6926,keks.6931,keks.6932,keks.6933,keks.6937,keks.6946,keks.6947,keks.6948,keks.6949,keks.6952,keks.6953,keks.6954,keks.6956,keks.6958,keks.6959,keks.6960,keks.6961,keks.6962,keks.6963,keks.6964,keks.6966,keks.6967,keks.6968,keks.6970,keks.6972,keks.6976,keks.6977,keks.6978,keks.6979,keks.6981,keks.6982,keks.6986,keks.6988,keks.6989,keks.6990,keks.6991,keks.6994,keks.6996,keks.7000,keks.7003,keks.7004,keks.7041,keks.7042,keks.7048,keks.7049,keks.7053,keks.7073,keks.7075,keks.7084,keks.7095,keks.7103,keks.7111,keks.7132,keks.7140,keks.7150,keks.7166,keks.7167,keks.7208,keks.7217,keks.7226,keks.7228,keks.7230,keks.7231,keks.7232,keks.7235,keks.7243,keks.7244,keks.7247,keks.7248,keks.7251,keks.7256,keks.7257,keks.7261,keks.7262,keks.7264,keks.7277,keks.7302,keks.7322,keks.7324,keks.7325,keks.7336,keks.7339,keks.7365,keks.7366,keks.7379,keks.7381,keks.7382,keks.7386,keks.7387,keks.7389,keks.7391,keks.7401,keks.7408,keks.7421,keks.7446,keks.7448,keks.7449,keks.7455,keks.7457,keks.7467,keks.7468,keks.7493,keks.7507,keks.7512,keks.7514,keks.7516,keks.7519,keks.7524,keks.7527,keks.7566,keks.7567,keks.7577,keks.7585,keks.7586,keks.7587,keks.7588,keks.7595,keks.7601,keks.7627,keks.7632,keks.7634,keks.7635,keks.7637,keks.7649,keks.7650,keks.7651,keks.7654,keks.7679,keks.7680,keks.7690,keks.7701,keks.7705,keks.7721,keks.7733,keks.7757,keks.7758,keks.7760,keks.7773,keks.7778,keks.7793,keks.7803,keks.7805,keks.7808,keks.7810,keks.7812,keks.7819,keks.7862,keks.7866,keks.7889,keks.7906,keks.7914,keks.7934,keks.7943,keks.7949,keks.7951,keks.7958,keks.7964,keks.7967,keks.9004,keks.9006,keks.9007,keks.9008,keks.9009,keks.9010,keks.9011,keks.9012,keks.9013,keks.9014,keks.9015,keks.9016,keks.9017,keks.9018,keks.9019,keks.9025,keks.9028,keks.9029,keks.9030,keks.9031,keks.9032,keks.9033,keks.9034,keks.9035,keks.9036,keks.9038,keks.9039,keks.9040,keks.9041,keks.9042,keks.9043,keks.9044,keks.9045,keks.9046,keks.9051,keks.9052,keks.9053,keks.9054,keks.9055,keks.9056,keks.9057,keks.9059,keks.9061,keks.9066,keks.9067,keks.9069,keks.9070,keks.9071,keks.9072,keks.9073,keks.9081,keks.9082,keks.9083,keks.9084,keks.9085,keks.9086,keks.9087,keks.9088,keks.9089,keks.9090,keks.9092,keks.9093,keks.9096,keks.9097,keks.9098,keks.9099,keks.9101,keks.9102,keks.9103,keks.9104,keks.9105,keks.9106,keks.9107,keks.9109,keks.9110,keks.9111,keks.9112,keks.9114,keks.9115,keks.9117,keks.9119,keks.9120,keks.9122,keks.9123,keks.9124,keks.9125,keks.9126,keks.9128,keks.9129,keks.9130,keks.9134,keks.9135,keks.9138,keks.9139,keks.9140,keks.9141,keks.9142,keks.9146,keks.9147,keks.9149,keks.9150,keks.9151,keks.9152,keks.9158,keks.9159,keks.9161,keks.9162,keks.9163,keks.9164,keks.9165,keks.9166,keks.9167,keks.9169,keks.9170,keks.9171,keks.9176,keks.9177,keks.9178,keks.9179,keks.9180,keks.9181,keks.9182,keks.9183,keks.9184,keks.9187,keks.9189,keks.9190,keks.9191,keks.9192,keks.9193,keks.9194,keks.9195,keks.9196,keks.9202,keks.9203,keks.9204,keks.9205,keks.9206,keks.9208,keks.9209,keks.9210,keks.9212,keks.9213,keks.9215,keks.9217,keks.9221,keks.9222,keks.9223,keks.9224,keks.9225,keks.9226,keks.9228,keks.9231,keks.9235,keks.9236,keks.9238,keks.9240,keks.9241,keks.9243,keks.9245,keks.9247,keks.9248,keks.9249,keks.9251,keks.9252,keks.9253,keks.9259,keks.9263,keks.9264,keks.9265,keks.9266,keks.9267,keks.9268,keks.9269,keks.9270,keks.9271,keks.9272,keks.9273,keks.9274,keks.9275,keks.9276,keks.9277,keks.9278,keks.9279,keks.9281,keks.9284,keks.9285,keks.9286,keks.9287,keks.9291,keks.9292,keks.9296,keks.9299,keks.9300,keks.9301,keks.9303,keks.9304,keks.9305,keks.9306,keks.9309,keks.9310,keks.9311,keks.9312,keks.9313,keks.9315,keks.9316,keks.9317,keks.9318,keks.9320,keks.9321,keks.9326,keks.9327,keks.9328,keks.9329,keks.9330,keks.9331,keks.9332,keks.9333,keks.9335,keks.9336,keks.9337,keks.9340,keks.9342,keks.9344,keks.9345,keks.9346,keks.9350,keks.9351,keks.9352,keks.9353,keks.9357,keks.9358,keks.9361,keks.9362,keks.9363,keks.9365,keks.9368,keks.9369,keks.9371,keks.9372,keks.9374,keks.9375,keks.9376,keks.9377,keks.9378,keks.9379,keks.9380,keks.9381,keks.9384,keks.9385,keks.9387,keks.9392,keks.9393,keks.9394,keks.9395,keks.9396,keks.9397,keks.9398,keks.9399,keks.9402,keks.9403,keks.9405,keks.9406,keks.9408,keks.9411,keks.9412,keks.9413,keks.9417,keks.9418,keks.9419,keks.9420,keks.9421,keks.9422,keks.9423,keks.9426,keks.9428,keks.9429,keks.9430,keks.9435,keks.9436,keks.9437,keks.9438,keks.9439,keks.9440,keks.9441,keks.9442,keks.9443,keks.9444,keks.9445,keks.9446,keks.9447,keks.9448,keks.9451,keks.9456,keks.9458,keks.9460,keks.9461,keks.9468,keks.9469,keks.9470,keks.9471,keks.9472,keks.9473,keks.9474,keks.9475,keks.9476,keks.9477,keks.9478,keks.9479,keks.9480,keks.9481,keks.9482,keks.9483,keks.9484,keks.9485,keks.9486,keks.9487,keks.9488,keks.9490,keks.9492,keks.9493,keks.9497,keks.9498,keks.9500,keks.9501,keks.9505,keks.9506,keks.9508,keks.9509,keks.9510,keks.9511,keks.9512,keks.9513,keks.9514,keks.9515,keks.9516,keks.9517,keks.9518,keks.9520,keks.9521,keks.9522,keks.9523,keks.9526,keks.9530,keks.9531,keks.9532,keks.9535,keks.9539,keks.9540,keks.9542,keks.9543,keks.9544,key.a1,key.a10,key.a100,key.a101,key.a102,key.a103,key.a104,key.a105,key.a106,key.a107,key.a108,key.a109,key.a11,key.a110,key.a111,key.a112,key.a113,key.a114,key.a115,key.a116,key.a117,key.a118,key.a119,key.a12,key.a120,key.a121,key.a122,key.a123,key.a124,key.a125,key.a126,key.a127,key.a128,key.a129,key.a13,key.a14,key.a15,key.a16,key.a17,key.a18,key.a19,key.a2,key.a20,key.a21,key.a22,key.a23,key.a24,key.a25,key.a26,key.a27,key.a28,key.a29,key.a3,key.a30,key.a31,key.a32,key.a33,key.a34,key.a35,key.a36,key.a37,key.a38,key.a39,key.a4,key.a40,key.a41,key.a42,key.a43,key.a44,key.a45,key.a46,key.a47,key.a48,key.a49,key.a5,key.a50,key.a51,key.a52,key.a53,key.a54,key.a55,key.a56,key.a57,key.a58,key.a59,key.a6,key.a60,key.a61,key.a62,key.a63,key.a64,key.a65,key.a66,key.a67,key.a68,key.a69,key.a7,key.a70,key.a71,key.a72,key.a73,key.a74,key.a75,key.a76,key.a77,key.a78,key.a79,key.a8,key.a80,key.a81,key.a82,key.a83,key.a84,key.a85,key.a86,key.a87,key.a88,key.a89,key.a9,key.a90,key.a91,key.a92,key.a93,key.a94,key.a95,key.a96,key.a97,key.a98,key.a99,kik.an_sku_od,kik.an_sku_wk,kik.breadcrumb,kik.detailshopID,kik.filterColor,kik.filterFlag,kik.filterPrice,kik.filterSize,kik.obershopID,kik.page,kik.searchFilterCat,kik.searchFilterFlag,kik.searchFilterSort,kik.searchkw,kik.shop,kik.shopID,kik.sortID,kik.styleID,kik.styleId_od,kik.styleID_wk,kik.url,KITZ.brixental,KITZ.danke,KITZ.home,KITZ.pillerseetal,KITZ.salve,KITZ.sommer,KITZ.stjohann,KITZ.unterkunft,KITZ.unterkunftfamilien,KITZ.unterkunftsommer,KITZ.unterkunftsonstige,KITZ.unterkunftwinter,KITZ.winter,kiz.kamwin,legoduplois.home,leonardo.home,lfh.adults,lfh.babys,lfh.children,lfh.class,lfh.danke,lfh.deairport,lfh.depdate,lfh.destination,lfh.page,lfh.retdate,lfh.wrkadults,lfh.wrkbabys,lfh.wrkchildren,lfh.wrkclass,lfh.wrkdeairport,lfh.wrkdedate,lfh.wrkdestination,lfh.wrkretdate,lfh1501.bmn,lfh1501.dad,lfh1501.lbm,lfh1501.lsm,lfh1501.ncb,lfh1501.par,lfh1501.rmv,lfh1501.sok,lfhat.adults,lfhat.babys,lfhat.children,lfhat.class,lfhat.danke,lfhat.deairport,lfhat.depdate,lfhat.destination,lfhat.retdate,lfhch.adults,lfhch.babys,lfhch.children,lfhch.class,lfhch.danke,lfhch.deairport,lfhch.depdate,lfhch.destination,lfhch.retdate,lfhes.adults,lfhes.babys,lfhes.children,lfhes.class,lfhes.danke,lfhes.deairport,lfhes.depdate,lfhes.destination,lfhes.retdate,lfhfr.adults,lfhfr.babys,lfhfr.children,lfhfr.class,lfhfr.danke,lfhfr.deairport,lfhfr.depdate,lfhfr.destination,lfhfr.retdate,lfhgb.adults,lfhgb.babys,lfhgb.children,lfhgb.class,lfhgb.danke,lfhgb.deairport,lfhgb.depdate,lfhgb.destination,lfhgb.retdate,lfhit.adults,lfhit.babys,lfhit.children,lfhit.class,lfhit.danke,lfhit.deairport,lfhit.depdate,lfhit.destination,lfhit.retdate,LFHNews.Aktiv,LFHNews.versand,lfhpl.adults,lfhpl.babys,lfhpl.children,lfhpl.class,lfhpl.danke,lfhpl.deairport,lfhpl.depdate,lfhpl.destination,lfhpl.retdate,lfhse.adults,lfhse.babys,lfhse.children,lfhse.class,lfhse.deairport,lfhse.depdate,lfhse.destination,lfhse.retdate,lindt.danke,lindt.home,lindt.produkt,lob.home,lob.regstart,lob.service,lob.spielangebotrubrik6aus49,lob.spielangebotrubrikeurojackpot,lob.spielangebotrubrikgluecksspirale,lob.spielangebotrubrikkeno,lob.spielangebotrubriktoto,lotb.category,lotb.odproduct,lotb.product,lotb.reg,lotb.wkproduct,luh.kamp14018,mafokik.home,mam.cat,mam.cctype,mam.page,mam.status,mam.subcat,mastercard.travelkamp,mcs.azurebutesten2,mediamarkt.danke,mediamarkt.eflyer,mediamarkt.home,mediamarkt.page,mediamarkt.shop,mediamarkt.wrk,mini.broschuere,mini.Home,mini.kamp14141,mini.Probefahrt,miniws.url,mma.besucher,mma_nero.intro,mma_nero.intro_juni,MMATEST.auslieferung,mnet.maincat,mnet.midcat,mnet.orderproduct,mnet.page,mnet.product,mnet.subcat,mnet.vcproduct,mnet.wrkproduct,mnt.100mb,mnt.18mb,mnt.50mb,mnt.b2bfestnetz,mnt.b2binternet,mnt.b2bisdn,mnt.b2bmobilfunk,mnt.b2brechenzentrum,mnt.b2bvernetzenverdienen,mnt.b2bvernetzung,mnt.homepage,mnt.internetundtelefon,mnt.mobilfunk,mnt.NERO_Dotierung_SF_100_MB,mnt.NERO_Dotierung_SF_18_MB,mnt.NERO_Dotierung_SF_25_MB,mnt.NERO_Dotierung_SF_300_MB,mnt.NERO_Dotierung_SF_50_MB,mnt.NERO_Dotierung_SFF_25_MB,mnt.NERO_Dotierung_SFF_300_MB,mnt.NERO_Retargeting_B2B_Carrier,mnt.NERO_Retargeting_B2B_Telefonie,mnt.sffregio,motorrad.ja,motorrad.nein,myph.category,myph.odprod,myph.page,necat.Anreisedatum,necat.Destination,necat.Hotel,necat.Strecke,necch.Anreisedatum,necch.Destination,necch.Hotel,necch.Strecke,necde.Anreisedatum,necde.Destination,necde.Hotel,necde.Strecke,neckamp.1503IPDeutschland,neckamp.1503NERO,neckamp.1503sevenone,neckamp.1503UIM,nero_cookie.ADC_14_06_NEMO_BB_nero,nero_cookie.ADC_14_06_NEMO_nero,nero_cookie.AID_14_003_Dezember_nero,nero_cookie.AID_14_003_Januar_nero,nero_cookie.AID_15_001_Vario_BB_nero,nero_cookie.AID_15_001_Vario_DS_nero,nero_cookie.AID_15_001_Vario_WP_nero,nero_cookie.ALG_14_01_WP_F1_nero,nero_cookie.ALG_14_01_WP_F2_nero,nero_cookie.BMW_14_45_F25_F26_ST_F1_nero,nero_cookie.BMW_14_45_F25_F26_ST_F2_nero,nero_cookie.BMW_15_151_F56_MINI,nero_cookie.dei_14_20_scroll,nero_cookie.dei_14_20_slide,nero_cookie.DFL_15_004_BRW,nero_cookie.DFL_15_004_NRW,nero_cookie.DFL_15_005_FC_UAP_nero,nero_cookie.DFL_15_005_FC_WP_nero,nero_cookie.GOT_15_02_IP_ST_nero,nero_cookie.GOT_15_02_IQ_ST_nero,nero_cookie.GOT_15_02_Weischer_ST_nero,nero_cookie.GOT_15_02_yahoo_ST_nero,nero_cookie.NEC_15_03_ST_nero,nero_cookie.PAU_15_004_SP_DS_nero,nero_cookie.PAU_15_004_SP_HP_nero,nero_cookie.RMS_15_004_Rotkaeppchen_ST_nero,nero_cookie.SAT_14_08_WM_DS_nero,nero_cookie2015.RBD15040_Dobendan_Retargeting,nero_FC_FOT15001.FOT15001_Branding_F1_BB,nero_FC_FOT15001.FOT15001_Branding_F1_DS,nero_FC_FOT15001.FOT15001_Branding_F1_HP,nero_FC_FOT15001.FOT15001_Branding_F1_ST,nero_FC_FOT15001.FOT15001_Branding_F4_HP,nero_tagging.dlt_gruppe_ohne_kontakt_Spaeter,Nerop.2842,Nerop.3029,Nerop.3044,Nerop.3232,npbe.1008_10001_104_1003,o2.datanewsletter,o2.voicenewsletter,pa_info_kredit.gesucht,pa_info_kredit.keininfo,pa_k_kredit.Gekauft,pa_k_kredit.keinkauf,pau.home,pd_i_alkfrei.Interesse,pd_i_alkfrei.keininteresse,pd_i_alkfrei.weniginteresse,pd_i_autofi.Interesse,pd_i_autofi.meistinteresse,pd_i_autofi.sehrinteresse,pd_i_autofi.weniginteresse,pd_i_baby.Interesse,pd_i_baby.meistinteresse,pd_i_baby.sehrinteresse,pd_i_baby.weniginteresse,pd_i_bahnti.Interesse,pd_i_bahnti.meistinteresse,pd_i_bahnti.sehrinteresse,pd_i_bahnti.weniginteresse,pd_i_bier.Interesse,pd_i_bier.keininteresse,pd_i_bier.meistinteresse,pd_i_bier.sehrinteresse,pd_i_bier.weniginteresse,pd_i_buch.Interesse,pd_i_buch.keininteresse,pd_i_buch.meistinteresse,pd_i_buch.sehrinteresse,pd_i_buch.weniginteresse,pd_i_daklei.keininteresse,pd_i_daklei.meistinteresse,pd_i_daklei.sehrinteresse,pd_i_daklei.weniginteresse,pd_i_dakos.Interesse,pd_i_dakos.keininteresse,pd_i_dakos.meistinteresse,pd_i_dakos.sehrinteresse,pd_i_dakos.weniginteresse,pd_i_digic.Interesse,pd_i_digic.sehrinteresse,pd_i_digic.weniginteresse,pd_i_dsl.Interesse,pd_i_dsl.meistinteresse,pd_i_dsl.sehrinteresse,pd_i_dsl.weniginteresse,pd_i_dvdfilme.Interesse,pd_i_dvdfilme.meistinteresse,pd_i_dvdfilme.sehrinteresse,pd_i_dvdp.Interesse,pd_i_dvdp.meistinteresse,pd_i_dvdp.sehrinteresse,pd_i_dvdp.weniginteresse,pd_i_flachbild.Interesse,pd_i_flachbild.meistinteresse,pd_i_flachbild.sehrinteresse,pd_i_flachbild.weniginteresse,pd_i_flti.Interesse,pd_i_flti.meistinteresse,pd_i_flti.sehrinteresse,pd_i_flti.weniginteresse,pd_i_game.Interesse,pd_i_game.meistinteresse,pd_i_game.sehrinteresse,pd_i_game.weniginteresse,pd_i_gebwa.Interesse,pd_i_gebwa.meistinteresse,pd_i_gebwa.sehrinteresse,pd_i_gebwa.weniginteresse,pd_i_gleda.Interesse,pd_i_gleda.meistinteresse,pd_i_gleda.sehrinteresse,pd_i_gleda.weniginteresse,pd_i_haar.Interesse,pd_i_haar.keininteresse,pd_i_haar.meistinteresse,pd_i_haar.sehrinteresse,pd_i_haar.weniginteresse,pd_i_hanver.Interesse,pd_i_hanver.meistinteresse,pd_i_hanver.sehrinteresse,pd_i_hanver.weniginteresse,pd_i_hbek.Interesse,pd_i_hbek.keininteresse,pd_i_hbek.meistinteresse,pd_i_hbek.sehrinteresse,pd_i_hbek.weniginteresse,pd_i_hhg.keininteresse,pd_i_hhg.weniginteresse,pd_i_hkos.Interesse,pd_i_hkos.keininteresse,pd_i_hkos.meistinteresse,pd_i_hkos.sehrinteresse,pd_i_hkos.weniginteresse,pd_i_hottr.Interesse,pd_i_hottr.meistinteresse,pd_i_hottr.sehrinteresse,pd_i_hottr.weniginteresse,pd_i_htier.Interesse,pd_i_htier.meistinteresse,pd_i_htier.sehrinteresse,pd_i_htier.weniginteresse,pd_i_hwb.Interesse,pd_i_hwb.meistinteresse,pd_i_hwb.sehrinteresse,pd_i_hwb.weniginteresse,pd_i_kino.Interesse,pd_i_kino.meistinteresse,pd_i_kino.sehrinteresse,pd_i_kpp.Interesse,pd_i_kpp.keininteresse,pd_i_kpp.meistinteresse,pd_i_kpp.sehrinteresse,pd_i_kpp.weniginteresse,pd_i_kraver.keininteresse,pd_i_kraver.weniginteresse,pd_i_kredit.Interesse,pd_i_kredit.meistinteresse,pd_i_kredit.sehrinteresse,pd_i_kredit.weniginteresse,pd_i_lott.Interesse,pd_i_lott.keininteresse,pd_i_lott.meistinteresse,pd_i_lott.sehrinteresse,pd_i_lott.weniginteresse,pd_i_lv.weniginteresse,pd_i_mcd.Interesse,pd_i_mcd.meistinteresse,pd_i_mcd.sehrinteresse,pd_i_mcd.weniginteresse,pd_i_medi.keininteresse,pd_i_medi.weniginteresse,pd_i_mipro.Interesse,pd_i_mipro.keininteresse,pd_i_mipro.weniginteresse,pd_i_miwa.Interesse,pd_i_miwa.meistinteresse,pd_i_miwa.sehrinteresse,pd_i_miwa.weniginteresse,pd_i_moeb.Interesse,pd_i_moeb.meistinteresse,pd_i_moeb.sehrinteresse,pd_i_moeb.weniginteresse,pd_i_mufi.Interesse,pd_i_mufi.meistinteresse,pd_i_mufi.sehrinteresse,pd_i_mufi.weniginteresse,pd_i_navi.Interesse,pd_i_navi.meistinteresse,pd_i_navi.sehrinteresse,pd_i_navi.weniginteresse,pd_i_nwa.Interesse,pd_i_nwa.meistinteresse,pd_i_nwa.sehrinteresse,pd_i_nwa.weniginteresse,pd_i_parf.Interesse,pd_i_parf.keininteresse,pd_i_parf.meistinteresse,pd_i_parf.sehrinteresse,pd_i_parf.weniginteresse,pd_i_pchard.Interesse,pd_i_pchard.meistinteresse,pd_i_pchard.sehrinteresse,pd_i_pchard.weniginteresse,pd_i_schuh.Interesse,pd_i_schuh.keininteresse,pd_i_schuh.meistinteresse,pd_i_schuh.sehrinteresse,pd_i_schuh.weniginteresse,pd_i_snack.Interesse,pd_i_snack.keininteresse,pd_i_snack.meistinteresse,pd_i_snack.sehrinteresse,pd_i_snack.weniginteresse,pd_i_spielw.Interesse,pd_i_spielw.meistinteresse,pd_i_spielw.sehrinteresse,pd_i_spielw.weniginteresse,pd_i_spirit.Interesse,pd_i_spirit.meistinteresse,pd_i_spirit.sehrinteresse,pd_i_spirit.weniginteresse,pd_i_spoar.Interesse,pd_i_spoar.meistinteresse,pd_i_spoar.sehrinteresse,pd_i_spoar.weniginteresse,pd_i_surr.Interesse,pd_i_surr.meistinteresse,pd_i_surr.sehrinteresse,pd_i_surr.weniginteresse,pd_i_sw.Interesse,pd_i_sw.meistinteresse,pd_i_sw.sehrinteresse,pd_i_sw.weniginteresse,pd_i_tele.Interesse,pd_i_tele.sehrinteresse,pd_i_tele.weniginteresse,pd_i_tkp.Interesse,pd_i_tkp.keininteresse,pd_i_tkp.meistinteresse,pd_i_tkp.sehrinteresse,pd_i_tkp.weniginteresse,pd_i_triplep.Interesse,pd_i_triplep.meistinteresse,pd_i_triplep.sehrinteresse,pd_i_triplep.weniginteresse,pd_i_urlaub.Interesse,pd_i_urlaub.meistinteresse,pd_i_urlaub.sehrinteresse,pd_i_urlaub.weniginteresse,pd_i_vsicher.weniginteresse,pd_i_wami.keininteresse,pd_i_wami.weniginteresse,pd_i_well.Interesse,pd_i_well.meistinteresse,pd_i_well.sehrinteresse,pd_i_well.weniginteresse,pd_i_wett.Interesse,pd_i_wett.meistinteresse,pd_i_wett.sehrinteresse,pd_i_wett.weniginteresse,pd_i_win.Interesse,pd_i_win.keininteresse,pd_i_win.sehrinteresse,pd_i_win.weniginteresse,pd_i_zahn.Interesse,pd_i_zahn.keininteresse,pd_i_zahn.meistinteresse,pd_i_zahn.sehrinteresse,pd_i_zahn.weniginteresse,pd_info_alkfrei.gesucht,pd_info_alkfrei.keininfo,pd_info_autofi.gesucht,pd_info_baby.gesucht,pd_info_baby.keininfo,pd_info_bahnti.gesucht,pd_info_bier.gesucht,pd_info_bier.keininfo,pd_info_buch.gesucht,pd_info_daklei.gesucht,pd_info_daklei.keininfo,pd_info_dakos.gesucht,pd_info_dakos.keininfo,pd_info_digic.gesucht,pd_info_dsl.gesucht,pd_info_dvdfilme.gesucht,pd_info_dvdp.gesucht,pd_info_flachbild.gesucht,pd_info_flachbild.keininfo,pd_info_flti.gesucht,pd_info_flti.keininfo,pd_info_game.gesucht,pd_info_game.keininfo,pd_info_gebwa.gesucht,pd_info_gelda.gesucht,pd_info_gelda.keininfo,pd_info_haar.gesucht,pd_info_haar.keininfo,pd_info_hanver.gesucht,pd_info_hbek.gesucht,pd_info_hbek.keininfo,pd_info_hhg.gesucht,pd_info_hhg.keininfo,pd_info_hkos.gesucht,pd_info_hkos.keininfo,pd_info_hottr.gesucht,pd_info_hottr.keininfo,pd_info_htier.gesucht,pd_info_htier.keininfo,pd_info_hwb.gesucht,pd_info_hwb.keininfo,pd_info_kino.gesucht,pd_info_kpp.gesucht,pd_info_kraver.gesucht,pd_info_kraver.keininfo,pd_info_lott.gesucht,pd_info_lott.keininfo,pd_info_lv.gesucht,pd_info_lv.keininfo,pd_info_mcd.gesucht,pd_info_medi.gesucht,pd_info_medi.keininfo,pd_info_mipro.gesucht,pd_info_mipro.keininfo,pd_info_miwa.gesucht,pd_info_moeb.gesucht,pd_info_moeb.keininfo,pd_info_mufi.gesucht,pd_info_mufi.keininfo,pd_info_navi.gesucht,pd_info_navi.keininfo,pd_info_nwa.gesucht,pd_info_nwa.keininfo,pd_info_parf.gesucht,pd_info_parf.keininfo,pd_info_pchard.gesucht,pd_info_pchard.keininfo,pd_info_schuh.gesucht,pd_info_schuh.keininfo,pd_info_snack.gesucht,pd_info_snack.keininfo,pd_info_spielw.gesucht,pd_info_spielw.keininfo,pd_info_spirit.gesucht,pd_info_spirit.keininfo,pd_info_spoar.gesucht,pd_info_surr.gesucht,pd_info_surr.keininfo,pd_info_sw.gesucht,pd_info_sw.keininfo,pd_info_tele.gesucht,pd_info_tkp.gesucht,pd_info_tkp.keininfo,pd_info_triplep.gesucht,pd_info_urlaub.gesucht,pd_info_vsicher.gesucht,pd_info_vsicher.keininfo,pd_info_wami.gesucht,pd_info_wami.keininfo,pd_info_well.gesucht,pd_info_wett.gesucht,pd_info_wett.keininfo,pd_info_win.gesucht,pd_info_win.keininfo,pd_info_zahn.gesucht,pd_k_alkfrei.gekauft,pd_k_alkfrei.keinkauf,pd_k_autofi.Gekauft,pd_k_autofi.keinkauf,pd_k_baby.Gekauft,pd_k_baby.keinkauf,pd_k_bahnti.Gekauft,pd_k_bier.Gekauft,pd_k_bier.keinkauf,pd_k_buch.Gekauft,pd_k_daklei.Gekauft,pd_k_daklei.keinkauf,pd_k_dakos.Gekauft,pd_k_dakos.keinkauf,pd_k_digic.Gekauft,pd_k_digic.keinkauf,pd_k_dsl.Gekauft,pd_k_dsl.keinkauf,pd_k_dvdfilme.gekauft,pd_k_dvdp.gekauft,pd_k_dvdp.keinkauf,pd_k_flachbild.gekauft,pd_k_flachbild.keinkauf,pd_k_flti.Gekauft,pd_k_flti.keinkauf,pd_k_game.Gekauft,pd_k_game.keinkauf,pd_k_gebwa.Gekauft,pd_k_gebwa.keinkauf,pd_k_gleda.Gekauft,pd_k_gleda.keinkauf,pd_k_haar.Gekauft,pd_k_haar.keinkauf,pd_k_hanver.Gekauft,pd_k_hbek.gekauft,pd_k_hbek.keinkauf,pd_k_hhg.Gekauft,pd_k_hhg.keinkauf,pd_k_hkos.gekauft,pd_k_hkos.keinkauf,pd_k_hottr.gekauft,pd_k_hottr.keinkauf,pd_k_htier.Gekauft,pd_k_htier.keinkauf,pd_k_hwb.Gekauft,pd_k_hwb.keinkauf,pd_k_kino.Gekauft,pd_k_kpp.Gekauft,pd_k_kpp.keinkauf,pd_k_kraver.Gekauft,pd_k_kraver.keinkauf,pd_k_lott.Gekauft,pd_k_lott.keinkauf,pd_k_lv.Gekauft,pd_k_lv.keinkauf,pd_k_mcd.gekauft,pd_k_medi.gekauft,pd_k_medi.keinkauf,pd_k_mipro.Gekauft,pd_k_mipro.keinkauf,pd_k_miwa.Gekauft,pd_k_miwa.keinkauf,pd_k_moeb.gekauft,pd_k_moeb.keinkauf,pd_k_mufi.Gekauft,pd_k_mufi.keinkauf,pd_k_navi.Gekauft,pd_k_navi.keinkauf,pd_k_nwa.Gekauft,pd_k_nwa.keinkauf,pd_k_parf.Gekauft,pd_k_pchard.Gekauft,pd_k_pchard.keinkauf,pd_k_schuh.Gekauft,pd_k_schuh.keinkauf,pd_k_snack.Gekauft,pd_k_snack.keinkauf,pd_k_spielw.gekauft,pd_k_spielw.keinkauf,pd_k_spirit.gekauft,pd_k_spirit.keinkauf,pd_k_spoar.Gekauft,pd_k_surr.Gekauft,pd_k_surr.keinkauf,pd_k_sw.Gekauft,pd_k_sw.keinkauf,pd_k_tele.Gekauft,pd_k_tele.keinkauf,pd_k_tkp.Gekauft,pd_k_tkp.keinkauf,pd_k_triplep.Gekauft,pd_k_triplep.keinkauf,pd_k_urlaub.Gekauft,pd_k_urlaub.keinkauf,pd_k_vsicher.Gekauft,pd_k_vsicher.keinkauf,pd_k_wami.Gekauft,pd_k_wami.keinkauf,pd_k_well.Gekauft,pd_k_well.keinkauf,pd_k_wett.Gekauft,pd_k_wett.keinkauf,pd_k_win.Gekauft,pd_k_win.keinkauf,pd_k_zahn.Gekauft,pd_ka_autofi.bestimmtk12mo,pd_ka_autofi.evtlk12mo,pd_ka_autofi.vielleichtk12mo,pd_ka_digic.bestimmtk12mo,pd_ka_digic.evtlk12mo,pd_ka_digic.vielleichtk12mo,pd_ka_dsl.bestimmtk12mo,pd_ka_dsl.evtlk12mo,pd_ka_dsl.vielleichtk12mo,pd_ka_dvdfilme.bestimmtk12mo,pd_ka_dvdfilme.evtlk12mo,pd_ka_dvdfilme.vielleichtk12mo,pd_ka_dvdp.bestimmtk12mo,pd_ka_dvdp.evtlk12mo,pd_ka_dvdp.vielleichtk12mo,pd_ka_flachbild.bestimmtk12mo,pd_ka_flachbild.evtlk12mo,pd_ka_flachbild.vielleichtk12mo,pd_ka_gebwa.bestimmtk12mo,pd_ka_gebwa.evtlk12mo,pd_ka_gebwa.vielleichtk12mo,pd_ka_gelda.bestimmtk12mo,pd_ka_gelda.evtlk12mo,pd_ka_gelda.vielleichtk12mo,pd_ka_hanver.bestimmtk12mo,pd_ka_hanver.evtlk12mo,pd_ka_hanver.vielleichtk12mo,pd_ka_hhg.bestimmtk12mo,pd_ka_hhg.evtlk12mo,pd_ka_hhg.vielleichtk12mo,pd_ka_hottr.bestimmtk12mo,pd_ka_hottr.vielleichtk12mo,pd_ka_hwb.bestimmtk12mo,pd_ka_hwb.vielleichtk12mo,pd_ka_kraver.bestimmtk12mo,pd_ka_kraver.evtlk12mo,pd_ka_kraver.vielleichtk12mo,pd_ka_kredit.bestimmtk12mo,pd_ka_kredit.evtlk12mo,pd_ka_kredit.vielleichtk12mo,pd_ka_lv.bestimmtk12mo,pd_ka_lv.evtlk12mo,pd_ka_lv.vielleichtk12mo,pd_ka_mcd.bestimmtk12mo,pd_ka_mcd.evtlk12mo,pd_ka_mcd.vielleichtk12mo,pd_ka_miwa.bestimmtk12mo,pd_ka_miwa.evtlk12mo,pd_ka_miwa.vielleichtk12mo,pd_ka_moeb.bestimmtk12mo,pd_ka_navi.bestimmtk12mo,pd_ka_navi.evtlk12mo,pd_ka_navi.vielleichtk12mo,pd_ka_nwa.bestimmtk12mo,pd_ka_nwa.evtlk12mo,pd_ka_nwa.vielleichtk12mo,pd_ka_spielw.bestimmtk12mo,pd_ka_spielw.evtlk12mo,pd_ka_spielw.vielleichtk12mo,pd_ka_spoar.bestimmtk12mo,pd_ka_spoar.evtlk12mo,pd_ka_spoar.vielleichtk12mo,pd_ka_surr.bestimmtk12mo,pd_ka_surr.evtlk12mo,pd_ka_surr.vielleichtk12mo,pd_ka_tele.bestimmtk12mo,pd_ka_tele.evtlk12mo,pd_ka_tele.vielleichtk12mo,pd_ka_triplep.bestimmtk12mo,pd_ka_triplep.evtlk12mo,pd_ka_triplep.vielleichtk12mo,pd_ka_urlaub.bestimmtk12mo,pd_ka_urlaub.evtlk12mo,pd_ka_urlaub.vielleichtk12mo,pd_ka_vsicher.bestimmtk12mo,pd_ka_vsicher.evtlk12mo,pd_ka_vsicher.vielleichtk12mo,pd_lk_alkfrei.14takauf,pd_lk_alkfrei.3mokauf,pd_lk_alkfrei.laenger3mon,pd_lk_alkfrei.Nie,pd_lk_baby.14takauf,pd_lk_baby.3mokauf,pd_lk_baby.Nie,pd_lk_bahnti.14takauf,pd_lk_bahnti.3mokauf,pd_lk_bier.14takauf,pd_lk_bier.3mokauf,pd_lk_bier.Nie,pd_lk_buch.14takauf,pd_lk_buch.3mokauf,pd_lk_daklei.14takauf,pd_lk_daklei.Nie,pd_lk_dakos.14takauf,pd_lk_dakos.3mokauf,pd_lk_dakos.Nie,pd_lk_flti.14takauf,pd_lk_flti.3mokauf,pd_lk_flti.laenger3mon,pd_lk_flti.Nie,pd_lk_game.14takauf,pd_lk_game.3mokauf,pd_lk_game.laenger3mon,pd_lk_haar.14takauf,pd_lk_haar.3mokauf,pd_lk_haar.laenger3mon,pd_lk_haar.Nie,pd_lk_hbek.14takauf,pd_lk_hbek.3mokauf,pd_lk_hbek.Nie,pd_lk_hkos.14takauf,pd_lk_hkos.3mokauf,pd_lk_hkos.Nie,pd_lk_htier.14takauf,pd_lk_htier.3mokauf,pd_lk_htier.laenger3mon,pd_lk_htier.Nie,pd_lk_kino.14takauf,pd_lk_kino.3mokauf,pd_lk_kpp.14takauf,pd_lk_kpp.3mokauf,pd_lk_kpp.nie,pd_lk_lott.3mokauf,pd_lk_lott.nie,pd_lk_medi.14takauf,pd_lk_medi.3mokauf,pd_lk_medi.laenger3mon,pd_lk_medi.Nie,pd_lk_mipro.14takauf,pd_lk_mipro.3mokauf,pd_lk_mipro.laenger3mon,pd_lk_mipro.Nie,pd_lk_mufi.14takauf,pd_lk_mufi.3mokauf,pd_lk_mufi.laenger3mon,pd_lk_parf.14takauf,pd_lk_parf.3mokauf,pd_lk_pchard.14takauf,pd_lk_pchard.3mokauf,pd_lk_pchard.laenger3mon,pd_lk_schuh.14takauf,pd_lk_schuh.3mokauf,pd_lk_schuh.Nie,pd_lk_snack.14takauf,pd_lk_snack.3mokauf,pd_lk_snack.Nie,pd_lk_spirit.14takauf,pd_lk_spirit.3mokauf,pd_lk_spirit.Nie,pd_lk_sw.14takauf,pd_lk_sw.3mokauf,pd_lk_sw.laenger3mon,pd_lk_tkp.14takauf,pd_lk_tkp.3mokauf,pd_lk_wami.14takauf,pd_lk_wami.3mokauf,pd_lk_wami.laenger3mon,pd_lk_wami.Nie,pd_lk_well.14takauf,pd_lk_well.3mokauf,pd_lk_wett.14takauf,pd_lk_wett.3mokauf,pd_lk_wett.laenger3mon,pd_lk_wett.Nie,pd_lk_win.14takauf,pd_lk_win.3mokauf,pd_lk_win.laenger3mon,pd_lk_win.Nie,pd_lk_zahn.14takauf,pd_lk_zahn.3mokauf,pd_lk_zahn.Nie,peek.house,peek.page,peek.prodnr,peek.regio,pershh.1pers,pershh.3pers,pershh.4pers,pershh.5pers,pkw.ja,pkw.kein,prof.ausbch,prof.ausble,prof.ausbst,prof.tzeib,prof.tzfrb,prof.umsch,prof.vzeib,prof.vzfrb,ravensburger.home,ravensburger.ministeps,ravensburger.sel,rdl.danke,rdl.home,RMS_15_004_Rotkaeppchen_ST_nero.RMS_15_004_Rotkaeppchen_ST_nero,rod.home,rod.homeAT,rod.homeUK,satkamp.wm,saturn.maincat,saturn.midcat,saturn.prodnr,saturn.subcat,siemens.standard,siemens.unq,sony.kampagne,sonyp.amigamusik,sonyp.andreaberg,sonyp.ayurvitalmusic,sonyp.bakermat,sonyp.compilations,sonyp.dance,sonyp.depechemodealbum,sonyp.diefantastischenvier,sonyp.dreamdance,sonyp.dreifragezeichen,sonyp.dvdwinter,sonyp.ellahenderson,sonyp.elvisde,sonyp.foo_fighters,sonyp.freundschaftspreis,sonyp.fuenffreunde,sonyp.georgeezra,sonyp.gravepleasures,sonyp.hoerspiel24,sonyp.huibuh,sonyp.johannesoerding,sonyp.kellyofficial,sonyp.kuschelrock,sonyp.legacyclub,sonyp.LeonardCohen,sonyp.markforster,sonyp.marteria,sonyp.meghantrainor,sonyp.mrsgreenbird,sonyp.natuerlichvoneuropa,sonyp.nickyjam,sonyp.nikolaitokarew,sonyp.nisse,sonyp.ollymurs,sonyp.onedirection,sonyp.paulpotts,sonyp.pentatonix,sonyp.Pianoguys,sonyp.pinkspage,sonyp.revolverheld,sonyp.rock,sonyp.rolandkaiser,sonyp.scorpions,sonyp.silbermond,sonyp.simsalagrimm,sonyp.smashonline,sonyp.thescript,sonyp.tkkg,sonyp.xmasitunes,st_einkauf.ja,st_einkauf.meist,st_einkauf.ueberwiegend,st_einkauf.weniger,st_individ.ja,st_individ.meist,st_individ.ueberwiegend,st_marken.ja,st_marken.ueberwiegend,st_marken.weniger,st_marken_hochw.ja,st_marken_hochw.meist,st_marken_hochw.ueberwiegend,st_marken_sicher.ja,st_marken_sicher.ueberwiegend,st_marken_sicher.weniger,st_mobil.ja,st_mobil.meist,st_mobil.ueberwiegend,st_prdkt.ja,st_prdkt.meist,st_prdkt.ueberwiegend,st_prdkt.weniger,st_qualitaet.ja,st_qualitaet.meist,st_qualitaet.ueberwiegend,st_sportlich.ja,st_sportlich.meist,st_sportlich.ueberwiegend,st_sportlich.weniger,st_techno.ja,st_techno.meist,st_techno.ueberwiegend,st_werbung.ja,st_werbung.meist,st_werbung.ueberwiegend,st_wortf.ja,st_wortf.meist,st_wortf.ueberwiegend,stern.1014_10000_122_1107,stern.1014_10000_158_1101,stern.1014_10000_158_1107,stu.citylights,stu.homepage,stu.katalog,stu.kultimer,stu.memore,stu.reiseangebote,stu.reisefinder,stu.singlereisen,stu.studienreisen,suca.bookingclass,suca.departure,suca.destination,suca.odbookingclass,suca.oddeparture,suca.oddestination,suca.page,suca.wkbookingclass,suca.wkdeparture,suca.wkdestination,suz.kamp1405,suz.vitfarben,suz.vithome,suz.vitindiv,suz.vitkomfort,suz.vitphilo,suz.vitpreise,suz.vitsicher,suz.vittechnik,suzuki.page,swb.informationende,swb.landingpagede,swm.page,swoodoo.route,taketwo.civilisationbeyondearth,taketwo.evolve,taketwo.lanoire,taketwo.xcom,tccat.HP_tcde,tccat.OrderPAU_thcde,tccat.PS_tcde,tcPS_tcde.Anreisedatum,tcPS_tcde.Country,tcPS_tcde.Hotel,tcPS_tcde.Strecke,tcPS_tcde.ZahlE,tcPS_tcde.ZahlK,tcPSDest_tcde.Destination,tcwk_tcde.Anreisedatum,tcwk_tcde.Country,tcwk_tcde.Hotel,tcwk_tcde.Strecke,tcwk_tcde.ZahlE,tcwk_tcde.ZahlK,telegate.webcat1,telegate.webcat2,telegate.webcat3,tirolw.allg,tirolw.alpin,tirolw.fam,tirolw.it,tirolw.llauf,tirolw.mtb,tirolw.rad,tirolw.wandern,tirolw.wzauber,tnz.lphoecker,torbe.brand,torbe.category,torbe.nl,torbe.page,torbe.prodnr,torbe.subcategory,travelzoo.cloutprodnr,travelzoo.odprodnr,travelzoo.page,travelzoo.prodnr,unique.billsafeoff,unique.billsafeon,unique.tuion,vit.maincat,vit.page,web.home,welt.home,welt.offerpageabrecher,wsu.bestell,wsu.danke,wsu.home,wsu_it.home,wsube.priceitresultshomefr,wsufr.homefr,wsufr.priceitresultshomefr,wsufr.registerpersonalinfofr,wsunl.homenl,wsunl.priceitresultshomenl,WWT.confirmation,WWT.confirmationdisplay,WWT.confirmationsearch,WWT.coupon,WWT.easystart,WWT.feinkostsalate,WWT.fitnesshealth,WWT.foodrecipes,WWT.health,WWT.home,WWT.lebensmittel,WWT.lebensmitteldressings,WWT.lebensmittelgekuehfertig,WWT.lebensmittelherzhaftaufstrich,WWT.lebensmittelkekseriegel,WWT.lebensmittelkochboxen,WWT.lebensmittelkochbuch,WWT.lebensmittelstreichfett,WWT.lebensmittelsuessaufstrich,WWT.lebensmitteltogosalate,WWT.lebensmittelungekuehfertig,WWT.lebensmittelwurstsnacks,WWT.meetingdetails,WWT.meetingfinder,WWT.meetingsite,WWT.mp,WWT.mpactivation,WWT.mppurchase,WWT.mpstepone,WWT.mpsteptwo,WWT.onlinestepone,WWT.onlinesteptwo,WWT.promotag,WWT.propoints,WWT.shop,WWT.shopbakery,WWT.shopbonappetit,WWT.shopquickneasy,WWT.shopsnackherzhaft,WWT.shopsnacksuess,WWT.shopsweets,WWT.success,WWT.works,WWT.worksonline,wwtbe.fronlinestep1,wwtbe.home,wwtbe.onlinestep1,wwtde.confirmation,wwtde.fitness,wwtde.foodconcept,wwtde.foodrecipes,wwtde.home,wwtde.meetingdetail,wwtde.meetingfinder,wwtde.meetingoronline,wwtde.meetingsite,wwtde.mobileapp,wwtde.onlinesite,wwtde.propoints,wwtde.signupstep1,wwtde.signupstep2,wwtde.success,wwtde.worksonline,zentis.landingpage',\n",
       " '10358,0.0,0.0,0.0,0.0,0.0,0.0,0.0,0.0,0.0,0.0,0.0,0.0,0.0,0.0,0.0,0.0,0.0,0.0,0.0,0.0,0.0,0.0,0.0,0.0,0.0,0.0,0.0,0.0,0.0,0.0,0.0,0.0,0.0,0.0,0.0,0.0,0.0,0.0,0.0,0.0,0.0,0.0,0.0,0.0,0.0,0.0,0.0,0.0,0.0,0.0,0.0,0.0,0.0,0.0,0.0,0.0,0.0,0.0,0.0,0.0,0.0,0.0,0.0,0.0,0.0,0.0,0.0,0.0,0.0,0.0,0.0,0.0,0.0,0.0,0.0,0.0,0.0,0.0,0.0,0.0,0.0,0.0,0.0,0.0,0.0,0.0,0.0,0.0,0.0,0.0,0.0,0.0,0.0,0.0,0.0,0.0,0.0,0.0,0.0,0.0,0.0,0.0,0.0,0.0,0.0,0.0,0.0,0.0,0.0,0.0,0.0,0.0,0.0,0.0,0.0,0.0,0.0,0.0,0.0,0.0,0.0,0.0,0.0,0.0,0.0,0.0,0.0,8.0,0.0,0.0,0.0,0.0,0.0,0.0,0.0,0.0,0.0,0.0,0.0,0.0,0.0,0.0,0.0,0.0,0.0,0.0,0.0,0.0,0.0,0.0,0.0,0.0,0.0,0.0,0.0,0.0,0.0,0.0,8.0,0.0,0.0,0.0,0.0,0.0,0.0,0.0,0.0,0.0,0.0,0.0,0.0,0.0,0.0,0.0,0.0,0.0,0.0,0.0,0.0,0.0,0.0,0.0,0.0,0.0,0.0,0.0,0.0,0.0,0.0,0.0,0.0,0.0,0.0,0.0,0.0,0.0,0.0,0.0,0.0,0.0,0.0,0.0,0.0,0.0,0.0,0.0,0.0,0.0,0.0,0.0,0.0,0.0,0.0,0.0,0.0,0.0,0.0,0.0,0.0,0.0,0.0,0.0,0.0,0.0,0.0,0.0,0.0,0.0,0.0,0.0,0.0,0.0,0.0,0.0,0.0,0.0,0.0,0.0,0.0,0.0,0.0,0.0,0.0,0.0,0.0,0.0,0.0,0.0,0.0,0.0,0.0,0.0,0.0,0.0,0.0,0.0,0.0,0.0,0.0,0.0,0.0,0.0,0.0,0.0,0.0,0.0,0.0,0.0,0.0,0.0,0.0,3.0,0.0,0.0,0.0,0.0,0.0,0.0,0.0,0.0,0.0,0.0,0.0,0.0,0.0,0.0,0.0,0.0,0.0,0.0,0.0,0.0,0.0,0.0,0.0,0.0,0.0,0.0,0.0,0.0,0.0,0.0,0.0,0.0,0.0,0.0,0.0,0.0,0.0,0.0,0.0,0.0,0.0,0.0,0.0,0.0,0.0,0.0,0.0,0.0,0.0,0.0,0.0,0.0,0.0,0.0,0.0,0.0,0.0,0.0,0.0,0.0,0.0,0.0,0.0,0.0,0.0,0.0,0.0,0.0,0.0,0.0,0.0,0.0,0.0,0.0,0.0,0.0,0.0,0.0,0.0,0.0,0.0,0.0,0.0,0.0,0.0,0.0,0.0,0.0,0.0,0.0,0.0,0.0,0.0,8.0,0.0,0.0,0.0,0.0,8.0,0.0,0.0,0.0,0.0,0.0,0.0,0.0,0.0,0.0,0.0,0.0,0.0,0.0,0.0,8.0,0.0,8.0,0.0,0.0,8.0,0.0,0.0,0.0,0.0,0.0,8.0,0.0,0.0,0.0,8.0,8.0,0.0,8.0,0.0,0.0,0.0,0.0,8.0,0.0,0.0,8.0,8.0,0.0,0.0,0.0,8.0,0.0,0.0,0.0,8.0,0.0,0.0,0.0,0.0,0.0,0.0,0.0,0.0,0.0,0.0,0.0,0.0,0.0,0.0,0.0,0.0,0.0,0.0,0.0,0.0,0.0,0.0,0.0,0.0,0.0,0.0,0.0,0.0,0.0,0.0,0.0,0.0,0.0,0.0,0.0,8.0,0.0,0.0,0.0,0.0,0.0,0.0,0.0,0.0,0.0,0.0,0.0,0.0,8.0,0.0,0.0,8.0,0.0,0.0,8.0,0.0,0.0,0.0,0.0,0.0,0.0,0.0,7.0,0.0,0.0,0.0,0.0,0.0,0.0,0.0,0.0,0.0,2.0,0.0,1.0,1.0,0.0,0.0,0.0,0.0,0.0,0.0,0.0,0.0,0.0,0.0,6.0,0.0,0.0,0.0,0.0,0.0,0.0,0.0,0.0,0.0,1.0,3.0,1.0,0.0,0.0,0.0,3.0,0.0,0.0,0.0,0.0,0.0,0.0,0.0,0.0,0.0,2.0,0.0,0.0,0.0,7.0,14.0,0.0,0.0,0.0,0.0,0.0,0.0,8.0,0.0,0.0,0.0,0.0,0.0,0.0,17.0,0.0,0.0,0.0,0.0,0.0,0.0,0.0,0.0,0.0,0.0,0.0,0.0,0.0,0.0,0.0,0.0,0.0,0.0,0.0,0.0,0.0,0.0,0.0,0.0,0.0,0.0,0.0,0.0,0.0,1.0,0.0,0.0,0.0,0.0,0.0,0.0,0.0,0.0,0.0,5.0,0.0,0.0,0.0,0.0,0.0,0.0,1.0,0.0,0.0,0.0,0.0,0.0,0.0,0.0,0.0,0.0,0.0,1.0,0.0,0.0,0.0,0.0,0.0,0.0,0.0,0.0,0.0,0.0,0.0,0.0,0.0,0.0,0.0,0.0,0.0,0.0,0.0,0.0,0.0,0.0,0.0,0.0,0.0,0.0,0.0,0.0,0.0,0.0,0.0,0.0,0.0,0.0,0.0,0.0,3.0,0.0,0.0,0.0,0.0,0.0,0.0,0.0,1.0,0.0,0.0,0.0,0.0,0.0,0.0,0.0,0.0,0.0,0.0,0.0,0.0,0.0,0.0,0.0,0.0,0.0,0.0,0.0,0.0,0.0,0.0,0.0,0.0,0.0,0.0,0.0,0.0,0.0,0.0,0.0,0.0,0.0,0.0,1.0,0.0,1.0,0.0,0.0,0.0,0.0,0.0,0.0,0.0,0.0,0.0,0.0,0.0,0.0,0.0,0.0,0.0,0.0,0.0,0.0,0.0,0.0,0.0,0.0,0.0,0.0,0.0,0.0,0.0,0.0,0.0,0.0,0.0,0.0,0.0,0.0,0.0,0.0,0.0,0.0,0.0,0.0,0.0,0.0,0.0,0.0,0.0,0.0,0.0,0.0,0.0,0.0,0.0,0.0,0.0,0.0,0.0,0.0,1.0,0.0,0.0,0.0,0.0,0.0,0.0,0.0,0.0,0.0,0.0,0.0,0.0,0.0,0.0,0.0,0.0,0.0,0.0,0.0,0.0,0.0,4.0,0.0,0.0,0.0,0.0,0.0,0.0,0.0,0.0,1.0,0.0,0.0,0.0,0.0,0.0,0.0,0.0,0.0,0.0,1.0,0.0,0.0,0.0,0.0,0.0,0.0,0.0,0.0,0.0,0.0,0.0,0.0,0.0,0.0,0.0,0.0,0.0,0.0,0.0,0.0,0.0,0.0,0.0,0.0,0.0,0.0,0.0,0.0,0.0,0.0,0.0,0.0,0.0,0.0,0.0,0.0,0.0,0.0,1.0,0.0,0.0,0.0,0.0,0.0,0.0,0.0,0.0,0.0,0.0,0.0,0.0,0.0,0.0,0.0,0.0,0.0,0.0,4.0,0.0,0.0,0.0,0.0,0.0,0.0,0.0,0.0,0.0,0.0,0.0,0.0,0.0,0.0,0.0,0.0,0.0,0.0,0.0,0.0,0.0,0.0,0.0,0.0,0.0,0.0,0.0,0.0,0.0,0.0,0.0,0.0,0.0,2.0,0.0,0.0,0.0,0.0,0.0,0.0,0.0,0.0,0.0,0.0,0.0,0.0,0.0,0.0,0.0,0.0,0.0,0.0,0.0,1.0,0.0,0.0,0.0,0.0,0.0,0.0,0.0,0.0,0.0,0.0,0.0,0.0,0.0,0.0,0.0,0.0,0.0,0.0,0.0,0.0,0.0,0.0,0.0,0.0,0.0,0.0,0.0,1.0,0.0,0.0,0.0,0.0,0.0,0.0,0.0,0.0,0.0,0.0,0.0,0.0,0.0,0.0,0.0,0.0,0.0,0.0,0.0,0.0,0.0,0.0,0.0,0.0,0.0,0.0,0.0,0.0,0.0,0.0,0.0,0.0,0.0,0.0,0.0,0.0,0.0,0.0,0.0,0.0,0.0,0.0,0.0,0.0,0.0,0.0,0.0,0.0,0.0,0.0,0.0,0.0,0.0,0.0,0.0,0.0,0.0,2.0,1.0,1.0,1.0,1.0,0.0,0.0,0.0,0.0,0.0,0.0,0.0,1.0,0.0,0.0,0.0,0.0,0.0,0.0,0.0,0.0,0.0,0.0,0.0,0.0,0.0,0.0,0.0,0.0,0.0,0.0,0.0,0.0,0.0,1.0,0.0,0.0,0.0,0.0,0.0,0.0,0.0,0.0,0.0,0.0,0.0,0.0,0.0,0.0,0.0,0.0,0.0,0.0,0.0,0.0,0.0,0.0,0.0,0.0,0.0,0.0,0.0,0.0,0.0,0.0,0.0,0.0,0.0,0.0,0.0,0.0,0.0,0.0,0.0,0.0,0.0,0.0,0.0,0.0,0.0,0.0,0.0,0.0,0.0,0.0,0.0,0.0,0.0,0.0,0.0,0.0,0.0,0.0,0.0,0.0,0.0,0.0,0.0,0.0,2.0,0.0,0.0,0.0,0.0,0.0,0.0,0.0,0.0,0.0,0.0,0.0,0.0,0.0,0.0,0.0,0.0,0.0,0.0,0.0,0.0,0.0,0.0,0.0,0.0,0.0,0.0,0.0,0.0,0.0,0.0,1.0,0.0,0.0,0.0,0.0,0.0,0.0,0.0,0.0,0.0,0.0,0.0,0.0,0.0,2.0,0.0,0.0,0.0,0.0,0.0,0.0,0.0,0.0,0.0,0.0,0.0,0.0,0.0,0.0,0.0,0.0,0.0,0.0,0.0,0.0,0.0,0.0,0.0,0.0,0.0,0.0,0.0,0.0,0.0,0.0,1.0,0.0,0.0,0.0,0.0,0.0,0.0,0.0,0.0,0.0,0.0,0.0,0.0,0.0,0.0,0.0,0.0,0.0,0.0,0.0,0.0,0.0,0.0,0.0,0.0,0.0,0.0,0.0,0.0,0.0,0.0,0.0,0.0,0.0,0.0,0.0,0.0,0.0,0.0,0.0,0.0,0.0,0.0,0.0,0.0,0.0,0.0,0.0,0.0,0.0,0.0,0.0,0.0,0.0,0.0,0.0,0.0,0.0,0.0,0.0,0.0,0.0,0.0,0.0,0.0,0.0,0.0,0.0,0.0,0.0,0.0,0.0,0.0,0.0,0.0,0.0,0.0,0.0,0.0,0.0,0.0,0.0,0.0,0.0,0.0,0.0,0.0,0.0,0.0,0.0,0.0,0.0,3.0,0.0,0.0,0.0,0.0,0.0,0.0,0.0,0.0,0.0,0.0,0.0,0.0,0.0,0.0,0.0,0.0,0.0,0.0,0.0,0.0,0.0,0.0,0.0,0.0,0.0,0.0,0.0,0.0,0.0,0.0,0.0,0.0,0.0,0.0,0.0,0.0,0.0,0.0,0.0,0.0,0.0,0.0,0.0,0.0,0.0,0.0,0.0,0.0,0.0,0.0,0.0,0.0,0.0,0.0,0.0,0.0,0.0,0.0,0.0,0.0,0.0,0.0,0.0,0.0,0.0,0.0,0.0,0.0,0.0,0.0,0.0,0.0,0.0,0.0,0.0,0.0,0.0,0.0,0.0,0.0,0.0,0.0,0.0,0.0,0.0,0.0,0.0,0.0,0.0,0.0,0.0,0.0,0.0,1.0,0.0,0.0,0.0,0.0,0.0,0.0,0.0,0.0,0.0,0.0,0.0,0.0,0.0,0.0,0.0,0.0,0.0,0.0,0.0,0.0,0.0,0.0,0.0,0.0,0.0,0.0,0.0,0.0,0.0,0.0,0.0,0.0,0.0,0.0,0.0,0.0,0.0,0.0,0.0,0.0,1.0,0.0,0.0,0.0,0.0,0.0,0.0,0.0,0.0,0.0,0.0,0.0,0.0,1.0,0.0,0.0,0.0,0.0,0.0,0.0,0.0,0.0,0.0,0.0,0.0,0.0,0.0,0.0,0.0,0.0,0.0,0.0,0.0,0.0,0.0,0.0,0.0,0.0,0.0,0.0,0.0,0.0,0.0,0.0,0.0,0.0,0.0,0.0,0.0,0.0,0.0,0.0,0.0,0.0,0.0,0.0,0.0,0.0,0.0,0.0,0.0,0.0,0.0,0.0,0.0,0.0,0.0,0.0,0.0,0.0,0.0,0.0,0.0,0.0,0.0,0.0,0.0,0.0,0.0,0.0,0.0,0.0,0.0,0.0,0.0,0.0,0.0,0.0,0.0,0.0,0.0,0.0,1.0,0.0,0.0,0.0,0.0,1.0,0.0,0.0,0.0,0.0,0.0,0.0,0.0,0.0,0.0,0.0,0.0,0.0,0.0,0.0,0.0,0.0,0.0,0.0,0.0,0.0,0.0,0.0,0.0,0.0,0.0,0.0,0.0,0.0,0.0,0.0,0.0,0.0,0.0,0.0,0.0,0.0,0.0,3.0,0.0,0.0,0.0,0.0,0.0,0.0,0.0,0.0,0.0,0.0,0.0,0.0,0.0,0.0,0.0,0.0,0.0,0.0,0.0,0.0,0.0,0.0,0.0,0.0,0.0,0.0,0.0,0.0,0.0,0.0,0.0,0.0,0.0,0.0,0.0,0.0,0.0,0.0,0.0,0.0,0.0,0.0,0.0,0.0,0.0,0.0,0.0,0.0,0.0,0.0,0.0,0.0,0.0,0.0,0.0,0.0,1.0,0.0,0.0,0.0,0.0,0.0,0.0,0.0,0.0,0.0,0.0,0.0,0.0,0.0,0.0,0.0,0.0,0.0,0.0,0.0,0.0,0.0,0.0,0.0,0.0,0.0,0.0,0.0,0.0,0.0,0.0,0.0,0.0,0.0,0.0,0.0,0.0,0.0,0.0,0.0,0.0,0.0,0.0,0.0,0.0,0.0,0.0,0.0,0.0,0.0,0.0,0.0,0.0,0.0,0.0,0.0,0.0,0.0,0.0,0.0,0.0,0.0,0.0,0.0,0.0,0.0,0.0,0.0,0.0,0.0,0.0,0.0,0.0,0.0,0.0,0.0,0.0,0.0,0.0,0.0,0.0,0.0,0.0,0.0,0.0,0.0,0.0,0.0,0.0,0.0,0.0,0.0,0.0,0.0,0.0,0.0,0.0,0.0,0.0,0.0,0.0,0.0,0.0,0.0,0.0,0.0,0.0,0.0,0.0,0.0,0.0,0.0,0.0,0.0,0.0,0.0,0.0,0.0,0.0,0.0,0.0,0.0,0.0,0.0,0.0,0.0,0.0,0.0,0.0,0.0,1.0,0.0,0.0,0.0,0.0,0.0,0.0,0.0,0.0,0.0,0.0,0.0,0.0,0.0,0.0,0.0,1.0,0.0,0.0,0.0,0.0,0.0,0.0,0.0,0.0,0.0,0.0,0.0,0.0,0.0,0.0,0.0,0.0,0.0,0.0,0.0,0.0,0.0,0.0,0.0,0.0,0.0,0.0,0.0,0.0,0.0,0.0,0.0,0.0,0.0,0.0,0.0,0.0,0.0,0.0,0.0,0.0,0.0,0.0,0.0,0.0,0.0,0.0,0.0,0.0,0.0,0.0,0.0,0.0,0.0,0.0,0.0,0.0,0.0,0.0,0.0,0.0,0.0,0.0,0.0,0.0,0.0,0.0,0.0,0.0,0.0,0.0,0.0,0.0,0.0,0.0,0.0,0.0,0.0,0.0,0.0,0.0,0.0,0.0,0.0,0.0,0.0,0.0,0.0,0.0,0.0,0.0,0.0,0.0,0.0,0.0,0.0,0.0,0.0,0.0,0.0,0.0,0.0,0.0,0.0,0.0,0.0,0.0,0.0,0.0,0.0,0.0,0.0,0.0,0.0,0.0,0.0,0.0,0.0,0.0,0.0,1.0,0.0,0.0,0.0,0.0,0.0,0.0,0.0,0.0,0.0,0.0,0.0,0.0,0.0,0.0,0.0,0.0,0.0,0.0,0.0,0.0,0.0,0.0,0.0,0.0,0.0,0.0,0.0,0.0,0.0,0.0,0.0,0.0,0.0,0.0,0.0,0.0,0.0,0.0,0.0,0.0,0.0,0.0,0.0,0.0,0.0,0.0,0.0,0.0,0.0,0.0,0.0,0.0,0.0,0.0,0.0,0.0,0.0,0.0,0.0,0.0,0.0,0.0,0.0,0.0,0.0,0.0,0.0,0.0,0.0,0.0,2.0,0.0,0.0,0.0,0.0,0.0,0.0,0.0,0.0,0.0,0.0,0.0,0.0,0.0,0.0,0.0,0.0,0.0,0.0,0.0,0.0,0.0,0.0,0.0,0.0,0.0,0.0,0.0,0.0,0.0,0.0,0.0,0.0,0.0,0.0,0.0,0.0,0.0,0.0,0.0,0.0,0.0,0.0,0.0,0.0,1.0,0.0,0.0,0.0,0.0,0.0,0.0,0.0,0.0,0.0,0.0,0.0,0.0,0.0,0.0,0.0,0.0,0.0,0.0,0.0,0.0,0.0,0.0,0.0,0.0,0.0,0.0,0.0,0.0,0.0,0.0,0.0,0.0,0.0,0.0,0.0,0.0,0.0,0.0,0.0,1.0,0.0,0.0,0.0,0.0,0.0,0.0,0.0,0.0,0.0,0.0,0.0,0.0,0.0,0.0,0.0,0.0,0.0,7.0,0.0,0.0,0.0,0.0,0.0,0.0,0.0,0.0,0.0,0.0,0.0,0.0,0.0,0.0,0.0,0.0,0.0,0.0,0.0,0.0,0.0,0.0,0.0,0.0,0.0,0.0,0.0,0.0,0.0,0.0,0.0,0.0,0.0,0.0,0.0,0.0,0.0,0.0,0.0,0.0,0.0,0.0,0.0,0.0,0.0,0.0,0.0,0.0,1.0,0.0,0.0,0.0,0.0,0.0,0.0,0.0,0.0,0.0,0.0,0.0,0.0,0.0,0.0,0.0,0.0,0.0,0.0,0.0,0.0,0.0,1.0,0.0,0.0,0.0,0.0,0.0,0.0,0.0,0.0,0.0,0.0,0.0,0.0,0.0,0.0,0.0,0.0,0.0,0.0,0.0,0.0,0.0,0.0,0.0,0.0,0.0,0.0,0.0,0.0,0.0,0.0,0.0,0.0,0.0,0.0,0.0,0.0,0.0,0.0,0.0,0.0,0.0,2.0,0.0,0.0,0.0,0.0,1.0,0.0,0.0,0.0,0.0,0.0,2.0,0.0,0.0,0.0,0.0,0.0,0.0,0.0,0.0,0.0,0.0,0.0,0.0,0.0,0.0,0.0,0.0,0.0,0.0,0.0,9.0,0.0,0.0,0.0,0.0,0.0,0.0,0.0,0.0,1.0,0.0,0.0,0.0,0.0,0.0,2.0,2.0,0.0,1.0,0.0,1.0,0.0,0.0,1.0,2.0,1.0,0.0,0.0,1.0,0.0,0.0,0.0,2.0,2.0,2.0,1.0,2.0,0.0,0.0,0.0,0.0,0.0,0.0,0.0,0.0,2.0,1.0,1.0,0.0,0.0,0.0,0.0,0.0,0.0,0.0,0.0,0.0,0.0,0.0,0.0,0.0,2.0,0.0,2.0,0.0,2.0,0.0,0.0,0.0,0.0,0.0,0.0,0.0,0.0,0.0,2.0,0.0,0.0,0.0,0.0,0.0,0.0,0.0,0.0,0.0,0.0,0.0,0.0,0.0,0.0,0.0,0.0,0.0,0.0,0.0,0.0,0.0,0.0,0.0,0.0,0.0,0.0,0.0,0.0,0.0,0.0,0.0,0.0,0.0,0.0,0.0,0.0,0.0,0.0,0.0,0.0,0.0,0.0,0.0,0.0,0.0,0.0,0.0,0.0,0.0,0.0,0.0,0.0,0.0,0.0,0.0,0.0,0.0,0.0,0.0,0.0,0.0,0.0,0.0,0.0,0.0,0.0,0.0,0.0,0.0,0.0,0.0,0.0,0.0,0.0,0.0,0.0,0.0,0.0,0.0,0.0,0.0,0.0,0.0,0.0,0.0,0.0,0.0,0.0,0.0,0.0,0.0,0.0,0.0,0.0,0.0,0.0,0.0,0.0,0.0,0.0,0.0,0.0,0.0,0.0,0.0,0.0,0.0,0.0,0.0,0.0,0.0,0.0,0.0,0.0,0.0,0.0,0.0,0.0,0.0,0.0,0.0,0.0,0.0,0.0,0.0,0.0,0.0,0.0,0.0,0.0,0.0,0.0,0.0,0.0,0.0,0.0,0.0,0.0,0.0,0.0,0.0,0.0,0.0,0.0,0.0,0.0,0.0,0.0,0.0,0.0,0.0,0.0,0.0,0.0,0.0,0.0,0.0,0.0,0.0,0.0,0.0,0.0,0.0,0.0,0.0,0.0,0.0,0.0,0.0,0.0,0.0,0.0,0.0,0.0,0.0,0.0,0.0,0.0,0.0,0.0,0.0,0.0,0.0,0.0,0.0,0.0,0.0,0.0,0.0,0.0,0.0,0.0,0.0,0.0,0.0,0.0,0.0,0.0,0.0,0.0,0.0,0.0,0.0,0.0,0.0,0.0,0.0,0.0,0.0,0.0,0.0,0.0,0.0,0.0,0.0,0.0,0.0,0.0,0.0,0.0,0.0,0.0,0.0,0.0,0.0,0.0,0.0,0.0,8.0,0.0,0.0,0.0,0.0,0.0,0.0,0.0,0.0,0.0,0.0,0.0,0.0,0.0,0.0,0.0,0.0,0.0,8.0,0.0,0.0,0.0,0.0,0.0,0.0,0.0,0.0,0.0,0.0,0.0,0.0,0.0,0.0,0.0,1.0,0.0,0.0,0.0,0.0,0.0,0.0,0.0,0.0,0.0,0.0,0.0,0.0,0.0,0.0,0.0,0.0,0.0,0.0,0.0,0.0,0.0,0.0,0.0,0.0,0.0,0.0,0.0,8.0,0.0,8.0,0.0,0.0,0.0,0.0,8.0,0.0,0.0,8.0,0.0,0.0,0.0,8.0,0.0,0.0,0.0,8.0,0.0,0.0,0.0,0.0,8.0,0.0,8.0,0.0,0.0,0.0,0.0,0.0,0.0,8.0,0.0,0.0,0.0,0.0,8.0,0.0,0.0,8.0,0.0,0.0,0.0,8.0,0.0,0.0,0.0,8.0,0.0,0.0,8.0,0.0,0.0,0.0,0.0,8.0,0.0,0.0,8.0,0.0,0.0,0.0,8.0,0.0,0.0,0.0,8.0,0.0,0.0,0.0,8.0,0.0,0.0,0.0,0.0,0.0,8.0,0.0,0.0,8.0,0.0,0.0,0.0,0.0,8.0,0.0,0.0,8.0,0.0,0.0,0.0,0.0,8.0,8.0,0.0,0.0,0.0,0.0,0.0,0.0,8.0,0.0,0.0,0.0,8.0,0.0,0.0,8.0,0.0,0.0,0.0,0.0,8.0,0.0,8.0,0.0,0.0,0.0,8.0,0.0,0.0,0.0,0.0,8.0,8.0,0.0,0.0,8.0,0.0,0.0,8.0,0.0,8.0,0.0,0.0,0.0,8.0,0.0,0.0,0.0,0.0,8.0,0.0,0.0,8.0,0.0,0.0,0.0,0.0,8.0,0.0,0.0,0.0,8.0,0.0,0.0,0.0,8.0,0.0,0.0,0.0,8.0,0.0,0.0,0.0,0.0,8.0,0.0,8.0,0.0,0.0,0.0,0.0,0.0,0.0,8.0,0.0,0.0,0.0,8.0,0.0,0.0,0.0,8.0,0.0,0.0,0.0,8.0,0.0,0.0,0.0,8.0,0.0,0.0,8.0,0.0,0.0,0.0,0.0,0.0,8.0,0.0,0.0,8.0,0.0,8.0,0.0,0.0,0.0,8.0,8.0,0.0,0.0,0.0,8.0,0.0,0.0,0.0,8.0,0.0,0.0,0.0,0.0,8.0,0.0,0.0,0.0,0.0,8.0,8.0,0.0,8.0,8.0,0.0,8.0,8.0,0.0,8.0,8.0,0.0,8.0,0.0,8.0,8.0,8.0,8.0,8.0,0.0,8.0,0.0,8.0,0.0,8.0,8.0,0.0,8.0,0.0,8.0,8.0,0.0,8.0,0.0,8.0,0.0,8.0,0.0,8.0,0.0,8.0,0.0,8.0,8.0,8.0,0.0,8.0,0.0,8.0,0.0,8.0,8.0,0.0,8.0,0.0,8.0,8.0,0.0,8.0,0.0,8.0,0.0,8.0,0.0,8.0,0.0,8.0,0.0,8.0,0.0,8.0,0.0,8.0,0.0,8.0,0.0,8.0,8.0,0.0,8.0,0.0,8.0,8.0,0.0,8.0,8.0,8.0,0.0,8.0,0.0,8.0,8.0,0.0,8.0,0.0,8.0,8.0,0.0,8.0,0.0,8.0,0.0,8.0,8.0,0.0,8.0,8.0,0.0,8.0,0.0,8.0,0.0,8.0,0.0,8.0,8.0,0.0,8.0,0.0,8.0,0.0,8.0,0.0,8.0,0.0,8.0,0.0,8.0,0.0,8.0,8.0,0.0,8.0,0.0,8.0,0.0,8.0,0.0,8.0,0.0,8.0,0.0,8.0,8.0,0.0,8.0,0.0,8.0,0.0,8.0,0.0,8.0,8.0,0.0,8.0,0.0,8.0,0.0,8.0,0.0,8.0,0.0,8.0,0.0,8.0,0.0,8.0,8.0,0.0,8.0,0.0,8.0,0.0,8.0,0.0,8.0,0.0,8.0,8.0,0.0,8.0,0.0,8.0,0.0,8.0,0.0,8.0,0.0,8.0,0.0,8.0,0.0,8.0,0.0,8.0,0.0,8.0,0.0,8.0,0.0,8.0,8.0,0.0,0.0,8.0,0.0,0.0,8.0,0.0,0.0,8.0,0.0,0.0,8.0,0.0,0.0,8.0,0.0,0.0,8.0,0.0,0.0,8.0,0.0,0.0,8.0,0.0,0.0,8.0,0.0,0.0,8.0,0.0,8.0,0.0,8.0,0.0,0.0,0.0,0.0,8.0,0.0,0.0,8.0,8.0,0.0,0.0,8.0,0.0,0.0,8.0,8.0,0.0,0.0,8.0,0.0,0.0,8.0,0.0,0.0,8.0,0.0,0.0,8.0,0.0,0.0,8.0,0.0,0.0,0.0,0.0,8.0,8.0,0.0,0.0,0.0,0.0,8.0,8.0,0.0,0.0,0.0,8.0,0.0,0.0,8.0,0.0,0.0,8.0,0.0,8.0,0.0,8.0,0.0,8.0,0.0,0.0,0.0,8.0,0.0,0.0,8.0,0.0,0.0,8.0,0.0,0.0,0.0,8.0,0.0,0.0,8.0,0.0,0.0,0.0,8.0,0.0,0.0,8.0,0.0,8.0,0.0,0.0,0.0,8.0,0.0,0.0,8.0,0.0,0.0,8.0,0.0,0.0,8.0,0.0,0.0,8.0,0.0,8.0,0.0,0.0,8.0,0.0,0.0,8.0,0.0,0.0,8.0,0.0,0.0,0.0,8.0,0.0,8.0,0.0,0.0,0.0,0.0,8.0,0.0,8.0,8.0,0.0,0.0,0.0,0.0,8.0,0.0,0.0,8.0,0.0,0.0,0.0,0.0,0.0,0.0,0.0,0.0,0.0,8.0,8.0,0.0,0.0,0.0,8.0,0.0,0.0,0.0,0.0,0.0,0.0,0.0,0.0,0.0,0.0,0.0,0.0,0.0,0.0,0.0,0.0,0.0,0.0,0.0,0.0,0.0,1.0,0.0,0.0,0.0,0.0,0.0,0.0,0.0,0.0,0.0,0.0,0.0,0.0,0.0,0.0,0.0,0.0,0.0,0.0,0.0,0.0,0.0,0.0,0.0,0.0,0.0,0.0,0.0,0.0,0.0,0.0,0.0,0.0,0.0,0.0,0.0,0.0,0.0,0.0,0.0,0.0,0.0,0.0,0.0,0.0,0.0,0.0,0.0,0.0,0.0,0.0,0.0,8.0,0.0,0.0,0.0,8.0,0.0,8.0,0.0,0.0,0.0,8.0,0.0,8.0,0.0,8.0,0.0,0.0,0.0,0.0,8.0,0.0,0.0,0.0,8.0,8.0,0.0,0.0,0.0,8.0,0.0,0.0,0.0,0.0,8.0,0.0,0.0,8.0,0.0,0.0,0.0,0.0,0.0,0.0,0.0,0.0,0.0,0.0,0.0,0.0,0.0,0.0,0.0,0.0,0.0,0.0,0.0,0.0,0.0,0.0,0.0,0.0,0.0,0.0,0.0,0.0,0.0,0.0,0.0,0.0,0.0,0.0,0.0,0.0,0.0,0.0,0.0,0.0,0.0,0.0,0.0,0.0,0.0,0.0,0.0,0.0,0.0,0.0,0.0,0.0,0.0,0.0,0.0,0.0,0.0,0.0,0.0,0.0,0.0,0.0,0.0,0.0,0.0,0.0,0.0,0.0,0.0,0.0,0.0,0.0,0.0,0.0,0.0,0.0,0.0,0.0,0.0,0.0,0.0,0.0,0.0,0.0,0.0,0.0,0.0,0.0,0.0,0.0,0.0,0.0,0.0,0.0,0.0,0.0,0.0,0.0,0.0,0.0,0.0,0.0,0.0,0.0,0.0,0.0,0.0,0.0,0.0,0.0,0.0,0.0,0.0,0.0,0.0,0.0,0.0,0.0,0.0,0.0,0.0,0.0,0.0,0.0,0.0,0.0,0.0,0.0,0.0,0.0,0.0,0.0,0.0,0.0,0.0,0.0,0.0,0.0,0.0,0.0,0.0,0.0,0.0,0.0,0.0,0.0,0.0,0.0,0.0,0.0,0.0,0.0,0.0,0.0,0.0,0.0,0.0,0.0,0.0,0.0,0.0',\n",
       " '12227,0.0,0.0,0.0,0.0,0.0,0.0,0.0,0.0,0.0,0.0,0.0,0.0,0.0,0.0,0.0,1.0,3.0,2.0,0.0,0.0,3.0,0.0,0.0,0.0,0.0,0.0,1.0,0.0,0.0,0.0,14.0,0.0,0.0,0.0,0.0,0.0,0.0,2.0,0.0,0.0,0.0,0.0,0.0,0.0,0.0,0.0,0.0,0.0,0.0,0.0,0.0,0.0,0.0,0.0,0.0,0.0,0.0,0.0,0.0,2.0,0.0,0.0,0.0,0.0,0.0,0.0,0.0,0.0,0.0,0.0,0.0,0.0,0.0,0.0,0.0,0.0,0.0,0.0,0.0,0.0,0.0,0.0,0.0,0.0,0.0,0.0,0.0,0.0,0.0,0.0,0.0,0.0,0.0,0.0,0.0,0.0,0.0,0.0,0.0,0.0,0.0,0.0,0.0,0.0,0.0,0.0,0.0,0.0,0.0,0.0,0.0,0.0,0.0,0.0,0.0,0.0,0.0,0.0,0.0,0.0,0.0,0.0,0.0,0.0,0.0,0.0,14.0,0.0,0.0,0.0,0.0,0.0,0.0,0.0,0.0,0.0,0.0,0.0,0.0,0.0,0.0,0.0,0.0,0.0,0.0,0.0,0.0,0.0,0.0,0.0,0.0,0.0,0.0,0.0,0.0,0.0,0.0,0.0,14.0,0.0,0.0,0.0,0.0,0.0,0.0,0.0,0.0,0.0,0.0,0.0,0.0,0.0,0.0,0.0,0.0,0.0,0.0,0.0,0.0,0.0,0.0,0.0,0.0,0.0,0.0,0.0,0.0,0.0,0.0,0.0,1.0,0.0,0.0,0.0,2.0,0.0,0.0,10.0,0.0,0.0,0.0,0.0,0.0,0.0,0.0,0.0,0.0,0.0,0.0,0.0,0.0,0.0,0.0,0.0,0.0,0.0,0.0,0.0,0.0,0.0,0.0,0.0,0.0,0.0,0.0,0.0,0.0,0.0,0.0,0.0,0.0,0.0,0.0,0.0,0.0,0.0,0.0,0.0,0.0,0.0,0.0,0.0,0.0,0.0,0.0,0.0,0.0,0.0,0.0,0.0,0.0,0.0,0.0,0.0,0.0,0.0,0.0,0.0,0.0,0.0,0.0,0.0,0.0,0.0,0.0,0.0,0.0,0.0,0.0,0.0,0.0,0.0,0.0,0.0,0.0,0.0,0.0,0.0,0.0,0.0,0.0,0.0,0.0,0.0,0.0,0.0,0.0,0.0,0.0,0.0,0.0,0.0,0.0,0.0,0.0,0.0,0.0,0.0,0.0,0.0,0.0,0.0,0.0,0.0,0.0,0.0,0.0,0.0,0.0,0.0,0.0,0.0,0.0,0.0,0.0,0.0,0.0,0.0,0.0,0.0,0.0,0.0,0.0,0.0,0.0,0.0,0.0,0.0,0.0,0.0,0.0,0.0,0.0,0.0,0.0,0.0,0.0,0.0,0.0,0.0,0.0,0.0,0.0,0.0,0.0,0.0,0.0,0.0,0.0,0.0,0.0,0.0,0.0,0.0,0.0,0.0,0.0,0.0,0.0,0.0,0.0,0.0,0.0,0.0,0.0,0.0,0.0,14.0,0.0,0.0,14.0,0.0,0.0,0.0,0.0,1.0,0.0,0.0,0.0,0.0,0.0,0.0,0.0,0.0,0.0,14.0,0.0,14.0,0.0,0.0,14.0,0.0,0.0,0.0,14.0,0.0,0.0,14.0,0.0,0.0,0.0,14.0,0.0,14.0,0.0,0.0,0.0,0.0,14.0,0.0,0.0,14.0,14.0,0.0,0.0,14.0,0.0,0.0,0.0,0.0,14.0,0.0,0.0,0.0,0.0,0.0,0.0,0.0,0.0,0.0,0.0,0.0,0.0,0.0,0.0,0.0,0.0,0.0,0.0,0.0,0.0,0.0,0.0,0.0,0.0,0.0,0.0,0.0,0.0,0.0,0.0,0.0,0.0,0.0,0.0,0.0,14.0,0.0,0.0,0.0,0.0,0.0,0.0,0.0,0.0,0.0,0.0,0.0,0.0,14.0,0.0,0.0,14.0,0.0,0.0,14.0,0.0,0.0,1.0,0.0,0.0,0.0,0.0,3.0,0.0,0.0,0.0,0.0,0.0,0.0,3.0,0.0,0.0,0.0,0.0,0.0,0.0,0.0,0.0,0.0,0.0,0.0,0.0,0.0,0.0,0.0,0.0,0.0,0.0,0.0,1.0,0.0,0.0,0.0,0.0,0.0,0.0,0.0,0.0,2.0,0.0,0.0,0.0,0.0,0.0,0.0,0.0,0.0,0.0,0.0,0.0,0.0,0.0,0.0,0.0,0.0,0.0,0.0,0.0,0.0,0.0,0.0,0.0,0.0,0.0,2.0,0.0,0.0,0.0,0.0,0.0,0.0,1.0,0.0,0.0,0.0,0.0,0.0,0.0,0.0,0.0,0.0,0.0,0.0,0.0,0.0,0.0,0.0,0.0,0.0,0.0,0.0,0.0,0.0,0.0,0.0,0.0,0.0,0.0,0.0,0.0,0.0,0.0,0.0,0.0,2.0,0.0,0.0,0.0,0.0,0.0,0.0,1.0,0.0,0.0,0.0,0.0,0.0,0.0,3.0,0.0,0.0,0.0,0.0,0.0,0.0,0.0,0.0,0.0,0.0,0.0,0.0,0.0,0.0,0.0,0.0,0.0,0.0,0.0,0.0,0.0,0.0,0.0,0.0,0.0,0.0,0.0,0.0,0.0,0.0,0.0,0.0,0.0,0.0,0.0,0.0,0.0,0.0,0.0,0.0,0.0,0.0,0.0,0.0,0.0,0.0,0.0,0.0,0.0,0.0,0.0,0.0,0.0,0.0,0.0,1.0,0.0,0.0,0.0,0.0,0.0,0.0,0.0,0.0,0.0,0.0,0.0,0.0,0.0,0.0,0.0,0.0,0.0,1.0,0.0,0.0,0.0,3.0,0.0,0.0,0.0,14.0,0.0,0.0,0.0,0.0,0.0,0.0,0.0,0.0,0.0,0.0,0.0,0.0,0.0,0.0,0.0,0.0,0.0,1.0,0.0,0.0,0.0,0.0,0.0,0.0,0.0,0.0,0.0,0.0,0.0,0.0,0.0,0.0,0.0,0.0,2.0,0.0,3.0,0.0,0.0,0.0,0.0,0.0,0.0,0.0,0.0,0.0,0.0,0.0,0.0,0.0,0.0,0.0,0.0,0.0,0.0,0.0,0.0,0.0,0.0,0.0,0.0,0.0,2.0,0.0,0.0,2.0,1.0,0.0,0.0,0.0,0.0,0.0,0.0,0.0,0.0,0.0,0.0,0.0,0.0,0.0,0.0,0.0,0.0,0.0,0.0,0.0,0.0,0.0,0.0,0.0,0.0,0.0,0.0,0.0,0.0,0.0,0.0,0.0,1.0,0.0,0.0,0.0,0.0,0.0,0.0,0.0,0.0,0.0,1.0,0.0,0.0,0.0,0.0,5.0,0.0,0.0,0.0,0.0,0.0,0.0,0.0,0.0,0.0,0.0,0.0,0.0,0.0,0.0,0.0,0.0,0.0,0.0,0.0,0.0,0.0,0.0,0.0,0.0,0.0,0.0,0.0,0.0,0.0,0.0,0.0,0.0,0.0,0.0,0.0,0.0,0.0,0.0,0.0,0.0,0.0,0.0,0.0,0.0,0.0,0.0,0.0,0.0,0.0,0.0,0.0,0.0,1.0,0.0,0.0,0.0,0.0,0.0,1.0,0.0,1.0,0.0,0.0,0.0,0.0,0.0,0.0,0.0,0.0,0.0,0.0,0.0,0.0,0.0,0.0,0.0,0.0,0.0,0.0,0.0,0.0,0.0,0.0,0.0,0.0,0.0,1.0,0.0,0.0,0.0,0.0,0.0,1.0,0.0,0.0,0.0,0.0,0.0,0.0,0.0,0.0,0.0,0.0,0.0,0.0,0.0,1.0,0.0,0.0,0.0,0.0,0.0,0.0,0.0,0.0,0.0,0.0,0.0,0.0,0.0,0.0,0.0,0.0,0.0,0.0,0.0,0.0,0.0,0.0,0.0,0.0,0.0,0.0,0.0,2.0,0.0,0.0,0.0,0.0,0.0,0.0,0.0,0.0,0.0,0.0,0.0,0.0,0.0,0.0,0.0,1.0,0.0,0.0,0.0,0.0,0.0,0.0,0.0,0.0,0.0,0.0,0.0,0.0,0.0,0.0,0.0,0.0,0.0,0.0,0.0,0.0,0.0,0.0,0.0,0.0,0.0,0.0,4.0,0.0,0.0,0.0,0.0,0.0,0.0,0.0,0.0,0.0,0.0,0.0,0.0,0.0,0.0,0.0,0.0,0.0,0.0,0.0,0.0,0.0,0.0,0.0,0.0,0.0,12.0,11.0,0.0,0.0,0.0,0.0,2.0,0.0,0.0,0.0,0.0,0.0,0.0,2.0,0.0,0.0,0.0,0.0,0.0,0.0,0.0,0.0,0.0,2.0,0.0,0.0,0.0,0.0,0.0,0.0,0.0,0.0,0.0,0.0,0.0,0.0,0.0,0.0,0.0,0.0,0.0,0.0,0.0,0.0,0.0,0.0,0.0,0.0,0.0,0.0,0.0,0.0,0.0,0.0,0.0,0.0,0.0,0.0,0.0,0.0,0.0,0.0,0.0,0.0,0.0,0.0,0.0,1.0,0.0,0.0,0.0,0.0,0.0,0.0,0.0,0.0,0.0,0.0,0.0,0.0,0.0,0.0,0.0,0.0,0.0,0.0,0.0,0.0,0.0,0.0,0.0,0.0,0.0,0.0,0.0,0.0,0.0,0.0,0.0,0.0,0.0,0.0,0.0,0.0,0.0,0.0,0.0,0.0,0.0,0.0,0.0,0.0,0.0,0.0,0.0,0.0,0.0,0.0,0.0,0.0,0.0,0.0,0.0,0.0,0.0,0.0,0.0,0.0,0.0,0.0,0.0,0.0,0.0,0.0,0.0,0.0,0.0,0.0,0.0,0.0,0.0,0.0,0.0,0.0,0.0,0.0,0.0,0.0,0.0,1.0,0.0,0.0,0.0,0.0,0.0,0.0,0.0,0.0,0.0,0.0,0.0,0.0,0.0,1.0,0.0,0.0,0.0,0.0,0.0,0.0,0.0,0.0,0.0,0.0,0.0,0.0,0.0,0.0,0.0,0.0,0.0,0.0,0.0,0.0,0.0,0.0,0.0,0.0,0.0,0.0,2.0,0.0,0.0,0.0,0.0,0.0,0.0,0.0,0.0,0.0,0.0,0.0,0.0,0.0,0.0,0.0,0.0,0.0,0.0,0.0,0.0,0.0,0.0,0.0,0.0,0.0,0.0,0.0,0.0,0.0,0.0,0.0,0.0,0.0,0.0,0.0,0.0,0.0,0.0,0.0,0.0,0.0,0.0,0.0,0.0,0.0,0.0,0.0,0.0,0.0,0.0,0.0,0.0,0.0,0.0,0.0,0.0,0.0,0.0,0.0,0.0,0.0,0.0,0.0,0.0,0.0,0.0,0.0,0.0,0.0,0.0,0.0,0.0,0.0,0.0,0.0,0.0,0.0,0.0,0.0,0.0,0.0,0.0,0.0,0.0,0.0,0.0,0.0,0.0,0.0,0.0,0.0,0.0,0.0,0.0,0.0,0.0,0.0,0.0,0.0,0.0,0.0,0.0,0.0,0.0,0.0,0.0,0.0,0.0,0.0,0.0,0.0,0.0,0.0,0.0,0.0,0.0,0.0,0.0,0.0,0.0,0.0,0.0,0.0,0.0,0.0,0.0,0.0,0.0,0.0,0.0,0.0,0.0,0.0,0.0,0.0,0.0,0.0,0.0,0.0,0.0,0.0,0.0,0.0,0.0,0.0,0.0,0.0,0.0,0.0,0.0,0.0,0.0,0.0,0.0,0.0,0.0,0.0,0.0,0.0,0.0,0.0,0.0,0.0,0.0,0.0,0.0,0.0,0.0,0.0,0.0,0.0,0.0,0.0,0.0,0.0,0.0,0.0,0.0,0.0,0.0,0.0,0.0,0.0,0.0,0.0,0.0,0.0,0.0,0.0,0.0,0.0,0.0,0.0,0.0,0.0,0.0,0.0,0.0,0.0,0.0,0.0,0.0,0.0,0.0,0.0,0.0,0.0,0.0,0.0,0.0,0.0,0.0,0.0,0.0,0.0,0.0,0.0,0.0,0.0,0.0,0.0,0.0,0.0,0.0,0.0,0.0,0.0,0.0,0.0,0.0,0.0,0.0,0.0,0.0,0.0,0.0,0.0,0.0,0.0,0.0,0.0,0.0,0.0,2.0,0.0,0.0,0.0,0.0,0.0,0.0,0.0,0.0,1.0,0.0,0.0,0.0,0.0,0.0,0.0,0.0,0.0,0.0,0.0,0.0,0.0,0.0,0.0,0.0,0.0,0.0,0.0,0.0,0.0,0.0,0.0,0.0,0.0,0.0,0.0,0.0,0.0,0.0,0.0,0.0,0.0,0.0,0.0,0.0,0.0,0.0,0.0,0.0,0.0,0.0,0.0,0.0,0.0,1.0,1.0,0.0,0.0,0.0,0.0,0.0,0.0,0.0,0.0,0.0,0.0,0.0,0.0,0.0,0.0,0.0,0.0,0.0,0.0,0.0,0.0,0.0,0.0,0.0,0.0,0.0,0.0,0.0,0.0,0.0,0.0,0.0,0.0,0.0,0.0,0.0,0.0,0.0,0.0,0.0,0.0,0.0,0.0,0.0,0.0,0.0,0.0,0.0,0.0,0.0,0.0,0.0,0.0,1.0,0.0,0.0,0.0,0.0,0.0,0.0,0.0,0.0,0.0,0.0,0.0,0.0,0.0,0.0,0.0,0.0,0.0,0.0,0.0,0.0,0.0,0.0,0.0,0.0,0.0,0.0,0.0,0.0,0.0,0.0,0.0,0.0,0.0,0.0,1.0,0.0,0.0,0.0,0.0,0.0,0.0,0.0,0.0,0.0,0.0,0.0,0.0,0.0,0.0,0.0,0.0,0.0,0.0,0.0,0.0,0.0,0.0,0.0,0.0,0.0,0.0,0.0,0.0,0.0,0.0,0.0,0.0,0.0,0.0,0.0,0.0,0.0,0.0,0.0,0.0,0.0,0.0,0.0,0.0,0.0,0.0,0.0,0.0,0.0,0.0,0.0,0.0,0.0,0.0,0.0,0.0,0.0,0.0,0.0,0.0,0.0,0.0,0.0,0.0,0.0,0.0,0.0,0.0,0.0,0.0,0.0,0.0,0.0,0.0,0.0,0.0,0.0,0.0,0.0,0.0,0.0,0.0,0.0,0.0,0.0,0.0,0.0,0.0,0.0,0.0,0.0,0.0,0.0,0.0,0.0,0.0,0.0,0.0,0.0,0.0,0.0,0.0,0.0,0.0,0.0,0.0,0.0,0.0,0.0,0.0,0.0,0.0,0.0,0.0,0.0,0.0,0.0,0.0,0.0,0.0,0.0,0.0,0.0,0.0,0.0,0.0,0.0,0.0,0.0,0.0,0.0,0.0,0.0,0.0,0.0,1.0,0.0,0.0,0.0,0.0,0.0,0.0,0.0,0.0,0.0,0.0,0.0,0.0,0.0,0.0,0.0,0.0,0.0,0.0,0.0,0.0,0.0,0.0,0.0,0.0,0.0,0.0,0.0,0.0,0.0,0.0,0.0,0.0,0.0,0.0,0.0,0.0,0.0,0.0,0.0,0.0,0.0,0.0,0.0,0.0,0.0,0.0,0.0,0.0,0.0,0.0,0.0,0.0,0.0,0.0,0.0,0.0,0.0,0.0,0.0,0.0,0.0,0.0,0.0,0.0,0.0,0.0,0.0,0.0,0.0,0.0,0.0,0.0,0.0,0.0,0.0,0.0,0.0,0.0,0.0,0.0,0.0,0.0,0.0,0.0,0.0,0.0,0.0,0.0,0.0,0.0,0.0,0.0,0.0,0.0,0.0,0.0,0.0,0.0,0.0,0.0,0.0,0.0,0.0,0.0,0.0,0.0,0.0,0.0,0.0,0.0,0.0,0.0,0.0,0.0,0.0,0.0,0.0,0.0,0.0,0.0,0.0,0.0,0.0,0.0,0.0,0.0,0.0,0.0,0.0,0.0,0.0,0.0,0.0,0.0,0.0,0.0,0.0,0.0,0.0,0.0,0.0,0.0,0.0,0.0,0.0,0.0,0.0,0.0,0.0,0.0,0.0,0.0,0.0,0.0,0.0,0.0,0.0,0.0,0.0,0.0,0.0,0.0,0.0,0.0,0.0,0.0,0.0,0.0,0.0,0.0,0.0,0.0,0.0,0.0,0.0,0.0,0.0,0.0,0.0,0.0,0.0,0.0,0.0,0.0,0.0,0.0,0.0,0.0,0.0,0.0,0.0,0.0,0.0,0.0,0.0,0.0,0.0,0.0,0.0,0.0,0.0,0.0,0.0,0.0,0.0,0.0,0.0,0.0,0.0,0.0,0.0,0.0,0.0,0.0,0.0,0.0,0.0,0.0,0.0,0.0,0.0,0.0,0.0,0.0,0.0,0.0,0.0,0.0,0.0,0.0,0.0,0.0,0.0,0.0,0.0,0.0,0.0,0.0,0.0,0.0,0.0,0.0,0.0,0.0,0.0,0.0,0.0,0.0,0.0,0.0,0.0,0.0,0.0,0.0,0.0,0.0,0.0,0.0,0.0,0.0,0.0,0.0,0.0,0.0,0.0,0.0,0.0,0.0,0.0,0.0,0.0,0.0,0.0,0.0,0.0,0.0,0.0,0.0,0.0,0.0,0.0,0.0,0.0,0.0,0.0,0.0,0.0,0.0,0.0,0.0,0.0,0.0,0.0,0.0,0.0,0.0,0.0,0.0,0.0,0.0,0.0,0.0,0.0,0.0,0.0,0.0,0.0,0.0,0.0,0.0,0.0,0.0,0.0,0.0,0.0,0.0,0.0,0.0,0.0,0.0,0.0,0.0,0.0,0.0,0.0,0.0,0.0,0.0,0.0,0.0,0.0,0.0,0.0,0.0,0.0,0.0,0.0,0.0,0.0,0.0,0.0,0.0,0.0,0.0,0.0,0.0,0.0,0.0,0.0,0.0,0.0,0.0,0.0,0.0,0.0,0.0,0.0,0.0,0.0,0.0,0.0,0.0,0.0,0.0,0.0,0.0,0.0,0.0,0.0,0.0,0.0,0.0,0.0,0.0,0.0,0.0,0.0,0.0,0.0,0.0,0.0,0.0,0.0,0.0,0.0,0.0,0.0,0.0,0.0,0.0,0.0,0.0,0.0,0.0,0.0,0.0,0.0,0.0,0.0,0.0,0.0,0.0,0.0,0.0,0.0,0.0,0.0,0.0,0.0,0.0,0.0,0.0,0.0,0.0,0.0,0.0,0.0,0.0,0.0,0.0,0.0,0.0,0.0,0.0,0.0,0.0,0.0,0.0,0.0,0.0,0.0,0.0,0.0,0.0,0.0,0.0,0.0,0.0,0.0,0.0,0.0,0.0,0.0,0.0,0.0,0.0,0.0,0.0,0.0,0.0,0.0,0.0,0.0,0.0,0.0,0.0,0.0,0.0,0.0,0.0,0.0,0.0,0.0,0.0,0.0,0.0,0.0,0.0,0.0,0.0,0.0,0.0,0.0,0.0,0.0,0.0,0.0,0.0,0.0,0.0,0.0,0.0,0.0,0.0,0.0,0.0,0.0,0.0,0.0,0.0,0.0,0.0,0.0,0.0,0.0,0.0,0.0,0.0,0.0,0.0,0.0,0.0,0.0,0.0,0.0,0.0,0.0,0.0,0.0,0.0,0.0,0.0,0.0,0.0,0.0,0.0,0.0,0.0,0.0,0.0,0.0,0.0,0.0,0.0,0.0,0.0,0.0,0.0,0.0,0.0,0.0,0.0,0.0,0.0,0.0,0.0,0.0,0.0,0.0,0.0,0.0,0.0,0.0,0.0,0.0,0.0,0.0,0.0,0.0,0.0,0.0,0.0,0.0,0.0,0.0,0.0,0.0,0.0,0.0,0.0,0.0,0.0,0.0,0.0,0.0,0.0,0.0,0.0,0.0,0.0,0.0,0.0,0.0,0.0,0.0,0.0,0.0,0.0,0.0,0.0,0.0,0.0,0.0,0.0,0.0,0.0,0.0,5.0,5.0,5.0,5.0,0.0,5.0,5.0,5.0,10.0,5.0,1.0,1.0,1.0,1.0,1.0,1.0,1.0,1.0,0.0,0.0,3.0,0.0,0.0,0.0,0.0,0.0,0.0,0.0,0.0,0.0,0.0,0.0,0.0,0.0,0.0,0.0,0.0,0.0,0.0,0.0,0.0,0.0,0.0,0.0,0.0,0.0,0.0,0.0,0.0,0.0,0.0,0.0,0.0,0.0,0.0,0.0,0.0,0.0,0.0,0.0,0.0,0.0,0.0,0.0,0.0,0.0,0.0,0.0,0.0,0.0,0.0,0.0,0.0,0.0,0.0,0.0,0.0,0.0,0.0,0.0,0.0,0.0,0.0,0.0,0.0,0.0,0.0,0.0,0.0,0.0,0.0,0.0,0.0,0.0,0.0,0.0,0.0,0.0,0.0,0.0,0.0,0.0,0.0,0.0,0.0,0.0,0.0,0.0,0.0,0.0,0.0,0.0,0.0,0.0,0.0,0.0,0.0,0.0,0.0,3.0,0.0,0.0,0.0,0.0,0.0,0.0,0.0,0.0,0.0,0.0,0.0,0.0,0.0,0.0,0.0,0.0,0.0,0.0,0.0,0.0,0.0,0.0,0.0,0.0,0.0,0.0,0.0,0.0,0.0,0.0,0.0,0.0,0.0,0.0,0.0,0.0,0.0,0.0,0.0,0.0,0.0,0.0,0.0,0.0,0.0,0.0,0.0,0.0,0.0,0.0,14.0,0.0,0.0,0.0,0.0,0.0,0.0,0.0,0.0,0.0,0.0,0.0,0.0,0.0,0.0,0.0,0.0,0.0,0.0,0.0,0.0,0.0,0.0,0.0,0.0,0.0,0.0,0.0,0.0,0.0,0.0,0.0,0.0,0.0,0.0,0.0,0.0,0.0,0.0,0.0,0.0,0.0,0.0,0.0,0.0,0.0,0.0,0.0,0.0,0.0,0.0,0.0,0.0,0.0,0.0,0.0,0.0,0.0,0.0,0.0,0.0,0.0,14.0,0.0,14.0,0.0,0.0,0.0,0.0,14.0,0.0,0.0,14.0,0.0,0.0,0.0,14.0,0.0,0.0,0.0,14.0,0.0,0.0,0.0,0.0,14.0,0.0,14.0,0.0,0.0,0.0,0.0,0.0,0.0,14.0,0.0,0.0,0.0,0.0,14.0,0.0,0.0,14.0,0.0,0.0,0.0,14.0,0.0,0.0,0.0,14.0,0.0,0.0,14.0,0.0,0.0,0.0,0.0,14.0,0.0,0.0,14.0,0.0,0.0,0.0,14.0,0.0,0.0,0.0,14.0,0.0,0.0,0.0,14.0,0.0,0.0,0.0,0.0,14.0,0.0,0.0,0.0,14.0,0.0,0.0,0.0,0.0,14.0,0.0,0.0,14.0,0.0,0.0,0.0,0.0,14.0,0.0,0.0,14.0,0.0,0.0,0.0,0.0,14.0,0.0,0.0,0.0,14.0,0.0,0.0,14.0,0.0,0.0,0.0,0.0,14.0,0.0,14.0,0.0,0.0,0.0,14.0,0.0,0.0,0.0,0.0,14.0,14.0,0.0,0.0,14.0,0.0,0.0,14.0,0.0,0.0,14.0,0.0,0.0,14.0,0.0,0.0,0.0,0.0,14.0,0.0,0.0,14.0,0.0,0.0,0.0,0.0,14.0,0.0,0.0,0.0,14.0,0.0,0.0,0.0,14.0,0.0,0.0,0.0,14.0,0.0,0.0,0.0,0.0,14.0,0.0,0.0,0.0,0.0,14.0,0.0,0.0,0.0,14.0,0.0,0.0,0.0,14.0,0.0,0.0,0.0,14.0,0.0,0.0,0.0,14.0,0.0,0.0,0.0,14.0,0.0,0.0,14.0,0.0,0.0,0.0,0.0,0.0,14.0,0.0,0.0,14.0,0.0,0.0,0.0,14.0,0.0,14.0,14.0,0.0,0.0,0.0,14.0,0.0,0.0,0.0,0.0,14.0,0.0,0.0,0.0,14.0,0.0,0.0,0.0,0.0,14.0,14.0,0.0,14.0,14.0,0.0,14.0,14.0,0.0,14.0,14.0,0.0,14.0,0.0,14.0,14.0,14.0,14.0,14.0,0.0,14.0,0.0,14.0,0.0,14.0,14.0,0.0,14.0,0.0,14.0,14.0,0.0,14.0,0.0,14.0,0.0,14.0,0.0,14.0,0.0,14.0,0.0,14.0,14.0,14.0,0.0,14.0,0.0,14.0,0.0,14.0,14.0,0.0,14.0,0.0,14.0,14.0,0.0,14.0,0.0,14.0,0.0,14.0,0.0,14.0,0.0,14.0,0.0,14.0,0.0,14.0,0.0,14.0,0.0,14.0,0.0,14.0,14.0,0.0,14.0,0.0,14.0,14.0,0.0,14.0,14.0,14.0,0.0,14.0,0.0,14.0,14.0,0.0,14.0,0.0,14.0,14.0,0.0,14.0,0.0,14.0,0.0,14.0,14.0,0.0,14.0,14.0,0.0,14.0,0.0,14.0,0.0,14.0,0.0,14.0,14.0,0.0,14.0,0.0,14.0,0.0,14.0,0.0,14.0,0.0,14.0,0.0,14.0,0.0,14.0,14.0,0.0,14.0,0.0,14.0,0.0,14.0,0.0,14.0,0.0,14.0,0.0,14.0,14.0,0.0,14.0,0.0,14.0,0.0,0.0,14.0,14.0,14.0,0.0,14.0,0.0,14.0,0.0,14.0,0.0,14.0,0.0,14.0,0.0,14.0,0.0,14.0,14.0,0.0,14.0,0.0,14.0,0.0,14.0,0.0,14.0,0.0,14.0,14.0,0.0,14.0,0.0,14.0,0.0,14.0,0.0,14.0,0.0,14.0,0.0,14.0,0.0,0.0,14.0,14.0,0.0,14.0,0.0,14.0,0.0,14.0,14.0,0.0,0.0,14.0,0.0,0.0,14.0,0.0,0.0,14.0,0.0,0.0,14.0,0.0,0.0,14.0,0.0,0.0,14.0,0.0,0.0,14.0,0.0,0.0,14.0,0.0,0.0,14.0,0.0,0.0,14.0,0.0,14.0,0.0,14.0,0.0,0.0,0.0,0.0,14.0,0.0,0.0,14.0,14.0,0.0,0.0,14.0,0.0,0.0,14.0,14.0,0.0,0.0,0.0,0.0,14.0,14.0,0.0,0.0,14.0,0.0,0.0,14.0,0.0,0.0,14.0,0.0,0.0,0.0,0.0,14.0,14.0,0.0,0.0,0.0,0.0,14.0,14.0,0.0,0.0,0.0,14.0,0.0,0.0,0.0,14.0,14.0,0.0,0.0,0.0,14.0,0.0,14.0,14.0,0.0,0.0,14.0,0.0,0.0,0.0,14.0,0.0,0.0,14.0,0.0,0.0,0.0,14.0,0.0,0.0,0.0,14.0,0.0,0.0,14.0,0.0,0.0,14.0,0.0,14.0,0.0,0.0,0.0,14.0,0.0,0.0,0.0,14.0,0.0,14.0,0.0,0.0,14.0,0.0,0.0,14.0,0.0,0.0,14.0,0.0,14.0,0.0,0.0,14.0,0.0,0.0,14.0,0.0,0.0,0.0,14.0,0.0,14.0,0.0,0.0,0.0,0.0,14.0,0.0,14.0,14.0,0.0,0.0,0.0,0.0,14.0,0.0,0.0,0.0,0.0,14.0,0.0,0.0,0.0,0.0,0.0,0.0,0.0,14.0,14.0,0.0,14.0,0.0,0.0,0.0,0.0,0.0,0.0,0.0,0.0,0.0,0.0,0.0,0.0,0.0,0.0,0.0,0.0,0.0,0.0,0.0,0.0,0.0,0.0,0.0,0.0,0.0,0.0,0.0,0.0,0.0,0.0,0.0,0.0,0.0,0.0,0.0,0.0,0.0,0.0,0.0,0.0,0.0,0.0,0.0,0.0,0.0,0.0,0.0,0.0,0.0,0.0,0.0,0.0,0.0,0.0,0.0,0.0,0.0,0.0,0.0,0.0,0.0,0.0,0.0,0.0,0.0,0.0,0.0,0.0,0.0,0.0,0.0,0.0,0.0,0.0,0.0,14.0,0.0,0.0,0.0,14.0,0.0,14.0,0.0,0.0,0.0,14.0,0.0,14.0,0.0,14.0,0.0,0.0,0.0,0.0,14.0,0.0,14.0,0.0,0.0,14.0,0.0,0.0,0.0,14.0,0.0,0.0,0.0,0.0,14.0,0.0,0.0,14.0,0.0,0.0,0.0,0.0,0.0,0.0,0.0,0.0,0.0,0.0,0.0,0.0,0.0,0.0,0.0,0.0,0.0,0.0,0.0,0.0,0.0,0.0,0.0,0.0,0.0,0.0,0.0,0.0,0.0,0.0,0.0,0.0,0.0,0.0,0.0,0.0,0.0,0.0,0.0,0.0,0.0,0.0,0.0,0.0,0.0,0.0,0.0,0.0,0.0,0.0,0.0,0.0,0.0,0.0,0.0,0.0,0.0,0.0,0.0,0.0,0.0,0.0,0.0,0.0,0.0,0.0,0.0,0.0,0.0,0.0,0.0,0.0,0.0,0.0,0.0,0.0,0.0,0.0,0.0,0.0,0.0,0.0,0.0,0.0,0.0,0.0,0.0,0.0,0.0,0.0,0.0,0.0,0.0,0.0,0.0,0.0,0.0,0.0,0.0,0.0,0.0,0.0,0.0,0.0,0.0,0.0,0.0,0.0,0.0,0.0,0.0,0.0,0.0,0.0,0.0,0.0,0.0,0.0,0.0,0.0,0.0,0.0,0.0,0.0,0.0,0.0,0.0,0.0,0.0,0.0,0.0,0.0,0.0,0.0,0.0,0.0,0.0,0.0,0.0,0.0,0.0,0.0,0.0,0.0,0.0,0.0,0.0,0.0,0.0,0.0,0.0,0.0,0.0,0.0,0.0,0.0,0.0,0.0,0.0,0.0,0.0',\n",
       " '19120,0.0,0.0,0.0,0.0,0.0,0.0,0.0,0.0,0.0,0.0,0.0,0.0,0.0,0.0,0.0,0.0,0.0,0.0,0.0,0.0,0.0,0.0,0.0,0.0,0.0,0.0,0.0,0.0,0.0,0.0,0.0,0.0,0.0,0.0,0.0,0.0,0.0,0.0,0.0,0.0,0.0,0.0,0.0,0.0,0.0,0.0,0.0,0.0,0.0,0.0,0.0,0.0,0.0,0.0,0.0,0.0,0.0,0.0,0.0,0.0,0.0,0.0,0.0,0.0,0.0,0.0,0.0,0.0,0.0,0.0,0.0,0.0,0.0,0.0,0.0,0.0,0.0,0.0,0.0,0.0,0.0,0.0,0.0,0.0,0.0,0.0,0.0,0.0,0.0,0.0,0.0,0.0,0.0,0.0,0.0,0.0,0.0,0.0,0.0,0.0,0.0,0.0,0.0,0.0,0.0,0.0,0.0,0.0,0.0,0.0,0.0,0.0,0.0,0.0,0.0,0.0,0.0,0.0,0.0,0.0,0.0,0.0,0.0,0.0,0.0,0.0,0.0,9.0,0.0,0.0,0.0,0.0,0.0,0.0,0.0,0.0,0.0,0.0,0.0,0.0,0.0,0.0,0.0,0.0,0.0,0.0,0.0,0.0,0.0,0.0,0.0,0.0,0.0,0.0,0.0,0.0,0.0,0.0,9.0,0.0,0.0,0.0,0.0,0.0,0.0,0.0,0.0,0.0,0.0,0.0,0.0,0.0,0.0,0.0,0.0,0.0,0.0,0.0,0.0,0.0,0.0,0.0,0.0,0.0,0.0,0.0,0.0,0.0,0.0,0.0,0.0,0.0,0.0,0.0,0.0,0.0,0.0,0.0,0.0,0.0,0.0,0.0,0.0,0.0,0.0,0.0,0.0,0.0,0.0,0.0,0.0,0.0,0.0,0.0,0.0,0.0,0.0,0.0,0.0,0.0,0.0,0.0,0.0,0.0,0.0,0.0,0.0,0.0,0.0,0.0,0.0,0.0,0.0,0.0,0.0,0.0,0.0,0.0,0.0,0.0,0.0,0.0,0.0,0.0,0.0,0.0,0.0,0.0,0.0,0.0,0.0,0.0,0.0,0.0,0.0,0.0,0.0,0.0,0.0,0.0,0.0,0.0,0.0,0.0,0.0,0.0,0.0,0.0,0.0,0.0,0.0,0.0,0.0,0.0,0.0,0.0,0.0,0.0,0.0,0.0,0.0,0.0,0.0,0.0,0.0,0.0,0.0,0.0,0.0,0.0,0.0,0.0,0.0,0.0,0.0,0.0,0.0,0.0,0.0,0.0,0.0,0.0,0.0,0.0,0.0,0.0,0.0,0.0,0.0,0.0,7.0,0.0,6.0,0.0,0.0,0.0,0.0,0.0,0.0,0.0,0.0,0.0,0.0,0.0,0.0,0.0,0.0,0.0,0.0,0.0,0.0,0.0,0.0,0.0,0.0,0.0,0.0,0.0,0.0,0.0,0.0,0.0,0.0,0.0,0.0,0.0,0.0,0.0,0.0,0.0,0.0,0.0,0.0,0.0,0.0,0.0,0.0,0.0,0.0,0.0,0.0,0.0,0.0,0.0,0.0,9.0,0.0,0.0,0.0,0.0,9.0,0.0,0.0,0.0,0.0,0.0,0.0,0.0,0.0,0.0,0.0,0.0,0.0,0.0,0.0,9.0,9.0,0.0,0.0,9.0,0.0,0.0,0.0,0.0,0.0,0.0,9.0,0.0,0.0,0.0,9.0,9.0,0.0,9.0,0.0,0.0,0.0,0.0,9.0,0.0,0.0,9.0,9.0,0.0,0.0,9.0,0.0,0.0,0.0,9.0,0.0,0.0,0.0,0.0,0.0,0.0,0.0,0.0,0.0,0.0,0.0,0.0,0.0,0.0,0.0,0.0,0.0,0.0,0.0,0.0,0.0,0.0,0.0,0.0,0.0,0.0,0.0,0.0,0.0,0.0,0.0,0.0,0.0,0.0,0.0,0.0,9.0,0.0,0.0,0.0,0.0,0.0,0.0,0.0,0.0,0.0,0.0,0.0,0.0,9.0,0.0,0.0,9.0,0.0,0.0,9.0,0.0,0.0,2.0,0.0,0.0,0.0,0.0,1.0,0.0,0.0,0.0,0.0,0.0,0.0,0.0,0.0,0.0,0.0,0.0,0.0,0.0,0.0,0.0,0.0,0.0,0.0,0.0,0.0,0.0,0.0,0.0,1.0,0.0,0.0,1.0,0.0,0.0,0.0,0.0,0.0,0.0,0.0,0.0,0.0,0.0,0.0,0.0,0.0,0.0,0.0,0.0,0.0,0.0,0.0,0.0,0.0,0.0,0.0,0.0,0.0,0.0,9.0,0.0,0.0,0.0,0.0,0.0,0.0,0.0,0.0,0.0,0.0,0.0,0.0,0.0,0.0,21.0,0.0,0.0,0.0,0.0,0.0,0.0,0.0,0.0,0.0,0.0,0.0,0.0,0.0,0.0,0.0,0.0,0.0,0.0,0.0,0.0,0.0,0.0,0.0,0.0,0.0,0.0,0.0,0.0,0.0,0.0,0.0,0.0,0.0,0.0,0.0,0.0,0.0,0.0,0.0,2.0,0.0,0.0,0.0,0.0,5.0,0.0,0.0,0.0,0.0,0.0,0.0,0.0,0.0,0.0,0.0,0.0,4.0,0.0,0.0,0.0,0.0,0.0,0.0,0.0,0.0,0.0,0.0,0.0,0.0,0.0,0.0,0.0,0.0,0.0,0.0,0.0,0.0,0.0,0.0,0.0,0.0,0.0,0.0,0.0,0.0,0.0,0.0,0.0,0.0,0.0,0.0,0.0,0.0,0.0,0.0,0.0,0.0,0.0,0.0,0.0,0.0,0.0,0.0,0.0,0.0,0.0,0.0,0.0,0.0,0.0,0.0,0.0,0.0,0.0,0.0,0.0,0.0,0.0,0.0,0.0,0.0,0.0,0.0,0.0,0.0,0.0,0.0,0.0,0.0,0.0,0.0,0.0,0.0,0.0,0.0,0.0,0.0,0.0,0.0,1.0,0.0,0.0,0.0,0.0,0.0,0.0,0.0,0.0,0.0,0.0,0.0,0.0,0.0,0.0,0.0,0.0,0.0,0.0,0.0,0.0,0.0,0.0,0.0,0.0,0.0,0.0,0.0,0.0,0.0,0.0,0.0,0.0,0.0,0.0,0.0,0.0,0.0,0.0,0.0,0.0,0.0,0.0,0.0,0.0,0.0,0.0,0.0,0.0,0.0,0.0,0.0,0.0,0.0,0.0,0.0,0.0,0.0,0.0,0.0,0.0,0.0,0.0,0.0,0.0,0.0,0.0,0.0,0.0,0.0,0.0,0.0,0.0,0.0,0.0,0.0,0.0,0.0,0.0,0.0,0.0,0.0,0.0,0.0,0.0,0.0,0.0,0.0,1.0,0.0,0.0,0.0,0.0,0.0,0.0,0.0,0.0,0.0,1.0,0.0,0.0,0.0,0.0,1.0,0.0,0.0,0.0,0.0,0.0,0.0,0.0,0.0,0.0,0.0,0.0,0.0,0.0,0.0,0.0,0.0,0.0,0.0,0.0,0.0,0.0,0.0,0.0,0.0,0.0,0.0,0.0,0.0,0.0,0.0,0.0,0.0,0.0,1.0,0.0,0.0,0.0,0.0,0.0,0.0,0.0,0.0,0.0,0.0,0.0,0.0,0.0,0.0,0.0,0.0,0.0,0.0,0.0,0.0,0.0,0.0,0.0,0.0,0.0,0.0,0.0,0.0,0.0,0.0,0.0,0.0,0.0,0.0,0.0,0.0,0.0,0.0,0.0,0.0,0.0,0.0,0.0,0.0,0.0,0.0,0.0,0.0,0.0,0.0,0.0,0.0,1.0,0.0,0.0,0.0,0.0,0.0,0.0,0.0,0.0,0.0,0.0,0.0,0.0,0.0,0.0,0.0,0.0,0.0,0.0,0.0,1.0,0.0,0.0,0.0,0.0,0.0,0.0,0.0,0.0,0.0,0.0,0.0,0.0,0.0,0.0,0.0,0.0,0.0,0.0,0.0,0.0,0.0,0.0,0.0,0.0,0.0,0.0,0.0,1.0,0.0,0.0,0.0,0.0,0.0,0.0,0.0,0.0,0.0,0.0,0.0,0.0,0.0,0.0,0.0,0.0,0.0,0.0,0.0,0.0,0.0,0.0,0.0,0.0,0.0,0.0,0.0,0.0,0.0,0.0,0.0,0.0,0.0,0.0,0.0,0.0,0.0,0.0,0.0,0.0,0.0,0.0,0.0,0.0,0.0,0.0,0.0,1.0,0.0,0.0,0.0,0.0,0.0,0.0,0.0,0.0,0.0,0.0,0.0,1.0,0.0,1.0,0.0,1.0,1.0,0.0,0.0,0.0,0.0,1.0,0.0,0.0,0.0,0.0,0.0,0.0,0.0,0.0,0.0,0.0,0.0,0.0,0.0,0.0,0.0,0.0,0.0,0.0,0.0,0.0,0.0,2.0,0.0,0.0,0.0,0.0,0.0,0.0,0.0,0.0,0.0,0.0,0.0,0.0,0.0,0.0,0.0,0.0,0.0,0.0,0.0,0.0,0.0,0.0,0.0,0.0,0.0,0.0,0.0,0.0,0.0,0.0,0.0,0.0,0.0,0.0,0.0,0.0,0.0,0.0,0.0,0.0,0.0,0.0,0.0,0.0,0.0,0.0,0.0,0.0,0.0,0.0,0.0,0.0,0.0,0.0,0.0,0.0,0.0,0.0,0.0,0.0,0.0,0.0,0.0,0.0,0.0,0.0,0.0,0.0,0.0,0.0,0.0,0.0,0.0,0.0,0.0,0.0,0.0,0.0,0.0,0.0,0.0,0.0,0.0,0.0,0.0,0.0,0.0,0.0,0.0,0.0,0.0,0.0,0.0,0.0,0.0,1.0,0.0,0.0,0.0,0.0,0.0,0.0,0.0,0.0,0.0,0.0,0.0,0.0,0.0,0.0,0.0,0.0,0.0,0.0,0.0,0.0,0.0,0.0,0.0,0.0,0.0,0.0,0.0,0.0,0.0,0.0,0.0,0.0,0.0,0.0,0.0,0.0,0.0,0.0,0.0,0.0,0.0,0.0,0.0,0.0,6.0,0.0,0.0,0.0,0.0,0.0,0.0,0.0,0.0,0.0,0.0,0.0,0.0,0.0,0.0,0.0,0.0,0.0,0.0,0.0,0.0,0.0,0.0,0.0,0.0,0.0,0.0,0.0,0.0,0.0,0.0,0.0,0.0,0.0,0.0,0.0,0.0,0.0,0.0,0.0,0.0,0.0,0.0,0.0,0.0,0.0,0.0,0.0,0.0,0.0,0.0,0.0,0.0,0.0,0.0,0.0,0.0,0.0,0.0,0.0,0.0,0.0,0.0,0.0,0.0,0.0,0.0,0.0,0.0,0.0,0.0,0.0,0.0,0.0,0.0,0.0,0.0,0.0,0.0,0.0,0.0,0.0,0.0,0.0,0.0,0.0,0.0,0.0,0.0,0.0,0.0,0.0,0.0,0.0,0.0,0.0,0.0,0.0,0.0,0.0,0.0,0.0,0.0,0.0,0.0,0.0,0.0,0.0,0.0,0.0,0.0,0.0,0.0,0.0,0.0,0.0,0.0,0.0,0.0,0.0,0.0,0.0,0.0,0.0,0.0,0.0,0.0,0.0,0.0,0.0,0.0,0.0,0.0,0.0,0.0,0.0,0.0,0.0,0.0,0.0,0.0,0.0,0.0,0.0,0.0,0.0,0.0,0.0,0.0,0.0,0.0,0.0,0.0,0.0,0.0,0.0,0.0,0.0,0.0,0.0,0.0,0.0,0.0,0.0,0.0,0.0,0.0,0.0,0.0,0.0,0.0,0.0,0.0,0.0,0.0,0.0,0.0,0.0,0.0,0.0,0.0,0.0,0.0,0.0,0.0,0.0,0.0,0.0,0.0,0.0,0.0,0.0,0.0,0.0,0.0,0.0,0.0,0.0,0.0,0.0,0.0,0.0,0.0,0.0,0.0,0.0,0.0,0.0,0.0,0.0,0.0,0.0,0.0,0.0,0.0,0.0,0.0,0.0,0.0,0.0,0.0,0.0,0.0,0.0,0.0,0.0,0.0,0.0,0.0,0.0,0.0,0.0,0.0,0.0,0.0,0.0,0.0,0.0,0.0,0.0,0.0,0.0,0.0,0.0,0.0,0.0,0.0,0.0,0.0,0.0,0.0,0.0,0.0,0.0,0.0,0.0,0.0,0.0,0.0,0.0,0.0,0.0,0.0,0.0,0.0,0.0,0.0,0.0,0.0,0.0,0.0,0.0,0.0,0.0,0.0,0.0,0.0,0.0,0.0,0.0,0.0,0.0,0.0,0.0,0.0,0.0,0.0,0.0,0.0,0.0,0.0,0.0,0.0,0.0,0.0,0.0,0.0,0.0,0.0,0.0,0.0,0.0,0.0,0.0,0.0,0.0,0.0,0.0,0.0,0.0,0.0,0.0,0.0,0.0,0.0,0.0,0.0,0.0,0.0,0.0,0.0,0.0,0.0,0.0,1.0,0.0,0.0,0.0,0.0,0.0,0.0,0.0,0.0,0.0,0.0,0.0,0.0,0.0,0.0,0.0,0.0,0.0,0.0,0.0,0.0,0.0,0.0,0.0,0.0,0.0,0.0,0.0,0.0,0.0,0.0,0.0,0.0,0.0,0.0,0.0,0.0,0.0,0.0,0.0,0.0,0.0,0.0,0.0,0.0,0.0,0.0,0.0,0.0,0.0,1.0,1.0,0.0,0.0,0.0,0.0,0.0,0.0,0.0,0.0,0.0,0.0,0.0,0.0,0.0,0.0,0.0,0.0,0.0,0.0,0.0,0.0,0.0,0.0,0.0,0.0,0.0,0.0,0.0,0.0,0.0,0.0,0.0,0.0,0.0,0.0,0.0,0.0,0.0,0.0,0.0,0.0,0.0,0.0,0.0,0.0,0.0,0.0,0.0,0.0,0.0,0.0,0.0,0.0,0.0,0.0,0.0,0.0,0.0,0.0,0.0,0.0,0.0,0.0,0.0,0.0,0.0,0.0,0.0,0.0,0.0,0.0,0.0,0.0,0.0,0.0,0.0,0.0,0.0,0.0,0.0,0.0,0.0,0.0,0.0,0.0,0.0,0.0,0.0,0.0,0.0,0.0,0.0,0.0,0.0,0.0,0.0,0.0,0.0,0.0,0.0,0.0,0.0,0.0,0.0,0.0,0.0,0.0,0.0,0.0,0.0,0.0,0.0,0.0,0.0,0.0,0.0,0.0,0.0,0.0,0.0,0.0,0.0,0.0,0.0,0.0,0.0,0.0,0.0,0.0,0.0,0.0,0.0,0.0,0.0,0.0,0.0,0.0,0.0,0.0,0.0,0.0,0.0,0.0,0.0,0.0,0.0,0.0,0.0,0.0,0.0,0.0,0.0,0.0,0.0,0.0,0.0,0.0,0.0,0.0,0.0,0.0,1.0,0.0,0.0,0.0,0.0,0.0,0.0,0.0,0.0,0.0,0.0,0.0,0.0,1.0,0.0,0.0,0.0,0.0,0.0,0.0,0.0,0.0,0.0,0.0,0.0,0.0,0.0,0.0,0.0,0.0,0.0,0.0,0.0,0.0,0.0,0.0,0.0,0.0,0.0,0.0,0.0,0.0,0.0,0.0,0.0,0.0,0.0,0.0,0.0,0.0,0.0,0.0,0.0,0.0,0.0,0.0,0.0,0.0,0.0,0.0,0.0,0.0,0.0,0.0,0.0,0.0,0.0,0.0,0.0,0.0,0.0,0.0,0.0,0.0,0.0,0.0,0.0,0.0,0.0,0.0,0.0,0.0,0.0,0.0,0.0,0.0,0.0,0.0,0.0,0.0,0.0,0.0,0.0,0.0,0.0,0.0,0.0,0.0,0.0,0.0,0.0,0.0,0.0,0.0,0.0,0.0,0.0,0.0,0.0,0.0,0.0,0.0,0.0,0.0,0.0,0.0,0.0,0.0,0.0,0.0,0.0,0.0,0.0,0.0,0.0,0.0,0.0,0.0,0.0,0.0,0.0,0.0,0.0,0.0,0.0,0.0,0.0,0.0,0.0,0.0,0.0,0.0,0.0,0.0,0.0,0.0,0.0,0.0,0.0,0.0,0.0,0.0,0.0,0.0,0.0,0.0,0.0,0.0,0.0,0.0,0.0,0.0,0.0,0.0,0.0,0.0,0.0,0.0,0.0,0.0,0.0,0.0,0.0,0.0,0.0,0.0,0.0,0.0,0.0,0.0,0.0,0.0,0.0,0.0,0.0,0.0,0.0,0.0,0.0,0.0,0.0,0.0,0.0,0.0,0.0,0.0,0.0,0.0,0.0,0.0,0.0,0.0,0.0,0.0,0.0,0.0,0.0,0.0,0.0,0.0,0.0,0.0,0.0,1.0,0.0,0.0,0.0,0.0,0.0,0.0,1.0,0.0,0.0,0.0,0.0,0.0,0.0,0.0,0.0,0.0,0.0,0.0,0.0,0.0,0.0,0.0,0.0,0.0,0.0,0.0,0.0,0.0,0.0,0.0,0.0,0.0,0.0,0.0,0.0,0.0,0.0,0.0,0.0,0.0,0.0,0.0,0.0,0.0,0.0,0.0,0.0,0.0,0.0,0.0,0.0,0.0,0.0,0.0,0.0,0.0,0.0,0.0,0.0,0.0,0.0,0.0,0.0,0.0,0.0,0.0,0.0,0.0,0.0,0.0,0.0,0.0,1.0,0.0,0.0,0.0,0.0,0.0,0.0,0.0,0.0,0.0,0.0,0.0,0.0,0.0,0.0,0.0,0.0,0.0,0.0,0.0,0.0,0.0,0.0,0.0,0.0,0.0,0.0,0.0,0.0,0.0,0.0,0.0,0.0,0.0,0.0,0.0,0.0,0.0,0.0,0.0,0.0,0.0,0.0,0.0,0.0,0.0,0.0,0.0,0.0,0.0,0.0,0.0,0.0,0.0,0.0,0.0,0.0,0.0,0.0,0.0,0.0,0.0,0.0,0.0,0.0,0.0,0.0,0.0,0.0,0.0,0.0,0.0,0.0,0.0,0.0,0.0,0.0,0.0,0.0,0.0,0.0,0.0,0.0,0.0,0.0,0.0,0.0,0.0,0.0,0.0,0.0,0.0,0.0,0.0,0.0,0.0,0.0,0.0,0.0,0.0,0.0,0.0,0.0,0.0,0.0,0.0,0.0,0.0,0.0,0.0,0.0,0.0,0.0,0.0,0.0,0.0,0.0,0.0,0.0,0.0,0.0,0.0,0.0,0.0,0.0,0.0,0.0,0.0,0.0,0.0,0.0,0.0,0.0,0.0,0.0,0.0,0.0,0.0,0.0,0.0,0.0,0.0,0.0,0.0,0.0,0.0,0.0,0.0,0.0,0.0,0.0,0.0,0.0,0.0,0.0,0.0,0.0,0.0,0.0,0.0,0.0,0.0,0.0,0.0,0.0,0.0,0.0,0.0,33.0,0.0,0.0,0.0,0.0,0.0,0.0,0.0,0.0,0.0,22.0,0.0,0.0,0.0,0.0,0.0,0.0,0.0,0.0,0.0,0.0,0.0,0.0,0.0,0.0,0.0,0.0,0.0,0.0,0.0,0.0,0.0,0.0,0.0,0.0,0.0,0.0,0.0,0.0,0.0,0.0,0.0,0.0,0.0,0.0,0.0,0.0,0.0,0.0,0.0,0.0,0.0,0.0,0.0,0.0,0.0,0.0,0.0,0.0,0.0,0.0,0.0,0.0,0.0,0.0,0.0,0.0,0.0,0.0,0.0,0.0,0.0,0.0,0.0,0.0,0.0,0.0,0.0,0.0,0.0,0.0,0.0,0.0,0.0,0.0,0.0,0.0,0.0,0.0,0.0,0.0,0.0,0.0,0.0,0.0,0.0,0.0,0.0,0.0,0.0,0.0,0.0,0.0,0.0,0.0,0.0,0.0,0.0,0.0,0.0,0.0,0.0,12.0,1.0,11.0,11.0,11.0,11.0,14.0,16.0,0.0,0.0,0.0,0.0,5.0,11.0,15.0,1.0,0.0,0.0,11.0,0.0,0.0,0.0,0.0,0.0,0.0,0.0,0.0,0.0,0.0,0.0,0.0,0.0,0.0,0.0,0.0,0.0,0.0,0.0,0.0,0.0,0.0,0.0,0.0,0.0,0.0,0.0,0.0,0.0,0.0,0.0,0.0,0.0,0.0,0.0,0.0,0.0,0.0,0.0,0.0,0.0,0.0,0.0,0.0,0.0,0.0,0.0,0.0,0.0,0.0,0.0,0.0,0.0,0.0,0.0,0.0,0.0,0.0,0.0,0.0,0.0,0.0,0.0,0.0,0.0,0.0,0.0,0.0,0.0,0.0,0.0,0.0,0.0,0.0,0.0,0.0,0.0,0.0,0.0,0.0,0.0,0.0,0.0,0.0,0.0,0.0,0.0,0.0,0.0,0.0,0.0,0.0,0.0,0.0,0.0,0.0,0.0,0.0,0.0,0.0,0.0,0.0,0.0,0.0,0.0,0.0,0.0,0.0,0.0,0.0,0.0,0.0,0.0,0.0,0.0,0.0,0.0,0.0,0.0,0.0,0.0,0.0,0.0,0.0,0.0,0.0,0.0,0.0,0.0,0.0,0.0,0.0,0.0,0.0,0.0,0.0,0.0,0.0,0.0,0.0,0.0,0.0,0.0,0.0,0.0,0.0,0.0,0.0,0.0,0.0,0.0,0.0,0.0,0.0,0.0,0.0,0.0,0.0,0.0,0.0,0.0,0.0,0.0,0.0,0.0,0.0,0.0,0.0,0.0,0.0,0.0,0.0,0.0,0.0,0.0,0.0,0.0,0.0,0.0,0.0,0.0,0.0,0.0,0.0,0.0,0.0,9.0,0.0,0.0,0.0,0.0,0.0,0.0,0.0,0.0,0.0,0.0,0.0,0.0,0.0,0.0,0.0,0.0,0.0,0.0,0.0,0.0,0.0,0.0,0.0,0.0,0.0,0.0,0.0,0.0,0.0,0.0,0.0,0.0,0.0,0.0,1.0,3.0,0.0,0.0,0.0,0.0,0.0,0.0,0.0,0.0,0.0,0.0,0.0,0.0,0.0,0.0,0.0,0.0,0.0,0.0,0.0,0.0,0.0,0.0,0.0,0.0,0.0,9.0,0.0,9.0,0.0,0.0,0.0,0.0,9.0,0.0,0.0,9.0,0.0,0.0,0.0,9.0,0.0,0.0,0.0,9.0,0.0,0.0,0.0,0.0,9.0,0.0,9.0,0.0,0.0,0.0,0.0,0.0,0.0,9.0,0.0,0.0,0.0,0.0,9.0,0.0,0.0,9.0,0.0,0.0,0.0,9.0,0.0,0.0,0.0,9.0,0.0,0.0,9.0,0.0,0.0,0.0,0.0,9.0,0.0,0.0,9.0,0.0,9.0,0.0,0.0,0.0,0.0,0.0,9.0,0.0,0.0,0.0,9.0,0.0,0.0,0.0,0.0,9.0,0.0,0.0,0.0,9.0,0.0,0.0,0.0,0.0,9.0,0.0,0.0,9.0,0.0,0.0,0.0,0.0,9.0,9.0,0.0,0.0,0.0,0.0,0.0,0.0,9.0,0.0,0.0,0.0,9.0,0.0,0.0,9.0,0.0,0.0,0.0,0.0,9.0,0.0,9.0,0.0,0.0,0.0,9.0,0.0,0.0,0.0,0.0,9.0,9.0,0.0,0.0,9.0,0.0,0.0,9.0,0.0,9.0,0.0,9.0,0.0,0.0,0.0,0.0,0.0,0.0,9.0,0.0,0.0,9.0,0.0,0.0,0.0,0.0,9.0,0.0,0.0,0.0,9.0,0.0,0.0,0.0,9.0,0.0,0.0,0.0,9.0,0.0,0.0,0.0,0.0,9.0,0.0,9.0,0.0,0.0,0.0,0.0,0.0,0.0,9.0,0.0,0.0,0.0,9.0,0.0,0.0,0.0,9.0,0.0,0.0,0.0,9.0,0.0,0.0,0.0,9.0,0.0,0.0,9.0,0.0,0.0,0.0,0.0,9.0,0.0,0.0,0.0,9.0,0.0,9.0,0.0,0.0,0.0,9.0,0.0,9.0,0.0,0.0,9.0,0.0,9.0,0.0,0.0,0.0,0.0,0.0,0.0,9.0,0.0,0.0,0.0,0.0,9.0,9.0,0.0,9.0,9.0,0.0,9.0,9.0,0.0,9.0,9.0,0.0,9.0,0.0,9.0,9.0,9.0,9.0,9.0,0.0,9.0,0.0,9.0,0.0,9.0,9.0,0.0,9.0,0.0,9.0,9.0,0.0,9.0,0.0,9.0,0.0,9.0,0.0,9.0,0.0,9.0,0.0,9.0,9.0,9.0,0.0,9.0,0.0,9.0,0.0,9.0,9.0,0.0,9.0,0.0,9.0,9.0,0.0,9.0,0.0,9.0,0.0,9.0,0.0,9.0,0.0,9.0,0.0,9.0,0.0,9.0,0.0,9.0,0.0,9.0,0.0,9.0,9.0,0.0,9.0,0.0,9.0,9.0,0.0,9.0,9.0,9.0,0.0,9.0,0.0,9.0,9.0,0.0,9.0,0.0,9.0,9.0,0.0,9.0,0.0,9.0,0.0,9.0,9.0,0.0,9.0,9.0,0.0,9.0,0.0,9.0,0.0,9.0,0.0,9.0,9.0,0.0,9.0,0.0,9.0,0.0,9.0,0.0,9.0,0.0,9.0,0.0,9.0,0.0,9.0,9.0,0.0,9.0,0.0,9.0,0.0,9.0,0.0,9.0,0.0,9.0,0.0,9.0,9.0,0.0,9.0,0.0,9.0,0.0,9.0,0.0,9.0,9.0,0.0,9.0,0.0,9.0,0.0,9.0,0.0,9.0,0.0,9.0,0.0,9.0,0.0,9.0,9.0,0.0,9.0,0.0,9.0,0.0,9.0,0.0,9.0,0.0,9.0,9.0,0.0,9.0,0.0,9.0,0.0,9.0,0.0,9.0,0.0,9.0,0.0,9.0,0.0,9.0,0.0,9.0,0.0,9.0,0.0,9.0,0.0,9.0,9.0,0.0,0.0,9.0,0.0,0.0,9.0,0.0,0.0,9.0,0.0,0.0,9.0,0.0,0.0,0.0,0.0,9.0,0.0,0.0,9.0,9.0,0.0,0.0,9.0,0.0,0.0,9.0,0.0,0.0,9.0,0.0,9.0,0.0,0.0,0.0,9.0,0.0,0.0,9.0,0.0,0.0,9.0,9.0,0.0,0.0,0.0,0.0,9.0,9.0,0.0,0.0,9.0,0.0,0.0,9.0,9.0,0.0,0.0,9.0,0.0,0.0,9.0,0.0,0.0,9.0,0.0,0.0,0.0,0.0,9.0,9.0,0.0,0.0,0.0,0.0,9.0,9.0,0.0,0.0,0.0,9.0,0.0,0.0,0.0,9.0,0.0,9.0,0.0,9.0,0.0,9.0,0.0,9.0,0.0,0.0,9.0,0.0,0.0,0.0,9.0,0.0,0.0,9.0,0.0,0.0,0.0,9.0,0.0,0.0,0.0,9.0,0.0,0.0,9.0,0.0,0.0,9.0,0.0,9.0,0.0,0.0,0.0,9.0,0.0,0.0,9.0,0.0,0.0,9.0,0.0,0.0,9.0,0.0,0.0,0.0,9.0,0.0,9.0,0.0,9.0,0.0,0.0,9.0,0.0,0.0,9.0,0.0,0.0,0.0,9.0,0.0,9.0,0.0,0.0,0.0,0.0,9.0,0.0,9.0,9.0,0.0,0.0,0.0,0.0,9.0,0.0,0.0,9.0,0.0,0.0,0.0,0.0,0.0,0.0,0.0,0.0,0.0,9.0,9.0,0.0,0.0,0.0,9.0,0.0,0.0,0.0,0.0,0.0,0.0,0.0,0.0,0.0,0.0,0.0,0.0,0.0,0.0,0.0,0.0,0.0,0.0,0.0,0.0,0.0,0.0,0.0,0.0,0.0,0.0,0.0,0.0,0.0,0.0,0.0,0.0,0.0,0.0,0.0,0.0,0.0,0.0,0.0,0.0,0.0,0.0,0.0,0.0,0.0,0.0,0.0,0.0,0.0,0.0,0.0,0.0,0.0,0.0,0.0,0.0,0.0,0.0,0.0,0.0,0.0,0.0,0.0,0.0,0.0,0.0,0.0,0.0,0.0,0.0,0.0,0.0,0.0,9.0,0.0,0.0,0.0,9.0,0.0,9.0,0.0,0.0,0.0,9.0,0.0,9.0,0.0,9.0,0.0,0.0,0.0,0.0,9.0,0.0,0.0,0.0,9.0,9.0,0.0,0.0,0.0,9.0,0.0,0.0,0.0,0.0,9.0,0.0,0.0,9.0,0.0,0.0,0.0,0.0,0.0,0.0,0.0,0.0,0.0,0.0,0.0,0.0,0.0,0.0,0.0,0.0,0.0,0.0,0.0,0.0,0.0,0.0,0.0,0.0,0.0,0.0,0.0,0.0,0.0,0.0,0.0,0.0,0.0,0.0,0.0,0.0,0.0,0.0,0.0,0.0,0.0,0.0,0.0,0.0,0.0,0.0,0.0,0.0,0.0,0.0,0.0,0.0,0.0,0.0,0.0,0.0,0.0,0.0,0.0,0.0,0.0,0.0,0.0,0.0,0.0,0.0,0.0,0.0,0.0,0.0,0.0,0.0,0.0,0.0,0.0,0.0,0.0,0.0,0.0,0.0,0.0,0.0,0.0,0.0,0.0,0.0,0.0,0.0,0.0,0.0,0.0,0.0,0.0,0.0,0.0,0.0,0.0,0.0,0.0,0.0,0.0,0.0,0.0,0.0,0.0,0.0,0.0,0.0,0.0,0.0,0.0,0.0,0.0,0.0,0.0,0.0,0.0,0.0,0.0,0.0,0.0,0.0,0.0,0.0,0.0,0.0,0.0,0.0,0.0,0.0,0.0,0.0,0.0,0.0,0.0,0.0,0.0,0.0,0.0,0.0,0.0,0.0,0.0,0.0,0.0,0.0,0.0,0.0,0.0,0.0,0.0,0.0,0.0,0.0,0.0,0.0,0.0,0.0,0.0,0.0,0.0',\n",
       " '37547,0.0,0.0,0.0,0.0,0.0,0.0,0.0,0.0,0.0,0.0,0.0,0.0,0.0,0.0,0.0,0.0,0.0,0.0,0.0,0.0,0.0,0.0,0.0,0.0,0.0,0.0,0.0,0.0,0.0,0.0,0.0,0.0,0.0,0.0,0.0,0.0,0.0,0.0,0.0,0.0,0.0,0.0,0.0,0.0,0.0,0.0,0.0,0.0,0.0,0.0,0.0,0.0,0.0,0.0,0.0,0.0,0.0,0.0,0.0,0.0,0.0,0.0,0.0,0.0,0.0,0.0,0.0,0.0,0.0,0.0,0.0,0.0,0.0,0.0,0.0,0.0,0.0,0.0,0.0,0.0,0.0,0.0,0.0,0.0,0.0,0.0,0.0,0.0,0.0,0.0,0.0,0.0,0.0,0.0,0.0,0.0,0.0,0.0,0.0,0.0,0.0,0.0,0.0,0.0,0.0,0.0,0.0,0.0,0.0,0.0,0.0,0.0,0.0,0.0,0.0,0.0,0.0,0.0,0.0,0.0,0.0,0.0,0.0,0.0,0.0,0.0,0.0,2.0,0.0,0.0,0.0,0.0,0.0,0.0,0.0,0.0,0.0,0.0,0.0,0.0,0.0,0.0,0.0,0.0,0.0,0.0,0.0,0.0,0.0,0.0,0.0,0.0,0.0,0.0,0.0,0.0,0.0,0.0,2.0,0.0,0.0,0.0,0.0,0.0,0.0,0.0,0.0,0.0,0.0,0.0,0.0,0.0,0.0,0.0,0.0,0.0,0.0,0.0,0.0,0.0,0.0,0.0,0.0,0.0,0.0,0.0,0.0,0.0,0.0,0.0,0.0,0.0,0.0,0.0,0.0,0.0,0.0,0.0,0.0,0.0,0.0,0.0,0.0,0.0,0.0,0.0,0.0,0.0,0.0,0.0,0.0,0.0,0.0,0.0,0.0,0.0,0.0,0.0,0.0,0.0,0.0,0.0,0.0,0.0,0.0,0.0,0.0,0.0,0.0,0.0,0.0,0.0,0.0,0.0,0.0,0.0,0.0,0.0,0.0,0.0,0.0,0.0,0.0,0.0,0.0,0.0,0.0,0.0,0.0,0.0,0.0,0.0,0.0,0.0,0.0,0.0,0.0,0.0,0.0,0.0,0.0,0.0,0.0,0.0,0.0,0.0,0.0,0.0,0.0,0.0,0.0,0.0,0.0,0.0,0.0,0.0,0.0,0.0,0.0,0.0,0.0,0.0,0.0,0.0,0.0,0.0,0.0,0.0,0.0,0.0,0.0,0.0,0.0,0.0,0.0,0.0,0.0,0.0,0.0,0.0,0.0,0.0,0.0,0.0,0.0,0.0,0.0,0.0,0.0,0.0,0.0,0.0,0.0,0.0,0.0,0.0,0.0,0.0,0.0,0.0,0.0,0.0,0.0,0.0,0.0,0.0,0.0,0.0,0.0,0.0,0.0,0.0,0.0,0.0,0.0,0.0,0.0,0.0,0.0,0.0,0.0,0.0,0.0,0.0,0.0,0.0,0.0,0.0,0.0,0.0,0.0,3.0,3.0,0.0,0.0,0.0,0.0,0.0,0.0,0.0,0.0,0.0,0.0,0.0,0.0,2.0,0.0,0.0,0.0,0.0,2.0,0.0,0.0,0.0,0.0,0.0,0.0,0.0,0.0,0.0,0.0,0.0,0.0,0.0,0.0,2.0,0.0,2.0,0.0,2.0,0.0,0.0,0.0,0.0,2.0,0.0,0.0,0.0,2.0,0.0,0.0,2.0,2.0,0.0,0.0,0.0,0.0,0.0,2.0,0.0,0.0,2.0,2.0,0.0,0.0,2.0,0.0,0.0,0.0,2.0,0.0,0.0,0.0,0.0,0.0,0.0,0.0,0.0,0.0,0.0,0.0,0.0,0.0,0.0,0.0,0.0,0.0,0.0,0.0,0.0,0.0,0.0,0.0,0.0,0.0,0.0,0.0,0.0,0.0,0.0,0.0,0.0,0.0,0.0,0.0,0.0,2.0,0.0,0.0,0.0,0.0,0.0,0.0,0.0,0.0,0.0,0.0,0.0,0.0,2.0,0.0,0.0,2.0,0.0,2.0,0.0,0.0,0.0,0.0,0.0,0.0,0.0,0.0,0.0,0.0,0.0,0.0,0.0,0.0,0.0,0.0,0.0,0.0,0.0,0.0,0.0,0.0,0.0,0.0,0.0,0.0,0.0,0.0,0.0,0.0,0.0,0.0,0.0,0.0,0.0,0.0,0.0,0.0,0.0,0.0,0.0,0.0,0.0,0.0,0.0,0.0,0.0,0.0,0.0,0.0,0.0,0.0,0.0,0.0,0.0,0.0,0.0,0.0,1.0,0.0,0.0,0.0,0.0,0.0,0.0,0.0,0.0,0.0,0.0,0.0,0.0,0.0,0.0,0.0,0.0,0.0,0.0,0.0,0.0,0.0,0.0,0.0,0.0,0.0,0.0,0.0,0.0,0.0,0.0,0.0,0.0,0.0,0.0,0.0,0.0,0.0,0.0,0.0,0.0,0.0,0.0,0.0,0.0,0.0,0.0,0.0,0.0,0.0,0.0,0.0,0.0,0.0,0.0,0.0,0.0,0.0,0.0,0.0,0.0,0.0,0.0,0.0,0.0,0.0,0.0,0.0,0.0,0.0,0.0,0.0,0.0,0.0,0.0,0.0,0.0,0.0,0.0,0.0,0.0,0.0,0.0,0.0,0.0,0.0,0.0,0.0,2.0,0.0,0.0,0.0,0.0,0.0,0.0,0.0,0.0,0.0,0.0,0.0,0.0,1.0,0.0,0.0,0.0,0.0,0.0,0.0,0.0,0.0,0.0,0.0,0.0,0.0,0.0,0.0,0.0,0.0,0.0,0.0,0.0,0.0,0.0,0.0,0.0,0.0,0.0,0.0,0.0,0.0,0.0,0.0,0.0,0.0,0.0,0.0,0.0,0.0,0.0,0.0,0.0,0.0,0.0,0.0,0.0,0.0,0.0,0.0,0.0,0.0,0.0,0.0,0.0,0.0,0.0,0.0,0.0,0.0,0.0,0.0,0.0,0.0,0.0,0.0,0.0,0.0,0.0,0.0,0.0,0.0,0.0,0.0,0.0,0.0,0.0,0.0,0.0,0.0,0.0,0.0,0.0,0.0,0.0,0.0,0.0,0.0,0.0,0.0,0.0,0.0,0.0,0.0,0.0,0.0,0.0,0.0,0.0,0.0,0.0,0.0,0.0,0.0,0.0,0.0,0.0,0.0,0.0,0.0,0.0,0.0,0.0,0.0,0.0,0.0,0.0,0.0,0.0,0.0,0.0,0.0,0.0,0.0,0.0,0.0,0.0,0.0,0.0,0.0,0.0,0.0,0.0,0.0,0.0,0.0,0.0,0.0,0.0,0.0,0.0,0.0,0.0,0.0,0.0,0.0,0.0,0.0,0.0,0.0,0.0,0.0,0.0,0.0,0.0,0.0,0.0,0.0,0.0,0.0,0.0,0.0,0.0,0.0,0.0,0.0,0.0,0.0,0.0,0.0,0.0,0.0,0.0,0.0,0.0,0.0,0.0,0.0,0.0,0.0,0.0,0.0,0.0,0.0,0.0,0.0,0.0,0.0,0.0,0.0,0.0,0.0,0.0,0.0,0.0,0.0,0.0,0.0,0.0,0.0,0.0,0.0,0.0,0.0,0.0,0.0,0.0,0.0,0.0,0.0,0.0,0.0,0.0,0.0,0.0,0.0,0.0,0.0,0.0,0.0,0.0,0.0,0.0,0.0,0.0,0.0,0.0,0.0,0.0,0.0,0.0,0.0,0.0,0.0,0.0,0.0,0.0,0.0,0.0,0.0,0.0,0.0,0.0,0.0,0.0,0.0,0.0,0.0,0.0,0.0,0.0,2.0,0.0,0.0,0.0,0.0,0.0,0.0,0.0,0.0,0.0,0.0,0.0,0.0,0.0,0.0,0.0,0.0,0.0,0.0,0.0,0.0,0.0,0.0,0.0,0.0,0.0,0.0,0.0,0.0,0.0,0.0,0.0,0.0,0.0,0.0,0.0,0.0,0.0,0.0,0.0,0.0,0.0,0.0,0.0,0.0,0.0,0.0,0.0,0.0,4.0,0.0,0.0,0.0,0.0,0.0,0.0,0.0,0.0,0.0,0.0,0.0,0.0,0.0,0.0,0.0,0.0,0.0,0.0,0.0,0.0,0.0,0.0,0.0,0.0,0.0,0.0,0.0,0.0,0.0,0.0,0.0,0.0,0.0,0.0,0.0,0.0,0.0,0.0,0.0,0.0,0.0,0.0,0.0,0.0,0.0,0.0,0.0,0.0,0.0,0.0,0.0,0.0,0.0,0.0,0.0,0.0,0.0,0.0,0.0,0.0,0.0,0.0,0.0,0.0,0.0,0.0,0.0,0.0,0.0,0.0,0.0,0.0,0.0,0.0,0.0,0.0,0.0,0.0,0.0,0.0,0.0,0.0,0.0,0.0,0.0,0.0,0.0,0.0,0.0,0.0,0.0,0.0,0.0,0.0,0.0,0.0,0.0,0.0,0.0,0.0,0.0,0.0,0.0,0.0,0.0,0.0,0.0,0.0,0.0,0.0,0.0,0.0,0.0,0.0,0.0,0.0,0.0,0.0,0.0,0.0,0.0,0.0,0.0,0.0,0.0,0.0,0.0,0.0,0.0,0.0,0.0,0.0,0.0,0.0,0.0,0.0,0.0,0.0,0.0,0.0,0.0,0.0,0.0,0.0,0.0,0.0,0.0,1.0,0.0,0.0,0.0,0.0,0.0,0.0,0.0,0.0,0.0,0.0,0.0,0.0,0.0,0.0,0.0,0.0,0.0,0.0,0.0,0.0,0.0,0.0,0.0,0.0,0.0,0.0,0.0,0.0,0.0,0.0,0.0,0.0,0.0,0.0,0.0,0.0,0.0,0.0,0.0,0.0,0.0,0.0,0.0,0.0,0.0,0.0,0.0,0.0,0.0,0.0,0.0,0.0,0.0,0.0,0.0,0.0,0.0,0.0,0.0,0.0,0.0,0.0,0.0,0.0,0.0,0.0,0.0,0.0,0.0,0.0,0.0,0.0,0.0,0.0,0.0,0.0,0.0,0.0,0.0,0.0,0.0,0.0,0.0,0.0,0.0,0.0,0.0,0.0,0.0,0.0,0.0,0.0,0.0,0.0,0.0,0.0,0.0,0.0,0.0,0.0,0.0,0.0,0.0,0.0,0.0,0.0,0.0,0.0,0.0,0.0,0.0,0.0,0.0,0.0,0.0,0.0,0.0,0.0,0.0,0.0,0.0,0.0,0.0,0.0,0.0,0.0,0.0,0.0,0.0,0.0,0.0,0.0,0.0,0.0,0.0,0.0,0.0,0.0,0.0,0.0,0.0,0.0,0.0,0.0,0.0,0.0,0.0,0.0,0.0,0.0,0.0,0.0,0.0,0.0,0.0,0.0,0.0,0.0,0.0,0.0,0.0,0.0,0.0,0.0,0.0,0.0,0.0,0.0,0.0,0.0,0.0,0.0,0.0,0.0,0.0,0.0,0.0,0.0,0.0,0.0,0.0,0.0,0.0,0.0,0.0,0.0,0.0,0.0,0.0,0.0,0.0,0.0,0.0,0.0,0.0,0.0,0.0,0.0,0.0,0.0,0.0,0.0,0.0,0.0,0.0,0.0,0.0,0.0,0.0,0.0,0.0,0.0,0.0,0.0,0.0,0.0,0.0,0.0,0.0,0.0,0.0,0.0,0.0,0.0,0.0,0.0,0.0,0.0,0.0,0.0,0.0,0.0,0.0,0.0,0.0,0.0,0.0,0.0,0.0,0.0,0.0,0.0,0.0,0.0,0.0,0.0,0.0,0.0,0.0,0.0,0.0,0.0,0.0,0.0,0.0,0.0,0.0,0.0,0.0,0.0,0.0,0.0,0.0,0.0,0.0,0.0,0.0,0.0,0.0,0.0,0.0,0.0,0.0,0.0,0.0,0.0,0.0,0.0,0.0,0.0,0.0,0.0,0.0,0.0,0.0,0.0,0.0,0.0,0.0,0.0,0.0,0.0,0.0,0.0,0.0,0.0,0.0,0.0,0.0,0.0,0.0,0.0,0.0,0.0,0.0,0.0,0.0,0.0,0.0,0.0,0.0,0.0,0.0,0.0,0.0,0.0,0.0,0.0,0.0,0.0,0.0,0.0,0.0,0.0,0.0,0.0,0.0,0.0,0.0,0.0,0.0,0.0,0.0,0.0,0.0,0.0,0.0,0.0,0.0,0.0,0.0,0.0,0.0,0.0,0.0,0.0,0.0,0.0,0.0,0.0,0.0,0.0,0.0,0.0,0.0,0.0,0.0,0.0,0.0,0.0,0.0,0.0,0.0,0.0,0.0,0.0,0.0,0.0,0.0,0.0,0.0,0.0,0.0,0.0,0.0,0.0,0.0,0.0,0.0,0.0,0.0,0.0,0.0,0.0,0.0,0.0,0.0,0.0,0.0,0.0,0.0,0.0,0.0,0.0,0.0,0.0,0.0,0.0,0.0,0.0,0.0,0.0,0.0,0.0,0.0,0.0,0.0,0.0,0.0,0.0,0.0,0.0,0.0,0.0,0.0,0.0,0.0,0.0,0.0,0.0,0.0,0.0,0.0,0.0,0.0,0.0,0.0,0.0,0.0,0.0,0.0,0.0,0.0,0.0,0.0,0.0,0.0,0.0,0.0,0.0,0.0,0.0,0.0,0.0,0.0,0.0,0.0,0.0,0.0,0.0,1.0,0.0,0.0,0.0,0.0,0.0,0.0,0.0,0.0,0.0,0.0,0.0,0.0,0.0,0.0,0.0,0.0,0.0,0.0,0.0,0.0,0.0,0.0,0.0,0.0,0.0,0.0,0.0,0.0,0.0,0.0,0.0,0.0,0.0,0.0,0.0,0.0,0.0,0.0,0.0,0.0,0.0,0.0,0.0,0.0,0.0,0.0,0.0,0.0,0.0,0.0,0.0,0.0,0.0,0.0,0.0,0.0,0.0,0.0,0.0,0.0,0.0,0.0,0.0,0.0,0.0,0.0,0.0,0.0,0.0,0.0,0.0,0.0,0.0,0.0,0.0,0.0,0.0,0.0,0.0,0.0,0.0,0.0,0.0,0.0,0.0,0.0,0.0,0.0,0.0,0.0,0.0,0.0,0.0,0.0,0.0,0.0,0.0,0.0,0.0,0.0,0.0,0.0,0.0,0.0,0.0,0.0,0.0,0.0,0.0,0.0,0.0,0.0,0.0,0.0,0.0,0.0,0.0,0.0,0.0,0.0,0.0,0.0,0.0,0.0,0.0,0.0,0.0,0.0,0.0,0.0,0.0,0.0,0.0,0.0,0.0,0.0,0.0,0.0,0.0,0.0,0.0,0.0,0.0,0.0,0.0,0.0,0.0,0.0,0.0,0.0,0.0,0.0,0.0,0.0,0.0,0.0,0.0,0.0,0.0,0.0,0.0,0.0,0.0,0.0,0.0,0.0,0.0,0.0,0.0,0.0,0.0,0.0,0.0,0.0,0.0,0.0,0.0,0.0,0.0,0.0,0.0,0.0,0.0,0.0,0.0,0.0,0.0,0.0,0.0,0.0,0.0,0.0,0.0,0.0,0.0,0.0,0.0,0.0,0.0,0.0,0.0,0.0,0.0,0.0,0.0,0.0,0.0,0.0,0.0,0.0,0.0,0.0,0.0,0.0,0.0,0.0,0.0,0.0,0.0,0.0,0.0,0.0,0.0,0.0,0.0,0.0,0.0,0.0,0.0,0.0,0.0,0.0,0.0,0.0,0.0,0.0,0.0,0.0,0.0,0.0,0.0,0.0,0.0,0.0,0.0,0.0,0.0,0.0,0.0,0.0,0.0,0.0,0.0,0.0,0.0,0.0,0.0,0.0,0.0,0.0,0.0,0.0,0.0,0.0,0.0,0.0,0.0,0.0,0.0,0.0,0.0,0.0,0.0,0.0,0.0,0.0,0.0,0.0,0.0,0.0,0.0,0.0,0.0,0.0,0.0,0.0,0.0,1.0,0.0,0.0,0.0,0.0,0.0,0.0,0.0,0.0,0.0,0.0,0.0,0.0,0.0,0.0,0.0,0.0,0.0,0.0,0.0,0.0,0.0,0.0,0.0,0.0,0.0,0.0,0.0,0.0,0.0,0.0,0.0,0.0,0.0,0.0,0.0,0.0,0.0,0.0,0.0,0.0,0.0,0.0,0.0,0.0,0.0,0.0,0.0,0.0,0.0,0.0,0.0,0.0,0.0,0.0,0.0,0.0,0.0,0.0,0.0,0.0,0.0,0.0,0.0,0.0,0.0,0.0,0.0,0.0,0.0,0.0,0.0,0.0,0.0,0.0,0.0,0.0,0.0,0.0,0.0,0.0,0.0,0.0,0.0,0.0,0.0,0.0,0.0,0.0,0.0,0.0,0.0,0.0,0.0,0.0,0.0,0.0,0.0,0.0,0.0,0.0,0.0,0.0,0.0,0.0,0.0,0.0,0.0,0.0,0.0,0.0,0.0,0.0,0.0,0.0,0.0,0.0,0.0,0.0,0.0,0.0,0.0,0.0,0.0,0.0,0.0,0.0,0.0,0.0,0.0,0.0,0.0,0.0,0.0,0.0,0.0,0.0,0.0,0.0,0.0,0.0,0.0,0.0,0.0,0.0,0.0,0.0,0.0,0.0,0.0,0.0,0.0,0.0,0.0,0.0,0.0,0.0,0.0,0.0,0.0,0.0,0.0,0.0,0.0,0.0,0.0,0.0,0.0,0.0,0.0,0.0,0.0,0.0,0.0,0.0,0.0,0.0,0.0,0.0,0.0,0.0,0.0,0.0,0.0,0.0,0.0,0.0,0.0,0.0,0.0,0.0,0.0,0.0,0.0,0.0,0.0,0.0,0.0,0.0,0.0,0.0,0.0,0.0,0.0,0.0,0.0,0.0,0.0,0.0,0.0,0.0,0.0,0.0,0.0,0.0,0.0,0.0,0.0,0.0,0.0,0.0,0.0,0.0,0.0,0.0,0.0,0.0,0.0,0.0,0.0,0.0,0.0,0.0,0.0,0.0,0.0,0.0,0.0,0.0,0.0,0.0,0.0,0.0,0.0,0.0,0.0,0.0,0.0,0.0,0.0,0.0,0.0,0.0,0.0,0.0,0.0,0.0,0.0,0.0,0.0,0.0,0.0,0.0,0.0,0.0,0.0,0.0,0.0,0.0,0.0,0.0,0.0,0.0,0.0,0.0,0.0,0.0,0.0,0.0,0.0,0.0,0.0,0.0,0.0,0.0,0.0,0.0,0.0,0.0,0.0,0.0,0.0,0.0,0.0,0.0,0.0,0.0,0.0,0.0,0.0,0.0,0.0,0.0,0.0,0.0,0.0,0.0,0.0,0.0,0.0,0.0,0.0,0.0,0.0,0.0,0.0,0.0,0.0,0.0,0.0,0.0,0.0,0.0,0.0,0.0,0.0,0.0,0.0,0.0,0.0,0.0,0.0,0.0,0.0,0.0,0.0,0.0,0.0,0.0,0.0,0.0,0.0,0.0,0.0,0.0,0.0,0.0,0.0,0.0,0.0,0.0,0.0,0.0,0.0,0.0,0.0,0.0,0.0,0.0,0.0,0.0,0.0,0.0,0.0,0.0,0.0,0.0,0.0,0.0,0.0,0.0,0.0,0.0,0.0,0.0,0.0,0.0,0.0,0.0,0.0,0.0,0.0,0.0,0.0,0.0,0.0,0.0,0.0,0.0,0.0,0.0,0.0,0.0,0.0,0.0,0.0,0.0,0.0,0.0,0.0,0.0,0.0,0.0,0.0,0.0,0.0,0.0,0.0,0.0,0.0,0.0,0.0,0.0,0.0,0.0,0.0,0.0,0.0,0.0,0.0,0.0,0.0,0.0,0.0,0.0,0.0,0.0,0.0,0.0,0.0,0.0,0.0,0.0,0.0,0.0,0.0,0.0,0.0,0.0,0.0,0.0,0.0,0.0,0.0,0.0,0.0,0.0,0.0,0.0,0.0,0.0,0.0,0.0,0.0,0.0,0.0,0.0,0.0,0.0,0.0,0.0,0.0,0.0,0.0,0.0,0.0,0.0,0.0,0.0,0.0,0.0,0.0,0.0,0.0,0.0,0.0,0.0,0.0,0.0,0.0,0.0,0.0,0.0,0.0,0.0,0.0,0.0,0.0,0.0,0.0,0.0,0.0,0.0,0.0,0.0,0.0,0.0,0.0,0.0,0.0,0.0,0.0,0.0,0.0,0.0,0.0,0.0,0.0,0.0,0.0,0.0,0.0,0.0,0.0,0.0,0.0,0.0,0.0,0.0,0.0,0.0,0.0,0.0,0.0,0.0,0.0,0.0,0.0,0.0,0.0,0.0,0.0,0.0,0.0,0.0,0.0,0.0,0.0,0.0,0.0,0.0,0.0,0.0,0.0,0.0,0.0,0.0,0.0,0.0,0.0,0.0,0.0,0.0,0.0,0.0,0.0,0.0,0.0,0.0,0.0,0.0,0.0,0.0,0.0,0.0,0.0,0.0,0.0,0.0,0.0,0.0,0.0,0.0,0.0,0.0,0.0,0.0,0.0,0.0,0.0,0.0,0.0,0.0,0.0,0.0,0.0,0.0,0.0,0.0,0.0,0.0,0.0,0.0,0.0,0.0,0.0,0.0,0.0,0.0,0.0,0.0,0.0,0.0,0.0,0.0,0.0,0.0,0.0,0.0,0.0,0.0,0.0,0.0,0.0,0.0,0.0,0.0,0.0,0.0,0.0,0.0,0.0,0.0,0.0,0.0,0.0,0.0,0.0,0.0,0.0,0.0,0.0,0.0,0.0,0.0,0.0,0.0,0.0,0.0,0.0,0.0,0.0,0.0,0.0,0.0,0.0,0.0,0.0,0.0,0.0,0.0,0.0,2.0,0.0,0.0,0.0,0.0,0.0,0.0,0.0,0.0,0.0,0.0,0.0,0.0,0.0,0.0,0.0,0.0,0.0,0.0,0.0,0.0,0.0,0.0,0.0,0.0,0.0,0.0,0.0,0.0,0.0,0.0,0.0,0.0,0.0,0.0,0.0,0.0,0.0,0.0,0.0,0.0,0.0,0.0,0.0,0.0,0.0,0.0,0.0,0.0,0.0,0.0,0.0,0.0,0.0,0.0,0.0,0.0,0.0,0.0,0.0,0.0,0.0,2.0,0.0,2.0,0.0,0.0,0.0,0.0,2.0,0.0,0.0,2.0,0.0,0.0,0.0,2.0,0.0,0.0,0.0,2.0,0.0,0.0,0.0,0.0,2.0,0.0,2.0,0.0,0.0,0.0,0.0,2.0,0.0,0.0,0.0,0.0,0.0,0.0,2.0,0.0,0.0,2.0,0.0,0.0,0.0,2.0,0.0,0.0,0.0,2.0,0.0,0.0,2.0,0.0,0.0,0.0,0.0,2.0,0.0,0.0,2.0,0.0,0.0,0.0,2.0,0.0,0.0,0.0,2.0,0.0,0.0,0.0,2.0,0.0,0.0,0.0,0.0,0.0,2.0,0.0,0.0,2.0,0.0,0.0,0.0,0.0,2.0,0.0,0.0,2.0,2.0,0.0,0.0,0.0,0.0,2.0,0.0,0.0,0.0,0.0,0.0,0.0,2.0,0.0,0.0,0.0,2.0,0.0,0.0,2.0,0.0,0.0,0.0,0.0,2.0,0.0,2.0,0.0,0.0,2.0,0.0,0.0,0.0,0.0,0.0,2.0,2.0,0.0,0.0,2.0,0.0,0.0,2.0,0.0,0.0,2.0,2.0,0.0,0.0,0.0,0.0,0.0,0.0,2.0,0.0,0.0,2.0,0.0,0.0,0.0,0.0,2.0,0.0,0.0,0.0,2.0,0.0,0.0,0.0,2.0,0.0,0.0,0.0,2.0,0.0,0.0,0.0,0.0,2.0,0.0,2.0,0.0,0.0,0.0,0.0,0.0,0.0,0.0,2.0,0.0,0.0,2.0,0.0,0.0,0.0,2.0,0.0,0.0,0.0,2.0,0.0,0.0,0.0,2.0,0.0,0.0,2.0,0.0,0.0,0.0,0.0,0.0,2.0,0.0,0.0,2.0,0.0,0.0,0.0,2.0,0.0,2.0,0.0,2.0,0.0,0.0,2.0,0.0,0.0,0.0,2.0,0.0,0.0,0.0,0.0,2.0,0.0,0.0,0.0,0.0,2.0,2.0,0.0,2.0,2.0,0.0,2.0,2.0,0.0,2.0,2.0,0.0,2.0,0.0,2.0,2.0,2.0,2.0,2.0,0.0,2.0,0.0,2.0,0.0,2.0,2.0,0.0,2.0,0.0,2.0,2.0,0.0,2.0,0.0,2.0,0.0,2.0,0.0,2.0,0.0,2.0,0.0,2.0,2.0,2.0,0.0,2.0,0.0,2.0,0.0,2.0,2.0,0.0,2.0,0.0,2.0,2.0,0.0,2.0,0.0,2.0,0.0,2.0,0.0,2.0,0.0,2.0,0.0,2.0,0.0,2.0,0.0,2.0,0.0,2.0,0.0,2.0,2.0,0.0,2.0,0.0,2.0,2.0,0.0,2.0,2.0,2.0,0.0,2.0,0.0,2.0,2.0,0.0,2.0,0.0,2.0,2.0,0.0,2.0,0.0,2.0,0.0,2.0,2.0,0.0,2.0,2.0,0.0,2.0,0.0,2.0,0.0,2.0,0.0,2.0,2.0,0.0,2.0,0.0,2.0,0.0,2.0,0.0,2.0,0.0,2.0,0.0,2.0,0.0,2.0,2.0,0.0,2.0,0.0,2.0,0.0,2.0,0.0,2.0,0.0,2.0,0.0,2.0,2.0,0.0,2.0,0.0,2.0,0.0,2.0,0.0,2.0,2.0,0.0,2.0,0.0,2.0,0.0,2.0,0.0,2.0,0.0,2.0,0.0,2.0,0.0,2.0,2.0,0.0,2.0,0.0,2.0,0.0,2.0,0.0,2.0,0.0,2.0,2.0,0.0,2.0,0.0,2.0,0.0,2.0,0.0,2.0,0.0,2.0,0.0,2.0,0.0,2.0,0.0,2.0,0.0,2.0,0.0,2.0,0.0,2.0,2.0,0.0,0.0,2.0,0.0,0.0,2.0,0.0,0.0,2.0,0.0,0.0,2.0,0.0,0.0,2.0,0.0,0.0,2.0,0.0,0.0,2.0,0.0,0.0,2.0,0.0,0.0,2.0,0.0,0.0,2.0,0.0,2.0,0.0,0.0,0.0,2.0,0.0,0.0,2.0,0.0,0.0,2.0,2.0,0.0,0.0,2.0,0.0,0.0,2.0,0.0,0.0,2.0,0.0,0.0,2.0,0.0,0.0,2.0,2.0,0.0,0.0,2.0,0.0,0.0,2.0,0.0,0.0,0.0,0.0,2.0,2.0,0.0,0.0,0.0,0.0,2.0,2.0,0.0,0.0,0.0,2.0,0.0,0.0,0.0,2.0,0.0,2.0,0.0,2.0,0.0,0.0,2.0,0.0,0.0,2.0,2.0,0.0,0.0,0.0,2.0,0.0,0.0,2.0,0.0,0.0,0.0,2.0,0.0,0.0,2.0,0.0,0.0,0.0,2.0,0.0,0.0,2.0,0.0,2.0,0.0,0.0,0.0,2.0,0.0,0.0,2.0,0.0,0.0,2.0,0.0,0.0,2.0,0.0,0.0,0.0,2.0,2.0,0.0,0.0,2.0,0.0,0.0,2.0,0.0,0.0,2.0,0.0,0.0,0.0,2.0,0.0,2.0,0.0,0.0,0.0,0.0,2.0,0.0,2.0,2.0,0.0,0.0,0.0,0.0,2.0,0.0,0.0,2.0,0.0,0.0,0.0,0.0,0.0,0.0,0.0,0.0,2.0,0.0,2.0,0.0,0.0,0.0,2.0,0.0,0.0,0.0,0.0,0.0,0.0,0.0,0.0,0.0,0.0,0.0,0.0,0.0,0.0,0.0,0.0,0.0,0.0,0.0,0.0,0.0,0.0,0.0,0.0,0.0,0.0,0.0,0.0,0.0,0.0,0.0,0.0,0.0,0.0,0.0,0.0,0.0,0.0,0.0,0.0,0.0,0.0,0.0,0.0,0.0,0.0,0.0,0.0,0.0,0.0,0.0,0.0,0.0,0.0,0.0,0.0,0.0,0.0,0.0,0.0,0.0,0.0,0.0,0.0,0.0,0.0,0.0,0.0,0.0,0.0,0.0,0.0,0.0,2.0,0.0,0.0,0.0,2.0,0.0,2.0,0.0,0.0,0.0,2.0,0.0,2.0,0.0,2.0,0.0,0.0,0.0,0.0,2.0,0.0,2.0,0.0,0.0,2.0,0.0,0.0,0.0,2.0,0.0,0.0,0.0,0.0,2.0,0.0,0.0,2.0,0.0,0.0,0.0,0.0,0.0,0.0,0.0,0.0,0.0,0.0,0.0,0.0,0.0,0.0,0.0,0.0,0.0,0.0,0.0,0.0,0.0,0.0,0.0,0.0,0.0,0.0,0.0,0.0,0.0,0.0,0.0,0.0,0.0,0.0,0.0,0.0,0.0,0.0,0.0,0.0,0.0,0.0,0.0,0.0,0.0,0.0,0.0,0.0,0.0,0.0,0.0,0.0,0.0,0.0,0.0,0.0,0.0,0.0,0.0,0.0,0.0,0.0,0.0,0.0,0.0,0.0,0.0,0.0,0.0,0.0,0.0,0.0,0.0,0.0,0.0,0.0,0.0,0.0,0.0,0.0,0.0,0.0,0.0,0.0,0.0,0.0,0.0,0.0,0.0,0.0,0.0,0.0,0.0,0.0,0.0,0.0,0.0,0.0,0.0,0.0,0.0,0.0,0.0,0.0,0.0,0.0,0.0,0.0,0.0,0.0,0.0,0.0,0.0,0.0,0.0,0.0,0.0,0.0,0.0,0.0,0.0,0.0,0.0,0.0,0.0,0.0,0.0,0.0,0.0,0.0,0.0,0.0,0.0,0.0,0.0,0.0,0.0,0.0,0.0,0.0,0.0,0.0,0.0,0.0,0.0,0.0,0.0,0.0,0.0,0.0,0.0,0.0,0.0,0.0,0.0,0.0,0.0,0.0,0.0,0.0,0.0']"
      ]
     },
     "execution_count": 16,
     "metadata": {},
     "output_type": "execute_result"
    }
   ],
   "source": [
    "rdd_hdfs.take(5)"
   ]
  },
  {
   "cell_type": "markdown",
   "id": "12e84f6a",
   "metadata": {},
   "source": [
    "## 7.9) retransformer la prédiction qui est en chiffre en une prédiction en catégorie (homme/femme)"
   ]
  },
  {
   "cell_type": "code",
   "execution_count": 73,
   "id": "d68e61d4",
   "metadata": {},
   "outputs": [],
   "source": [
    "from pyspark.ml.feature import IndexToString"
   ]
  },
  {
   "cell_type": "code",
   "execution_count": 76,
   "id": "2a4ee35e",
   "metadata": {},
   "outputs": [],
   "source": [
    "label_converter = IndexToString()"
   ]
  },
  {
   "cell_type": "code",
   "execution_count": 80,
   "id": "0b6bf4be",
   "metadata": {},
   "outputs": [],
   "source": [
    "label_converter = label_converter.setInputCol(\"prediction\")\n",
    "label_converter = label_converter.setOutputCol(\"predicted_label\")\n",
    "label_converter = label_converter.setLabels(string_indexer_modele.labels)"
   ]
  },
  {
   "cell_type": "markdown",
   "id": "611528ff",
   "metadata": {},
   "source": [
    "## 7.9) création d'un pipeline"
   ]
  },
  {
   "cell_type": "code",
   "execution_count": 47,
   "id": "10df8f53",
   "metadata": {},
   "outputs": [],
   "source": [
    "from pyspark.ml import Pipeline"
   ]
  },
  {
   "cell_type": "code",
   "execution_count": 48,
   "id": "70d85b69",
   "metadata": {},
   "outputs": [],
   "source": [
    "pipeline = Pipeline()"
   ]
  },
  {
   "cell_type": "code",
   "execution_count": 83,
   "id": "42acd699",
   "metadata": {},
   "outputs": [],
   "source": [
    "stages = [string_indexer_modele  , # one hot encoding\n",
    "          vector_assembler       , # une colonne avec toutes les colonnes de features\n",
    "          modele_decision_tree   , # prediction via le modèle déjà entraîné\n",
    "          label_converter        ] # conversion de la prédiction en label"
   ]
  },
  {
   "cell_type": "code",
   "execution_count": 85,
   "id": "f238eed0",
   "metadata": {},
   "outputs": [],
   "source": [
    "pipeline = pipeline.setStages(stages)"
   ]
  },
  {
   "cell_type": "code",
   "execution_count": 86,
   "id": "630577e4",
   "metadata": {},
   "outputs": [],
   "source": [
    "pipeline_modele = pipeline.fit(jeu_d_apprentissage)"
   ]
  },
  {
   "cell_type": "code",
   "execution_count": 88,
   "id": "6782e9d9",
   "metadata": {},
   "outputs": [],
   "source": [
    "predictions = pipeline_modele.transform(jeu_de_test.drop(\"features\"))"
   ]
  },
  {
   "cell_type": "code",
   "execution_count": 91,
   "id": "36611189",
   "metadata": {},
   "outputs": [
    {
     "name": "stdout",
     "output_type": "stream",
     "text": [
      "+----------+---------------+\n",
      "|prediction|predicted_label|\n",
      "+----------+---------------+\n",
      "|       0.0|          femme|\n",
      "|       0.0|          femme|\n",
      "|       1.0|          homme|\n",
      "|       0.0|          femme|\n",
      "|       0.0|          femme|\n",
      "+----------+---------------+\n",
      "only showing top 5 rows\n",
      "\n"
     ]
    }
   ],
   "source": [
    "predictions.select(\"prediction\", \"predicted_label\").show(5)"
   ]
  },
  {
   "cell_type": "markdown",
   "id": "a8a0f092",
   "metadata": {},
   "source": [
    "### Le pipeline effectue à la suite les tâches de (1) one-hot encoding, (2) d'assemblage des features dans un vecteur, (3) de prédiction et de (4) conversion des prédictions en label via une seule fonction \"transform\" : 4 étapes en un seul appel de fonction !  "
   ]
  },
  {
   "cell_type": "markdown",
   "id": "527a5d9b",
   "metadata": {},
   "source": [
    "### 7.9.1) sauvegarde du pipeline pour envoi dans un système de production"
   ]
  },
  {
   "cell_type": "code",
   "execution_count": 92,
   "id": "b92abdcf",
   "metadata": {},
   "outputs": [
    {
     "name": "stderr",
     "output_type": "stream",
     "text": [
      "                                                                                \r"
     ]
    }
   ],
   "source": [
    "pipeline_modele.save(\"pipeline_prediction\") "
   ]
  },
  {
   "cell_type": "markdown",
   "id": "32e86032",
   "metadata": {},
   "source": [
    "# ------------------------ ANNEXES -------------------------"
   ]
  },
  {
   "cell_type": "markdown",
   "id": "61d83741",
   "metadata": {},
   "source": [
    "# Dans jupyter il est possible de faire des appels systèmes avec le point d'exclamation"
   ]
  },
  {
   "cell_type": "markdown",
   "id": "77d7af1d",
   "metadata": {},
   "source": [
    "# Find your ip => ip a "
   ]
  },
  {
   "cell_type": "code",
   "execution_count": 45,
   "id": "4a4a65c3",
   "metadata": {},
   "outputs": [
    {
     "name": "stdout",
     "output_type": "stream",
     "text": [
      "1: lo: <LOOPBACK,UP,LOWER_UP> mtu 65536 qdisc noqueue state UNKNOWN group default qlen 1000\r\n",
      "    link/loopback 00:00:00:00:00:00 brd 00:00:00:00:00:00\r\n",
      "    inet 127.0.0.1/8 scope host lo\r\n",
      "       valid_lft forever preferred_lft forever\r\n",
      "    inet6 ::1/128 scope host \r\n",
      "       valid_lft forever preferred_lft forever\r\n",
      "2: eth0: <BROADCAST,MULTICAST,UP,LOWER_UP> mtu 1500 qdisc mq state UP group default qlen 1000\r\n",
      "    link/ether 00:0d:3a:22:ec:95 brd ff:ff:ff:ff:ff:ff\r\n",
      "    inet 10.0.0.4/20 brd 10.0.15.255 scope global eth0\r\n",
      "       valid_lft forever preferred_lft forever\r\n",
      "    inet6 fe80::20d:3aff:fe22:ec95/64 scope link \r\n",
      "       valid_lft forever preferred_lft forever\r\n"
     ]
    }
   ],
   "source": [
    "!ip a"
   ]
  },
  {
   "cell_type": "markdown",
   "id": "c5e1f36d",
   "metadata": {},
   "source": [
    "# Télécharger un fichier"
   ]
  },
  {
   "cell_type": "code",
   "execution_count": 14,
   "id": "a598ad25",
   "metadata": {},
   "outputs": [
    {
     "name": "stdout",
     "output_type": "stream",
     "text": [
      "  % Total    % Received % Xferd  Average Speed   Time    Time     Time  Current\n",
      "                                 Dload  Upload   Total   Spent    Left  Speed\n",
      "100 48.1M  100 48.1M    0     0  21.2M      0  0:00:02  0:00:02 --:--:-- 21.2M\n"
     ]
    }
   ],
   "source": [
    "!curl -O https://raw.githubusercontent.com/romainjouin/2021_esilv_spark/master/cycliste_debug.csv"
   ]
  },
  {
   "cell_type": "code",
   "execution_count": 17,
   "id": "cbc310fd",
   "metadata": {},
   "outputs": [
    {
     "name": "stdout",
     "output_type": "stream",
     "text": [
      "  % Total    % Received % Xferd  Average Speed   Time    Time     Time  Current\n",
      "                                 Dload  Upload   Total   Spent    Left  Speed\n",
      "100 13.1M  100 13.1M    0     0  17.9M      0 --:--:-- --:--:-- --:--:-- 17.9M\n"
     ]
    }
   ],
   "source": [
    "!curl -O https://raw.githubusercontent.com/romainjouin/2021_esilv_spark/master/base_x.csv.zip"
   ]
  },
  {
   "cell_type": "code",
   "execution_count": 18,
   "id": "0cdfb5e3",
   "metadata": {},
   "outputs": [
    {
     "name": "stdout",
     "output_type": "stream",
     "text": [
      "total 62788\r\n",
      "-rw-rw-r-- 1 student student 13791612 Dec 18 09:01 base_x.csv.zip\r\n",
      "-rw-rw-r-- 1 student student     8822 Dec 18 08:59 Untitled.ipynb\r\n",
      "-rw-rw-r-- 1 student student 50484560 Dec 18 08:57 cycliste_debug.csv\r\n"
     ]
    }
   ],
   "source": [
    "!ls -tl"
   ]
  },
  {
   "cell_type": "markdown",
   "id": "6872ef98",
   "metadata": {},
   "source": [
    "# installation de unzip => sudo apt install unzip"
   ]
  },
  {
   "cell_type": "code",
   "execution_count": 21,
   "id": "136e3847",
   "metadata": {},
   "outputs": [
    {
     "name": "stdout",
     "output_type": "stream",
     "text": [
      "  % Total    % Received % Xferd  Average Speed   Time    Time     Time  Current\n",
      "                                 Dload  Upload   Total   Spent    Left  Speed\n",
      "100 1657k  100 1657k    0     0  5928k      0 --:--:-- --:--:-- --:--:-- 5940k\n"
     ]
    }
   ],
   "source": [
    "!curl -O https://raw.githubusercontent.com/romainjouin/2021_esilv_spark/master/base_y.csv"
   ]
  },
  {
   "cell_type": "code",
   "execution_count": 22,
   "id": "0d365cb6",
   "metadata": {},
   "outputs": [
    {
     "name": "stdout",
     "output_type": "stream",
     "text": [
      "Untitled.ipynb\tbase_x.csv\tbase_y.csv\r\n",
      "__MACOSX\tbase_x.csv.zip\tcycliste_debug.csv\r\n"
     ]
    }
   ],
   "source": [
    "!ls"
   ]
  },
  {
   "cell_type": "code",
   "execution_count": null,
   "id": "81ad38ae",
   "metadata": {},
   "outputs": [],
   "source": []
  }
 ],
 "metadata": {
  "kernelspec": {
   "display_name": "Python 3 (ipykernel)",
   "language": "python",
   "name": "python3"
  },
  "language_info": {
   "codemirror_mode": {
    "name": "ipython",
    "version": 3
   },
   "file_extension": ".py",
   "mimetype": "text/x-python",
   "name": "python",
   "nbconvert_exporter": "python",
   "pygments_lexer": "ipython3",
   "version": "3.9.7"
  }
 },
 "nbformat": 4,
 "nbformat_minor": 5
}
