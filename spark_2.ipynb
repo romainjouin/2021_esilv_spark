{
 "cells": [
  {
   "cell_type": "markdown",
   "id": "fa97a12e",
   "metadata": {},
   "source": [
    "# -1) install la librairie \"findSpark\""
   ]
  },
  {
   "cell_type": "code",
   "execution_count": 1,
   "id": "2f423051",
   "metadata": {},
   "outputs": [
    {
     "name": "stdout",
     "output_type": "stream",
     "text": [
      "Requirement already satisfied: findspark in /Users/romainjouin/opt/anaconda3/lib/python3.8/site-packages (1.4.2)\r\n"
     ]
    }
   ],
   "source": [
    "!pip install findspark"
   ]
  },
  {
   "cell_type": "markdown",
   "id": "9531de63",
   "metadata": {},
   "source": [
    "# 0) configure 'findspark'"
   ]
  },
  {
   "cell_type": "code",
   "execution_count": 62,
   "id": "4f48d2f2",
   "metadata": {},
   "outputs": [],
   "source": [
    "import findspark"
   ]
  },
  {
   "cell_type": "code",
   "execution_count": 63,
   "id": "ee894a1f",
   "metadata": {},
   "outputs": [],
   "source": [
    "spark_home = \"/Users/romainjouin/Downloads/spark-3.1.2-bin-hadoop3.2\"\n",
    "findspark.init(spark_home=spark_home, )"
   ]
  },
  {
   "cell_type": "markdown",
   "id": "1fb05c50",
   "metadata": {},
   "source": [
    "# 1) configure spark"
   ]
  },
  {
   "cell_type": "code",
   "execution_count": 64,
   "id": "e54ecccd",
   "metadata": {},
   "outputs": [],
   "source": [
    "from pyspark         import SparkConf\n",
    "from pyspark.context import SparkContext\n",
    "from pyspark.sql     import SparkSession"
   ]
  },
  {
   "cell_type": "markdown",
   "id": "3d692370",
   "metadata": {},
   "source": [
    "## 1.1) création d'une configuration"
   ]
  },
  {
   "cell_type": "code",
   "execution_count": 65,
   "id": "86f52440",
   "metadata": {},
   "outputs": [],
   "source": [
    "master_url = \"spark://romainjouin-macbookpro1.roam.corp.google.com:7077\"\n",
    "nb_cpu     = 4\n",
    "App_name   = \"Nom de l'application\" "
   ]
  },
  {
   "cell_type": "markdown",
   "id": "7bcdc116",
   "metadata": {},
   "source": [
    "[Propriétés de Spark](https://spark.apache.org/docs/latest/configuration.html#available-properties)"
   ]
  },
  {
   "cell_type": "code",
   "execution_count": 66,
   "id": "c5648111",
   "metadata": {},
   "outputs": [],
   "source": [
    "conf = SparkConf()\n",
    "conf = conf.setMaster(master_url)\n",
    "conf = conf.set(\"spark.cores.max\", nb_cpu)\n",
    "conf = conf.setAppName(App_name)\n"
   ]
  },
  {
   "cell_type": "markdown",
   "id": "1ba8faee",
   "metadata": {},
   "source": [
    "## 1.2) creation d'un spark context"
   ]
  },
  {
   "cell_type": "code",
   "execution_count": 67,
   "id": "7c92dc26",
   "metadata": {},
   "outputs": [],
   "source": [
    "try    : sc.stop()\n",
    "except : pass"
   ]
  },
  {
   "cell_type": "code",
   "execution_count": 68,
   "id": "f9bf11fa",
   "metadata": {},
   "outputs": [],
   "source": [
    "sc = SparkContext(conf=conf)"
   ]
  },
  {
   "cell_type": "code",
   "execution_count": 69,
   "id": "f92fd065",
   "metadata": {},
   "outputs": [
    {
     "data": {
      "text/html": [
       "\n",
       "        <div>\n",
       "            <p><b>SparkContext</b></p>\n",
       "\n",
       "            <p><a href=\"http://192.168.0.21:4040\">Spark UI</a></p>\n",
       "\n",
       "            <dl>\n",
       "              <dt>Version</dt>\n",
       "                <dd><code>v3.1.2</code></dd>\n",
       "              <dt>Master</dt>\n",
       "                <dd><code>spark://romainjouin-macbookpro1.roam.corp.google.com:7077</code></dd>\n",
       "              <dt>AppName</dt>\n",
       "                <dd><code>Nom de l'application</code></dd>\n",
       "            </dl>\n",
       "        </div>\n",
       "        "
      ],
      "text/plain": [
       "<SparkContext master=spark://romainjouin-macbookpro1.roam.corp.google.com:7077 appName=Nom de l'application>"
      ]
     },
     "execution_count": 69,
     "metadata": {},
     "output_type": "execute_result"
    }
   ],
   "source": [
    "sc"
   ]
  },
  {
   "cell_type": "markdown",
   "id": "355e94f0",
   "metadata": {},
   "source": [
    "# 2) lecture d'un fichier parquet file (slide 212)"
   ]
  },
  {
   "cell_type": "code",
   "execution_count": 56,
   "id": "a6088fb2",
   "metadata": {},
   "outputs": [],
   "source": [
    "\n",
    "path_to_parquet_file = \"./../Downloads/spark-3.1.2-bin-hadoop3.2/examples/src/main/resources/users.parquet\""
   ]
  },
  {
   "cell_type": "code",
   "execution_count": 57,
   "id": "1042e597",
   "metadata": {},
   "outputs": [],
   "source": [
    "from pyspark import SQLContext"
   ]
  },
  {
   "cell_type": "code",
   "execution_count": 58,
   "id": "571ec3f1",
   "metadata": {},
   "outputs": [],
   "source": [
    "sqlContext = SQLContext(sc)"
   ]
  },
  {
   "cell_type": "code",
   "execution_count": 59,
   "id": "5aff8046",
   "metadata": {},
   "outputs": [],
   "source": [
    "df = sqlContext.read.load(path_to_parquet_file)"
   ]
  },
  {
   "cell_type": "code",
   "execution_count": 60,
   "id": "67b4c42b",
   "metadata": {},
   "outputs": [],
   "source": [
    "sqlContext.registerDataFrameAsTable(df, \"XY\")"
   ]
  },
  {
   "cell_type": "code",
   "execution_count": 61,
   "id": "4ec0b2d3",
   "metadata": {},
   "outputs": [
    {
     "data": {
      "text/plain": [
       "[Row(count(1)=2)]"
      ]
     },
     "execution_count": 61,
     "metadata": {},
     "output_type": "execute_result"
    }
   ],
   "source": [
    "sql        = \"Select count(*)  FROM XY\"\n",
    "sql_result = sqlContext.sql(sql)\n",
    "sql_result.collect()\n"
   ]
  },
  {
   "cell_type": "code",
   "execution_count": 18,
   "id": "44b65586",
   "metadata": {},
   "outputs": [],
   "source": [
    "\n",
    "path_to_parquet_file = \"./../Downloads/spark-3.1.2-bin-hadoop3.2/examples/src/main/resources/people.csv\""
   ]
  },
  {
   "cell_type": "code",
   "execution_count": 22,
   "id": "b448fec5",
   "metadata": {},
   "outputs": [
    {
     "name": "stdout",
     "output_type": "stream",
     "text": [
      "name;age;job\n",
      "Jorge;30;Developer\n",
      "Bob;32;Developer\n"
     ]
    }
   ],
   "source": [
    "with open(path_to_parquet_file) as f:\n",
    "    for i in range(100):\n",
    "        print(f.readline(), end=\"\")"
   ]
  },
  {
   "cell_type": "code",
   "execution_count": 38,
   "id": "221dd5af",
   "metadata": {},
   "outputs": [],
   "source": [
    "reader = sqlcontext.read"
   ]
  },
  {
   "cell_type": "code",
   "execution_count": 40,
   "id": "4b098819",
   "metadata": {},
   "outputs": [],
   "source": [
    "reader = reader.option(\"delimiter\", \";\")"
   ]
  },
  {
   "cell_type": "code",
   "execution_count": 42,
   "id": "ee381d53",
   "metadata": {},
   "outputs": [
    {
     "data": {
      "text/plain": [
       "[Row(nom='name', age=None, job='job'),\n",
       " Row(nom='Jorge', age=30.0, job='Developer'),\n",
       " Row(nom='Bob', age=32.0, job='Developer')]"
      ]
     },
     "execution_count": 42,
     "metadata": {},
     "output_type": "execute_result"
    }
   ],
   "source": [
    "df = reader.load(path_to_parquet_file, format=\"csv\", schema=\"nom STRING,age FLOAT,job STRING\", )\n",
    "df.head(5)"
   ]
  },
  {
   "cell_type": "code",
   "execution_count": null,
   "id": "7bb01d0b",
   "metadata": {},
   "outputs": [],
   "source": []
  }
 ],
 "metadata": {
  "kernelspec": {
   "display_name": "Python 3",
   "language": "python",
   "name": "python3"
  },
  "language_info": {
   "codemirror_mode": {
    "name": "ipython",
    "version": 3
   },
   "file_extension": ".py",
   "mimetype": "text/x-python",
   "name": "python",
   "nbconvert_exporter": "python",
   "pygments_lexer": "ipython3",
   "version": "3.8.8"
  }
 },
 "nbformat": 4,
 "nbformat_minor": 5
}
