{
 "cells": [
  {
   "cell_type": "markdown",
   "id": "fa97a12e",
   "metadata": {},
   "source": [
    "# -1) install la librairie \"findSpark\""
   ]
  },
  {
   "cell_type": "code",
   "execution_count": 1,
   "id": "2f423051",
   "metadata": {},
   "outputs": [
    {
     "name": "stdout",
     "output_type": "stream",
     "text": [
      "Requirement already satisfied: findspark in /Users/romainjouin/opt/anaconda3/lib/python3.8/site-packages (1.4.2)\r\n"
     ]
    }
   ],
   "source": [
    "!pip install findspark"
   ]
  },
  {
   "cell_type": "markdown",
   "id": "9531de63",
   "metadata": {},
   "source": [
    "# 0) configure 'findspark'"
   ]
  },
  {
   "cell_type": "code",
   "execution_count": 1,
   "id": "4f48d2f2",
   "metadata": {},
   "outputs": [],
   "source": [
    "import findspark"
   ]
  },
  {
   "cell_type": "code",
   "execution_count": 2,
   "id": "ee894a1f",
   "metadata": {},
   "outputs": [],
   "source": [
    "spark_home = \"/Users/romainjouin/Downloads/spark-3.1.2-bin-hadoop3.2\"\n",
    "findspark.init(spark_home=spark_home, )"
   ]
  },
  {
   "cell_type": "markdown",
   "id": "1fb05c50",
   "metadata": {},
   "source": [
    "# 1) configure spark"
   ]
  },
  {
   "cell_type": "code",
   "execution_count": 3,
   "id": "e54ecccd",
   "metadata": {},
   "outputs": [],
   "source": [
    "from pyspark         import SparkConf\n",
    "from pyspark.context import SparkContext\n",
    "from pyspark.sql     import SparkSession"
   ]
  },
  {
   "cell_type": "markdown",
   "id": "3d692370",
   "metadata": {},
   "source": [
    "## 1.1) création d'une configuration"
   ]
  },
  {
   "cell_type": "code",
   "execution_count": 4,
   "id": "86f52440",
   "metadata": {},
   "outputs": [],
   "source": [
    "master_url = \"spark://romainjouin-macbookpro1.roam.corp.google.com:7077\"\n",
    "nb_cpu     = 4\n",
    "App_name   = \"Nom de l'application\" "
   ]
  },
  {
   "cell_type": "markdown",
   "id": "7bcdc116",
   "metadata": {},
   "source": [
    "[Propriétés de Spark](https://spark.apache.org/docs/latest/configuration.html#available-properties)"
   ]
  },
  {
   "cell_type": "code",
   "execution_count": 5,
   "id": "c5648111",
   "metadata": {},
   "outputs": [],
   "source": [
    "conf = SparkConf()\n",
    "conf = conf.setMaster(master_url)\n",
    "conf = conf.set(\"spark.cores.max\", nb_cpu)\n",
    "conf = conf.setAppName(App_name)\n"
   ]
  },
  {
   "cell_type": "markdown",
   "id": "1ba8faee",
   "metadata": {},
   "source": [
    "## 1.2) creation d'un spark context"
   ]
  },
  {
   "cell_type": "code",
   "execution_count": 6,
   "id": "7c92dc26",
   "metadata": {},
   "outputs": [],
   "source": [
    "try    : sc.stop()\n",
    "except : pass"
   ]
  },
  {
   "cell_type": "code",
   "execution_count": 7,
   "id": "f9bf11fa",
   "metadata": {},
   "outputs": [],
   "source": [
    "sc = SparkContext(conf=conf)"
   ]
  },
  {
   "cell_type": "code",
   "execution_count": 8,
   "id": "f92fd065",
   "metadata": {},
   "outputs": [
    {
     "data": {
      "text/html": [
       "\n",
       "        <div>\n",
       "            <p><b>SparkContext</b></p>\n",
       "\n",
       "            <p><a href=\"http://192.168.0.21:4040\">Spark UI</a></p>\n",
       "\n",
       "            <dl>\n",
       "              <dt>Version</dt>\n",
       "                <dd><code>v3.1.2</code></dd>\n",
       "              <dt>Master</dt>\n",
       "                <dd><code>spark://romainjouin-macbookpro1.roam.corp.google.com:7077</code></dd>\n",
       "              <dt>AppName</dt>\n",
       "                <dd><code>Nom de l'application</code></dd>\n",
       "            </dl>\n",
       "        </div>\n",
       "        "
      ],
      "text/plain": [
       "<SparkContext master=spark://romainjouin-macbookpro1.roam.corp.google.com:7077 appName=Nom de l'application>"
      ]
     },
     "execution_count": 8,
     "metadata": {},
     "output_type": "execute_result"
    }
   ],
   "source": [
    "sc"
   ]
  },
  {
   "cell_type": "markdown",
   "id": "355e94f0",
   "metadata": {},
   "source": [
    "# 2) lecture d'un fichier parquet file (slide 212)"
   ]
  },
  {
   "cell_type": "code",
   "execution_count": 9,
   "id": "a6088fb2",
   "metadata": {},
   "outputs": [],
   "source": [
    "spark_dir            = \"./../../Downloads/spark-3.1.2-bin-hadoop3.2\"\n",
    "path_to_parquet_file = f\"{spark_dir}/examples/src/main/resources/users.parquet\"\n",
    "path_to_readme       = f\"{spark_dir}/README.md\""
   ]
  },
  {
   "cell_type": "markdown",
   "id": "89248bdd",
   "metadata": {},
   "source": [
    "# Coder une requête sql en map reduce\n",
    "SELECT   mot, count(mot)  \n",
    "FROM     fichier  \n",
    "WHERE    len(mot)>3  \n",
    "GROUP BY mot  \n",
    "LIMIT    10"
   ]
  },
  {
   "cell_type": "code",
   "execution_count": 10,
   "id": "0182da99",
   "metadata": {},
   "outputs": [],
   "source": [
    "import re\n",
    "from pyspark.sql import functions as F\n",
    "from operator import add"
   ]
  },
  {
   "cell_type": "code",
   "execution_count": 11,
   "id": "82282a53",
   "metadata": {},
   "outputs": [
    {
     "data": {
      "text/plain": [
       "[('unified', 1),\n",
       " ('analytics', 1),\n",
       " ('engine', 2),\n",
       " ('large', 1),\n",
       " ('provides', 1),\n",
       " ('high', 1),\n",
       " ('scala', 4),\n",
       " ('java', 1),\n",
       " ('python', 4),\n",
       " ('optimized', 1)]"
      ]
     },
     "execution_count": 11,
     "metadata": {},
     "output_type": "execute_result"
    }
   ],
   "source": [
    "fichier        = sc.textFile(path_to_readme)\n",
    "mots           = fichier.flatMap(lambda ligne: re.split(\"\\W+\", ligne.lower().strip()))\n",
    "mots_de_3_car  = mots.filter(lambda mot : len(mot)>3)\n",
    "k_v            = mots_de_3_car.map(lambda mot: (mot, 1))\n",
    "denombrement   = k_v.reduceByKey(add)\n",
    "dix_examples   = denombrement.take(10)\n",
    "dix_examples"
   ]
  },
  {
   "cell_type": "markdown",
   "id": "852d1189",
   "metadata": {},
   "source": [
    "# 3) création d'une spark session "
   ]
  },
  {
   "cell_type": "code",
   "execution_count": 12,
   "id": "a10712e4",
   "metadata": {},
   "outputs": [],
   "source": [
    "spark_Session = SparkSession.builder.getOrCreate()"
   ]
  },
  {
   "cell_type": "code",
   "execution_count": 13,
   "id": "bc5f17d6",
   "metadata": {},
   "outputs": [
    {
     "data": {
      "text/html": [
       "\n",
       "            <div>\n",
       "                <p><b>SparkSession - in-memory</b></p>\n",
       "                \n",
       "        <div>\n",
       "            <p><b>SparkContext</b></p>\n",
       "\n",
       "            <p><a href=\"http://192.168.0.21:4040\">Spark UI</a></p>\n",
       "\n",
       "            <dl>\n",
       "              <dt>Version</dt>\n",
       "                <dd><code>v3.1.2</code></dd>\n",
       "              <dt>Master</dt>\n",
       "                <dd><code>spark://romainjouin-macbookpro1.roam.corp.google.com:7077</code></dd>\n",
       "              <dt>AppName</dt>\n",
       "                <dd><code>Nom de l'application</code></dd>\n",
       "            </dl>\n",
       "        </div>\n",
       "        \n",
       "            </div>\n",
       "        "
      ],
      "text/plain": [
       "<pyspark.sql.session.SparkSession at 0x7fead741d310>"
      ]
     },
     "execution_count": 13,
     "metadata": {},
     "output_type": "execute_result"
    }
   ],
   "source": [
    "spark_Session"
   ]
  },
  {
   "cell_type": "markdown",
   "id": "fd27217e",
   "metadata": {},
   "source": [
    "## 3.1) utiliser la sparkSession pour lire des CSV avec headers"
   ]
  },
  {
   "cell_type": "code",
   "execution_count": 14,
   "id": "57d0598b",
   "metadata": {},
   "outputs": [
    {
     "data": {
      "text/plain": [
       "pyspark.sql.readwriter.DataFrameReader"
      ]
     },
     "execution_count": 14,
     "metadata": {},
     "output_type": "execute_result"
    }
   ],
   "source": [
    "reader = spark_Session.read.option(\"header\", \"true\")\n",
    "type(reader)"
   ]
  },
  {
   "cell_type": "code",
   "execution_count": 15,
   "id": "bebd831e",
   "metadata": {},
   "outputs": [],
   "source": [
    "path_to_csv = \"./cycliste_debug.csv\""
   ]
  },
  {
   "cell_type": "code",
   "execution_count": 16,
   "id": "2b8a4da3",
   "metadata": {},
   "outputs": [],
   "source": [
    "df = reader.csv(path_to_csv)"
   ]
  },
  {
   "cell_type": "code",
   "execution_count": 17,
   "id": "b825562b",
   "metadata": {},
   "outputs": [
    {
     "data": {
      "text/plain": [
       "Row(cycliste='cycliste_azey2', n_message='0442', time=' 1486038900.39', message='velo rendu sur la station azgb6 ( a la maison = False) (elem de station_travail)')"
      ]
     },
     "execution_count": 17,
     "metadata": {},
     "output_type": "execute_result"
    }
   ],
   "source": [
    "df.head()"
   ]
  },
  {
   "cell_type": "markdown",
   "id": "649d41dc",
   "metadata": {},
   "source": [
    "## 3.2) possible de convertir la DataFrame en RDD \n",
    "\n",
    "Les dataframes sont bassées sur des RDD\n",
    "En spark 1 les RDD étaient les objets de bases, maintenant on promeut plutôt les df => qui ont un schéma est sont plus optimisées"
   ]
  },
  {
   "cell_type": "code",
   "execution_count": 18,
   "id": "c163ee2f",
   "metadata": {},
   "outputs": [],
   "source": [
    "rdd = df.rdd"
   ]
  },
  {
   "cell_type": "code",
   "execution_count": 19,
   "id": "cd65c443",
   "metadata": {},
   "outputs": [
    {
     "data": {
      "text/plain": [
       "[Row(cycliste='cycliste_azey2', n_message='0442', time=' 1486038900.39', message='velo rendu sur la station azgb6 ( a la maison = False) (elem de station_travail)'),\n",
       " Row(cycliste='cycliste_azey2', n_message='0441', time=' 1486038900.39', message='impossible de rendre sur '),\n",
       " Row(cycliste='cycliste_azey2', n_message='0440', time=' 1486038900.38', message='self.a_la_maison = False')]"
      ]
     },
     "execution_count": 19,
     "metadata": {},
     "output_type": "execute_result"
    }
   ],
   "source": [
    "rdd.take(3)"
   ]
  },
  {
   "cell_type": "markdown",
   "id": "d13133f0",
   "metadata": {},
   "source": [
    "# 4) Sql Context"
   ]
  },
  {
   "cell_type": "code",
   "execution_count": 20,
   "id": "1042e597",
   "metadata": {},
   "outputs": [],
   "source": [
    "from pyspark import SQLContext"
   ]
  },
  {
   "cell_type": "markdown",
   "id": "36994014",
   "metadata": {},
   "source": [
    "## 4.1) création du sql context"
   ]
  },
  {
   "cell_type": "code",
   "execution_count": 21,
   "id": "571ec3f1",
   "metadata": {},
   "outputs": [],
   "source": [
    "sqlContext = SQLContext(sc)"
   ]
  },
  {
   "cell_type": "markdown",
   "id": "35386f31",
   "metadata": {},
   "source": [
    "## 4.2) lecture d'un fichier => création dataframe"
   ]
  },
  {
   "cell_type": "code",
   "execution_count": 22,
   "id": "5aff8046",
   "metadata": {},
   "outputs": [],
   "source": [
    "df = sqlContext.read.load(path_to_parquet_file)"
   ]
  },
  {
   "cell_type": "code",
   "execution_count": 23,
   "id": "5314f1b5",
   "metadata": {},
   "outputs": [
    {
     "data": {
      "text/plain": [
       "[Row(name='Alyssa', favorite_color=None, favorite_numbers=[3, 9, 15, 20]),\n",
       " Row(name='Ben', favorite_color='red', favorite_numbers=[])]"
      ]
     },
     "execution_count": 23,
     "metadata": {},
     "output_type": "execute_result"
    }
   ],
   "source": [
    "df.head(5)"
   ]
  },
  {
   "cell_type": "markdown",
   "id": "5c5bf5b6",
   "metadata": {},
   "source": [
    "## 4.3) enregistrement d'une table temporaire en mémoire acceptant ensuite des requêtes SQL"
   ]
  },
  {
   "cell_type": "code",
   "execution_count": 24,
   "id": "67b4c42b",
   "metadata": {},
   "outputs": [],
   "source": [
    "nom_de_la_table = \"XY\"\n",
    "sqlContext.registerDataFrameAsTable(df, nom_de_la_table)"
   ]
  },
  {
   "cell_type": "code",
   "execution_count": 25,
   "id": "4ec0b2d3",
   "metadata": {},
   "outputs": [
    {
     "data": {
      "text/plain": [
       "[Row(name='Ben', count(1)=1), Row(name='Alyssa', count(1)=1)]"
      ]
     },
     "execution_count": 25,
     "metadata": {},
     "output_type": "execute_result"
    }
   ],
   "source": [
    "requete_sql = f\"\"\"\n",
    "                    Select name, count(*)\n",
    "                    FROM {nom_de_la_table}\n",
    "                    group by name\n",
    "\"\"\"\n",
    "sql_result = sqlContext.sql(requete_sql)\n",
    "sql_result.collect()\n"
   ]
  },
  {
   "cell_type": "code",
   "execution_count": 26,
   "id": "272462ca",
   "metadata": {},
   "outputs": [
    {
     "name": "stdout",
     "output_type": "stream",
     "text": [
      "cycliste_debug.csv spark.ipynb        spark3.ipynb       spark_2.ipynb\r\n"
     ]
    }
   ],
   "source": [
    "!ls"
   ]
  },
  {
   "cell_type": "markdown",
   "id": "540aa7da",
   "metadata": {},
   "source": [
    "# 5) Création d'une dataFrame"
   ]
  },
  {
   "cell_type": "code",
   "execution_count": 27,
   "id": "6cb2ac2b",
   "metadata": {},
   "outputs": [],
   "source": [
    "\n",
    "df = sqlContext.read.option(\"header\", \"true\").option(\"inferschema\", \"true\").csv(\"./cycliste_debug.csv\")"
   ]
  },
  {
   "cell_type": "code",
   "execution_count": 28,
   "id": "6cfdf80b",
   "metadata": {},
   "outputs": [
    {
     "data": {
      "text/plain": [
       "DataFrame[cycliste: string, n_message: int, time: double, message: string]"
      ]
     },
     "execution_count": 28,
     "metadata": {},
     "output_type": "execute_result"
    }
   ],
   "source": [
    "df"
   ]
  },
  {
   "cell_type": "markdown",
   "id": "f131af63",
   "metadata": {},
   "source": [
    "## 5.1) afficher la liste des colonnes"
   ]
  },
  {
   "cell_type": "code",
   "execution_count": 29,
   "id": "9a52cece",
   "metadata": {},
   "outputs": [
    {
     "data": {
      "text/plain": [
       "['cycliste', 'n_message', 'time', 'message']"
      ]
     },
     "execution_count": 29,
     "metadata": {},
     "output_type": "execute_result"
    }
   ],
   "source": [
    "df.columns"
   ]
  },
  {
   "cell_type": "markdown",
   "id": "a200f0a5",
   "metadata": {},
   "source": [
    "## 5.2) ajouter une colonne, résultat d'un calcul sur une colonne"
   ]
  },
  {
   "cell_type": "code",
   "execution_count": 30,
   "id": "2ea622d4",
   "metadata": {},
   "outputs": [],
   "source": [
    "\n",
    "df2 = df.withColumn(\"time * 2\", df.time*2)"
   ]
  },
  {
   "cell_type": "code",
   "execution_count": 31,
   "id": "58b986eb",
   "metadata": {},
   "outputs": [
    {
     "data": {
      "text/plain": [
       "Row(cycliste='cycliste_azey2', n_message=442, time=1486038900.39, message='velo rendu sur la station azgb6 ( a la maison = False) (elem de station_travail)', time * 2=2972077800.78)"
      ]
     },
     "execution_count": 31,
     "metadata": {},
     "output_type": "execute_result"
    }
   ],
   "source": [
    "df2.head()"
   ]
  },
  {
   "cell_type": "markdown",
   "id": "8eb11fb0",
   "metadata": {},
   "source": [
    "## 5.3) renommer une colonne"
   ]
  },
  {
   "cell_type": "code",
   "execution_count": 32,
   "id": "7dbe3f70",
   "metadata": {},
   "outputs": [
    {
     "data": {
      "text/plain": [
       "['cycliste', 'n_message', 'time', 'message', '2_*_time']"
      ]
     },
     "execution_count": 32,
     "metadata": {},
     "output_type": "execute_result"
    }
   ],
   "source": [
    "df3 = df2.withColumnRenamed(\"time * 2\", \"2_*_time\")\n",
    "df3.columns"
   ]
  },
  {
   "cell_type": "markdown",
   "id": "96c915c8",
   "metadata": {},
   "source": [
    "## 5.4) Random split"
   ]
  },
  {
   "cell_type": "code",
   "execution_count": 33,
   "id": "f8b0a674",
   "metadata": {},
   "outputs": [],
   "source": [
    "_80_pct, _12_pct, _8_pct =  df3.randomSplit([0.8, 0.12, 0.08])"
   ]
  },
  {
   "cell_type": "code",
   "execution_count": 34,
   "id": "2b520ad2",
   "metadata": {},
   "outputs": [
    {
     "data": {
      "text/plain": [
       "(466912, 69936, 46125)"
      ]
     },
     "execution_count": 34,
     "metadata": {},
     "output_type": "execute_result"
    }
   ],
   "source": [
    "_80_pct.count(), _12_pct.count(), _8_pct.count()"
   ]
  },
  {
   "cell_type": "markdown",
   "id": "be431c37",
   "metadata": {},
   "source": [
    "## 5.5) cacher en mémoire : pour aller plus vite"
   ]
  },
  {
   "cell_type": "code",
   "execution_count": 35,
   "id": "50720746",
   "metadata": {},
   "outputs": [],
   "source": [
    "_ = df3.cache()"
   ]
  },
  {
   "cell_type": "code",
   "execution_count": 36,
   "id": "8ecd1810",
   "metadata": {},
   "outputs": [
    {
     "data": {
      "text/plain": [
       "pyspark.sql.dataframe.DataFrame"
      ]
     },
     "execution_count": 36,
     "metadata": {},
     "output_type": "execute_result"
    }
   ],
   "source": [
    "type(_)"
   ]
  },
  {
   "cell_type": "code",
   "execution_count": 37,
   "id": "2c431a00",
   "metadata": {},
   "outputs": [
    {
     "data": {
      "text/plain": [
       "True"
      ]
     },
     "execution_count": 37,
     "metadata": {},
     "output_type": "execute_result"
    }
   ],
   "source": [
    "_.is_cached"
   ]
  },
  {
   "cell_type": "code",
   "execution_count": 38,
   "id": "4f3cad04",
   "metadata": {},
   "outputs": [
    {
     "data": {
      "text/plain": [
       "True"
      ]
     },
     "execution_count": 38,
     "metadata": {},
     "output_type": "execute_result"
    }
   ],
   "source": [
    "df3.is_cached"
   ]
  },
  {
   "cell_type": "code",
   "execution_count": 39,
   "id": "2427ea1d",
   "metadata": {},
   "outputs": [
    {
     "data": {
      "text/plain": [
       "582973"
      ]
     },
     "execution_count": 39,
     "metadata": {},
     "output_type": "execute_result"
    }
   ],
   "source": [
    "_.count()"
   ]
  },
  {
   "cell_type": "code",
   "execution_count": 40,
   "id": "07f3b6a5",
   "metadata": {},
   "outputs": [
    {
     "data": {
      "text/plain": [
       "582973"
      ]
     },
     "execution_count": 40,
     "metadata": {},
     "output_type": "execute_result"
    }
   ],
   "source": [
    "df3.count()"
   ]
  },
  {
   "cell_type": "markdown",
   "id": "2a819c15",
   "metadata": {},
   "source": [
    "# 5.6) revenir sur du pur python, en rapatriant les résultats en pandas"
   ]
  },
  {
   "cell_type": "code",
   "execution_count": 41,
   "id": "12d9e907",
   "metadata": {},
   "outputs": [],
   "source": [
    "instance_pandas = df3.toPandas()"
   ]
  },
  {
   "cell_type": "code",
   "execution_count": 42,
   "id": "564fcc88",
   "metadata": {},
   "outputs": [
    {
     "data": {
      "text/html": [
       "<div>\n",
       "<style scoped>\n",
       "    .dataframe tbody tr th:only-of-type {\n",
       "        vertical-align: middle;\n",
       "    }\n",
       "\n",
       "    .dataframe tbody tr th {\n",
       "        vertical-align: top;\n",
       "    }\n",
       "\n",
       "    .dataframe thead th {\n",
       "        text-align: right;\n",
       "    }\n",
       "</style>\n",
       "<table border=\"1\" class=\"dataframe\">\n",
       "  <thead>\n",
       "    <tr style=\"text-align: right;\">\n",
       "      <th></th>\n",
       "      <th>cycliste</th>\n",
       "      <th>n_message</th>\n",
       "      <th>time</th>\n",
       "      <th>message</th>\n",
       "      <th>2_*_time</th>\n",
       "    </tr>\n",
       "  </thead>\n",
       "  <tbody>\n",
       "    <tr>\n",
       "      <th>0</th>\n",
       "      <td>cycliste_azey2</td>\n",
       "      <td>442.0</td>\n",
       "      <td>1.486039e+09</td>\n",
       "      <td>velo rendu sur la station azgb6 ( a la maison ...</td>\n",
       "      <td>2.972078e+09</td>\n",
       "    </tr>\n",
       "    <tr>\n",
       "      <th>1</th>\n",
       "      <td>cycliste_azey2</td>\n",
       "      <td>441.0</td>\n",
       "      <td>1.486039e+09</td>\n",
       "      <td>impossible de rendre sur</td>\n",
       "      <td>2.972078e+09</td>\n",
       "    </tr>\n",
       "    <tr>\n",
       "      <th>2</th>\n",
       "      <td>cycliste_azey2</td>\n",
       "      <td>440.0</td>\n",
       "      <td>1.486039e+09</td>\n",
       "      <td>self.a_la_maison = False</td>\n",
       "      <td>2.972078e+09</td>\n",
       "    </tr>\n",
       "    <tr>\n",
       "      <th>3</th>\n",
       "      <td>cycliste_azey2</td>\n",
       "      <td>439.0</td>\n",
       "      <td>1.486039e+09</td>\n",
       "      <td>True a pris le velo velo_aelcv_1486034979.01 s...</td>\n",
       "      <td>2.972078e+09</td>\n",
       "    </tr>\n",
       "    <tr>\n",
       "      <th>4</th>\n",
       "      <td>cycliste_azefc</td>\n",
       "      <td>616.0</td>\n",
       "      <td>1.486039e+09</td>\n",
       "      <td>impossible de rendre sur</td>\n",
       "      <td>2.972078e+09</td>\n",
       "    </tr>\n",
       "    <tr>\n",
       "      <th>...</th>\n",
       "      <td>...</td>\n",
       "      <td>...</td>\n",
       "      <td>...</td>\n",
       "      <td>...</td>\n",
       "      <td>...</td>\n",
       "    </tr>\n",
       "    <tr>\n",
       "      <th>582968</th>\n",
       "      <td>cycliste_azogn</td>\n",
       "      <td>3.0</td>\n",
       "      <td>1.486320e+09</td>\n",
       "      <td>station_travail nearest= azkv8|aru48|azrlw|aet...</td>\n",
       "      <td>2.972640e+09</td>\n",
       "    </tr>\n",
       "    <tr>\n",
       "      <th>582969</th>\n",
       "      <td>cycliste_azogn</td>\n",
       "      <td>2.0</td>\n",
       "      <td>1.486320e+09</td>\n",
       "      <td>station_maison nearest= azrp5|azuod|aztpw|aztx...</td>\n",
       "      <td>2.972640e+09</td>\n",
       "    </tr>\n",
       "    <tr>\n",
       "      <th>582970</th>\n",
       "      <td>cycliste_azogn</td>\n",
       "      <td>1.0</td>\n",
       "      <td>1.486320e+09</td>\n",
       "      <td>station_travail = aehwv</td>\n",
       "      <td>2.972640e+09</td>\n",
       "    </tr>\n",
       "    <tr>\n",
       "      <th>582971</th>\n",
       "      <td>cycliste_azogn</td>\n",
       "      <td>0.0</td>\n",
       "      <td>1.486320e+09</td>\n",
       "      <td>station_maison = azk16</td>\n",
       "      <td>2.972640e+09</td>\n",
       "    </tr>\n",
       "    <tr>\n",
       "      <th>582972</th>\n",
       "      <td>cree</td>\n",
       "      <td>NaN</td>\n",
       "      <td>NaN</td>\n",
       "      <td>None</td>\n",
       "      <td>NaN</td>\n",
       "    </tr>\n",
       "  </tbody>\n",
       "</table>\n",
       "<p>582973 rows × 5 columns</p>\n",
       "</div>"
      ],
      "text/plain": [
       "              cycliste  n_message          time  \\\n",
       "0       cycliste_azey2      442.0  1.486039e+09   \n",
       "1       cycliste_azey2      441.0  1.486039e+09   \n",
       "2       cycliste_azey2      440.0  1.486039e+09   \n",
       "3       cycliste_azey2      439.0  1.486039e+09   \n",
       "4       cycliste_azefc      616.0  1.486039e+09   \n",
       "...                ...        ...           ...   \n",
       "582968  cycliste_azogn        3.0  1.486320e+09   \n",
       "582969  cycliste_azogn        2.0  1.486320e+09   \n",
       "582970  cycliste_azogn        1.0  1.486320e+09   \n",
       "582971  cycliste_azogn        0.0  1.486320e+09   \n",
       "582972            cree        NaN           NaN   \n",
       "\n",
       "                                                  message      2_*_time  \n",
       "0       velo rendu sur la station azgb6 ( a la maison ...  2.972078e+09  \n",
       "1                               impossible de rendre sur   2.972078e+09  \n",
       "2                                self.a_la_maison = False  2.972078e+09  \n",
       "3       True a pris le velo velo_aelcv_1486034979.01 s...  2.972078e+09  \n",
       "4                               impossible de rendre sur   2.972078e+09  \n",
       "...                                                   ...           ...  \n",
       "582968  station_travail nearest= azkv8|aru48|azrlw|aet...  2.972640e+09  \n",
       "582969  station_maison nearest= azrp5|azuod|aztpw|aztx...  2.972640e+09  \n",
       "582970                            station_travail = aehwv  2.972640e+09  \n",
       "582971                             station_maison = azk16  2.972640e+09  \n",
       "582972                                               None           NaN  \n",
       "\n",
       "[582973 rows x 5 columns]"
      ]
     },
     "execution_count": 42,
     "metadata": {},
     "output_type": "execute_result"
    }
   ],
   "source": [
    "# on retrouve l'interface pandas / le display\n",
    "instance_pandas"
   ]
  },
  {
   "cell_type": "markdown",
   "id": "85c3f46e",
   "metadata": {},
   "source": [
    "## Il n'y a pas d'outil de visualisation inclu dans spark => revenir à python permet de faire de la dataviz avec les outils pythons "
   ]
  },
  {
   "cell_type": "code",
   "execution_count": 43,
   "id": "31f0a7c7",
   "metadata": {},
   "outputs": [
    {
     "data": {
      "text/plain": [
       "<AxesSubplot:>"
      ]
     },
     "execution_count": 43,
     "metadata": {},
     "output_type": "execute_result"
    },
    {
     "data": {
      "image/png": "[encoded data removed]",
      "text/plain": [
       "<Figure size 432x288 with 1 Axes>"
      ]
     },
     "metadata": {
      "needs_background": "light"
     },
     "output_type": "display_data"
    }
   ],
   "source": [
    "instance_pandas.head().plot()"
   ]
  },
  {
   "cell_type": "markdown",
   "id": "92c5247b",
   "metadata": {},
   "source": [
    "\n",
    "# 7) Manipulation d'une dataframe spark"
   ]
  },
  {
   "cell_type": "markdown",
   "id": "361097bc",
   "metadata": {},
   "source": [
    "# 7.1) afficher des colonnes"
   ]
  },
  {
   "cell_type": "code",
   "execution_count": 62,
   "id": "c16120c9",
   "metadata": {},
   "outputs": [
    {
     "data": {
      "text/plain": [
       "[Row(cycliste='cycliste_azes0', message='pas de velo sur la station arupl '),\n",
       " Row(cycliste='cycliste_azeql', message='impossible de rendre sur '),\n",
       " Row(cycliste='cycliste_azeru', message='Aucun velo trouve aux alentours.'),\n",
       " Row(cycliste='cycliste_azed1', message='self.a_la_maison = False'),\n",
       " Row(cycliste='cycliste_azed0', message='pas de velo sur la station aesjv '),\n",
       " Row(cycliste='cycliste_azeog', message='velo rendu sur la station azgb6 ( a la maison = False) (elem de station_travail)'),\n",
       " Row(cycliste='cycliste_azetw', message='impossible de rendre sur '),\n",
       " Row(cycliste='cycliste_azeul', message='impossible de rendre sur '),\n",
       " Row(cycliste='cycliste_azeqj', message='impossible de rendre sur '),\n",
       " Row(cycliste='cycliste_azeu2', message='True a pris le velo velo_aelb3_1486391533.03 sur la station azlb5'),\n",
       " Row(cycliste='cycliste_azew0', message='True a pris le velo velo_azin1_1486391533.9 sur la station arf46'),\n",
       " Row(cycliste='cycliste_azsb2', message='station_travail nearest= azmx4|aeqs9|azjmv|aztgj|aeikb|aro57|aer26|aeskc'),\n",
       " Row(cycliste='cycliste_azroc', message='pas de velo sur la station aeyfb '),\n",
       " Row(cycliste='cycliste_azdh3', message='station_maison = aerw0'),\n",
       " Row(cycliste='cycliste_azq57', message='pas de velo sur la station argh5 '),\n",
       " Row(cycliste='cycliste_azip2', message='station_travail = arfwn'),\n",
       " Row(cycliste='cycliste_azrdc', message='station_travail = aer26'),\n",
       " Row(cycliste='cree', message=None),\n",
       " Row(cycliste='cycliste_azyqn', message='pas de velo sur la station aeu34 '),\n",
       " Row(cycliste='cycliste_azrhv', message='pas de velo sur la station aeb57 '),\n",
       " Row(cycliste='cycliste_azqhw', message='pas de velo sur la station ard15 '),\n",
       " Row(cycliste='cycliste_azdcv', message='self.a_la_maison = False'),\n",
       " Row(cycliste='cycliste_azyd4', message='self.a_la_maison = False'),\n",
       " Row(cycliste='cycliste_azud3', message='station_maison = ario5'),\n",
       " Row(cycliste='cycliste_azrx8', message='self.a_la_maison = False'),\n",
       " Row(cycliste='cree', message=None),\n",
       " Row(cycliste='cycliste_azqc9', message='impossible de rendre sur '),\n",
       " Row(cycliste='cycliste_azri2', message='station_travail = arisl'),\n",
       " Row(cycliste='cree', message=None),\n",
       " Row(cycliste='cycliste_aze35', message='self.a_la_maison = False'),\n",
       " Row(cycliste='cycliste_azyip', message='impossible de rendre sur '),\n",
       " Row(cycliste='cycliste_azql4', message='True a pris le velo velo_arin0_1486391529.4 sur la station aetp8'),\n",
       " Row(cycliste='cree', message=None),\n",
       " Row(cycliste='cycliste_azq23', message='station_travail nearest= azojb|aetgw|aztqw|aeqs9|arsh6|azyd7|aeikb|aeuo5'),\n",
       " Row(cycliste='cycliste_azrpc', message='station_maison = arfgl'),\n",
       " Row(cycliste='cycliste_azyf2', message='impossible de rendre sur '),\n",
       " Row(cycliste='cycliste_aztd4', message='station_maison nearest= aruif|aetdl|aei48|aero7|aztu9'),\n",
       " Row(cycliste='cycliste_azyid', message='velo rendu sur la station artgw ( a la maison = False) (elem de station_travail)'),\n",
       " Row(cycliste='cycliste_azyid', message='station_maison = aekwb'),\n",
       " Row(cycliste='cycliste_azer3', message='station_maison nearest= arsl1|aei48|aero7'),\n",
       " Row(cycliste='cycliste_azos4', message='True a pris le velo velo_aeihm_1486391530.77 sur la station aetuc'),\n",
       " Row(cycliste='cycliste_azswv', message='station_travail = ars48'),\n",
       " Row(cycliste='cycliste_azswv', message='station_maison = aruif'),\n",
       " Row(cycliste='cycliste_azsfj', message='station_maison = aryv1'),\n",
       " Row(cycliste='cycliste_azqfk', message='station_travail = aeq45'),\n",
       " Row(cycliste='cree', message=None),\n",
       " Row(cycliste='cycliste_azs15', message='station_maison nearest= aejl4|aeyow|arik9|aeh13|azv29|aeqfh|aef67|aeyx4'),\n",
       " Row(cycliste='cree', message=None),\n",
       " Row(cycliste='cycliste_azty1', message='self.a_la_maison = False'),\n",
       " Row(cycliste='cycliste_azflx', message='velo defaillant <0.5'),\n",
       " Row(cycliste='cycliste_azdgb', message='True a pris le velo velo_aekcb_1486391535.78 sur la station aef67'),\n",
       " Row(cycliste='cycliste_azih1', message='impossible de rendre sur '),\n",
       " Row(cycliste='cycliste_azih1', message='pas de velo sur la station azr26 '),\n",
       " Row(cycliste='cycliste_azyqh', message='impossible de rendre sur '),\n",
       " Row(cycliste='cycliste_azysl', message='station_travail = aztdv'),\n",
       " Row(cycliste='cycliste_azydv', message='True a pris le velo velo_azfm6_1486391534.24 sur la station azetk'),\n",
       " Row(cycliste='cycliste_azt49', message='station_maison = azepw'),\n",
       " Row(cycliste='cycliste_azyqd', message='station_travail nearest= aeokm|aztdv|aeu34|azdm3|azepw|azuf0|argh5|aeod9'),\n",
       " Row(cycliste='cycliste_azr48', message='impossible de rendre sur '),\n",
       " Row(cycliste='cycliste_azin5', message='station_maison = azim8'),\n",
       " Row(cycliste='cycliste_azeb0', message='velo pris sur station azyn1 (elem de station maison)'),\n",
       " Row(cycliste='cycliste_azql7', message='station_travail nearest= argl4|azrmx|azsmn|azgvn|azu12|artyq|aetp8|aegjw'),\n",
       " Row(cycliste='cycliste_azrx3', message='True a pris le velo velo_aeysj_1486391532.15 sur la station azsc3'),\n",
       " Row(cycliste='cycliste_azrg9', message='station_travail = aeqs9'),\n",
       " Row(cycliste='cree', message=None),\n",
       " Row(cycliste='cycliste_azqk9', message='impossible de rendre sur '),\n",
       " Row(cycliste='cycliste_azty8', message='station_maison nearest= azgvn|aem18|azu12|artyq|aegjw|aetgw|aztqw|azg39'),\n",
       " Row(cycliste='cycliste_azu45', message='self.a_la_maison = False'),\n",
       " Row(cycliste='cycliste_azsgx', message='impossible de rendre sur '),\n",
       " Row(cycliste='cycliste_azeyl', message='self.a_la_maison = False'),\n",
       " Row(cycliste='cycliste_azodj', message='impossible de rendre sur '),\n",
       " Row(cycliste='cycliste_azth2', message='station_maison nearest= azts8|aekn0|azlb5|azwx8|aeh29'),\n",
       " Row(cycliste='cycliste_azqsh', message='station_maison nearest= aeuoc|aeyw9|azyf1|ae129|aeokm|azugk|aes70|azdm3'),\n",
       " Row(cycliste='cree', message=None),\n",
       " Row(cycliste='cycliste_azoqn', message='True a pris le velo velo_azxb6_1486391532.51 sur la station aztqw'),\n",
       " Row(cycliste='cycliste_aztl3', message='impossible de rendre sur '),\n",
       " Row(cycliste='cycliste_azqw3', message='impossible de rendre sur '),\n",
       " Row(cycliste='cree', message=None),\n",
       " Row(cycliste='cycliste_azeqj', message='velo rendu sur la station azu59 ( a la maison = False) (elem de station_travail)'),\n",
       " Row(cycliste='cycliste_aztih', message='self.a_la_maison = False'),\n",
       " Row(cycliste='cycliste_azosw', message='self.a_la_maison = False'),\n",
       " Row(cycliste='cree', message=None),\n",
       " Row(cycliste='cycliste_azpg5', message='True a pris le velo velo_aemwb_1486391533.84 sur la station azwx8'),\n",
       " Row(cycliste='cycliste_azug1', message='station_travail nearest= azu59|aruwv|artgw|aroxn|aeyw9|azyvb|ae129|aesb1'),\n",
       " Row(cycliste='cycliste_azfj5', message='self.a_la_maison = False'),\n",
       " Row(cycliste='cycliste_azux4', message='station_maison = aztu9'),\n",
       " Row(cycliste='cree', message=None),\n",
       " Row(cycliste='cycliste_azomv', message='velo rendu sur la station arqdh ( a la maison = False) (elem de station_travail)'),\n",
       " Row(cycliste='cycliste_azuim', message='self.a_la_maison = False'),\n",
       " Row(cycliste='cycliste_azsk2', message='impossible de rendre sur '),\n",
       " Row(cycliste='cycliste_azefg', message='self.a_la_maison = False'),\n",
       " Row(cycliste='cycliste_azqdx', message='station_maison nearest= aztl2|aztyb|azb50|ardlm|aeux0'),\n",
       " Row(cycliste='cycliste_azyj2', message='True a pris le velo velo_artum_1486391529.64 sur la station aeux0'),\n",
       " Row(cycliste='cycliste_azyj2', message='station_maison = aeux0'),\n",
       " Row(cycliste='cree', message=None),\n",
       " Row(cycliste='cycliste_azpqn', message='self.a_la_maison = False'),\n",
       " Row(cycliste='cycliste_azovn', message='station_travail nearest= aejc7|arisl|aeh13|aeu34|aeqfh|azepw|aetg1|aeq45'),\n",
       " Row(cycliste='cycliste_azpc0', message='station_travail nearest= azyvb|ae129|aesb1|azq28|aes70|aemw5|aerpf|azc58'),\n",
       " Row(cycliste='cycliste_azed0', message='station_maison = aetj5'),\n",
       " Row(cycliste='cycliste_azy48', message='self.a_la_maison = False'),\n",
       " Row(cycliste='cycliste_azrtx', message='station_travail = aetuc'),\n",
       " Row(cycliste='cycliste_azuo4', message='self.a_la_maison = False'),\n",
       " Row(cycliste='cycliste_aztin', message='velo pris sur station azpv7 (elem de station maison)'),\n",
       " Row(cycliste='cycliste_azyi8', message='station_travail nearest= azc58|azuf0|argh5|azrj5|aep80|aephm'),\n",
       " Row(cycliste='cycliste_azsb5', message='impossible de rendre sur '),\n",
       " Row(cycliste='cycliste_azsb5', message='station_travail = aztgj'),\n",
       " Row(cycliste='cycliste_azeh2', message='velo pris sur station azyd7 (elem de station maison)'),\n",
       " Row(cycliste='cycliste_azdw8', message='impossible de rendre sur '),\n",
       " Row(cycliste='cycliste_azyb6', message='station_travail = aeuoc'),\n",
       " Row(cycliste='cycliste_azosj', message='True a pris le velo velo_azuop_1486391535.23 sur la station aetd6'),\n",
       " Row(cycliste='cycliste_aze34', message='pas de velo sur la station aeyw9 '),\n",
       " Row(cycliste='cycliste_azto2', message='pas de velo sur la station aemw5 '),\n",
       " Row(cycliste='cycliste_aztfb', message='impossible de rendre sur '),\n",
       " Row(cycliste='cree', message=None),\n",
       " Row(cycliste='cycliste_azyw7', message='self.a_la_maison = False'),\n",
       " Row(cycliste='cycliste_azo78', message='self.a_la_maison = False'),\n",
       " Row(cycliste='cycliste_azo78', message='True a pris le velo velo_azril_1486391532.7 sur la station arpmv'),\n",
       " Row(cycliste='cycliste_azex9', message='impossible de rendre sur '),\n",
       " Row(cycliste='cycliste_aztn1', message='pas de velo sur la station aruwv '),\n",
       " Row(cycliste='cycliste_azujl', message='pas de velo sur la station aeru2 '),\n",
       " Row(cycliste='cycliste_azib6', message='impossible de rendre sur '),\n",
       " Row(cycliste='cycliste_azohm', message='station_maison nearest= aesb6|azv90|arqdh|arusg|aeiqd'),\n",
       " Row(cycliste='cycliste_azeix', message='station_travail nearest= aeui9|aehn5|azeos|azty8|arpmv|aris5|ardhn|aetj5'),\n",
       " Row(cycliste='cycliste_azps5', message='station_maison nearest= arqdh|aryhx|aeio8|aeiqd|ardh0'),\n",
       " Row(cycliste='cree', message=None),\n",
       " Row(cycliste='cycliste_azofc', message='impossible de rendre sur '),\n",
       " Row(cycliste='cycliste_aztfj', message='station_maison nearest= azts8|aekn0|azuc9|ard15|aetm9|azwx8|aeh29|arf46'),\n",
       " Row(cycliste='cycliste_azi38', message='station_maison = aeh13'),\n",
       " Row(cycliste='cycliste_aztfg', message='station_maison nearest= azjmv|arsh6|aeui9|aeikb|azty8|aeskc|arufj|aris5'),\n",
       " Row(cycliste='cycliste_aztmc', message='velo pris sur station aztdv (elem de station maison)'),\n",
       " Row(cycliste='cycliste_azyim', message='impossible de rendre sur '),\n",
       " Row(cycliste='cycliste_azpg8', message='self.a_la_maison = False'),\n",
       " Row(cycliste='cree', message=None),\n",
       " Row(cycliste='cycliste_azypx', message='station_travail nearest= az259|ars48|arsg4|aetuc|azim8|aehn5|azeos|azkm6'),\n",
       " Row(cycliste='cycliste_azp34', message='velo rendu sur la station aeugh ( a la maison = False) (elem de station_travail)'),\n",
       " Row(cycliste='cycliste_azykn', message='True a pris le velo velo_azrq8_1486391537.35 sur la station arikb'),\n",
       " Row(cycliste='cycliste_azpb1', message='station_travail = aemv0'),\n",
       " Row(cycliste='cycliste_azekn', message='pas de velo sur la station aru69 '),\n",
       " Row(cycliste='cycliste_azerd', message='station_travail = azqg8'),\n",
       " Row(cycliste='cycliste_azti4', message='impossible de rendre sur '),\n",
       " Row(cycliste='cycliste_azy16', message='self.a_la_maison = False'),\n",
       " Row(cycliste='cycliste_azswx', message='pas de velo sur la station aetd6 '),\n",
       " Row(cycliste='cycliste_azo30', message='station_travail nearest= azyd7|aeikb|aeuo5|aer26|arufj|arpsj|arfgl|azetk'),\n",
       " Row(cycliste='cycliste_azpsd', message='impossible de rendre sur '),\n",
       " Row(cycliste='cycliste_azyj1', message='self.a_la_maison = False'),\n",
       " Row(cycliste='cycliste_azud7', message='self.a_la_maison = False'),\n",
       " Row(cycliste='cycliste_azyw6', message='station_maison nearest= azx25|aem39|aerj2|aeugh|azyx2'),\n",
       " Row(cycliste='cycliste_azin0', message='station_travail nearest= aruwv|artgw|azyuv|aeuoc|azyf1|ae129|aesb1|aeokm'),\n",
       " Row(cycliste='cycliste_aztuf', message='velo pris sur station aztdv (elem de station maison)'),\n",
       " Row(cycliste='cree', message=None),\n",
       " Row(cycliste='cycliste_azuhc', message='station_maison = azc58'),\n",
       " Row(cycliste='cycliste_azof6', message='station_maison = arusg'),\n",
       " Row(cycliste='cycliste_azslm', message='self.a_la_maison = False'),\n",
       " Row(cycliste='cycliste_azihk', message='station_maison = azlm1'),\n",
       " Row(cycliste='cycliste_azu15', message='True a pris le velo velo_azhb9_1486391531.16 sur la station aewv2'),\n",
       " Row(cycliste='cycliste_azox9', message='True a pris le velo velo_azqd9_1486391532.83 sur la station azkm6'),\n",
       " Row(cycliste='cycliste_azum3', message='impossible de rendre sur '),\n",
       " Row(cycliste='cycliste_azfhw', message='station_travail nearest= aeros|azv29|aeb57|aef67|azrqc|aejkm|arikb|aeq10'),\n",
       " Row(cycliste='cycliste_azy10', message='self.a_la_maison = False'),\n",
       " Row(cycliste='cycliste_aziow', message='impossible de rendre sur '),\n",
       " Row(cycliste='cycliste_azuom', message='impossible de rendre sur '),\n",
       " Row(cycliste='cycliste_azubn', message='self.a_la_maison = False'),\n",
       " Row(cycliste='cycliste_azqs6', message='station_maison = azix3'),\n",
       " Row(cycliste='cycliste_azehm', message='station_maison = aeuoc'),\n",
       " Row(cycliste='cycliste_azefw', message='velo pris sur station azlm1 (elem de station maison)'),\n",
       " Row(cycliste='cycliste_azdhw', message='impossible de rendre sur '),\n",
       " Row(cycliste='cycliste_azqc1', message='impossible de rendre sur '),\n",
       " Row(cycliste='cycliste_aztxc', message='impossible de rendre sur '),\n",
       " Row(cycliste='cycliste_azru3', message='impossible de rendre sur '),\n",
       " Row(cycliste='cycliste_azry6', message='impossible de rendre sur '),\n",
       " Row(cycliste='cycliste_azqn0', message='impossible de rendre sur '),\n",
       " Row(cycliste='cycliste_azrdg', message='impossible de rendre sur '),\n",
       " Row(cycliste='cycliste_azidg', message='impossible de rendre sur '),\n",
       " Row(cycliste='cycliste_azikm', message='impossible de rendre sur '),\n",
       " Row(cycliste='cycliste_azsdl', message='impossible de rendre sur '),\n",
       " Row(cycliste='cycliste_azrg8', message='impossible de rendre sur '),\n",
       " Row(cycliste='cycliste_azry2', message='impossible de rendre sur '),\n",
       " Row(cycliste='cycliste_azsh8', message='impossible de rendre sur '),\n",
       " Row(cycliste='cycliste_azsfb', message='impossible de rendre sur '),\n",
       " Row(cycliste='cycliste_azyup', message='impossible de rendre sur '),\n",
       " Row(cycliste='cycliste_azetw', message='impossible de rendre sur '),\n",
       " Row(cycliste='cycliste_azef1', message='impossible de rendre sur '),\n",
       " Row(cycliste='cycliste_azyb2', message='impossible de rendre sur '),\n",
       " Row(cycliste='cycliste_azr30', message='impossible de rendre sur '),\n",
       " Row(cycliste='cycliste_azs16', message='impossible de rendre sur '),\n",
       " Row(cycliste='cycliste_aztw7', message='self.a_la_maison = False'),\n",
       " Row(cycliste='cycliste_azt56', message='impossible de rendre sur '),\n",
       " Row(cycliste='cycliste_azyox', message='impossible de rendre sur '),\n",
       " Row(cycliste='cycliste_azeix', message='impossible de rendre sur '),\n",
       " Row(cycliste='cycliste_azek6', message='impossible de rendre sur '),\n",
       " Row(cycliste='cycliste_azti0', message='impossible de rendre sur '),\n",
       " Row(cycliste='cycliste_aztn6', message='impossible de rendre sur '),\n",
       " Row(cycliste='cycliste_azph6', message='impossible de rendre sur '),\n",
       " Row(cycliste='cycliste_azpqd', message='self.a_la_maison = False'),\n",
       " Row(cycliste='cycliste_azykn', message='self.a_la_maison = False'),\n",
       " Row(cycliste='cycliste_azrqv', message='impossible de rendre sur '),\n",
       " Row(cycliste='cycliste_azqjb', message='impossible de rendre sur '),\n",
       " Row(cycliste='cycliste_azdkm', message='impossible de rendre sur '),\n",
       " Row(cycliste='cycliste_azupw', message='impossible de rendre sur '),\n",
       " Row(cycliste='cycliste_azsx8', message='impossible de rendre sur '),\n",
       " Row(cycliste='cycliste_azfj0', message='impossible de rendre sur '),\n",
       " Row(cycliste='cycliste_azof1', message='impossible de rendre sur '),\n",
       " Row(cycliste='cycliste_azub3', message='impossible de rendre sur '),\n",
       " Row(cycliste='cycliste_azuh5', message='impossible de rendre sur '),\n",
       " Row(cycliste='cycliste_azqm4', message='impossible de rendre sur '),\n",
       " Row(cycliste='cycliste_azqm3', message='impossible de rendre sur '),\n",
       " Row(cycliste='cycliste_azq49', message='impossible de rendre sur '),\n",
       " Row(cycliste='cycliste_azry8', message='impossible de rendre sur '),\n",
       " Row(cycliste='cycliste_azsc6', message='impossible de rendre sur '),\n",
       " Row(cycliste='cycliste_azrof', message='impossible de rendre sur '),\n",
       " Row(cycliste='cycliste_azif9', message='impossible de rendre sur '),\n",
       " Row(cycliste='cycliste_azthv', message='station_travail = aeikb'),\n",
       " Row(cycliste='cycliste_aziox', message='station_maison = aec37'),\n",
       " Row(cycliste='cycliste_azum1', message='True a pris le velo velo_aerhc_1486391538.63 sur la station azosc'),\n",
       " Row(cycliste='cycliste_azqw2', message='velo rendu sur la station arisl ( a la maison = False) (elem de station_travail)'),\n",
       " Row(cycliste='cycliste_azrus', message='velo rendu sur la station az368 ( a la maison = False) (elem de station_travail)'),\n",
       " Row(cycliste='cycliste_azrus', message='station_maison = arik9'),\n",
       " Row(cycliste='cree', message=None),\n",
       " Row(cycliste='cycliste_azpc5', message='False a pris le velo velo_azrdk_1486391538.6 sur la station aeru2'),\n",
       " Row(cycliste='cycliste_azyud', message='velo rendu sur la station aeyfb ( a la maison = False) (elem de station_travail)'),\n",
       " Row(cycliste='cycliste_azo36', message='station_travail = arf46'),\n",
       " Row(cycliste='cycliste_azyl6', message='station_travail nearest= aztgj|azyd7|aeikb|aro57|aeskc|azyuv|arpsj|arfgl'),\n",
       " Row(cycliste='cycliste_azsjw', message='True a pris le velo velo_arudv_1486391538.02 sur la station aetg1'),\n",
       " Row(cycliste='cycliste_azsfc', message='False a pris le velo velo_azygw_1486391534.6 sur la station aejc7'),\n",
       " Row(cycliste='cycliste_azi39', message='velo pris sur station aeui9 (elem de station travail)'),\n",
       " Row(cycliste='cree', message=None),\n",
       " Row(cycliste='cree', message=None),\n",
       " Row(cycliste='cree', message=None),\n",
       " Row(cycliste='cycliste_azon4', message='False a pris le velo velo_aryx1_1486391533.08 sur la station azedj'),\n",
       " Row(cycliste='cree', message=None),\n",
       " Row(cycliste='cycliste_azeq0', message='velo rendu sur la station arfwn ( a la maison = False) (elem de station_travail)'),\n",
       " Row(cycliste='cree', message=None),\n",
       " Row(cycliste='cycliste_azpwv', message='True a pris le velo velo_azqv3_1486391533.87 sur la station aeh29'),\n",
       " Row(cycliste='cycliste_azrf7', message='True a pris le velo velo_azuo7_1486391533.6 sur la station aerqb'),\n",
       " Row(cycliste='cycliste_azeup', message='station_maison nearest= aeq10|arujb|ardf5|azv90|aryhx|azpsh|aeiqd|azix3'),\n",
       " Row(cycliste='cycliste_aztm1', message='velo rendu sur la station aeuo5 ( a la maison = False) (elem de station_travail)'),\n",
       " Row(cycliste='cycliste_azrq9', message='station_travail nearest= art27|azyn1|azqg8|azr26|aerdn'),\n",
       " Row(cycliste='cycliste_azdl0', message='station_travail = azv29'),\n",
       " Row(cycliste='cycliste_azdv3', message='velo pris sur station azlb5 (elem de station maison)'),\n",
       " Row(cycliste='cycliste_azof8', message='velo pris sur station aelx6 (elem de station travail)'),\n",
       " Row(cycliste='cycliste_azon3', message='velo rendu sur la station aztdv ( a la maison = False) (elem de station_travail)'),\n",
       " Row(cycliste='cycliste_azq79', message='velo rendu sur la station aeuo5 ( a la maison = False) (elem de station_travail)'),\n",
       " Row(cycliste='cycliste_azpmw', message='True a pris le velo velo_aeb90_1486391533.31 sur la station azjmv'),\n",
       " Row(cycliste='cycliste_azyuq', message='station_travail = azrj5'),\n",
       " Row(cycliste='cycliste_azu50', message='velo pris sur station azc58 (elem de station maison)'),\n",
       " Row(cycliste='cycliste_azp49', message='velo pris sur station aridv (elem de station maison)'),\n",
       " Row(cycliste='cycliste_azpgv', message='velo pris sur station aeyfm (elem de station maison)'),\n",
       " Row(cycliste='cycliste_azsf1', message='station_maison nearest= azmx4|aeqs9|azjmv|aztgj|aeikb|aro57|aer26|aeskc'),\n",
       " Row(cycliste='cycliste_azdhv', message='station_travail nearest= aelv6|az160|artyq|aeyf1|aetgw|azmx4|aeqs9|azjmv'),\n",
       " Row(cycliste='cree', message=None),\n",
       " Row(cycliste='cycliste_azsj3', message='station_travail nearest= azrqc|aeqb8|azd37|aeq10|ardf5|azv90|arqdh|aryhx'),\n",
       " Row(cycliste='cycliste_azuw9', message='True a pris le velo velo_azlv6_1486391532.51 sur la station azyd7'),\n",
       " Row(cycliste='cycliste_azq15', message='False a pris le velo velo_azyu5_1486391534.69 sur la station aztl2'),\n",
       " Row(cycliste='cycliste_azq15', message='station_maison = azosc'),\n",
       " Row(cycliste='cycliste_azufc', message='velo rendu sur la station arfwn ( a la maison = False) (elem de station_travail)'),\n",
       " Row(cycliste='cycliste_azqj5', message='velo pris sur station azlb5 (elem de station maison)'),\n",
       " Row(cycliste='cycliste_azeuc', message='station_maison nearest= aeh13|aeros|azv29|aeqfh|aeyx4|aeq45|aejkm|arikb'),\n",
       " Row(cycliste='cycliste_azei9', message='velo pris sur station arox5 (elem de station maison)'),\n",
       " Row(cycliste='cycliste_aztq7', message='self.a_la_maison = False'),\n",
       " Row(cycliste='cycliste_azex7', message='velo pris sur station azwx8 (elem de station maison)'),\n",
       " Row(cycliste='cycliste_azog6', message='station_travail = azojb'),\n",
       " Row(cycliste='cycliste_azudj', message='velo pris sur station azyx2 (elem de station travail)'),\n",
       " Row(cycliste='cycliste_azd40', message='velo pris sur station aes50 (elem de station travail)'),\n",
       " Row(cycliste='cree', message=None),\n",
       " Row(cycliste='cycliste_azpv5', message='velo pris sur station aetd6 (elem de station travail)'),\n",
       " Row(cycliste='cree', message=None),\n",
       " Row(cycliste='cycliste_azes1', message='station_maison nearest= aewv2|aes50|azmx4|aemv0|aztgj|aeru2|aexb9|aro57'),\n",
       " Row(cycliste='cycliste_azdfx', message='velo pris sur station artqv (elem de station travail)'),\n",
       " Row(cycliste='cycliste_aztyv', message='impossible de rendre sur '),\n",
       " Row(cycliste='cree', message=None),\n",
       " Row(cycliste='cree', message=None),\n",
       " Row(cycliste='cycliste_azop4', message='station_travail nearest= artu2|argl4|azrmx|aryi9|aem18|az160|artyq|aetp8'),\n",
       " Row(cycliste='cycliste_azscv', message='velo pris sur station azwx8 (elem de station travail)'),\n",
       " Row(cycliste='cycliste_azeti', message='station_maison = aztdv'),\n",
       " Row(cycliste='cycliste_aztk1', message='True a pris le velo velo_aro59_1486391532.98 sur la station aetm9'),\n",
       " Row(cycliste='cycliste_azdb1', message='station_maison nearest= aryuq|arqlw|aekn0|ard15|azlb5'),\n",
       " Row(cycliste='cycliste_azykw', message='station_maison nearest= aei48|aero7|aztu9|aryuq|aerw0|azts8|aekn0|azuc9'),\n",
       " Row(cycliste='cycliste_aztg5', message='station_maison nearest= arqlw|aerw0|arfwn|aekn0|azsc3|azlb5|aetm9|aewv2'),\n",
       " Row(cycliste='cree', message=None),\n",
       " Row(cycliste='cycliste_azrfj', message='station_maison nearest= azys1|artqv|azb50|az259|arsg4|aetuc|azqh5|azim8'),\n",
       " Row(cycliste='cycliste_aztu6', message='True a pris le velo velo_azgj2_1486391535.79 sur la station aeqdn'),\n",
       " Row(cycliste='cycliste_aztu6', message='station_travail nearest= azb50|ardlm|aeux0|arsg4|azlm1|azim8|azc46|aelx6'),\n",
       " Row(cycliste='cycliste_azic4', message='False a pris le velo velo_aruk2_1486391532.65 sur la station aerw0'),\n",
       " Row(cycliste='cree', message=None),\n",
       " Row(cycliste='cree', message=None),\n",
       " Row(cycliste='cycliste_azdm9', message='station_maison = aeuo5'),\n",
       " Row(cycliste='cycliste_azyf5', message='velo pris sur station arox5 (elem de station maison)'),\n",
       " Row(cycliste='cree', message=None),\n",
       " Row(cycliste='cycliste_azyo6', message='velo pris sur station aerw0 (elem de station maison)'),\n",
       " Row(cycliste='cycliste_azedg', message='station_maison = aer26'),\n",
       " Row(cycliste='cycliste_azewc', message='station_travail = aelv6'),\n",
       " Row(cycliste='cycliste_aztf4', message='velo pris sur station aet60 (elem de station travail)'),\n",
       " Row(cycliste='cycliste_azsb8', message='station_travail nearest= azyx2|aryi9|azgvn|aelv6|artyq|aeyf1|azojb|aetgw'),\n",
       " Row(cycliste='cree', message=None),\n",
       " Row(cycliste='cycliste_azri0', message='impossible de rendre sur '),\n",
       " Row(cycliste='cycliste_azuf7', message='station_maison = aeyfm'),\n",
       " Row(cycliste='cycliste_aztsd', message='station_travail nearest= azuc9|azsc3|aecb6|aetm9|aes50|arf46|aemv0|aeyfm'),\n",
       " Row(cycliste='cycliste_azpl6', message='velo pris sur station aewv2 (elem de station maison)'),\n",
       " Row(cycliste='cycliste_azsd5', message='station_travail nearest= azq28|azugk|aes70|aemw5|azc58|aesm4|artys|azrj5'),\n",
       " Row(cycliste='cycliste_azyh3', message='velo pris sur station azrj5 (elem de station travail)'),\n",
       " Row(cycliste='cree', message=None),\n",
       " Row(cycliste='cycliste_azui9', message='self.a_la_maison = False'),\n",
       " Row(cycliste='cycliste_azif1', message='velo pris sur station ardl9 (elem de station travail)'),\n",
       " Row(cycliste='cycliste_aze18', message='True a pris le velo velo_aegx7_1486391530.77 sur la station azb50'),\n",
       " Row(cycliste='cycliste_azup2', message='station_travail nearest= aep18|aehkv|arig5|aejw5|aryk4|aeqdn|aetd6|arpx6'),\n",
       " Row(cycliste='cycliste_azuj3', message='True a pris le velo velo_aeo36_1486391529.16 sur la station arfwn'),\n",
       " Row(cycliste='cycliste_azts8', message='True a pris le velo velo_aeskb_1486391534.44 sur la station aep18'),\n",
       " Row(cycliste='cycliste_azqs1', message='velo pris sur station aefh2 (elem de station maison)'),\n",
       " Row(cycliste='cycliste_azow3', message='velo rendu sur la station aejc7 ( a la maison = False) (elem de station_travail)'),\n",
       " Row(cycliste='cycliste_azsl5', message='velo pris sur station artyq (elem de station travail)'),\n",
       " Row(cycliste='cycliste_azyg8', message='station_travail nearest= aeq45|aejkm|arikb|aeyfb|aesb6|azedj|aru69|arusg'),\n",
       " Row(cycliste='cree', message=None),\n",
       " Row(cycliste='cycliste_azeql', message='velo pris sur station aeux0 (elem de station maison)'),\n",
       " Row(cycliste='cycliste_azpsf', message='self.a_la_maison = False'),\n",
       " Row(cycliste='cycliste_aztob', message='velo rendu sur la station aehbn ( a la maison = False) (elem de station_travail)'),\n",
       " Row(cycliste='cycliste_aztob', message='station_travail = arf46'),\n",
       " Row(cycliste='cycliste_azogk', message='station_maison = azwx8'),\n",
       " Row(cycliste='cycliste_azqxb', message='station_maison nearest= arqlw|aerw0|arfwn|aekn0|azsc3|azlb5|aetm9|aewv2'),\n",
       " Row(cycliste='cycliste_azin7', message='False a pris le velo velo_arug9_1486391533.22 sur la station azmx4'),\n",
       " Row(cycliste='cycliste_azrih', message='velo rendu sur la station az368 ( a la maison = False) (elem de station_travail)'),\n",
       " Row(cycliste='cycliste_aztwc', message='True a pris le velo velo_artw8_1486391535.14 sur la station arik9'),\n",
       " Row(cycliste='cycliste_aztwc', message='station_travail = aztdv'),\n",
       " Row(cycliste='cycliste_azylx', message='station_travail = aeu34'),\n",
       " Row(cycliste='cycliste_azu19', message='velo rendu sur la station arpmv ( a la maison = False) (elem de station_travail)'),\n",
       " Row(cycliste='cycliste_azr60', message='station_travail nearest= argh5|aeod9|arohn|aep80|azrg0'),\n",
       " Row(cycliste='cycliste_azrs7', message='station_travail nearest= azosc|aemw5|aerpf|aet60|artys|arox5|argv3|aec37'),\n",
       " Row(cycliste='cycliste_azig3', message='True a pris le velo velo_aeulx_1486391531.64 sur la station aetuc'),\n",
       " Row(cycliste='cycliste_azuv3', message='velo pris sur station arqdh (elem de station maison)'),\n",
       " Row(cycliste='cree', message=None),\n",
       " Row(cycliste='cree', message=None),\n",
       " Row(cycliste='cycliste_aztub', message='station_maison nearest= aeod9|arohn|aeyfb|aemv2|azedj'),\n",
       " Row(cycliste='cree', message=None),\n",
       " Row(cycliste='cycliste_azij4', message='station_maison = arox5'),\n",
       " Row(cycliste='cycliste_azes2', message='True a pris le velo velo_azpb4_1486391536.73 sur la station aeb57'),\n",
       " Row(cycliste='cycliste_azuj6', message='station_travail nearest= aexb9|aro57|aer26|artgw|arpsj|aeyw9|azyf1|azesn'),\n",
       " Row(cycliste='cycliste_azqb6', message='station_maison nearest= ardhn|aetj5|aejw5|aeyow|aeqdn|aeros|azv29|aeb57'),\n",
       " Row(cycliste='cycliste_azro0', message='station_travail = aes70'),\n",
       " Row(cycliste='cycliste_azpq1', message='self.a_la_maison = False'),\n",
       " Row(cycliste='cycliste_azsf4', message='station_maison = aeuoc'),\n",
       " Row(cycliste='cree', message=None),\n",
       " Row(cycliste='cycliste_azeg1', message='station_maison = aesb1'),\n",
       " Row(cycliste='cycliste_azqlw', message='pas de velo sur la station arsl1 '),\n",
       " Row(cycliste='cycliste_azrc9', message='velo rendu sur la station azjmv ( a la maison = False) (elem de station_travail)'),\n",
       " Row(cycliste='cycliste_azusb', message='self.a_la_maison = False'),\n",
       " Row(cycliste='cycliste_azu24', message='pas de velo sur la station arik9 '),\n",
       " Row(cycliste='cree', message=None),\n",
       " Row(cycliste='cycliste_azo38', message='station_maison = aerpf'),\n",
       " Row(cycliste='cycliste_azycv', message='station_maison = arujb'),\n",
       " Row(cycliste='cree', message=None),\n",
       " Row(cycliste='cycliste_azq59', message='station_travail nearest= aehbn|aeru2|aexb9|azu59|artgw|aroxn|aeuoc|aeyw9'),\n",
       " Row(cycliste='cycliste_aztw5', message='station_travail = aes70'),\n",
       " Row(cycliste='cycliste_azt45', message='True a pris le velo velo_azegh_1486391528.88 sur la station aztyb'),\n",
       " Row(cycliste='cycliste_azruw', message='station_maison = aetg5'),\n",
       " Row(cycliste='cycliste_aztm7', message='station_travail nearest= azx25|azp24|aem39|aerj2|azyx2|arfwn|aefh2|aelv6'),\n",
       " Row(cycliste='cycliste_azsvb', message='velo pris sur station aejl4 (elem de station maison)'),\n",
       " Row(cycliste='cycliste_azrd6', message='station_maison = azsf3'),\n",
       " Row(cycliste='cycliste_azip3', message='station_travail = arucb'),\n",
       " Row(cycliste='cycliste_aztv8', message='station_maison nearest= azq28|azugk|aes70|aemw5|azc58|aesm4|artys|azrj5'),\n",
       " Row(cycliste='cycliste_azoqf', message='pas de velo sur la station aeyw9 '),\n",
       " Row(cycliste='cycliste_azedb', message='True a pris le velo velo_aedmb_1486391536.85 sur la station azd37'),\n",
       " Row(cycliste='cycliste_azuk5', message='self.a_la_maison = False'),\n",
       " Row(cycliste='cycliste_azrc6', message='pas de velo sur la station aegjw '),\n",
       " Row(cycliste='cycliste_azugw', message='self.a_la_maison = False'),\n",
       " Row(cycliste='cycliste_azsx0', message='velo pris sur station azqg8 (elem de station maison)'),\n",
       " Row(cycliste='cycliste_aztjv', message='station_maison nearest= aehkv|arig5|art27|aridv|az368|aetd6|arpx6|azr26'),\n",
       " Row(cycliste='cycliste_aztc8', message='station_maison nearest= aep18|aehkv|arig5|aejw5|aryk4|aeqdn|aetd6|arpx6'),\n",
       " Row(cycliste='cycliste_azewx', message='station_travail = argh5'),\n",
       " Row(cycliste='cycliste_azfk5', message='station_maison = aeio8'),\n",
       " Row(cycliste='cycliste_azec7', message='station_maison = arujb'),\n",
       " Row(cycliste='cycliste_azpd4', message='True a pris le velo velo_arofx_1486391536.21 sur la station aes70'),\n",
       " Row(cycliste='cycliste_azpv4', message='True a pris le velo velo_azioh_1486391533.31 sur la station aeskc'),\n",
       " Row(cycliste='cycliste_aztqf', message='velo pris sur station aemv2 (elem de station maison)'),\n",
       " Row(cycliste='cycliste_aztqf', message='station_maison = aeod9'),\n",
       " Row(cycliste='cycliste_aztn4', message='station_travail = azrmx'),\n",
       " Row(cycliste='cycliste_azyb7', message='self.a_la_maison = False'),\n",
       " Row(cycliste='cycliste_azyw8', message='station_maison = arpx6'),\n",
       " Row(cycliste='cycliste_azysw', message='velo rendu sur la station ae129 ( a la maison = False) (elem de station_travail)'),\n",
       " Row(cycliste='cycliste_azolw', message='velo pris sur station aew38 (elem de station travail)'),\n",
       " Row(cycliste='cycliste_azdv2', message='station_maison nearest= azsf3|azepw|aetg1|argh5|arohn|aep80|aemv2|azrg0'),\n",
       " Row(cycliste='cycliste_azdv2', message='station_maison = aeod9'),\n",
       " Row(cycliste='cycliste_azop5', message='velo pris sur station azosc (elem de station travail)'),\n",
       " Row(cycliste='cycliste_azqv0', message='station_travail = aetj5'),\n",
       " Row(cycliste='cycliste_aztyf', message='velo pris sur station aetuc (elem de station travail)'),\n",
       " Row(cycliste='cycliste_aztyf', message='True a pris le velo velo_aek26_1486391535.04 sur la station aris5'),\n",
       " Row(cycliste='cycliste_azri7', message='station_maison nearest= azp24|aem39|artu2|aeugh|aryi9|aefh2|aelv6|az160'),\n",
       " Row(cycliste='cycliste_azdv9', message='self.a_la_maison = False'),\n",
       " Row(cycliste='cycliste_azsmw', message='True a pris le velo velo_azt70_1486391529.21 sur la station azx25'),\n",
       " Row(cycliste='cycliste_azrm5', message='velo rendu sur la station argh5 ( a la maison = False) (elem de station_travail)'),\n",
       " Row(cycliste='cree', message=None),\n",
       " Row(cycliste='cycliste_aze17', message='velo pris sur station arpx6 (elem de station travail)'),\n",
       " Row(cycliste='cycliste_azefm', message='self.a_la_maison = False'),\n",
       " Row(cycliste='cycliste_azrgc', message='station_travail nearest= azkm6|aerqb|aed69|aep18|arig5|aejw5|aridv|aryk4'),\n",
       " Row(cycliste='cycliste_azdb8', message='velo pris sur station aztu9 (elem de station maison)'),\n",
       " Row(cycliste='cycliste_azo60', message='station_travail = aeyx4'),\n",
       " Row(cycliste='cycliste_aziok', message='velo pris sur station aehbn (elem de station maison)'),\n",
       " Row(cycliste='cycliste_aztom', message='velo pris sur station azv90 (elem de station maison)'),\n",
       " Row(cycliste='cycliste_azol1', message='station_travail = aryi9'),\n",
       " Row(cycliste='cycliste_aztuw', message='station_travail nearest= azyvb|ae129|aesb1|azq28|aes70|aemw5|aerpf|azc58'),\n",
       " Row(cycliste='cycliste_azfk3', message='station_travail nearest= azsmn|azuxn|azpv7|azu12|artqv|aegjw|az259|ars48'),\n",
       " Row(cycliste='cycliste_azphv', message='station_maison = azc58'),\n",
       " Row(cycliste='cycliste_azoq7', message='velo pris sur station aetgw (elem de station maison)'),\n",
       " Row(cycliste='cycliste_azrh2', message='velo pris sur station azlm1 (elem de station maison)'),\n",
       " Row(cycliste='cycliste_azufb', message='velo pris sur station aet60 (elem de station maison)'),\n",
       " Row(cycliste='cycliste_azi30', message='velo rendu sur la station azrqc ( a la maison = False) (elem de station_travail)'),\n",
       " Row(cycliste='cycliste_azth1', message='pas de velo sur la station aetj5 '),\n",
       " Row(cycliste='cycliste_azucv', message='pas de velo sur la station arsl1 '),\n",
       " Row(cycliste='cycliste_azts9', message='velo rendu sur la station az160 ( a la maison = False) (elem de station_travail)'),\n",
       " Row(cycliste='cycliste_azpn5', message='station_maison = azugk'),\n",
       " Row(cycliste='cycliste_azub9', message='velo pris sur station aet60 (elem de station travail)'),\n",
       " Row(cycliste='cycliste_aziv1', message='impossible de rendre sur '),\n",
       " Row(cycliste='cycliste_aziw9', message='velo pris sur station aerw0 (elem de station travail)'),\n",
       " Row(cycliste='cycliste_azum7', message='True a pris le velo velo_aegm3_1486391533.58 sur la station aehkv'),\n",
       " Row(cycliste='cycliste_azyb1', message='station_travail nearest= argl4|azsmn|azgvn|aem18|azu12'),\n",
       " Row(cycliste='cycliste_azi26', message='impossible de rendre sur '),\n",
       " Row(cycliste='cycliste_azfjb', message='impossible de rendre sur '),\n",
       " Row(cycliste='cycliste_azun4', message='velo pris sur station azv90 (elem de station maison)'),\n",
       " Row(cycliste='cycliste_azeg4', message='velo rendu sur la station argl4 ( a la maison = False) (elem de station_travail)'),\n",
       " Row(cycliste='cycliste_azts5', message='pas de velo sur la station aetm9 '),\n",
       " Row(cycliste='cycliste_azts5', message='self.a_la_maison = False'),\n",
       " Row(cycliste='cycliste_azsgc', message='velo pris sur station arfgl (elem de station travail)'),\n",
       " Row(cycliste='cycliste_azyc1', message='pas de velo sur la station azyf1 '),\n",
       " Row(cycliste='cycliste_azqh6', message='impossible de rendre sur '),\n",
       " Row(cycliste='cycliste_azoj1', message='velo rendu sur la station aejkm ( a la maison = False) (elem de station_travail)'),\n",
       " Row(cycliste='cycliste_azqm5', message='velo defaillant <0.5'),\n",
       " Row(cycliste='cycliste_azdb8', message='self.a_la_maison = True'),\n",
       " Row(cycliste='cycliste_azdb8', message='velo defaillant <0.5'),\n",
       " Row(cycliste='cycliste_azyq2', message='impossible de rendre sur '),\n",
       " Row(cycliste='cycliste_azro1', message='impossible de rendre sur '),\n",
       " Row(cycliste='cycliste_azel1', message='impossible de rendre sur '),\n",
       " Row(cycliste='cycliste_azsf2', message='velo rendu sur la station arucb ( a la maison = False) (elem de station_travail)'),\n",
       " Row(cycliste='cycliste_azem1', message='velo rendu sur la station aeskc ( a la maison = False) (elem de station_travail)'),\n",
       " Row(cycliste='cycliste_azry2', message='impossible de rendre sur '),\n",
       " Row(cycliste='cycliste_azush', message='impossible de rendre sur '),\n",
       " Row(cycliste='cycliste_azohn', message='impossible de rendre sur '),\n",
       " Row(cycliste='cycliste_azohn', message='impossible de rendre sur '),\n",
       " Row(cycliste='cycliste_aztw7', message='impossible de rendre sur '),\n",
       " Row(cycliste='cycliste_azew0', message='False a pris le velo velo_azodx_1486391536.72 sur la station arujb'),\n",
       " Row(cycliste='cycliste_azujl', message='impossible de rendre sur '),\n",
       " Row(cycliste='cycliste_aze12', message='impossible de rendre sur '),\n",
       " Row(cycliste='cycliste_azyfn', message='velo pris sur station aeui9 (elem de station travail)'),\n",
       " Row(cycliste='cycliste_azpgl', message='impossible de rendre sur '),\n",
       " Row(cycliste='cycliste_azdv7', message='impossible de rendre sur '),\n",
       " Row(cycliste='cycliste_azrty', message='impossible de rendre sur '),\n",
       " Row(cycliste='cycliste_aztgv', message='impossible de rendre sur '),\n",
       " Row(cycliste='cycliste_azqg3', message='False a pris le velo velo_aexv0_1486391531.95 sur la station aed69'),\n",
       " Row(cycliste='cycliste_azyjm', message='impossible de rendre sur '),\n",
       " Row(cycliste='cycliste_azrs9', message='impossible de rendre sur '),\n",
       " Row(cycliste='cycliste_azti4', message='impossible de rendre sur '),\n",
       " Row(cycliste='cycliste_azilc', message='impossible de rendre sur '),\n",
       " Row(cycliste='cycliste_azswx', message='impossible de rendre sur '),\n",
       " Row(cycliste='cycliste_azdhc', message='impossible de rendre sur '),\n",
       " Row(cycliste='cycliste_azthm', message='impossible de rendre sur '),\n",
       " Row(cycliste='cycliste_azof1', message='impossible de rendre sur '),\n",
       " Row(cycliste='cycliste_azrn6', message='impossible de rendre sur '),\n",
       " Row(cycliste='cycliste_azrqn', message='impossible de rendre sur '),\n",
       " Row(cycliste='cycliste_azuh5', message='impossible de rendre sur '),\n",
       " Row(cycliste='cycliste_aztuf', message='impossible de rendre sur '),\n",
       " Row(cycliste='cycliste_azqm4', message='impossible de rendre sur '),\n",
       " Row(cycliste='cycliste_azryi', message='impossible de rendre sur '),\n",
       " Row(cycliste='cycliste_azu15', message='impossible de rendre sur '),\n",
       " Row(cycliste='cycliste_azpk3', message='impossible de rendre sur '),\n",
       " Row(cycliste='cycliste_aztu7', message='impossible de rendre sur '),\n",
       " Row(cycliste='cycliste_azydg', message='pbm sur nb_km_local = self.nb_km = -2.68520588431 '),\n",
       " Row(cycliste='cycliste_aztqb', message='impossible de rendre sur '),\n",
       " Row(cycliste='cycliste_azrsf', message='pas de velo sur la station aetj5 '),\n",
       " Row(cycliste='cycliste_azry8', message='impossible de rendre sur '),\n",
       " Row(cycliste='cycliste_azuxv', message='velo pris sur station azc58 (elem de station travail)'),\n",
       " Row(cycliste='cycliste_azocb', message='impossible de rendre sur '),\n",
       " Row(cycliste='cycliste_azrup', message='impossible de rendre sur '),\n",
       " Row(cycliste='cycliste_azfhj', message='impossible de rendre sur '),\n",
       " Row(cycliste='cycliste_azfj4', message='True a pris le velo velo_aeg12_1486391532.77 sur la station aeg47'),\n",
       " Row(cycliste='cycliste_azeov', message='impossible de rendre sur '),\n",
       " Row(cycliste='cycliste_azo49', message='pas de velo sur la station aekn0 '),\n",
       " Row(cycliste='cycliste_azejv', message='velo pris sur station aeqfh (elem de station travail)'),\n",
       " Row(cycliste='cycliste_azpdm', message='False a pris le velo velo_azuq0_1486391529.33 sur la station aef67'),\n",
       " Row(cycliste='cycliste_azudh', message='False a pris le velo velo_azsdm_1486391533.86 sur la station artqv'),\n",
       " Row(cycliste='cycliste_azujv', message='impossible de rendre sur '),\n",
       " Row(cycliste='cycliste_azugm', message='velo rendu sur la station art27 ( a la maison = False) (elem de station_travail)'),\n",
       " Row(cycliste='cycliste_azup6', message='impossible de rendre sur '),\n",
       " Row(cycliste='cycliste_azyw6', message='impossible de rendre sur '),\n",
       " Row(cycliste='cycliste_azdb3', message='impossible de rendre sur '),\n",
       " Row(cycliste='cycliste_azyn9', message='self.a_la_maison = True'),\n",
       " Row(cycliste='cycliste_azypm', message='impossible de rendre sur '),\n",
       " Row(cycliste='cycliste_azyux', message='impossible de rendre sur '),\n",
       " Row(cycliste='cycliste_azqm3', message='impossible de rendre sur '),\n",
       " Row(cycliste='cycliste_azyh0', message='self.a_la_maison = True'),\n",
       " Row(cycliste='cycliste_azoxv', message='impossible de rendre sur '),\n",
       " Row(cycliste='cycliste_azdwb', message='False a pris le velo velo_aetw4_1486391538.75 sur la station aerdn'),\n",
       " Row(cycliste='cycliste_azdwb', message='False a pris le velo velo_azqx2_1486391529.0 sur la station aerdn'),\n",
       " Row(cycliste='cycliste_azsk6', message='False a pris le velo velo_ael59_1486391529.64 sur la station aehbn'),\n",
       " Row(cycliste='cycliste_azyuw', message='velo rendu sur la station artys ( a la maison = True) (elem de station_maison)'),\n",
       " Row(cycliste='cycliste_azfhj', message='impossible de rendre sur '),\n",
       " Row(cycliste='cycliste_azud0', message='impossible de rendre sur '),\n",
       " Row(cycliste='cycliste_aze24', message='velo pris sur station aefh2 (elem de station maison)'),\n",
       " Row(cycliste='cycliste_azfjn', message='impossible de rendre sur '),\n",
       " Row(cycliste='cycliste_azpx4', message='False a pris le velo velo_ardg1_1486391531.91 sur la station aer26'),\n",
       " Row(cycliste='cycliste_azqhl', message='impossible de rendre sur '),\n",
       " Row(cycliste='cycliste_azfg1', message='False a pris le velo velo_artbn_1486391533.24 sur la station az160'),\n",
       " Row(cycliste='cycliste_azuo5', message='velo rendu sur la station aeg47 ( a la maison = False) (elem de station_travail)'),\n",
       " Row(cycliste='cycliste_azdv0', message='True a pris le velo velo_ari78_1486391532.45 sur la station azts8'),\n",
       " Row(cycliste='cycliste_azdgb', message='velo rendu sur la station aetgw ( a la maison = False) (elem de station_travail)'),\n",
       " Row(cycliste='cycliste_azyqd', message='velo pris sur station aztdv (elem de station travail)'),\n",
       " Row(cycliste='cycliste_aztim', message='self.a_la_maison = True'),\n",
       " Row(cycliste='cycliste_azsh6', message='impossible de rendre sur '),\n",
       " Row(cycliste='cycliste_azpxn', message='False a pris le velo velo_aeh59_1486391530.24 sur la station arohn'),\n",
       " Row(cycliste='cycliste_azsd7', message='velo rendu sur la station azdm3 ( a la maison = False) (elem de station_travail)'),\n",
       " Row(cycliste='cycliste_azejb', message='self.a_la_maison = True'),\n",
       " Row(cycliste='cycliste_azem6', message='impossible de rendre sur '),\n",
       " Row(cycliste='cycliste_azyfw', message='True a pris le velo velo_aro38_1486391536.69 sur la station aeikb'),\n",
       " Row(cycliste='cycliste_azeg3', message='impossible de rendre sur '),\n",
       " Row(cycliste='cycliste_azen0', message='velo pris sur station aerw0 (elem de station travail)'),\n",
       " Row(cycliste='cycliste_azyx9', message='self.a_la_maison = True'),\n",
       " Row(cycliste='cycliste_azpd2', message='impossible de rendre sur '),\n",
       " Row(cycliste='cycliste_aztin', message='True a pris le velo velo_aes46_1486391538.27 sur la station azb50'),\n",
       " Row(cycliste='cycliste_azef1', message='impossible de rendre sur '),\n",
       " Row(cycliste='cycliste_azrf3', message='False a pris le velo velo_aergx_1486391539.25 sur la station aztgj'),\n",
       " Row(cycliste='cycliste_aziqb', message='impossible de rendre sur '),\n",
       " Row(cycliste='cycliste_azsgk', message='impossible de rendre sur '),\n",
       " Row(cycliste='cycliste_azow8', message='impossible de rendre sur '),\n",
       " Row(cycliste='cycliste_aztsm', message='impossible de rendre sur '),\n",
       " Row(cycliste='cycliste_aztsm', message='impossible de rendre sur '),\n",
       " Row(cycliste='cycliste_azpqd', message='impossible de rendre sur '),\n",
       " Row(cycliste='cycliste_azul3', message='self.a_la_maison = True'),\n",
       " Row(cycliste='cycliste_azyv4', message='velo pris sur station aejkm (elem de station travail)'),\n",
       " Row(cycliste='cycliste_azpqh', message='velo pris sur station aes50 (elem de station travail)'),\n",
       " Row(cycliste='cycliste_azif1', message='self.a_la_maison = False'),\n",
       " Row(cycliste='cycliste_aziw7', message='pas de velo sur la station arikb '),\n",
       " Row(cycliste='cycliste_aziwx', message='velo pris sur station aesm4 (elem de station maison)'),\n",
       " Row(cycliste='cycliste_aziwx', message='self.a_la_maison = True'),\n",
       " Row(cycliste='cycliste_azy45', message='velo pris sur station aeui9 (elem de station maison)'),\n",
       " Row(cycliste='cycliste_azql4', message='True a pris le velo velo_azdjw_1486391534.16 sur la station aetp8'),\n",
       " Row(cycliste='cycliste_azy70', message='False a pris le velo velo_aekw3_1486391529.05 sur la station aeqfh'),\n",
       " Row(cycliste='cycliste_azef4', message='self.a_la_maison = True'),\n",
       " Row(cycliste='cycliste_azrum', message='impossible de rendre sur '),\n",
       " Row(cycliste='cycliste_azeuk', message='True a pris le velo velo_aein9_1486391538.99 sur la station aeg47'),\n",
       " Row(cycliste='cycliste_azuw2', message='False a pris le velo velo_azru9_1486391532.15 sur la station aehbn'),\n",
       " Row(cycliste='cycliste_aztyi', message='velo rendu sur la station aeikb ( a la maison = False) (elem de station_travail)'),\n",
       " Row(cycliste='cycliste_azo59', message='impossible de rendre sur '),\n",
       " Row(cycliste='cycliste_azyjx', message='True a pris le velo velo_artc2_1486391530.83 sur la station aerpf'),\n",
       " Row(cycliste='cycliste_azryc', message='self.a_la_maison = True'),\n",
       " Row(cycliste='cycliste_azoj1', message='velo rendu sur la station azuf0 ( a la maison = True) (elem de station_maison)'),\n",
       " Row(cycliste='cycliste_azdn9', message='self.a_la_maison = False'),\n",
       " Row(cycliste='cycliste_azsj7', message='impossible de rendre sur '),\n",
       " Row(cycliste='cycliste_aztyg', message='impossible de rendre sur '),\n",
       " Row(cycliste='cycliste_aztyg', message='False a pris le velo velo_azqw3_1486391533.42 sur la station aeokm'),\n",
       " Row(cycliste='cycliste_azehw', message='impossible de rendre sur '),\n",
       " Row(cycliste='cycliste_azpbn', message='velo pris sur station aetgw (elem de station travail)'),\n",
       " Row(cycliste='cycliste_azi19', message='velo rendu sur la station aetg1 ( a la maison = False) (elem de station_travail)'),\n",
       " Row(cycliste='cycliste_azosm', message='impossible de rendre sur '),\n",
       " Row(cycliste='cycliste_azek8', message='self.a_la_maison = True'),\n",
       " Row(cycliste='cycliste_azopb', message='self.a_la_maison = False'),\n",
       " Row(cycliste='cycliste_azuh4', message='pas de velo sur la station aeyfb '),\n",
       " Row(cycliste='cycliste_azdfg', message='velo rendu sur la station aeuo5 ( a la maison = True) (elem de station_maison)'),\n",
       " Row(cycliste='cycliste_azsf6', message='impossible de rendre sur '),\n",
       " Row(cycliste='cycliste_azty8', message='velo rendu sur la station arpsj ( a la maison = False) (elem de station_travail)'),\n",
       " Row(cycliste='cycliste_aztb7', message='impossible de rendre sur '),\n",
       " Row(cycliste='cycliste_azplw', message='self.a_la_maison = True'),\n",
       " Row(cycliste='cycliste_azeqj', message='self.a_la_maison = True'),\n",
       " Row(cycliste='cycliste_azqdh', message='velo pris sur station azqg8 (elem de station travail)'),\n",
       " Row(cycliste='cycliste_azdx4', message='self.a_la_maison = False'),\n",
       " Row(cycliste='cycliste_azuwx', message='impossible de rendre sur '),\n",
       " Row(cycliste='cycliste_azuw4', message='True a pris le velo velo_aeopn_1486391528.37 sur la station azx25'),\n",
       " Row(cycliste='cycliste_azrwn', message='velo pris sur station aev69 (elem de station maison)'),\n",
       " Row(cycliste='cycliste_aztyj', message='impossible de rendre sur '),\n",
       " Row(cycliste='cycliste_azel7', message='self.a_la_maison = False'),\n",
       " Row(cycliste='cycliste_azefg', message='self.a_la_maison = False'),\n",
       " Row(cycliste='cycliste_azipx', message='impossible de rendre sur '),\n",
       " Row(cycliste='cycliste_azi30', message='impossible de rendre sur '),\n",
       " Row(cycliste='cycliste_azei0', message='False a pris le velo velo_aryj8_1486391533.51 sur la station azesn'),\n",
       " Row(cycliste='cycliste_azrgm', message='impossible de rendre sur '),\n",
       " Row(cycliste='cycliste_azetc', message='False a pris le velo velo_arug6_1486391539.16 sur la station azqg8'),\n",
       " Row(cycliste='cycliste_azijc', message='True a pris le velo velo_aeisn_1486391530.66 sur la station aetgw'),\n",
       " Row(cycliste='cycliste_azoh5', message='impossible de rendre sur '),\n",
       " Row(cycliste='cycliste_azoh5', message='impossible de rendre sur '),\n",
       " Row(cycliste='cycliste_azeto', message='impossible de rendre sur '),\n",
       " Row(cycliste='cycliste_azerq', message='velo rendu sur la station aesm4 ( a la maison = True) (elem de station_maison)'),\n",
       " Row(cycliste='cycliste_azoc8', message='False a pris le velo velo_aeow0_1486391534.04 sur la station aeokm'),\n",
       " Row(cycliste='cycliste_aztp5', message='self.a_la_maison = True'),\n",
       " Row(cycliste='cycliste_azi18', message='impossible de rendre sur '),\n",
       " Row(cycliste='cycliste_azigb', message='velo rendu sur la station aeqs9 ( a la maison = True) (elem de station_maison)'),\n",
       " Row(cycliste='cycliste_azrw7', message='velo pris sur station aelx6 (elem de station maison)'),\n",
       " Row(cycliste='cycliste_azrtn', message='impossible de rendre sur '),\n",
       " Row(cycliste='cycliste_azqjv', message='impossible de rendre sur '),\n",
       " Row(cycliste='cycliste_azeio', message='velo pris sur station azu59 (elem de station travail)'),\n",
       " Row(cycliste='cycliste_azph6', message='self.a_la_maison = True'),\n",
       " Row(cycliste='cycliste_azom5', message='velo pris sur station aehbn (elem de station travail)'),\n",
       " Row(cycliste='cycliste_azpb1', message='impossible de rendre sur '),\n",
       " Row(cycliste='cycliste_azifm', message='impossible de rendre sur '),\n",
       " Row(cycliste='cycliste_azes8', message='impossible de rendre sur '),\n",
       " Row(cycliste='cycliste_aztp2', message='impossible de rendre sur '),\n",
       " Row(cycliste='cycliste_azdfm', message='impossible de rendre sur '),\n",
       " Row(cycliste='cycliste_azd48', message='impossible de rendre sur '),\n",
       " Row(cycliste='cycliste_azexn', message='velo rendu sur la station art27 ( a la maison = True) (elem de station_maison)'),\n",
       " Row(cycliste='cycliste_azew1', message='self.a_la_maison = False'),\n",
       " Row(cycliste='cycliste_azocb', message='impossible de rendre sur '),\n",
       " Row(cycliste='cycliste_azruj', message='velo defaillant <0.1'),\n",
       " Row(cycliste='cycliste_azyuv', message='self.a_la_maison = False'),\n",
       " Row(cycliste='cycliste_azo10', message='velo rendu sur la station aecb6 ( a la maison = True) (elem de station_maison)'),\n",
       " Row(cycliste='cycliste_aztg8', message='velo rendu sur la station azu59 ( a la maison = True) (elem de station_maison)'),\n",
       " Row(cycliste='cycliste_azipf', message='self.a_la_maison = True'),\n",
       " Row(cycliste='cycliste_azpm1', message='velo pris sur station azuc9 (elem de station maison)'),\n",
       " Row(cycliste='cycliste_azqsv', message='True a pris le velo velo_aesf4_1486391538.22 sur la station aejl4'),\n",
       " Row(cycliste='cycliste_azrk5', message='velo defaillant <0.1'),\n",
       " Row(cycliste='cycliste_azec8', message='self.a_la_maison = True'),\n",
       " Row(cycliste='cycliste_azph1', message='velo pris sur station azys1 (elem de station maison)'),\n",
       " Row(cycliste='cycliste_azeb7', message='velo rendu sur la station arpsj ( a la maison = True) (elem de station_maison)'),\n",
       " Row(cycliste='cycliste_azq38', message='False a pris le velo velo_arfhv_1486391529.22 sur la station azu59'),\n",
       " Row(cycliste='cycliste_azeo3', message='self.a_la_maison = True'),\n",
       " Row(cycliste='cycliste_azipd', message='velo rendu sur la station aeyfb ( a la maison = False) (elem de station_travail)'),\n",
       " Row(cycliste='cycliste_aztyk', message='False a pris le velo velo_aew57_1486391529.33 sur la station azuc9'),\n",
       " Row(cycliste='cycliste_azqf2', message='pas de velo sur la station azsc3 '),\n",
       " Row(cycliste='cycliste_aztuo', message='impossible de rendre sur '),\n",
       " Row(cycliste='cycliste_aztqg', message='True a pris le velo velo_aeyn8_1486391530.07 sur la station aeyfm'),\n",
       " Row(cycliste='cycliste_azuw9', message='self.a_la_maison = False'),\n",
       " Row(cycliste='cycliste_aziqk', message='velo defaillant <0.1'),\n",
       " Row(cycliste='cycliste_azib3', message='velo rendu sur la station aeqs9 ( a la maison = True) (elem de station_maison)'),\n",
       " Row(cycliste='cycliste_azypj', message='False a pris le velo velo_arpd7_1486391531.47 sur la station aetg1'),\n",
       " Row(cycliste='cycliste_azijb', message='True a pris le velo velo_arsn8_1486391533.46 sur la station aeyx4'),\n",
       " Row(cycliste='cycliste_azisk', message='pas encore arrive'),\n",
       " Row(cycliste='cycliste_azql0', message='velo rendu sur la station aejw5 ( a la maison = True) (elem de station_maison)'),\n",
       " Row(cycliste='cycliste_aztb8', message='impossible de rendre sur '),\n",
       " Row(cycliste='cycliste_azdhx', message='velo pris sur station aef67 (elem de station maison)'),\n",
       " Row(cycliste='cycliste_azqsf', message='impossible de rendre sur '),\n",
       " Row(cycliste='cycliste_aztih', message='velo pris sur station aekwb (elem de station maison)'),\n",
       " Row(cycliste='cycliste_aziop', message='velo rendu sur la station aerpf ( a la maison = True) (elem de station_maison)'),\n",
       " Row(cycliste='cycliste_azs34', message='impossible de rendre sur '),\n",
       " Row(cycliste='cycliste_azefg', message='impossible de rendre sur '),\n",
       " Row(cycliste='cycliste_azefg', message='impossible de rendre sur '),\n",
       " Row(cycliste='cycliste_azeih', message='self.a_la_maison = True'),\n",
       " Row(cycliste='cycliste_aztdx', message='impossible de rendre sur '),\n",
       " Row(cycliste='cycliste_azec4', message='impossible de rendre sur '),\n",
       " Row(cycliste='cycliste_aztc6', message='impossible de rendre sur '),\n",
       " Row(cycliste='cycliste_azyd0', message='impossible de rendre sur '),\n",
       " Row(cycliste='cycliste_azyox', message='self.a_la_maison = True'),\n",
       " Row(cycliste='cycliste_azek6', message='impossible de rendre sur '),\n",
       " Row(cycliste='cycliste_aztc3', message='impossible de rendre sur '),\n",
       " Row(cycliste='cycliste_azq39', message='impossible de rendre sur '),\n",
       " Row(cycliste='cycliste_azd26', message='impossible de rendre sur '),\n",
       " Row(cycliste='cycliste_azeru', message='impossible de rendre sur '),\n",
       " Row(cycliste='cycliste_azykn', message='impossible de rendre sur '),\n",
       " Row(cycliste='cycliste_azeib', message='impossible de rendre sur '),\n",
       " Row(cycliste='cycliste_azdw4', message='impossible de rendre sur '),\n",
       " Row(cycliste='cycliste_azygv', message='impossible de rendre sur '),\n",
       " Row(cycliste='cycliste_azyw1', message='impossible de rendre sur '),\n",
       " Row(cycliste='cycliste_azti4', message='impossible de rendre sur '),\n",
       " Row(cycliste='cycliste_azfjb', message='impossible de rendre sur '),\n",
       " Row(cycliste='cycliste_azrt2', message='impossible de rendre sur '),\n",
       " Row(cycliste='cycliste_azyqn', message='impossible de rendre sur '),\n",
       " Row(cycliste='cycliste_azey4', message='self.a_la_maison = True'),\n",
       " Row(cycliste='cycliste_azil8', message='impossible de rendre sur '),\n",
       " Row(cycliste='cycliste_azyk0', message='impossible de rendre sur '),\n",
       " Row(cycliste='cycliste_azei8', message='impossible de rendre sur '),\n",
       " Row(cycliste='cycliste_azrxv', message='False a pris le velo velo_aedc9_1486391537.66 sur la station artgw'),\n",
       " Row(cycliste='cycliste_azrjw', message='impossible de rendre sur '),\n",
       " Row(cycliste='cycliste_azogl', message='impossible de rendre sur '),\n",
       " Row(cycliste='cycliste_azexn', message='impossible de rendre sur '),\n",
       " Row(cycliste='cycliste_azeln', message='impossible de rendre sur '),\n",
       " Row(cycliste='cycliste_aze16', message='impossible de rendre sur '),\n",
       " Row(cycliste='cycliste_azeil', message='impossible de rendre sur '),\n",
       " Row(cycliste='cycliste_azew1', message='impossible de rendre sur '),\n",
       " Row(cycliste='cycliste_azyd1', message='impossible de rendre sur '),\n",
       " Row(cycliste='cycliste_azes7', message='impossible de rendre sur '),\n",
       " Row(cycliste='cycliste_azok2', message='velo pris sur station aeqs9 (elem de station travail)'),\n",
       " Row(cycliste='cycliste_azog6', message='True a pris le velo velo_aegh9_1486391537.35 sur la station arpmv'),\n",
       " Row(cycliste='cycliste_azt14', message='self.a_la_maison = True'),\n",
       " Row(cycliste='cycliste_azub8', message='False a pris le velo velo_aekcb_1486391535.78 sur la station azepw'),\n",
       " Row(cycliste='cycliste_azulv', message='velo pris sur station azyd7 (elem de station travail)'),\n",
       " Row(cycliste='cycliste_azrl1', message='pas de velo sur la station arikb '),\n",
       " Row(cycliste='cycliste_azqfj', message='velo defaillant <0.1'),\n",
       " Row(cycliste='cycliste_azsd0', message='velo rendu sur la station arisl ( a la maison = False) (elem de station_travail)'),\n",
       " Row(cycliste='cycliste_azic5', message='velo pris sur station azg39 (elem de station maison)'),\n",
       " Row(cycliste='cycliste_azic5', message='False a pris le velo velo_aev47_1486391532.33 sur la station aeq45'),\n",
       " Row(cycliste='cycliste_azyv9', message='velo pris sur station aef67 (elem de station travail)'),\n",
       " Row(cycliste='cycliste_azif4', message='velo pris sur station arohn (elem de station travail)'),\n",
       " Row(cycliste='cycliste_azepb', message='velo defaillant <0.1'),\n",
       " Row(cycliste='cycliste_aztlm', message='velo rendu sur la station aeh29 ( a la maison = False) (elem de station_travail)'),\n",
       " Row(cycliste='cycliste_aztsc', message='velo rendu sur la station aryuq ( a la maison = True) (elem de station_maison)'),\n",
       " Row(cycliste='cycliste_azrtb', message='self.a_la_maison = False'),\n",
       " Row(cycliste='cycliste_azqdv', message='impossible de rendre sur '),\n",
       " Row(cycliste='cycliste_azic9', message='impossible de rendre sur '),\n",
       " Row(cycliste='cycliste_azuk7', message='True a pris le velo velo_arolw_1486391529.23 sur la station aekn0'),\n",
       " Row(cycliste='cycliste_azuk7', message='velo pris sur station azts8 (elem de station maison)'),\n",
       " Row(cycliste='cycliste_azuol', message='self.a_la_maison = True'),\n",
       " Row(cycliste='cycliste_azrw3', message='velo rendu sur la station azojb ( a la maison = False) (elem de station_travail)'),\n",
       " Row(cycliste='cycliste_azryo', message='velo rendu sur la station aro57 ( a la maison = False) (elem de station_travail)'),\n",
       " Row(cycliste='cycliste_azs38', message='False a pris le velo velo_aeyu9_1486391532.56 sur la station aec37'),\n",
       " Row(cycliste='cycliste_azuq4', message='velo rendu sur la station aru69 ( a la maison = False) (elem de station_travail)'),\n",
       " Row(cycliste='cycliste_azq58', message='velo pris sur station aztdv (elem de station maison)'),\n",
       " Row(cycliste='cycliste_azusb', message='velo rendu sur la station aeugh ( a la maison = False) (elem de station_travail)'),\n",
       " Row(cycliste='cycliste_azth4', message='velo pris sur station argh5 (elem de station travail)'),\n",
       " Row(cycliste='cycliste_azokm', message='self.a_la_maison = False'),\n",
       " Row(cycliste='cycliste_azelw', message='velo rendu sur la station arsg4 ( a la maison = True) (elem de station_maison)'),\n",
       " Row(cycliste='cycliste_azui2', message='True a pris le velo velo_aeqj3_1486391530.06 sur la station azys1'),\n",
       " Row(cycliste='cycliste_azigj', message='velo rendu sur la station aerqb ( a la maison = True) (elem de station_maison)'),\n",
       " Row(cycliste='cycliste_azqsd', message='velo pris sur station azlm1 (elem de station travail)'),\n",
       " Row(cycliste='cycliste_azrpc', message='impossible de rendre sur '),\n",
       " Row(cycliste='cycliste_azolw', message='velo pris sur station arisl (elem de station maison)'),\n",
       " Row(cycliste='cycliste_azdv2', message='velo defaillant <0.1'),\n",
       " Row(cycliste='cycliste_azet9', message='velo pris sur station azc46 (elem de station travail)'),\n",
       " Row(cycliste='cycliste_azei5', message='self.a_la_maison = False'),\n",
       " Row(cycliste='cycliste_azei5', message='velo pris sur station arpmv (elem de station maison)'),\n",
       " Row(cycliste='cycliste_aztfx', message='True a pris le velo velo_aeuq6_1486391533.09 sur la station artgw'),\n",
       " Row(cycliste='cycliste_azru9', message='velo pris sur station azr89 (elem de station maison)'),\n",
       " Row(cycliste='cycliste_aztof', message='velo pris sur station aelx6 (elem de station maison)'),\n",
       " Row(cycliste='cycliste_azux6', message='velo pris sur station aetm9 (elem de station maison)'),\n",
       " Row(cycliste='cycliste_azrq3', message='self.a_la_maison = False'),\n",
       " Row(cycliste='cycliste_azpxn', message='pas de velo sur la station aeq45 '),\n",
       " Row(cycliste='cycliste_aztdk', message='impossible de rendre sur '),\n",
       " Row(cycliste='cycliste_azqsl', message='velo pris sur station aeyow (elem de station travail)'),\n",
       " Row(cycliste='cycliste_azyq5', message='self.a_la_maison = False'),\n",
       " Row(cycliste='cycliste_azym1', message='impossible de rendre sur '),\n",
       " Row(cycliste='cycliste_aztb1', message='impossible de rendre sur '),\n",
       " Row(cycliste='cycliste_azyoj', message='velo rendu sur la station azb50 ( a la maison = False) (elem de station_travail)'),\n",
       " Row(cycliste='cycliste_azew3', message='velo pris sur station azv90 (elem de station maison)'),\n",
       " Row(cycliste='cycliste_azpn3', message='False a pris le velo velo_aej78_1486391534.79 sur la station azsc3'),\n",
       " Row(cycliste='cycliste_azrqc', message='impossible de rendre sur '),\n",
       " Row(cycliste='cycliste_azo30', message='impossible de rendre sur '),\n",
       " Row(cycliste='cycliste_azo50', message='pas de velo sur la station azr89 '),\n",
       " Row(cycliste='cycliste_aztgj', message='velo rendu sur la station aeqs9 ( a la maison = False) (elem de station_travail)'),\n",
       " Row(cycliste='cycliste_azupf', message='False a pris le velo velo_aro59_1486391532.98 sur la station aejc7'),\n",
       " Row(cycliste='cycliste_azrv4', message='velo defaillant <0.5'),\n",
       " Row(cycliste='cycliste_aztg4', message='velo rendu sur la station azb50 ( a la maison = True) (elem de station_maison)'),\n",
       " Row(cycliste='cycliste_azoh6', message='impossible de rendre sur '),\n",
       " Row(cycliste='cycliste_azymw', message='self.a_la_maison = True'),\n",
       " Row(cycliste='cycliste_azymw', message='False a pris le velo velo_aedxc_1486391534.15 sur la station aeyfb'),\n",
       " Row(cycliste='cycliste_azrfb', message='self.a_la_maison = True'),\n",
       " Row(cycliste='cycliste_azrfb', message='velo rendu sur la station aeqdn ( a la maison = False) (elem de station_travail)'),\n",
       " Row(cycliste='cycliste_azyx0', message='self.a_la_maison = True'),\n",
       " Row(cycliste='cycliste_azyp7', message='velo pris sur station aeqb8 (elem de station maison)'),\n",
       " Row(cycliste='cycliste_azpm2', message='velo pris sur station arpsj (elem de station maison)'),\n",
       " Row(cycliste='cycliste_azdx3', message='self.a_la_maison = False'),\n",
       " Row(cycliste='cycliste_azux5', message='velo pris sur station aetp8 (elem de station maison)'),\n",
       " Row(cycliste='cycliste_azdv8', message='velo pris sur station azrqc (elem de station travail)'),\n",
       " Row(cycliste='cycliste_azd40', message='velo rendu sur la station arqlw ( a la maison = True) (elem de station_maison)'),\n",
       " Row(cycliste='cycliste_azd40', message='True a pris le velo velo_aric3_1486391534.79 sur la station aztu9'),\n",
       " Row(cycliste='cycliste_azfh7', message='velo pris sur station aeh29 (elem de station travail)'),\n",
       " Row(cycliste='cycliste_azip7', message='self.a_la_maison = True'),\n",
       " Row(cycliste='cycliste_azp24', message='velo rendu sur la station azqg8 ( a la maison = False) (elem de station_travail)'),\n",
       " Row(cycliste='cycliste_azi12', message='velo rendu sur la station aeqs9 ( a la maison = True) (elem de station_maison)'),\n",
       " Row(cycliste='cycliste_azyf5', message='velo rendu sur la station azesn ( a la maison = False) (elem de station_travail)'),\n",
       " Row(cycliste='cycliste_aztsd', message='False a pris le velo velo_aeoq9_1486391531.02 sur la station aewv2'),\n",
       " Row(cycliste='cycliste_azdj4', message='self.a_la_maison = True'),\n",
       " Row(cycliste='cycliste_azo16', message='impossible de rendre sur '),\n",
       " Row(cycliste='cycliste_azeo4', message='self.a_la_maison = True'),\n",
       " Row(cycliste='cycliste_azeo4', message='velo pris sur station aekn0 (elem de station travail)'),\n",
       " Row(cycliste='cycliste_azpl7', message='velo pris sur station aekwb (elem de station travail)'),\n",
       " Row(cycliste='cycliste_azp30', message='self.a_la_maison = True'),\n",
       " Row(cycliste='cycliste_azow3', message='self.a_la_maison = False'),\n",
       " Row(cycliste='cycliste_azsxn', message='impossible de rendre sur '),\n",
       " Row(cycliste='cycliste_azod9', message='impossible de rendre sur '),\n",
       " Row(cycliste='cycliste_azpkx', message='velo pris sur station arqdh (elem de station maison)'),\n",
       " Row(cycliste='cycliste_azob9', message='self.a_la_maison = False'),\n",
       " Row(cycliste='cycliste_azps7', message='self.a_la_maison = False'),\n",
       " Row(cycliste='cycliste_azyd7', message='False a pris le velo velo_aerv1_1486391530.99 sur la station aeokm'),\n",
       " Row(cycliste='cycliste_azpq1', message='self.a_la_maison = True'),\n",
       " Row(cycliste='cycliste_azty5', message='velo pris sur station azr89 (elem de station travail)'),\n",
       " Row(cycliste='cycliste_azty5', message='self.a_la_maison = False'),\n",
       " Row(cycliste='cycliste_azpl5', message='True a pris le velo velo_aejb9_1486391531.3 sur la station aryuq'),\n",
       " Row(cycliste='cycliste_azerb', message='True a pris le velo velo_azflc_1486391534.59 sur la station azb50'),\n",
       " Row(cycliste='cycliste_azojn', message='velo rendu sur la station argv3 ( a la maison = False) (elem de station_travail)'),\n",
       " Row(cycliste='cycliste_azoj8', message='self.a_la_maison = True'),\n",
       " Row(cycliste='cycliste_azoj8', message='False a pris le velo velo_azy70_1486391537.88 sur la station aetuc'),\n",
       " Row(cycliste='cycliste_azdg9', message='velo pris sur station aeru2 (elem de station maison)'),\n",
       " Row(cycliste='cycliste_azyj0', message='False a pris le velo velo_aephw_1486391532.61 sur la station azrmx'),\n",
       " Row(cycliste='cycliste_azosh', message='velo pris sur station azojb (elem de station maison)'),\n",
       " Row(cycliste='cycliste_aziom', message='velo rendu sur la station argl4 ( a la maison = False) (elem de station_travail)'),\n",
       " Row(cycliste='cycliste_azuw6', message='self.a_la_maison = True'),\n",
       " Row(cycliste='cycliste_azrif', message='velo rendu sur la station azuf0 ( a la maison = False) (elem de station_travail)'),\n",
       " Row(cycliste='cycliste_azt50', message='self.a_la_maison = True'),\n",
       " Row(cycliste='cycliste_azysw', message='self.a_la_maison = True'),\n",
       " Row(cycliste='cycliste_azil3', message='velo rendu sur la station ardl9 ( a la maison = False) (elem de station_travail)'),\n",
       " Row(cycliste='cycliste_azidh', message='False a pris le velo velo_azi13_1486391531.54 sur la station aeui9'),\n",
       " Row(cycliste='cycliste_azerj', message='velo pris sur station aerpf (elem de station maison)'),\n",
       " Row(cycliste='cycliste_azidf', message='impossible de rendre sur '),\n",
       " Row(cycliste='cycliste_azrhb', message='impossible de rendre sur '),\n",
       " Row(cycliste='cycliste_azrc7', message='True a pris le velo velo_aedm9_1486391528.27 sur la station azlm1'),\n",
       " Row(cycliste='cycliste_azui8', message='impossible de rendre sur '),\n",
       " Row(cycliste='cycliste_azepc', message='True a pris le velo velo_aeskb_1486391534.44 sur la station aeru2'),\n",
       " Row(cycliste='cycliste_azidg', message='impossible de rendre sur '),\n",
       " Row(cycliste='cycliste_azsdl', message='velo rendu sur la station aeb57 ( a la maison = True) (elem de station_maison)'),\n",
       " Row(cycliste='cycliste_azyn0', message='self.a_la_maison = True'),\n",
       " Row(cycliste='cycliste_azei4', message='impossible de rendre sur '),\n",
       " Row(cycliste='cycliste_azom2', message='impossible de rendre sur '),\n",
       " Row(cycliste='cycliste_azt90', message='self.a_la_maison = True'),\n",
       " Row(cycliste='cycliste_azt90', message='impossible de rendre sur '),\n",
       " Row(cycliste='cycliste_azqcn', message='pas de velo sur la station az368 '),\n",
       " Row(cycliste='cycliste_azry9', message='velo rendu sur la station aeyf1 ( a la maison = True) (elem de station_maison)'),\n",
       " Row(cycliste='cycliste_azei0', message='impossible de rendre sur '),\n",
       " Row(cycliste='cycliste_azsfb', message='impossible de rendre sur '),\n",
       " Row(cycliste='cycliste_azu13', message='impossible de rendre sur '),\n",
       " Row(cycliste='cycliste_azsj2', message='self.a_la_maison = True'),\n",
       " Row(cycliste='cycliste_azyib', message='self.a_la_maison = True'),\n",
       " Row(cycliste='cycliste_aztdx', message='impossible de rendre sur '),\n",
       " Row(cycliste='cycliste_azrkb', message='self.a_la_maison = True'),\n",
       " Row(cycliste='cycliste_azujw', message='velo rendu sur la station azdm3 ( a la maison = True) (elem de station_maison)'),\n",
       " Row(cycliste='cycliste_azew0', message='velo pris sur station azyn1 (elem de station maison)'),\n",
       " Row(cycliste='cycliste_azps1', message='impossible de rendre sur '),\n",
       " Row(cycliste='cycliste_azub9', message='self.a_la_maison = True'),\n",
       " Row(cycliste='cycliste_azebn', message='impossible de rendre sur '),\n",
       " Row(cycliste='cycliste_aztfj', message='impossible de rendre sur '),\n",
       " Row(cycliste='cycliste_azu57', message='impossible de rendre sur '),\n",
       " Row(cycliste='cycliste_aztsm', message='False a pris le velo velo_azsc3_1486391536.68 sur la station azmx4'),\n",
       " Row(cycliste='cycliste_azpdb', message='self.a_la_maison = False'),\n",
       " Row(cycliste='cycliste_azodh', message='impossible de rendre sur '),\n",
       " Row(cycliste='cycliste_azqc5', message='impossible de rendre sur '),\n",
       " Row(cycliste='cycliste_azisx', message='impossible de rendre sur '),\n",
       " Row(cycliste='cycliste_azfj3', message='impossible de rendre sur '),\n",
       " Row(cycliste='cycliste_azrdc', message='impossible de rendre sur '),\n",
       " Row(cycliste='cycliste_azd16', message='impossible de rendre sur '),\n",
       " Row(cycliste='cycliste_azud4', message='impossible de rendre sur '),\n",
       " Row(cycliste='cycliste_azilc', message='impossible de rendre sur '),\n",
       " Row(cycliste='cycliste_azrt2', message='self.a_la_maison = True'),\n",
       " Row(cycliste='cycliste_azrqn', message='self.a_la_maison = False'),\n",
       " Row(cycliste='cycliste_azqm4', message='impossible de rendre sur '),\n",
       " Row(cycliste='cycliste_azdm6', message='impossible de rendre sur '),\n",
       " Row(cycliste='cycliste_azuhc', message='impossible de rendre sur '),\n",
       " Row(cycliste='cycliste_azd19', message='impossible de rendre sur '),\n",
       " Row(cycliste='cycliste_azrjw', message='impossible de rendre sur '),\n",
       " Row(cycliste='cycliste_aztp0', message='impossible de rendre sur '),\n",
       " Row(cycliste='cycliste_azry8', message='impossible de rendre sur '),\n",
       " Row(cycliste='cycliste_azdwx', message='impossible de rendre sur '),\n",
       " Row(cycliste='cycliste_azdmx', message='impossible de rendre sur '),\n",
       " Row(cycliste='cycliste_azt47', message='pas de velo sur la station aetg1 '),\n",
       " Row(cycliste='cycliste_azrb3', message='True a pris le velo velo_azdgm_1486391533.24 sur la station aejc7'),\n",
       " Row(cycliste='cycliste_azuwv', message='self.a_la_maison = False'),\n",
       " Row(cycliste='cycliste_azrl7', message='velo rendu sur la station aejkm ( a la maison = False) (elem de station_travail)'),\n",
       " Row(cycliste='cycliste_azus1', message='velo defaillant <0.1'),\n",
       " Row(cycliste='cycliste_azi30', message='impossible de rendre sur '),\n",
       " Row(cycliste='cycliste_azr30', message='self.a_la_maison = False'),\n",
       " Row(cycliste='cycliste_aztgv', message='impossible de rendre sur '),\n",
       " Row(cycliste='cycliste_azugm', message='True a pris le velo velo_azrt9_1486391534.32 sur la station aridv'),\n",
       " Row(cycliste='cycliste_azdgj', message='velo defaillant <0.1'),\n",
       " Row(cycliste='cycliste_azqb1', message='velo defaillant <0.1'),\n",
       " Row(cycliste='cycliste_azrqs', message='impossible de rendre sur '),\n",
       " Row(cycliste='cycliste_azpb7', message='velo pris sur station azv29 (elem de station travail)'),\n",
       " Row(cycliste='cycliste_azol2', message='True a pris le velo velo_aegmw_1486391531.02 sur la station aetg5'),\n",
       " Row(cycliste='cycliste_azol2', message='velo pris sur station argh5 (elem de station maison)'),\n",
       " Row(cycliste='cycliste_azpdl', message='velo pris sur station azrj5 (elem de station maison)'),\n",
       " Row(cycliste='cycliste_azodj', message='velo pris sur station aesm4 (elem de station maison)'),\n",
       " Row(cycliste='cycliste_azq38', message='impossible de rendre sur '),\n",
       " Row(cycliste='cycliste_azop8', message='True a pris le velo velo_aeypq_1486391529.5 sur la station azetk'),\n",
       " Row(cycliste='cycliste_azeqx', message='impossible de rendre sur '),\n",
       " Row(cycliste='cycliste_azfkx', message='impossible de rendre sur '),\n",
       " Row(cycliste='cycliste_azqd6', message='impossible de rendre sur '),\n",
       " Row(cycliste='cycliste_azeok', message='velo rendu sur la station aeg47 ( a la maison = False) (elem de station_travail)'),\n",
       " Row(cycliste='cycliste_aztc6', message='self.a_la_maison = False'),\n",
       " Row(cycliste='cycliste_azpdg', message='impossible de rendre sur '),\n",
       " Row(cycliste='cycliste_azi20', message='impossible de rendre sur '),\n",
       " Row(cycliste='cycliste_azt79', message='velo pris sur station azsmn (elem de station travail)'),\n",
       " Row(cycliste='cycliste_azrg7', message='impossible de rendre sur '),\n",
       " Row(cycliste='cycliste_azyps', message='self.a_la_maison = True'),\n",
       " Row(cycliste='cycliste_azrqv', message='impossible de rendre sur '),\n",
       " Row(cycliste='cycliste_azumv', message='impossible de rendre sur '),\n",
       " Row(cycliste='cycliste_azrlv', message='impossible de rendre sur '),\n",
       " Row(cycliste='cycliste_azo46', message='impossible de rendre sur '),\n",
       " Row(cycliste='cycliste_azdfm', message='self.a_la_maison = True'),\n",
       " Row(cycliste='cycliste_azdc7', message='impossible de rendre sur '),\n",
       " Row(cycliste='cycliste_azty9', message='impossible de rendre sur '),\n",
       " Row(cycliste='cycliste_azrhl', message='impossible de rendre sur '),\n",
       " Row(cycliste='cycliste_azof6', message='impossible de rendre sur '),\n",
       " Row(cycliste='cycliste_azuow', message='impossible de rendre sur '),\n",
       " Row(cycliste='cycliste_azryi', message='impossible de rendre sur '),\n",
       " Row(cycliste='cycliste_azr20', message='impossible de rendre sur '),\n",
       " Row(cycliste='cycliste_azsd1', message='impossible de rendre sur '),\n",
       " Row(cycliste='cycliste_azqsx', message='impossible de rendre sur '),\n",
       " Row(cycliste='cycliste_azqsx', message='impossible de rendre sur '),\n",
       " Row(cycliste='cycliste_azfhw', message='impossible de rendre sur '),\n",
       " Row(cycliste='cycliste_azuof', message='self.a_la_maison = True'),\n",
       " Row(cycliste='cycliste_azro3', message='self.a_la_maison = False'),\n",
       " Row(cycliste='cycliste_azdcn', message='impossible de rendre sur '),\n",
       " Row(cycliste='cycliste_azt16', message='impossible de rendre sur '),\n",
       " Row(cycliste='cycliste_azpf1', message='impossible de rendre sur '),\n",
       " Row(cycliste='cycliste_azd27', message='False a pris le velo velo_aztio_1486391535.95 sur la station aeui9'),\n",
       " Row(cycliste='cycliste_azum1', message='velo rendu sur la station aemv0 ( a la maison = False) (elem de station_travail)'),\n",
       " Row(cycliste='cycliste_azen2', message='velo rendu sur la station arpmv ( a la maison = False) (elem de station_travail)'),\n",
       " Row(cycliste='cycliste_azton', message='False a pris le velo velo_aesl6_1486391536.03 sur la station aetp8'),\n",
       " Row(cycliste='cycliste_azog9', message='True a pris le velo velo_azscv_1486391536.48 sur la station azeos'),\n",
       " Row(cycliste='cycliste_azog9', message='self.a_la_maison = True'),\n",
       " Row(cycliste='cycliste_azuv5', message='velo rendu sur la station argl4 ( a la maison = True) (elem de station_maison)'),\n",
       " Row(cycliste='cycliste_azed1', message='True a pris le velo velo_ari15_1486391528.67 sur la station ario5'),\n",
       " Row(cycliste='cycliste_azeic', message='velo pris sur station aesm4 (elem de station travail)'),\n",
       " Row(cycliste='cycliste_aziwb', message='velo rendu sur la station aes70 ( a la maison = False) (elem de station_travail)'),\n",
       " Row(cycliste='cycliste_azpf0', message='False a pris le velo velo_azpx1_1486391539.53 sur la station arucb'),\n",
       " Row(cycliste='cycliste_aztym', message='True a pris le velo velo_aryv3_1486391529.79 sur la station aem39'),\n",
       " Row(cycliste='cycliste_azsg4', message='velo rendu sur la station azu59 ( a la maison = True) (elem de station_maison)'),\n",
       " Row(cycliste='cycliste_azeph', message='self.a_la_maison = True'),\n",
       " Row(cycliste='cycliste_azdl0', message='False a pris le velo velo_aegj5_1486391530.94 sur la station azv29'),\n",
       " Row(cycliste='cycliste_azybn', message='velo rendu sur la station azg39 ( a la maison = False) (elem de station_travail)'),\n",
       " Row(cycliste='cycliste_azovb', message='self.a_la_maison = True'),\n",
       " Row(cycliste='cycliste_azeg9', message='velo pris sur station arpmv (elem de station travail)'),\n",
       " Row(cycliste='cycliste_azyiv', message='velo rendu sur la station aehbn ( a la maison = False) (elem de station_travail)'),\n",
       " Row(cycliste='cycliste_azu78', message='velo pris sur station aru69 (elem de station maison)'),\n",
       " Row(cycliste='cycliste_azpgv', message='velo rendu sur la station aes50 ( a la maison = True) (elem de station_maison)'),\n",
       " Row(cycliste='cycliste_azusg', message='velo rendu sur la station aesb1 ( a la maison = True) (elem de station_maison)'),\n",
       " Row(cycliste='cycliste_azrti', message='velo pris sur station aeokm (elem de station maison)'),\n",
       " Row(cycliste='cycliste_azq15', message='self.a_la_maison = False'),\n",
       " Row(cycliste='cycliste_aztf3', message='pas de velo sur la station arujb '),\n",
       " Row(cycliste='cycliste_aztul', message='self.a_la_maison = False'),\n",
       " Row(cycliste='cycliste_azd17', message='False a pris le velo velo_aehlc_1486391531.23 sur la station aztqw'),\n",
       " Row(cycliste='cycliste_azyum', message='self.a_la_maison = True'),\n",
       " Row(cycliste='cycliste_azet5', message='self.a_la_maison = True'),\n",
       " Row(cycliste='cycliste_azscb', message='velo pris sur station aemw5 (elem de station maison)'),\n",
       " Row(cycliste='cycliste_aztqd', message='velo pris sur station azrj5 (elem de station maison)'),\n",
       " Row(cycliste='cycliste_azi24', message='velo pris sur station azrj5 (elem de station maison)'),\n",
       " Row(cycliste='cycliste_azyq6', message='True a pris le velo velo_azmc5_1486391534.97 sur la station aexb9'),\n",
       " Row(cycliste='cycliste_azocn', message='self.a_la_maison = True'),\n",
       " Row(cycliste='cycliste_azrqm', message='velo rendu sur la station aeyw9 ( a la maison = False) (elem de station_travail)'),\n",
       " Row(cycliste='cycliste_azdkv', message='self.a_la_maison = True'),\n",
       " Row(cycliste='cycliste_azyx6', message='velo pris sur station aep18 (elem de station maison)'),\n",
       " Row(cycliste='cycliste_aztu0', message='self.a_la_maison = False'),\n",
       " Row(cycliste='cycliste_azt78', message='self.a_la_maison = False'),\n",
       " Row(cycliste='cycliste_azsfl', message='self.a_la_maison = False'),\n",
       " Row(cycliste='cycliste_azrdw', message='velo rendu sur la station aemv2 ( a la maison = True) (elem de station_maison)'),\n",
       " Row(cycliste='cycliste_azy26', message='impossible de rendre sur '),\n",
       " Row(cycliste='cycliste_azsd6', message='velo pris sur station ario5 (elem de station maison)'),\n",
       " Row(cycliste='cycliste_azydn', message='self.a_la_maison = False'),\n",
       " Row(cycliste='cycliste_azus7', message='impossible de rendre sur '),\n",
       " Row(cycliste='cycliste_azog1', message='self.a_la_maison = False'),\n",
       " Row(cycliste='cycliste_azt68', message='self.a_la_maison = False'),\n",
       " Row(cycliste='cycliste_azdwc', message='pas de velo sur la station aeh13 '),\n",
       " Row(cycliste='cycliste_azrn8', message='impossible de rendre sur '),\n",
       " Row(cycliste='cycliste_aztyq', message='pas de velo sur la station azlb5 '),\n",
       " Row(cycliste='cycliste_azedj', message='True a pris le velo velo_ard36_1486391536.42 sur la station azwx8'),\n",
       " Row(cycliste='cycliste_azuq1', message='velo rendu sur la station aeb57 ( a la maison = False) (elem de station_travail)'),\n",
       " Row(cycliste='cycliste_azioc', message='velo pris sur station aetuc (elem de station travail)'),\n",
       " Row(cycliste='cycliste_aztpg', message='False a pris le velo velo_aetlc_1486391535.84 sur la station arohn'),\n",
       " Row(cycliste='cycliste_azsh6', message='velo pris sur station aes50 (elem de station travail)'),\n",
       " Row(cycliste='cycliste_aztom', message='False a pris le velo velo_aztfx_1486391529.54 sur la station azpv7'),\n",
       " Row(cycliste='cycliste_azpl1', message='True a pris le velo velo_aec35_1486391533.92 sur la station azeos'),\n",
       " Row(cycliste='cycliste_azfk3', message='velo rendu sur la station aetm9 ( a la maison = True) (elem de station_maison)'),\n",
       " Row(cycliste='cycliste_aztx4', message='impossible de rendre sur '),\n",
       " Row(cycliste='cycliste_azpgj', message='velo pris sur station arqlw (elem de station travail)'),\n",
       " Row(cycliste='cycliste_azfj5', message='False a pris le velo velo_aesh2_1486391528.57 sur la station artyq'),\n",
       " Row(cycliste='cycliste_azdh5', message='velo pris sur station aejc7 (elem de station travail)'),\n",
       " Row(cycliste='cycliste_azem2', message='impossible de rendre sur '),\n",
       " Row(cycliste='cycliste_aztd7', message='velo pris sur station aeqfh (elem de station travail)'),\n",
       " Row(cycliste='cycliste_azs90', message='impossible de rendre sur '),\n",
       " Row(cycliste='cycliste_azykv', message='False a pris le velo velo_aeob4_1486391530.23 sur la station ard15'),\n",
       " Row(cycliste='cycliste_azek1', message='True a pris le velo velo_aztw1_1486391528.88 sur la station ardl9'),\n",
       " Row(cycliste='cycliste_azsh5', message='True a pris le velo velo_azogm_1486391536.63 sur la station aesb1'),\n",
       " Row(cycliste='cycliste_azrhv', message='self.a_la_maison = False'),\n",
       " Row(cycliste='cycliste_azsb6', message='True a pris le velo velo_aekn8_1486391538.05 sur la station arsh6'),\n",
       " Row(cycliste='cycliste_azips', message='False a pris le velo velo_azhc2_1486391530.83 sur la station aetm9'),\n",
       " Row(cycliste='cycliste_azidx', message='True a pris le velo velo_aejlv_1486391534.65 sur la station aeijv'),\n",
       " Row(cycliste='cycliste_azu14', message='impossible de rendre sur '),\n",
       " Row(cycliste='cycliste_azumn', message='pas de velo sur la station arikb '),\n",
       " Row(cycliste='cycliste_azdl2', message='pas de velo sur la station azsc3 '),\n",
       " Row(cycliste='cycliste_azi19', message='velo rendu sur la station azesn ( a la maison = True) (elem de station_maison)'),\n",
       " Row(cycliste='cycliste_azd37', message='velo rendu sur la station art27 ( a la maison = True) (elem de station_maison)'),\n",
       " Row(cycliste='cycliste_aze25', message='velo rendu sur la station azmx4 ( a la maison = False) (elem de station_travail)'),\n",
       " Row(cycliste='cycliste_aze25', message='impossible de rendre sur '),\n",
       " Row(cycliste='cycliste_azeoh', message='impossible de rendre sur '),\n",
       " Row(cycliste='cycliste_azdf6', message='self.a_la_maison = True'),\n",
       " Row(cycliste='cycliste_azov8', message='False a pris le velo velo_artp1_1486391539.03 sur la station aeqfh'),\n",
       " Row(cycliste='cycliste_azyn0', message='velo pris sur station aryv1 (elem de station maison)'),\n",
       " Row(cycliste='cycliste_azeqn', message='pas de velo sur la station arf46 '),\n",
       " Row(cycliste='cycliste_azoxb', message='impossible de rendre sur '),\n",
       " Row(cycliste='cycliste_aze80', message='impossible de rendre sur '),\n",
       " Row(cycliste='cycliste_azfg6', message='velo pris sur station aeqdn (elem de station maison)'),\n",
       " Row(cycliste='cycliste_azid1', message='impossible de rendre sur '),\n",
       " Row(cycliste='cycliste_azeif', message='impossible de rendre sur '),\n",
       " Row(cycliste='cycliste_aztw7', message='True a pris le velo velo_aeydk_1486391535.69 sur la station arf46'),\n",
       " Row(cycliste='cycliste_azy12', message='False a pris le velo velo_aeij0_1486391536.29 sur la station azu12'),\n",
       " Row(cycliste='cycliste_azpd1', message='velo pris sur station ardh0 (elem de station maison)'),\n",
       " Row(cycliste='cycliste_azekn', message='impossible de rendre sur '),\n",
       " Row(cycliste='cycliste_azo37', message='velo pris sur station azx25 (elem de station maison)'),\n",
       " Row(cycliste='cycliste_azdw4', message='impossible de rendre sur '),\n",
       " Row(cycliste='cycliste_azdgj', message='False a pris le velo velo_aep59_1486391537.56 sur la station azlb5'),\n",
       " Row(cycliste='cycliste_azerd', message='self.a_la_maison = True'),\n",
       " Row(cycliste='cycliste_azyw1', message='impossible de rendre sur '),\n",
       " Row(cycliste='cycliste_azrj1', message='impossible de rendre sur '),\n",
       " Row(cycliste='cycliste_azthm', message='impossible de rendre sur '),\n",
       " Row(cycliste='cycliste_azrlv', message='impossible de rendre sur '),\n",
       " Row(cycliste='cycliste_azrn4', message='impossible de rendre sur '),\n",
       " Row(cycliste='cycliste_azdc7', message='impossible de rendre sur '),\n",
       " Row(cycliste='cycliste_azdc7', message='impossible de rendre sur '),\n",
       " Row(cycliste='cycliste_azqw7', message='impossible de rendre sur '),\n",
       " Row(cycliste='cycliste_azsd1', message='impossible de rendre sur '),\n",
       " Row(cycliste='cycliste_azsc0', message='impossible de rendre sur '),\n",
       " Row(cycliste='cycliste_azq69', message='self.a_la_maison = False'),\n",
       " Row(cycliste='cycliste_azqm3', message='impossible de rendre sur '),\n",
       " Row(cycliste='cycliste_azyus', message='False a pris le velo velo_aryo0_1486391538.28 sur la station aes70'),\n",
       " Row(cycliste='cycliste_azq49', message='impossible de rendre sur '),\n",
       " Row(cycliste='cycliste_aztqb', message='impossible de rendre sur '),\n",
       " Row(cycliste='cycliste_aztqb', message='impossible de rendre sur '),\n",
       " Row(cycliste='cycliste_azuj4', message='impossible de rendre sur '),\n",
       " Row(cycliste='cycliste_azuj4', message='self.a_la_maison = False'),\n",
       " Row(cycliste='cycliste_azuic', message='self.a_la_maison = False'),\n",
       " Row(cycliste='cycliste_azuxv', message='self.a_la_maison = True'),\n",
       " Row(cycliste='cycliste_azepj', message='impossible de rendre sur '),\n",
       " Row(cycliste='cycliste_azidj', message='impossible de rendre sur '),\n",
       " Row(cycliste='cycliste_azi29', message='velo rendu sur la station aef67 ( a la maison = False) (elem de station_travail)'),\n",
       " Row(cycliste='cycliste_azpdm', message='velo rendu sur la station azdm3 ( a la maison = True) (elem de station_maison)'),\n",
       " Row(cycliste='cycliste_azro0', message='pas de velo sur la station arufj '),\n",
       " Row(cycliste='cycliste_azufw', message='True a pris le velo velo_aeydk_1486391535.69 sur la station azyn1'),\n",
       " Row(cycliste='cycliste_azuos', message='self.a_la_maison = True'),\n",
       " Row(cycliste='cycliste_azov3', message='pas de velo sur la station arsh6 '),\n",
       " Row(cycliste='cycliste_azov3', message='velo pris sur station aeui9 (elem de station maison)'),\n",
       " Row(cycliste='cycliste_azpn2', message='self.a_la_maison = True'),\n",
       " Row(cycliste='cycliste_azdm7', message='True a pris le velo velo_aepk0_1486391529.57 sur la station aed69'),\n",
       " ...]"
      ]
     },
     "execution_count": 62,
     "metadata": {},
     "output_type": "execute_result"
    }
   ],
   "source": [
    "colonnes_voulues = [\"cycliste\", \"message\"]\n",
    "n = 3\n",
    "sample=0.01\n",
    "df[colonnes_voulues].sample(sample).collect()"
   ]
  },
  {
   "cell_type": "markdown",
   "id": "4c3d5b20",
   "metadata": {},
   "source": [
    "## 7.2) extraire de la data d'une colonne"
   ]
  },
  {
   "cell_type": "code",
   "execution_count": null,
   "id": "421d5562",
   "metadata": {},
   "outputs": [],
   "source": []
  },
  {
   "cell_type": "code",
   "execution_count": 55,
   "id": "dcbd8576",
   "metadata": {},
   "outputs": [
    {
     "data": {
      "text/plain": [
       "[Row(cycliste='cycliste_azey2', n_message=442, time=1486038900.39, message='velo rendu sur la station azgb6 ( a la maison = False) (elem de station_travail)'),\n",
       " Row(cycliste='cycliste_azey2', n_message=441, time=1486038900.39, message='impossible de rendre sur '),\n",
       " Row(cycliste='cycliste_azey2', n_message=440, time=1486038900.38, message='self.a_la_maison = False'),\n",
       " Row(cycliste='cycliste_azey2', n_message=439, time=1486038897.85, message='True a pris le velo velo_aelcv_1486034979.01 sur la station ars89'),\n",
       " Row(cycliste='cycliste_azey2', n_message=9, time=1486391567.2, message='velo rendu sur la station aejw5 ( a la maison = False) (elem de station_travail)'),\n",
       " Row(cycliste='cycliste_azey2', n_message=8, time=1486391567.2, message='impossible de rendre sur '),\n",
       " Row(cycliste='cycliste_azey2', n_message=7, time=1486391567.2, message='impossible de rendre sur '),\n",
       " Row(cycliste='cycliste_azey2', n_message=6, time=1486391567.2, message='self.a_la_maison = False'),\n",
       " Row(cycliste='cycliste_azey2', n_message=5, time=1486391560.38, message='True a pris le velo velo_arqwx_1486391538.94 sur la station argh5'),\n",
       " Row(cycliste='cycliste_azey2', n_message=4, time=1486391560.38, message='velo pris sur station aep80 (elem de station maison)'),\n",
       " Row(cycliste='cycliste_azey2', n_message=3, time=1486391548.42, message='station_travail nearest= aev69|arpmv|aep18|ardhn|aejw5|aeyow|arik9|aeqdn'),\n",
       " Row(cycliste='cycliste_azey2', n_message=2, time=1486391548.42, message='station_maison nearest= azdm3|azsf3|azepw|azuf0|aeod9|aetg5|aep80|aemv2'),\n",
       " Row(cycliste='cycliste_azey2', n_message=1, time=1486391548.42, message='station_travail = aetj5'),\n",
       " Row(cycliste='cycliste_azey2', n_message=0, time=1486391548.42, message='station_maison = argh5'),\n",
       " Row(cycliste='cycliste_azey2', n_message=20, time=1486391604.29, message='impossible de rendre sur '),\n",
       " Row(cycliste='cycliste_azey2', n_message=19, time=1486391604.29, message='impossible de rendre sur '),\n",
       " Row(cycliste='cycliste_azey2', n_message=18, time=1486391604.29, message='self.a_la_maison = False'),\n",
       " Row(cycliste='cycliste_azey2', n_message=17, time=1486391599.07, message='True a pris le velo velo_artfb_1486391529.44 sur la station argh5'),\n",
       " Row(cycliste='cycliste_azey2', n_message=16, time=1486391599.07, message='velo pris sur station aemv2 (elem de station maison)'),\n",
       " Row(cycliste='cycliste_azey2', n_message=15, time=1486391585.97, message='velo rendu sur la station aep80 ( a la maison = True) (elem de station_maison)'),\n",
       " Row(cycliste='cycliste_azey2', n_message=14, time=1486391585.97, message='impossible de rendre sur '),\n",
       " Row(cycliste='cycliste_azey2', n_message=13, time=1486391585.97, message='self.a_la_maison = True'),\n",
       " Row(cycliste='cycliste_azey2', n_message=12, time=1486391581.09, message='False a pris le velo velo_arsb7_1486391536.21 sur la station aetj5'),\n",
       " Row(cycliste='cycliste_azey2', n_message=11, time=1486391581.09, message='velo pris sur station aeqdn (elem de station travail)'),\n",
       " Row(cycliste='cycliste_azey2', n_message=10, time=1486391581.08, message='pas de velo sur la station aeyow '),\n",
       " Row(cycliste='cycliste_azey2', n_message=31, time=1486391623.83, message='impossible de rendre sur '),\n",
       " Row(cycliste='cycliste_azey2', n_message=30, time=1486391623.83, message='impossible de rendre sur '),\n",
       " Row(cycliste='cycliste_azey2', n_message=29, time=1486391623.83, message='impossible de rendre sur '),\n",
       " Row(cycliste='cycliste_azey2', n_message=28, time=1486391623.83, message='impossible de rendre sur '),\n",
       " Row(cycliste='cycliste_azey2', n_message=27, time=1486391623.82, message='impossible de rendre sur '),\n",
       " Row(cycliste='cycliste_azey2', n_message=26, time=1486391623.82, message='self.a_la_maison = True'),\n",
       " Row(cycliste='cycliste_azey2', n_message=25, time=1486391619.92, message='False a pris le velo velo_aeql1_1486391533.37 sur la station aetj5'),\n",
       " Row(cycliste='cycliste_azey2', n_message=24, time=1486391619.92, message='velo pris sur station aep18 (elem de station travail)'),\n",
       " Row(cycliste='cycliste_azey2', n_message=23, time=1486391604.3, message='velo rendu sur la station aev69 ( a la maison = False) (elem de station_travail)'),\n",
       " Row(cycliste='cycliste_azey2', n_message=22, time=1486391604.3, message='impossible de rendre sur '),\n",
       " Row(cycliste='cycliste_azey2', n_message=21, time=1486391604.3, message='impossible de rendre sur '),\n",
       " Row(cycliste='cycliste_azey2', n_message=42, time=1486391670.69, message='velo pris sur station ardhn (elem de station travail)'),\n",
       " Row(cycliste='cycliste_azey2', n_message=41, time=1486391660.64, message='velo rendu sur la station ardhn ( a la maison = False) (elem de station_travail)'),\n",
       " Row(cycliste='cycliste_azey2', n_message=40, time=1486391660.63, message='self.a_la_maison = False'),\n",
       " Row(cycliste='cycliste_azey2', n_message=39, time=1486391660.63, message='velo defaillant <0.1'),\n",
       " Row(cycliste='cycliste_azey2', n_message=38, time=1486391660.63, message='False a pris le velo velo_ae467_1486391534.13 sur la station aetj5'),\n",
       " Row(cycliste='cycliste_azey2', n_message=37, time=1486391660.63, message='velo pris sur station ardhn (elem de station travail)'),\n",
       " Row(cycliste='cycliste_azey2', n_message=36, time=1486391643.64, message='velo rendu sur la station arpmv ( a la maison = False) (elem de station_travail)'),\n",
       " Row(cycliste='cycliste_azey2', n_message=35, time=1486391643.64, message='self.a_la_maison = False'),\n",
       " Row(cycliste='cycliste_azey2', n_message=34, time=1486391639.59, message='True a pris le velo velo_aetdg_1486391534.14 sur la station argh5'),\n",
       " Row(cycliste='cycliste_azey2', n_message=33, time=1486391639.59, message='velo pris sur station azdm3 (elem de station maison)'),\n",
       " Row(cycliste='cycliste_azey2', n_message=32, time=1486391623.83, message='velo rendu sur la station aep80 ( a la maison = True) (elem de station_maison)'),\n",
       " Row(cycliste='cycliste_azey2', n_message=53, time=1486391707.29, message='True a pris le velo velo_aeyin_1486391529.65 sur la station argh5'),\n",
       " Row(cycliste='cycliste_azey2', n_message=52, time=1486391707.29, message='velo pris sur station azsf3 (elem de station maison)'),\n",
       " Row(cycliste='cycliste_azey2', n_message=51, time=1486391688.19, message='velo rendu sur la station aemv2 ( a la maison = True) (elem de station_maison)'),\n",
       " Row(cycliste='cycliste_azey2', n_message=50, time=1486391688.19, message='impossible de rendre sur '),\n",
       " Row(cycliste='cycliste_azey2', n_message=49, time=1486391688.18, message='self.a_la_maison = True'),\n",
       " Row(cycliste='cycliste_azey2', n_message=48, time=1486391683.33, message='False a pris le velo velo_azp50_1486391532.82 sur la station aetj5'),\n",
       " Row(cycliste='cycliste_azey2', n_message=47, time=1486391683.33, message='velo pris sur station arpmv (elem de station travail)'),\n",
       " Row(cycliste='cycliste_azey2', n_message=46, time=1486391670.69, message='velo rendu sur la station ardhn ( a la maison = False) (elem de station_travail)'),\n",
       " Row(cycliste='cycliste_azey2', n_message=45, time=1486391670.69, message='self.a_la_maison = False'),\n",
       " Row(cycliste='cycliste_azey2', n_message=44, time=1486391670.69, message='velo defaillant <0.1'),\n",
       " Row(cycliste='cycliste_azey2', n_message=43, time=1486391670.69, message='False a pris le velo velo_azd20_1486391534.29 sur la station aetj5'),\n",
       " Row(cycliste='cycliste_azey2', n_message=64, time=1486391762.36, message='velo pris sur station azdm3 (elem de station maison)'),\n",
       " Row(cycliste='cycliste_azey2', n_message=63, time=1486391737.86, message='velo rendu sur la station aemv2 ( a la maison = True) (elem de station_maison)'),\n",
       " Row(cycliste='cycliste_azey2', n_message=62, time=1486391737.86, message='impossible de rendre sur '),\n",
       " Row(cycliste='cycliste_azey2', n_message=61, time=1486391737.86, message='impossible de rendre sur '),\n",
       " Row(cycliste='cycliste_azey2', n_message=60, time=1486391737.86, message='self.a_la_maison = True'),\n",
       " Row(cycliste='cycliste_azey2', n_message=59, time=1486391732.74, message='False a pris le velo velo_azig0_1486391529.06 sur la station aetj5'),\n",
       " Row(cycliste='cycliste_azey2', n_message=58, time=1486391732.74, message='velo pris sur station aev69 (elem de station travail)'),\n",
       " Row(cycliste='cycliste_azey2', n_message=57, time=1486391711.4, message='velo rendu sur la station ardhn ( a la maison = False) (elem de station_travail)'),\n",
       " Row(cycliste='cycliste_azey2', n_message=56, time=1486391711.39, message='impossible de rendre sur '),\n",
       " Row(cycliste='cycliste_azey2', n_message=55, time=1486391711.39, message='impossible de rendre sur '),\n",
       " Row(cycliste='cycliste_azey2', n_message=54, time=1486391711.39, message='self.a_la_maison = False'),\n",
       " Row(cycliste='cycliste_azey2', n_message=75, time=1486391824.04, message='pas de velo sur la station azdm3 '),\n",
       " Row(cycliste='cycliste_azey2', n_message=74, time=1486391797.52, message='velo rendu sur la station azepw ( a la maison = True) (elem de station_maison)'),\n",
       " Row(cycliste='cycliste_azey2', n_message=73, time=1486391797.52, message='impossible de rendre sur '),\n",
       " Row(cycliste='cycliste_azey2', n_message=72, time=1486391797.52, message='self.a_la_maison = True'),\n",
       " Row(cycliste='cycliste_azey2', n_message=71, time=1486391791.6, message='False a pris le velo velo_azyq9_1486391534.24 sur la station aetj5'),\n",
       " Row(cycliste='cycliste_azey2', n_message=70, time=1486391791.6, message='velo pris sur station ardhn (elem de station travail)'),\n",
       " Row(cycliste='cycliste_azey2', n_message=69, time=1486391791.6, message='pas de velo sur la station aeyow '),\n",
       " Row(cycliste='cycliste_azey2', n_message=68, time=1486391767.46, message='velo rendu sur la station arik9 ( a la maison = False) (elem de station_travail)'),\n",
       " Row(cycliste='cycliste_azey2', n_message=67, time=1486391767.46, message='impossible de rendre sur '),\n",
       " Row(cycliste='cycliste_azey2', n_message=66, time=1486391767.45, message='self.a_la_maison = False'),\n",
       " Row(cycliste='cycliste_azey2', n_message=65, time=1486391762.36, message='True a pris le velo velo_aeyin_1486391529.04 sur la station argh5'),\n",
       " Row(cycliste='cycliste_azey2', n_message=86, time=1486391887.46, message='pas de velo sur la station aetg5 '),\n",
       " Row(cycliste='cycliste_azey2', n_message=85, time=1486391860.18, message='velo rendu sur la station azepw ( a la maison = True) (elem de station_maison)'),\n",
       " Row(cycliste='cycliste_azey2', n_message=84, time=1486391860.18, message='self.a_la_maison = True'),\n",
       " Row(cycliste='cycliste_azey2', n_message=83, time=1486391854.54, message='False a pris le velo velo_aehj1_1486391529.61 sur la station aetj5'),\n",
       " Row(cycliste='cycliste_azey2', n_message=82, time=1486391854.54, message='velo pris sur station aev69 (elem de station travail)'),\n",
       " Row(cycliste='cycliste_azey2', n_message=81, time=1486391854.53, message='pas de velo sur la station aeyow '),\n",
       " Row(cycliste='cycliste_azey2', n_message=80, time=1486391829.03, message='velo rendu sur la station aep18 ( a la maison = False) (elem de station_travail)'),\n",
       " Row(cycliste='cycliste_azey2', n_message=79, time=1486391829.03, message='impossible de rendre sur '),\n",
       " Row(cycliste='cycliste_azey2', n_message=78, time=1486391829.02, message='self.a_la_maison = False'),\n",
       " Row(cycliste='cycliste_azey2', n_message=77, time=1486391824.04, message='True a pris le velo velo_aeuxb_1486391539.04 sur la station argh5'),\n",
       " Row(cycliste='cycliste_azey2', n_message=76, time=1486391824.04, message='velo pris sur station aeod9 (elem de station maison)'),\n",
       " Row(cycliste='cycliste_azey2', n_message=97, time=1486391929.12, message='velo rendu sur la station aemv2 ( a la maison = True) (elem de station_maison)'),\n",
       " Row(cycliste='cycliste_azey2', n_message=96, time=1486391929.12, message='impossible de rendre sur '),\n",
       " Row(cycliste='cycliste_azey2', n_message=95, time=1486391929.12, message='self.a_la_maison = True'),\n",
       " Row(cycliste='cycliste_azey2', n_message=94, time=1486391922.48, message='False a pris le velo velo_azikn_1486391538.81 sur la station aetj5'),\n",
       " Row(cycliste='cycliste_azey2', n_message=93, time=1486391922.48, message='velo pris sur station aeqdn (elem de station travail)'),\n",
       " Row(cycliste='cycliste_azey2', n_message=92, time=1486391893.96, message='velo rendu sur la station arik9 ( a la maison = False) (elem de station_travail)'),\n",
       " Row(cycliste='cycliste_azey2', n_message=91, time=1486391893.96, message='impossible de rendre sur '),\n",
       " Row(cycliste='cycliste_azey2', n_message=90, time=1486391893.96, message='self.a_la_maison = False'),\n",
       " Row(cycliste='cycliste_azey2', n_message=89, time=1486391887.46, message='True a pris le velo velo_ars70_1486391529.27 sur la station argh5'),\n",
       " Row(cycliste='cycliste_azey2', n_message=88, time=1486391887.46, message='velo pris sur station azsf3 (elem de station maison)'),\n",
       " Row(cycliste='cycliste_azey2', n_message=87, time=1486391887.46, message='pas de velo sur la station azdm3 '),\n",
       " Row(cycliste='cycliste_azey2', n_message=108, time=1486392038.81, message='True a pris le velo velo_azyo3_1486391536.38 sur la station argh5'),\n",
       " Row(cycliste='cycliste_azey2', n_message=107, time=1486392038.81, message='velo pris sur station aep80 (elem de station maison)'),\n",
       " Row(cycliste='cycliste_azey2', n_message=106, time=1486392006.13, message='velo rendu sur la station azsf3 ( a la maison = True) (elem de station_maison)'),\n",
       " Row(cycliste='cycliste_azey2', n_message=105, time=1486392006.13, message='self.a_la_maison = True'),\n",
       " Row(cycliste='cycliste_azey2', n_message=104, time=1486391998.03, message='False a pris le velo velo_azdb7_1486391529.39 sur la station aetj5'),\n",
       " Row(cycliste='cycliste_azey2', n_message=103, time=1486391998.03, message='velo pris sur station arpmv (elem de station travail)'),\n",
       " Row(cycliste='cycliste_azey2', n_message=102, time=1486391966.25, message='velo rendu sur la station ardhn ( a la maison = False) (elem de station_travail)'),\n",
       " Row(cycliste='cycliste_azey2', n_message=101, time=1486391966.24, message='impossible de rendre sur '),\n",
       " Row(cycliste='cycliste_azey2', n_message=100, time=1486391966.24, message='self.a_la_maison = False'),\n",
       " Row(cycliste='cycliste_azey2', n_message=99, time=1486391959.81, message='True a pris le velo velo_arij0_1486391534.0 sur la station argh5'),\n",
       " Row(cycliste='cycliste_azey2', n_message=98, time=1486391959.81, message='velo pris sur station aeod9 (elem de station maison)'),\n",
       " Row(cycliste='cycliste_azey2', n_message=119, time=1486392135.39, message='pas de velo sur la station azdm3 '),\n",
       " Row(cycliste='cycliste_azey2', n_message=118, time=1486392095.68, message='velo rendu sur la station azepw ( a la maison = True) (elem de station_maison)'),\n",
       " Row(cycliste='cycliste_azey2', n_message=117, time=1486392095.67, message='impossible de rendre sur '),\n",
       " Row(cycliste='cycliste_azey2', n_message=116, time=1486392095.67, message='impossible de rendre sur '),\n",
       " Row(cycliste='cycliste_azey2', n_message=115, time=1486392095.67, message='self.a_la_maison = True'),\n",
       " Row(cycliste='cycliste_azey2', n_message=114, time=1486392086.29, message='False a pris le velo velo_aeydv_1486391529.94 sur la station aetj5'),\n",
       " Row(cycliste='cycliste_azey2', n_message=113, time=1486392086.29, message='velo pris sur station arpmv (elem de station travail)'),\n",
       " Row(cycliste='cycliste_azey2', n_message=112, time=1486392047.87, message='velo rendu sur la station aev69 ( a la maison = False) (elem de station_travail)'),\n",
       " Row(cycliste='cycliste_azey2', n_message=111, time=1486392047.86, message='impossible de rendre sur '),\n",
       " Row(cycliste='cycliste_azey2', n_message=110, time=1486392047.86, message='impossible de rendre sur '),\n",
       " Row(cycliste='cycliste_azey2', n_message=109, time=1486392047.86, message='self.a_la_maison = False'),\n",
       " Row(cycliste='cycliste_azey2', n_message=130, time=1486392198.64, message='velo rendu sur la station aeod9 ( a la maison = True) (elem de station_maison)'),\n",
       " Row(cycliste='cycliste_azey2', n_message=129, time=1486392198.64, message='self.a_la_maison = True'),\n",
       " Row(cycliste='cycliste_azey2', n_message=128, time=1486392188.59, message='False a pris le velo velo_aedc3_1486391534.15 sur la station aetj5'),\n",
       " Row(cycliste='cycliste_azey2', n_message=127, time=1486392188.59, message='velo pris sur station aep18 (elem de station travail)'),\n",
       " Row(cycliste='cycliste_azey2', n_message=126, time=1486392188.59, message='pas de velo sur la station ardhn '),\n",
       " Row(cycliste='cycliste_azey2', n_message=125, time=1486392188.59, message='pas de velo sur la station arik9 '),\n",
       " Row(cycliste='cycliste_azey2', n_message=124, time=1486392145.64, message='velo rendu sur la station arik9 ( a la maison = False) (elem de station_travail)'),\n",
       " Row(cycliste='cycliste_azey2', n_message=123, time=1486392145.63, message='impossible de rendre sur '),\n",
       " Row(cycliste='cycliste_azey2', n_message=122, time=1486392145.63, message='self.a_la_maison = False'),\n",
       " Row(cycliste='cycliste_azey2', n_message=121, time=1486392135.39, message='True a pris le velo velo_azu28_1486391529.7 sur la station argh5'),\n",
       " Row(cycliste='cycliste_azey2', n_message=120, time=1486392135.39, message='velo pris sur station azsf3 (elem de station maison)'),\n",
       " Row(cycliste='cycliste_azey2', n_message=141, time=1486392360.56, message='True a pris le velo velo_azp45_1486391533.64 sur la station argh5'),\n",
       " Row(cycliste='cycliste_azey2', n_message=140, time=1486392360.56, message='velo pris sur station azsf3 (elem de station maison)'),\n",
       " Row(cycliste='cycliste_azey2', n_message=139, time=1486392312.11, message='velo rendu sur la station azsf3 ( a la maison = True) (elem de station_maison)'),\n",
       " Row(cycliste='cycliste_azey2', n_message=138, time=1486392312.1, message='self.a_la_maison = True'),\n",
       " Row(cycliste='cycliste_azey2', n_message=137, time=1486392300.24, message='False a pris le velo velo_azydn_1486391538.5 sur la station aetj5'),\n",
       " Row(cycliste='cycliste_azey2', n_message=136, time=1486392300.24, message='velo pris sur station aep18 (elem de station travail)'),\n",
       " Row(cycliste='cycliste_azey2', n_message=135, time=1486392300.24, message='pas de velo sur la station aejw5 '),\n",
       " Row(cycliste='cycliste_azey2', n_message=134, time=1486392255.53, message='velo rendu sur la station arpmv ( a la maison = False) (elem de station_travail)'),\n",
       " Row(cycliste='cycliste_azey2', n_message=133, time=1486392255.53, message='self.a_la_maison = False'),\n",
       " Row(cycliste='cycliste_azey2', n_message=132, time=1486392243.5, message='True a pris le velo velo_az238_1486391537.34 sur la station argh5'),\n",
       " Row(cycliste='cycliste_azey2', n_message=131, time=1486392243.5, message='velo pris sur station azuf0 (elem de station maison)'),\n",
       " Row(cycliste='cycliste_azey2', n_message=152, time=1486392490.86, message='True a pris le velo velo_az270_1486391529.33 sur la station argh5'),\n",
       " Row(cycliste='cycliste_azey2', n_message=151, time=1486392490.86, message='velo pris sur station azuf0 (elem de station maison)'),\n",
       " Row(cycliste='cycliste_azey2', n_message=150, time=1486392436.48, message='velo rendu sur la station azsf3 ( a la maison = True) (elem de station_maison)'),\n",
       " Row(cycliste='cycliste_azey2', n_message=149, time=1486392436.47, message='impossible de rendre sur '),\n",
       " Row(cycliste='cycliste_azey2', n_message=148, time=1486392436.47, message='self.a_la_maison = True'),\n",
       " Row(cycliste='cycliste_azey2', n_message=147, time=1486392422.87, message='False a pris le velo velo_az240_1486391534.55 sur la station aetj5'),\n",
       " Row(cycliste='cycliste_azey2', n_message=146, time=1486392422.87, message='velo pris sur station arpmv (elem de station travail)'),\n",
       " Row(cycliste='cycliste_azey2', n_message=145, time=1486392422.87, message='pas de velo sur la station ardhn '),\n",
       " Row(cycliste='cycliste_azey2', n_message=144, time=1486392422.87, message='pas de velo sur la station aev69 '),\n",
       " Row(cycliste='cycliste_azey2', n_message=143, time=1486392374.16, message='velo rendu sur la station aeqdn ( a la maison = False) (elem de station_travail)'),\n",
       " Row(cycliste='cycliste_azey2', n_message=142, time=1486392374.16, message='self.a_la_maison = False')]"
      ]
     },
     "execution_count": 55,
     "metadata": {},
     "output_type": "execute_result"
    }
   ],
   "source": [
    "df.where(df[\"cycliste\"]== \"cycliste_azey2\").collect()"
   ]
  },
  {
   "cell_type": "code",
   "execution_count": null,
   "id": "17f5ed1a",
   "metadata": {},
   "outputs": [],
   "source": []
  }
 ],
 "metadata": {
  "kernelspec": {
   "display_name": "Python 3",
   "language": "python",
   "name": "python3"
  },
  "language_info": {
   "codemirror_mode": {
    "name": "ipython",
    "version": 3
   },
   "file_extension": ".py",
   "mimetype": "text/x-python",
   "name": "python",
   "nbconvert_exporter": "python",
   "pygments_lexer": "ipython3",
   "version": "3.8.8"
  }
 },
 "nbformat": 4,
 "nbformat_minor": 5
}
