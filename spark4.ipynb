{
 "cells": [
  {
   "cell_type": "markdown",
   "id": "9531de63",
   "metadata": {},
   "source": [
    "# 0) configure 'findspark'"
   ]
  },
  {
   "cell_type": "code",
   "execution_count": 1,
   "id": "4f48d2f2",
   "metadata": {},
   "outputs": [],
   "source": [
    "import findspark"
   ]
  },
  {
   "cell_type": "code",
   "execution_count": 2,
   "id": "ee894a1f",
   "metadata": {},
   "outputs": [],
   "source": [
    "spark_home = \"/Users/romainjouin/Downloads/spark-3.1.2-bin-hadoop3.2\"\n",
    "findspark.init(spark_home=spark_home)"
   ]
  },
  {
   "cell_type": "markdown",
   "id": "1fb05c50",
   "metadata": {},
   "source": [
    "# 1) configure spark"
   ]
  },
  {
   "cell_type": "code",
   "execution_count": 3,
   "id": "e54ecccd",
   "metadata": {},
   "outputs": [],
   "source": [
    "from pyspark         import SparkConf\n",
    "from pyspark.context import SparkContext\n",
    "from pyspark.sql     import SparkSession"
   ]
  },
  {
   "cell_type": "markdown",
   "id": "3d692370",
   "metadata": {},
   "source": [
    "## 1.1) création d'une configuration"
   ]
  },
  {
   "cell_type": "code",
   "execution_count": 4,
   "id": "86f52440",
   "metadata": {},
   "outputs": [],
   "source": [
    "master_url = \"spark://romainjouin-macbookpro1.roam.corp.google.com:7077\"\n",
    "nb_cpu     = 6\n",
    "App_name   = \"Nom de l'application\" \n",
    "spark_executor_memory   = \"8g\"\n",
    "spark_serializer        = \"org.apache.spark.serializer.KryoSerializer\"\n"
   ]
  },
  {
   "cell_type": "markdown",
   "id": "7bcdc116",
   "metadata": {},
   "source": [
    "[Propriétés de Spark](https://spark.apache.org/docs/latest/configuration.html#available-properties)"
   ]
  },
  {
   "cell_type": "code",
   "execution_count": 5,
   "id": "c5648111",
   "metadata": {},
   "outputs": [],
   "source": [
    "conf = SparkConf()\n",
    "conf = conf.setMaster(master_url)\n",
    "conf = conf.set(\"spark.cores.max\", nb_cpu)\n",
    "conf = conf.set(\"spark.executor.memory\",   spark_executor_memory)\n",
    "conf = conf.set(\"spark.serializer\",        spark_serializer)\n",
    "\n",
    "conf = conf.setAppName(App_name)"
   ]
  },
  {
   "cell_type": "markdown",
   "id": "1ba8faee",
   "metadata": {},
   "source": [
    "## 1.2) creation d'un spark context"
   ]
  },
  {
   "cell_type": "code",
   "execution_count": 6,
   "id": "7c92dc26",
   "metadata": {},
   "outputs": [],
   "source": [
    "# on ne peut avoir qu'un seul spark context => on le supprime au cas ou, avant de le recréer\n",
    "try    : sc.stop()\n",
    "except : pass"
   ]
  },
  {
   "cell_type": "code",
   "execution_count": 7,
   "id": "f9bf11fa",
   "metadata": {},
   "outputs": [],
   "source": [
    "sc = SparkContext(conf=conf)"
   ]
  },
  {
   "cell_type": "code",
   "execution_count": 8,
   "id": "f92fd065",
   "metadata": {},
   "outputs": [
    {
     "data": {
      "text/html": [
       "\n",
       "        <div>\n",
       "            <p><b>SparkContext</b></p>\n",
       "\n",
       "            <p><a href=\"http://192.168.66.89:4040\">Spark UI</a></p>\n",
       "\n",
       "            <dl>\n",
       "              <dt>Version</dt>\n",
       "                <dd><code>v3.1.2</code></dd>\n",
       "              <dt>Master</dt>\n",
       "                <dd><code>spark://romainjouin-macbookpro1.roam.corp.google.com:7077</code></dd>\n",
       "              <dt>AppName</dt>\n",
       "                <dd><code>Nom de l'application</code></dd>\n",
       "            </dl>\n",
       "        </div>\n",
       "        "
      ],
      "text/plain": [
       "<SparkContext master=spark://romainjouin-macbookpro1.roam.corp.google.com:7077 appName=Nom de l'application>"
      ]
     },
     "execution_count": 8,
     "metadata": {},
     "output_type": "execute_result"
    }
   ],
   "source": [
    "sc"
   ]
  },
  {
   "cell_type": "markdown",
   "id": "0a2b7014",
   "metadata": {},
   "source": [
    "## 1.3) récupération de la spark session"
   ]
  },
  {
   "cell_type": "code",
   "execution_count": 9,
   "id": "e2ffe958",
   "metadata": {},
   "outputs": [
    {
     "data": {
      "text/html": [
       "\n",
       "            <div>\n",
       "                <p><b>SparkSession - in-memory</b></p>\n",
       "                \n",
       "        <div>\n",
       "            <p><b>SparkContext</b></p>\n",
       "\n",
       "            <p><a href=\"http://192.168.66.89:4040\">Spark UI</a></p>\n",
       "\n",
       "            <dl>\n",
       "              <dt>Version</dt>\n",
       "                <dd><code>v3.1.2</code></dd>\n",
       "              <dt>Master</dt>\n",
       "                <dd><code>spark://romainjouin-macbookpro1.roam.corp.google.com:7077</code></dd>\n",
       "              <dt>AppName</dt>\n",
       "                <dd><code>Nom de l'application</code></dd>\n",
       "            </dl>\n",
       "        </div>\n",
       "        \n",
       "            </div>\n",
       "        "
      ],
      "text/plain": [
       "<pyspark.sql.session.SparkSession at 0x7faf8b92fd90>"
      ]
     },
     "execution_count": 9,
     "metadata": {},
     "output_type": "execute_result"
    }
   ],
   "source": [
    "spark = SparkSession.builder.getOrCreate()\n",
    "spark"
   ]
  },
  {
   "cell_type": "markdown",
   "id": "355e94f0",
   "metadata": {},
   "source": [
    "# 2) manipulation des dataframes (chapitre 6 du livre, p110)"
   ]
  },
  {
   "cell_type": "markdown",
   "id": "6b9ae190",
   "metadata": {},
   "source": [
    "## 2.0) télécharger le fichier csv à la main "
   ]
  },
  {
   "cell_type": "code",
   "execution_count": 21,
   "id": "da2eaac2",
   "metadata": {},
   "outputs": [
    {
     "name": "stdout",
     "output_type": "stream",
     "text": [
      "  % Total    % Received % Xferd  Average Speed   Time    Time     Time  Current\n",
      "                                 Dload  Upload   Total   Spent    Left  Speed\n",
      "100  157k  100  157k    0     0   261k      0 --:--:-- --:--:-- --:--:--  261k\n"
     ]
    }
   ],
   "source": [
    "!curl -O https://raw.githubusercontent.com/romainjouin/livre_spark/master/data/Villes/ville_1.csv"
   ]
  },
  {
   "cell_type": "code",
   "execution_count": 14,
   "id": "41315260",
   "metadata": {},
   "outputs": [],
   "source": [
    "ville = spark.read.format(\"csv\").option(\"header\", \"true\").load(\"ville_1.csv\")"
   ]
  },
  {
   "cell_type": "code",
   "execution_count": 15,
   "id": "5aa2e193",
   "metadata": {},
   "outputs": [
    {
     "data": {
      "text/plain": [
       "1083"
      ]
     },
     "execution_count": 15,
     "metadata": {},
     "output_type": "execute_result"
    }
   ],
   "source": [
    "ville.count()"
   ]
  },
  {
   "cell_type": "markdown",
   "id": "845ff877",
   "metadata": {},
   "source": [
    "## 2.1) voir le type des colonnes"
   ]
  },
  {
   "cell_type": "code",
   "execution_count": 16,
   "id": "d6e2cee7",
   "metadata": {},
   "outputs": [
    {
     "data": {
      "text/plain": [
       "[('id', 'string'),\n",
       " ('vitesse_a_pied', 'string'),\n",
       " ('vitesse_a_velo', 'string'),\n",
       " ('home', 'string'),\n",
       " ('travail', 'string'),\n",
       " ('sportif', 'string'),\n",
       " ('casseur', 'string'),\n",
       " ('statut', 'string'),\n",
       " ('salaire', 'string'),\n",
       " ('sexe', 'string'),\n",
       " ('age', 'string'),\n",
       " ('sportivite', 'string'),\n",
       " ('velo_perf_minimale', 'string')]"
      ]
     },
     "execution_count": 16,
     "metadata": {},
     "output_type": "execute_result"
    }
   ],
   "source": [
    "ville.dtypes"
   ]
  },
  {
   "cell_type": "markdown",
   "id": "c3bccca6",
   "metadata": {},
   "source": [
    "## 2.2) compter le nombre de lignes, et le nombre de lignes distinctes"
   ]
  },
  {
   "cell_type": "code",
   "execution_count": 17,
   "id": "49da934d",
   "metadata": {},
   "outputs": [
    {
     "data": {
      "text/plain": [
       "1083"
      ]
     },
     "execution_count": 17,
     "metadata": {},
     "output_type": "execute_result"
    }
   ],
   "source": [
    "ville.count()"
   ]
  },
  {
   "cell_type": "code",
   "execution_count": 18,
   "id": "de0c5de3",
   "metadata": {},
   "outputs": [
    {
     "data": {
      "text/plain": [
       "1083"
      ]
     },
     "execution_count": 18,
     "metadata": {},
     "output_type": "execute_result"
    }
   ],
   "source": [
    "ville.distinct().count()"
   ]
  },
  {
   "cell_type": "code",
   "execution_count": 19,
   "id": "eaa8818c",
   "metadata": {},
   "outputs": [
    {
     "data": {
      "text/plain": [
       "1083"
      ]
     },
     "execution_count": 19,
     "metadata": {},
     "output_type": "execute_result"
    }
   ],
   "source": [
    "ville.count()"
   ]
  },
  {
   "cell_type": "code",
   "execution_count": 20,
   "id": "1b4f4a57",
   "metadata": {},
   "outputs": [
    {
     "data": {
      "text/plain": [
       "1083"
      ]
     },
     "execution_count": 20,
     "metadata": {},
     "output_type": "execute_result"
    }
   ],
   "source": [
    "ville.distinct().count()"
   ]
  },
  {
   "cell_type": "markdown",
   "id": "ba4d695d",
   "metadata": {},
   "source": [
    "## 2.3) voir la première ligne du dataframe``"
   ]
  },
  {
   "cell_type": "code",
   "execution_count": 23,
   "id": "506d87f6",
   "metadata": {},
   "outputs": [
    {
     "data": {
      "text/plain": [
       "Row(id='5251', vitesse_a_pied='0.02', vitesse_a_velo='0.05', home='(lon:26.60 lat:28.13)', travail='(lon:21.08 lat:14.11)', sportif='False', casseur='False', statut='reserviste', salaire='29800.610034665042', sexe='F', age='18', sportivite='0.1', velo_perf_minimale='0.4')"
      ]
     },
     "execution_count": 23,
     "metadata": {},
     "output_type": "execute_result"
    }
   ],
   "source": [
    "ville.first()"
   ]
  },
  {
   "cell_type": "code",
   "execution_count": 24,
   "id": "846c78fd",
   "metadata": {},
   "outputs": [
    {
     "data": {
      "text/plain": [
       "[Row(id='5251', vitesse_a_pied='0.02', vitesse_a_velo='0.05', home='(lon:26.60 lat:28.13)', travail='(lon:21.08 lat:14.11)', sportif='False', casseur='False', statut='reserviste', salaire='29800.610034665042', sexe='F', age='18', sportivite='0.1', velo_perf_minimale='0.4'),\n",
       " Row(id='5252', vitesse_a_pied='0.14974625830876215', vitesse_a_velo='0.37436564577190534', home='(lon:0.26 lat:42.61)', travail='(lon:36.35 lat:33.28)', sportif='False', casseur='False', statut='professeur', salaire='23595.44383981423', sexe='F', age='28', sportivite='0.7487312915438107', velo_perf_minimale='0.4'),\n",
       " Row(id='5253', vitesse_a_pied='0.6309711587089704', vitesse_a_velo='1.6825897565572543', home='(lon:3.34 lat:13.95)', travail='(lon:24.75 lat:48.15)', sportif='False', casseur='False', statut='technicien_de_surface', salaire='18530.14776280135', sexe='H', age='65', sportivite='2.103237195696568', velo_perf_minimale='0.4'),\n",
       " Row(id='5254', vitesse_a_pied='0.04009596300649916', vitesse_a_velo='0.10692256801733109', home='(lon:19.54 lat:43.69)', travail='(lon:38.57 lat:42.65)', sportif='False', casseur='False', statut='technicien_de_surface', salaire='18997.60281005325', sexe='H', age='26', sportivite='0.13365321002166386', velo_perf_minimale='0.4')]"
      ]
     },
     "execution_count": 24,
     "metadata": {},
     "output_type": "execute_result"
    }
   ],
   "source": [
    "ville.take(4)"
   ]
  },
  {
   "cell_type": "markdown",
   "id": "39c54fa8",
   "metadata": {},
   "source": [
    "## 2.4.0) Select => Ne voir que des colonnes qui nous intéressent "
   ]
  },
  {
   "cell_type": "markdown",
   "id": "adfae554",
   "metadata": {},
   "source": [
    "#### une colonne sur deux :"
   ]
  },
  {
   "cell_type": "code",
   "execution_count": 27,
   "id": "e6b5987d",
   "metadata": {},
   "outputs": [],
   "source": [
    "colonnes_a_voir = ville.columns[::2]"
   ]
  },
  {
   "cell_type": "code",
   "execution_count": 34,
   "id": "9b4ff24b",
   "metadata": {},
   "outputs": [
    {
     "name": "stdout",
     "output_type": "stream",
     "text": [
      "-RECORD 0----------------------------------\n",
      " id                 | 5251                 \n",
      " vitesse_a_velo     | 0.05                 \n",
      " travail            | (lon:21.08 lat:14... \n",
      " casseur            | False                \n",
      " salaire            | 29800.610034665042   \n",
      " age                | 18                   \n",
      " velo_perf_minimale | 0.4                  \n",
      "-RECORD 1----------------------------------\n",
      " id                 | 5252                 \n",
      " vitesse_a_velo     | 0.37436564577190534  \n",
      " travail            | (lon:36.35 lat:33... \n",
      " casseur            | False                \n",
      " salaire            | 23595.44383981423    \n",
      " age                | 28                   \n",
      " velo_perf_minimale | 0.4                  \n",
      "only showing top 2 rows\n",
      "\n"
     ]
    }
   ],
   "source": [
    "ville.select(colonnes_a_voir).show(2, vertical=True)"
   ]
  },
  {
   "cell_type": "markdown",
   "id": "96e8bdf8",
   "metadata": {},
   "source": [
    "### colonnes choisies :"
   ]
  },
  {
   "cell_type": "code",
   "execution_count": 35,
   "id": "5fb25bd0",
   "metadata": {},
   "outputs": [
    {
     "data": {
      "text/plain": [
       "[Row(sexe='F', vitesse_a_pied='0.02', salaire='29800.610034665042'),\n",
       " Row(sexe='F', vitesse_a_pied='0.14974625830876215', salaire='23595.44383981423'),\n",
       " Row(sexe='H', vitesse_a_pied='0.6309711587089704', salaire='18530.14776280135'),\n",
       " Row(sexe='H', vitesse_a_pied='0.04009596300649916', salaire='18997.60281005325'),\n",
       " Row(sexe='F', vitesse_a_pied='0.02', salaire='23618.479750220806'),\n",
       " Row(sexe='H', vitesse_a_pied='0.8655449921165502', salaire='19082.30894283764'),\n",
       " Row(sexe='F', vitesse_a_pied='0.5879992290928728', salaire='21782.945135729053'),\n",
       " Row(sexe='H', vitesse_a_pied='0.8306610123216782', salaire='41451.270468058414'),\n",
       " Row(sexe='H', vitesse_a_pied='0.12542885835859416', salaire='22025.17074872747'),\n",
       " Row(sexe='H', vitesse_a_pied='0.030000000000000006', salaire='38211.06301426453'),\n",
       " Row(sexe='H', vitesse_a_pied='0.030000000000000006', salaire='32384.038031466876'),\n",
       " Row(sexe='F', vitesse_a_pied='0.02', salaire='18155.392787144123'),\n",
       " Row(sexe='H', vitesse_a_pied='1.4342769187788869', salaire='34479.64091466565'),\n",
       " Row(sexe='F', vitesse_a_pied='0.6272243144514219', salaire='17894.342734488273'),\n",
       " Row(sexe='H', vitesse_a_pied='0.5056944896192869', salaire='15272.646527406627'),\n",
       " Row(sexe='F', vitesse_a_pied='0.3167145553844886', salaire='32340.37164134604'),\n",
       " Row(sexe='H', vitesse_a_pied='0.3358134613272747', salaire='30332.817374659553'),\n",
       " Row(sexe='H', vitesse_a_pied='0.030000000000000006', salaire='11069.70965021214'),\n",
       " Row(sexe='H', vitesse_a_pied='0.94148024700412', salaire='32542.663936348865'),\n",
       " Row(sexe='H', vitesse_a_pied='0.030000000000000006', salaire='31264.86511628485'),\n",
       " Row(sexe='F', vitesse_a_pied='1.0637049252038342', salaire='40170.674584023254'),\n",
       " Row(sexe='H', vitesse_a_pied='1.8526994869157434', salaire='19814.23460795434'),\n",
       " Row(sexe='F', vitesse_a_pied='0.02', salaire='30516.740487109822'),\n",
       " Row(sexe='H', vitesse_a_pied='1.3156620706640445', salaire='31018.299737778525'),\n",
       " Row(sexe='H', vitesse_a_pied='0.030000000000000006', salaire='39281.736615565474'),\n",
       " Row(sexe='F', vitesse_a_pied='0.02', salaire='21737.026343329253'),\n",
       " Row(sexe='F', vitesse_a_pied='0.33500607931826865', salaire='25013.554133869537'),\n",
       " Row(sexe='F', vitesse_a_pied='0.5612935671493225', salaire='18306.64291062094'),\n",
       " Row(sexe='H', vitesse_a_pied='0.5173014414721913', salaire='30196.419375978858'),\n",
       " Row(sexe='H', vitesse_a_pied='0.6639735903991125', salaire='24200.414937125228'),\n",
       " Row(sexe='H', vitesse_a_pied='0.030000000000000006', salaire='12167.788098610952'),\n",
       " Row(sexe='F', vitesse_a_pied='0.8083175494888819', salaire='18011.276236369988'),\n",
       " Row(sexe='F', vitesse_a_pied='1.2832501378500005', salaire='24156.157989107276'),\n",
       " Row(sexe='F', vitesse_a_pied='1.0364869412773074', salaire='18739.963697232994'),\n",
       " Row(sexe='H', vitesse_a_pied='0.030000000000000006', salaire='41453.76898153614'),\n",
       " Row(sexe='H', vitesse_a_pied='0.32855844584245747', salaire='17044.020062426105'),\n",
       " Row(sexe='F', vitesse_a_pied='0.39938204132234967', salaire='17011.719150211684'),\n",
       " Row(sexe='F', vitesse_a_pied='0.09886577398124681', salaire='26756.93457723109'),\n",
       " Row(sexe='H', vitesse_a_pied='0.030000000000000006', salaire='16645.00773468688'),\n",
       " Row(sexe='F', vitesse_a_pied='0.44011923092468674', salaire='19038.02354817647'),\n",
       " Row(sexe='F', vitesse_a_pied='0.4525302271634198', salaire='16135.720678961883'),\n",
       " Row(sexe='F', vitesse_a_pied='0.02', salaire='25233.0748967296'),\n",
       " Row(sexe='H', vitesse_a_pied='1.1268597948105346', salaire='25449.81891337923'),\n",
       " Row(sexe='F', vitesse_a_pied='0.6227743474468624', salaire='23131.730785290576'),\n",
       " Row(sexe='H', vitesse_a_pied='0.09785579858240165', salaire='17950.02000414593'),\n",
       " Row(sexe='H', vitesse_a_pied='0.494736509440927', salaire='56968.94968001926'),\n",
       " Row(sexe='H', vitesse_a_pied='0.39941938068615657', salaire='26533.963092983548'),\n",
       " Row(sexe='F', vitesse_a_pied='0.39072908496076497', salaire='25809.34219182996'),\n",
       " Row(sexe='H', vitesse_a_pied='0.8681516850199185', salaire='24437.924587550042'),\n",
       " Row(sexe='F', vitesse_a_pied='0.6779282049355532', salaire='34789.18377664252'),\n",
       " Row(sexe='H', vitesse_a_pied='0.8602666696931444', salaire='37288.63513025661'),\n",
       " Row(sexe='H', vitesse_a_pied='0.7927311280968254', salaire='32199.43693983487'),\n",
       " Row(sexe='F', vitesse_a_pied='0.4124087576331867', salaire='23152.09478808629'),\n",
       " Row(sexe='H', vitesse_a_pied='1.0077300135141196', salaire='14472.750451998047'),\n",
       " Row(sexe='F', vitesse_a_pied='0.02', salaire='17135.500466710448'),\n",
       " Row(sexe='H', vitesse_a_pied='0.7933263213229171', salaire='29089.497931362726'),\n",
       " Row(sexe='F', vitesse_a_pied='0.6599043764291127', salaire='15530.75692170556'),\n",
       " Row(sexe='H', vitesse_a_pied='0.08663895238458816', salaire='19544.313131416686'),\n",
       " Row(sexe='F', vitesse_a_pied='0.02', salaire='23839.49585192835'),\n",
       " Row(sexe='H', vitesse_a_pied='0.030000000000000006', salaire='19170.46868084224'),\n",
       " Row(sexe='F', vitesse_a_pied='0.1959579823379091', salaire='30458.543549269176'),\n",
       " Row(sexe='H', vitesse_a_pied='1.324043848309742', salaire='21196.884923591893'),\n",
       " Row(sexe='H', vitesse_a_pied='0.030000000000000006', salaire='31909.161746562622'),\n",
       " Row(sexe='F', vitesse_a_pied='0.2813734031112626', salaire='25639.610284245176'),\n",
       " Row(sexe='H', vitesse_a_pied='0.5731578034946996', salaire='45396.16055047902'),\n",
       " Row(sexe='H', vitesse_a_pied='0.8472759081872935', salaire='5082.069104697515'),\n",
       " Row(sexe='H', vitesse_a_pied='0.6453552240344649', salaire='37653.281782221195'),\n",
       " Row(sexe='H', vitesse_a_pied='0.8646181155631488', salaire='14247.74136048608'),\n",
       " Row(sexe='H', vitesse_a_pied='1.0286723771204112', salaire='40818.57411253756'),\n",
       " Row(sexe='F', vitesse_a_pied='0.24186420397998135', salaire='17150.55381916245'),\n",
       " Row(sexe='F', vitesse_a_pied='0.7211172017956888', salaire='20667.21122220718'),\n",
       " Row(sexe='F', vitesse_a_pied='0.02', salaire='28884.558347582384'),\n",
       " Row(sexe='F', vitesse_a_pied='0.027612568402530215', salaire='29961.344510274015'),\n",
       " Row(sexe='F', vitesse_a_pied='0.27163145403111666', salaire='16412.940927925953'),\n",
       " Row(sexe='H', vitesse_a_pied='0.030000000000000006', salaire='35976.007540466584'),\n",
       " Row(sexe='H', vitesse_a_pied='0.7288003540403825', salaire='26639.639037737983'),\n",
       " Row(sexe='F', vitesse_a_pied='1.172795198780688', salaire='18677.16468761641'),\n",
       " Row(sexe='H', vitesse_a_pied='0.9803965779305692', salaire='55737.74331248081'),\n",
       " Row(sexe='H', vitesse_a_pied='0.7284169059682397', salaire='32749.982833275302'),\n",
       " Row(sexe='F', vitesse_a_pied='0.49033450127802747', salaire='34890.91439200515'),\n",
       " Row(sexe='H', vitesse_a_pied='0.030000000000000006', salaire='36496.98626130147'),\n",
       " Row(sexe='H', vitesse_a_pied='0.030000000000000006', salaire='42608.613745120914'),\n",
       " Row(sexe='H', vitesse_a_pied='3.4071167907780824', salaire='14184.387803893518'),\n",
       " Row(sexe='H', vitesse_a_pied='1.1170149979311532', salaire='44980.07025911509'),\n",
       " Row(sexe='H', vitesse_a_pied='0.030000000000000006', salaire='38754.740163112045'),\n",
       " Row(sexe='F', vitesse_a_pied='0.6722849882171437', salaire='11038.406651160396'),\n",
       " Row(sexe='H', vitesse_a_pied='0.030000000000000006', salaire='16863.62562631432'),\n",
       " Row(sexe='H', vitesse_a_pied='1.8331981394279915', salaire='27417.29745386698'),\n",
       " Row(sexe='F', vitesse_a_pied='1.6482340643954163', salaire='15751.079515413576'),\n",
       " Row(sexe='H', vitesse_a_pied='1.8149387478860597', salaire='31806.484402556765'),\n",
       " Row(sexe='H', vitesse_a_pied='1.5445437195948735', salaire='20018.004227642843'),\n",
       " Row(sexe='H', vitesse_a_pied='1.00781866039066', salaire='26617.5471125764'),\n",
       " Row(sexe='F', vitesse_a_pied='0.02', salaire='35397.36509779448'),\n",
       " Row(sexe='H', vitesse_a_pied='0.030000000000000006', salaire='36878.54544543932'),\n",
       " Row(sexe='F', vitesse_a_pied='0.7500235923279777', salaire='24723.034855015037'),\n",
       " Row(sexe='H', vitesse_a_pied='1.5012335095500462', salaire='17569.030671137298'),\n",
       " Row(sexe='H', vitesse_a_pied='1.6411924225642742', salaire='21186.12795724672'),\n",
       " Row(sexe='F', vitesse_a_pied='0.19282663858595855', salaire='20543.54828361411'),\n",
       " Row(sexe='F', vitesse_a_pied='0.8077024638485352', salaire='18038.273397605615'),\n",
       " Row(sexe='H', vitesse_a_pied='0.23783659695381268', salaire='34095.943864653185'),\n",
       " Row(sexe='H', vitesse_a_pied='1.5912476998003124', salaire='19470.490974662098'),\n",
       " Row(sexe='H', vitesse_a_pied='0.6736995841822137', salaire='33258.282032706935'),\n",
       " Row(sexe='F', vitesse_a_pied='0.02', salaire='20347.1772832737'),\n",
       " Row(sexe='H', vitesse_a_pied='0.030000000000000006', salaire='21800.226040802165'),\n",
       " Row(sexe='F', vitesse_a_pied='0.02', salaire='32193.70196212845'),\n",
       " Row(sexe='F', vitesse_a_pied='0.8229504935790384', salaire='12731.09329130641'),\n",
       " Row(sexe='F', vitesse_a_pied='0.8402035616244857', salaire='36423.57373188558'),\n",
       " Row(sexe='H', vitesse_a_pied='0.030000000000000006', salaire='22993.85035540143'),\n",
       " Row(sexe='F', vitesse_a_pied='0.6501076779747892', salaire='16802.193549927644'),\n",
       " Row(sexe='F', vitesse_a_pied='0.6544358281807489', salaire='16271.211115183232'),\n",
       " Row(sexe='F', vitesse_a_pied='1.3529357191512241', salaire='18988.240182633494'),\n",
       " Row(sexe='H', vitesse_a_pied='0.6409177907616568', salaire='20353.918007145443'),\n",
       " Row(sexe='H', vitesse_a_pied='1.2756308673156338', salaire='24558.441479884725'),\n",
       " Row(sexe='F', vitesse_a_pied='0.17692633583165457', salaire='14497.262614583748'),\n",
       " Row(sexe='F', vitesse_a_pied='0.02', salaire='30493.20160902877'),\n",
       " Row(sexe='H', vitesse_a_pied='0.5623384326564567', salaire='21334.23144585097'),\n",
       " Row(sexe='F', vitesse_a_pied='0.4611452899948808', salaire='21357.936702385912'),\n",
       " Row(sexe='F', vitesse_a_pied='0.1851575115182178', salaire='17672.21198849053'),\n",
       " Row(sexe='F', vitesse_a_pied='0.6088693184977101', salaire='23852.59150461343'),\n",
       " Row(sexe='H', vitesse_a_pied='0.915860726489651', salaire='16171.659900240855'),\n",
       " Row(sexe='F', vitesse_a_pied='0.39706349701774196', salaire='10604.232237156044'),\n",
       " Row(sexe='F', vitesse_a_pied='0.4595170279562081', salaire='14871.130410232308'),\n",
       " Row(sexe='H', vitesse_a_pied='0.6353192466970734', salaire='22561.111662743053'),\n",
       " Row(sexe='F', vitesse_a_pied='0.952442028729665', salaire='23589.70322366109'),\n",
       " Row(sexe='F', vitesse_a_pied='0.02', salaire='7392.30996558039'),\n",
       " Row(sexe='F', vitesse_a_pied='0.4925382594419304', salaire='12385.337512068425'),\n",
       " Row(sexe='H', vitesse_a_pied='0.030000000000000006', salaire='10831.08679152195'),\n",
       " Row(sexe='F', vitesse_a_pied='0.23807815436420654', salaire='17036.86200522063'),\n",
       " Row(sexe='F', vitesse_a_pied='0.27570500964679023', salaire='19638.49312078225'),\n",
       " Row(sexe='F', vitesse_a_pied='0.4378232133855457', salaire='29809.13262734557'),\n",
       " Row(sexe='H', vitesse_a_pied='0.030000000000000006', salaire='19621.205120621365'),\n",
       " Row(sexe='F', vitesse_a_pied='0.7050616684736413', salaire='20314.90829539416'),\n",
       " Row(sexe='H', vitesse_a_pied='0.030000000000000006', salaire='25461.8111591329'),\n",
       " Row(sexe='F', vitesse_a_pied='0.5582531785540263', salaire='20019.192839985488'),\n",
       " Row(sexe='F', vitesse_a_pied='0.6263027461763985', salaire='23965.205800803626'),\n",
       " Row(sexe='F', vitesse_a_pied='0.35119764879796167', salaire='24404.132500845186'),\n",
       " Row(sexe='H', vitesse_a_pied='1.0448149983327883', salaire='27835.679381230144'),\n",
       " Row(sexe='F', vitesse_a_pied='0.10858180299458389', salaire='30539.95440510227'),\n",
       " Row(sexe='F', vitesse_a_pied='0.02', salaire='17385.834624114275'),\n",
       " Row(sexe='H', vitesse_a_pied='0.18529047334515225', salaire='19582.03112585656'),\n",
       " Row(sexe='H', vitesse_a_pied='1.8423862910129678', salaire='23220.296592219478'),\n",
       " Row(sexe='F', vitesse_a_pied='0.47161609300008156', salaire='30064.516501336773'),\n",
       " Row(sexe='F', vitesse_a_pied='0.5148204386267363', salaire='25106.836851840435'),\n",
       " Row(sexe='H', vitesse_a_pied='0.712148533404299', salaire='14413.339985902467'),\n",
       " Row(sexe='F', vitesse_a_pied='0.2680739136487739', salaire='13419.457174691388'),\n",
       " Row(sexe='H', vitesse_a_pied='1.0781206571444755', salaire='24256.54433652737'),\n",
       " Row(sexe='F', vitesse_a_pied='0.02', salaire='21798.699982144637'),\n",
       " Row(sexe='H', vitesse_a_pied='0.9016868608640486', salaire='65507.30548806246'),\n",
       " Row(sexe='F', vitesse_a_pied='0.457173365975152', salaire='23133.004809996622'),\n",
       " Row(sexe='F', vitesse_a_pied='0.49293144881525536', salaire='18421.9995609945'),\n",
       " Row(sexe='H', vitesse_a_pied='1.282486917814379', salaire='19707.16392791526'),\n",
       " Row(sexe='H', vitesse_a_pied='0.030000000000000006', salaire='30117.899774879777'),\n",
       " Row(sexe='H', vitesse_a_pied='0.030000000000000006', salaire='21353.88286941436'),\n",
       " Row(sexe='H', vitesse_a_pied='2.944787204273477', salaire='28025.467997698954'),\n",
       " Row(sexe='F', vitesse_a_pied='0.7979629641298359', salaire='23464.768649641115'),\n",
       " Row(sexe='F', vitesse_a_pied='0.3433528493199157', salaire='32980.631319201166'),\n",
       " Row(sexe='H', vitesse_a_pied='0.030000000000000006', salaire='30510.62783165338'),\n",
       " Row(sexe='F', vitesse_a_pied='0.02', salaire='24753.303657946813'),\n",
       " Row(sexe='F', vitesse_a_pied='0.02', salaire='21356.13467352727'),\n",
       " Row(sexe='H', vitesse_a_pied='0.7812257436007631', salaire='30514.625142025066'),\n",
       " Row(sexe='F', vitesse_a_pied='0.6436271571858242', salaire='22341.700105574266'),\n",
       " Row(sexe='F', vitesse_a_pied='0.14847830838412265', salaire='28712.689626774747'),\n",
       " Row(sexe='H', vitesse_a_pied='0.5179945825093498', salaire='29375.653852304513'),\n",
       " Row(sexe='F', vitesse_a_pied='0.5908742785544581', salaire='16297.81293250145'),\n",
       " Row(sexe='H', vitesse_a_pied='0.47060845208795155', salaire='12995.042039836704'),\n",
       " Row(sexe='H', vitesse_a_pied='0.030000000000000006', salaire='29681.049201248905'),\n",
       " Row(sexe='H', vitesse_a_pied='0.5147324220976999', salaire='23422.057452559653'),\n",
       " Row(sexe='F', vitesse_a_pied='0.12229346839305215', salaire='20506.771270582794'),\n",
       " Row(sexe='H', vitesse_a_pied='1.1274414166189044', salaire='38967.575146474104'),\n",
       " Row(sexe='F', vitesse_a_pied='0.9075087187965568', salaire='17958.085356597978'),\n",
       " Row(sexe='H', vitesse_a_pied='0.7571789133423632', salaire='19553.65160202883'),\n",
       " Row(sexe='H', vitesse_a_pied='3.7766588011416977', salaire='24039.453155740375'),\n",
       " Row(sexe='F', vitesse_a_pied='0.707712687680994', salaire='26674.788325505753'),\n",
       " Row(sexe='H', vitesse_a_pied='0.8317609739615888', salaire='18600.077318679705'),\n",
       " Row(sexe='F', vitesse_a_pied='0.02', salaire='29220.08490169486'),\n",
       " Row(sexe='H', vitesse_a_pied='0.030000000000000006', salaire='18005.225610931477'),\n",
       " Row(sexe='H', vitesse_a_pied='1.2220618959744374', salaire='15084.576262650902'),\n",
       " Row(sexe='H', vitesse_a_pied='0.3749261519696561', salaire='27781.160970253484'),\n",
       " Row(sexe='F', vitesse_a_pied='0.2424320255196199', salaire='18291.48717734394'),\n",
       " Row(sexe='H', vitesse_a_pied='0.9791917446589629', salaire='26396.89373309486'),\n",
       " Row(sexe='H', vitesse_a_pied='1.7681068827063906', salaire='21060.919453291248'),\n",
       " Row(sexe='H', vitesse_a_pied='1.4021731793625', salaire='28977.74206174576'),\n",
       " Row(sexe='F', vitesse_a_pied='0.8321465646274234', salaire='16978.046379323936'),\n",
       " Row(sexe='F', vitesse_a_pied='0.02', salaire='31706.164844611383'),\n",
       " Row(sexe='H', vitesse_a_pied='1.0491998854936941', salaire='41131.626401751215'),\n",
       " Row(sexe='H', vitesse_a_pied='1.1929050988748897', salaire='22302.030683598103'),\n",
       " Row(sexe='F', vitesse_a_pied='0.8150277640656768', salaire='22597.614668605394'),\n",
       " Row(sexe='F', vitesse_a_pied='0.4813725049725126', salaire='31007.57319561756'),\n",
       " Row(sexe='H', vitesse_a_pied='1.3681752124397555', salaire='28531.998487914254'),\n",
       " Row(sexe='H', vitesse_a_pied='0.38928427947396615', salaire='54198.98346101949'),\n",
       " Row(sexe='H', vitesse_a_pied='1.4548373870537374', salaire='20944.40510867167'),\n",
       " Row(sexe='H', vitesse_a_pied='0.3906171057589765', salaire='24144.849556168527'),\n",
       " Row(sexe='F', vitesse_a_pied='0.02', salaire='29351.04808881825'),\n",
       " Row(sexe='H', vitesse_a_pied='1.0950238209055623', salaire='17356.492147448254'),\n",
       " Row(sexe='H', vitesse_a_pied='0.8560056940490126', salaire='36974.72321838003'),\n",
       " Row(sexe='H', vitesse_a_pied='0.030000000000000006', salaire='34171.529489843946'),\n",
       " Row(sexe='F', vitesse_a_pied='0.9202640327899486', salaire='16693.64593365834'),\n",
       " Row(sexe='H', vitesse_a_pied='0.5857359053069615', salaire='18422.113423566116'),\n",
       " Row(sexe='H', vitesse_a_pied='0.030000000000000006', salaire='24072.63390188707'),\n",
       " Row(sexe='H', vitesse_a_pied='1.070528348382786', salaire='27183.60360038495'),\n",
       " Row(sexe='F', vitesse_a_pied='0.5729828485590749', salaire='26591.189399423896'),\n",
       " Row(sexe='F', vitesse_a_pied='0.07345944492561665', salaire='12753.46309190842'),\n",
       " Row(sexe='F', vitesse_a_pied='0.40673336208805244', salaire='17953.001466903268'),\n",
       " Row(sexe='F', vitesse_a_pied='0.36353891656246473', salaire='20096.163370153357'),\n",
       " Row(sexe='F', vitesse_a_pied='0.7092051371347676', salaire='16342.474286353388'),\n",
       " Row(sexe='F', vitesse_a_pied='0.02', salaire='17720.040995902975'),\n",
       " Row(sexe='F', vitesse_a_pied='0.02', salaire='20591.515493230632'),\n",
       " Row(sexe='H', vitesse_a_pied='0.030000000000000006', salaire='26119.803140087653'),\n",
       " Row(sexe='H', vitesse_a_pied='0.845474609641158', salaire='27030.743328890014'),\n",
       " Row(sexe='H', vitesse_a_pied='0.510973693385633', salaire='33482.84855476647'),\n",
       " Row(sexe='H', vitesse_a_pied='0.06923260666820186', salaire='35723.97644197247'),\n",
       " Row(sexe='H', vitesse_a_pied='0.0424343847277576', salaire='53622.36885758317'),\n",
       " Row(sexe='F', vitesse_a_pied='0.1829401127173647', salaire='27080.659921160935'),\n",
       " Row(sexe='H', vitesse_a_pied='1.5012943550713012', salaire='26138.10540420707'),\n",
       " Row(sexe='H', vitesse_a_pied='1.264417033398193', salaire='26030.173979571162'),\n",
       " Row(sexe='H', vitesse_a_pied='0.6292177176906298', salaire='26715.521324197754'),\n",
       " Row(sexe='F', vitesse_a_pied='0.2541905177615016', salaire='32808.255724702496'),\n",
       " Row(sexe='H', vitesse_a_pied='0.6062794054186249', salaire='39076.00387246712'),\n",
       " Row(sexe='H', vitesse_a_pied='0.4819544577670401', salaire='27877.27455737605'),\n",
       " Row(sexe='F', vitesse_a_pied='0.5413609781049356', salaire='13025.684366143987'),\n",
       " Row(sexe='F', vitesse_a_pied='0.3468373085656181', salaire='24961.983187515347'),\n",
       " Row(sexe='F', vitesse_a_pied='0.9193247115658136', salaire='29144.787987489075'),\n",
       " Row(sexe='H', vitesse_a_pied='1.519105951743117', salaire='26827.60770621289'),\n",
       " Row(sexe='F', vitesse_a_pied='1.0549993188453546', salaire='23224.53630730813'),\n",
       " Row(sexe='H', vitesse_a_pied='0.030000000000000006', salaire='25072.66635746972'),\n",
       " Row(sexe='H', vitesse_a_pied='1.0669411697055282', salaire='23144.001525784133'),\n",
       " Row(sexe='F', vitesse_a_pied='0.4678667859443658', salaire='22043.138867904046'),\n",
       " Row(sexe='F', vitesse_a_pied='1.0873576281094421', salaire='39497.12164906396'),\n",
       " Row(sexe='H', vitesse_a_pied='0.25343202115063546', salaire='28820.24981125992'),\n",
       " Row(sexe='H', vitesse_a_pied='0.6473357202792672', salaire='34947.43019398958'),\n",
       " Row(sexe='H', vitesse_a_pied='0.8467557289919698', salaire='32213.078083028682'),\n",
       " Row(sexe='F', vitesse_a_pied='0.2085893418990346', salaire='14667.18382583275'),\n",
       " Row(sexe='H', vitesse_a_pied='1.4947196941516785', salaire='25331.684784624587'),\n",
       " Row(sexe='F', vitesse_a_pied='0.1389936736745702', salaire='33248.635521200755'),\n",
       " Row(sexe='H', vitesse_a_pied='0.8815804339311792', salaire='31477.09016369772'),\n",
       " Row(sexe='H', vitesse_a_pied='1.4073167319060487', salaire='20442.639608332305'),\n",
       " Row(sexe='H', vitesse_a_pied='1.131172544377473', salaire='29249.58076962102'),\n",
       " Row(sexe='H', vitesse_a_pied='0.030000000000000006', salaire='17102.820468033748'),\n",
       " Row(sexe='H', vitesse_a_pied='0.030000000000000006', salaire='31194.325185921614'),\n",
       " Row(sexe='H', vitesse_a_pied='1.2402552827400024', salaire='18974.35210155642'),\n",
       " Row(sexe='H', vitesse_a_pied='1.0809845123192048', salaire='23477.6113514144'),\n",
       " Row(sexe='H', vitesse_a_pied='1.3081395864894183', salaire='22594.108669709436'),\n",
       " Row(sexe='H', vitesse_a_pied='0.030000000000000006', salaire='53978.78798155961'),\n",
       " Row(sexe='F', vitesse_a_pied='0.2826770498518348', salaire='25683.30071774452'),\n",
       " Row(sexe='H', vitesse_a_pied='0.7279900524729792', salaire='51405.710542737535'),\n",
       " Row(sexe='H', vitesse_a_pied='0.030000000000000006', salaire='31909.7665584225'),\n",
       " Row(sexe='H', vitesse_a_pied='0.030000000000000006', salaire='25136.15683632318'),\n",
       " Row(sexe='F', vitesse_a_pied='0.7184711344773183', salaire='23137.0734536483'),\n",
       " Row(sexe='F', vitesse_a_pied='0.02', salaire='33136.49995192427'),\n",
       " Row(sexe='F', vitesse_a_pied='0.590263753044179', salaire='38818.41846770658'),\n",
       " Row(sexe='F', vitesse_a_pied='0.9744607175990738', salaire='13682.437032397842'),\n",
       " Row(sexe='F', vitesse_a_pied='0.6907825448897998', salaire='27054.063042397458'),\n",
       " Row(sexe='F', vitesse_a_pied='0.3842578568229912', salaire='30253.654118937313'),\n",
       " Row(sexe='F', vitesse_a_pied='1.1283485400445892', salaire='38719.26415650466'),\n",
       " Row(sexe='H', vitesse_a_pied='1.1134903901142348', salaire='23236.745750522525'),\n",
       " Row(sexe='F', vitesse_a_pied='0.5031744681305405', salaire='24276.861701004524'),\n",
       " Row(sexe='H', vitesse_a_pied='1.3008580246209844', salaire='31453.877045177782'),\n",
       " Row(sexe='F', vitesse_a_pied='0.8372110370105392', salaire='13998.246353495051'),\n",
       " Row(sexe='H', vitesse_a_pied='0.5584083737374729', salaire='32860.36641964226'),\n",
       " Row(sexe='H', vitesse_a_pied='0.999433077352187', salaire='15110.588453841687'),\n",
       " Row(sexe='F', vitesse_a_pied='0.02', salaire='59021.64461176796'),\n",
       " Row(sexe='H', vitesse_a_pied='0.9847586201829122', salaire='30719.862866875672'),\n",
       " Row(sexe='F', vitesse_a_pied='0.6999955348842934', salaire='22176.92537725766'),\n",
       " Row(sexe='F', vitesse_a_pied='0.46943315642811384', salaire='23502.2450417172'),\n",
       " Row(sexe='H', vitesse_a_pied='0.4191326321851793', salaire='46687.3170047982'),\n",
       " Row(sexe='H', vitesse_a_pied='0.5313710298685581', salaire='27160.620943711892'),\n",
       " Row(sexe='F', vitesse_a_pied='0.8741308462921275', salaire='23627.989625574464'),\n",
       " Row(sexe='F', vitesse_a_pied='0.6407180946604238', salaire='18621.47635733263'),\n",
       " Row(sexe='H', vitesse_a_pied='1.038420974294248', salaire='19965.176705889695'),\n",
       " Row(sexe='F', vitesse_a_pied='0.3852748768993885', salaire='26418.61185084846'),\n",
       " Row(sexe='H', vitesse_a_pied='0.7375592956861269', salaire='22147.360996485506'),\n",
       " Row(sexe='H', vitesse_a_pied='1.989851749952296', salaire='29152.655344069397'),\n",
       " Row(sexe='F', vitesse_a_pied='0.11424150479850592', salaire='23281.9594630305'),\n",
       " Row(sexe='F', vitesse_a_pied='0.02', salaire='22262.491316583106'),\n",
       " Row(sexe='H', vitesse_a_pied='1.7768955307594845', salaire='20645.92983184995'),\n",
       " Row(sexe='F', vitesse_a_pied='0.3823374859143536', salaire='21816.903238862305'),\n",
       " Row(sexe='F', vitesse_a_pied='0.4652515885667131', salaire='30150.508859958125'),\n",
       " Row(sexe='H', vitesse_a_pied='0.5734810706153018', salaire='20964.972946691214'),\n",
       " Row(sexe='F', vitesse_a_pied='0.11505351669224999', salaire='21493.44711983126'),\n",
       " Row(sexe='F', vitesse_a_pied='0.7307355485721506', salaire='21341.23300824164'),\n",
       " Row(sexe='F', vitesse_a_pied='1.1454157062319443', salaire='18470.43468278106'),\n",
       " Row(sexe='F', vitesse_a_pied='0.11436362573694994', salaire='27368.46275731034'),\n",
       " Row(sexe='F', vitesse_a_pied='1.1841168611269182', salaire='28753.823367968438'),\n",
       " Row(sexe='F', vitesse_a_pied='0.4372009047992174', salaire='32778.23312674623'),\n",
       " Row(sexe='H', vitesse_a_pied='0.030000000000000006', salaire='35362.89844810204'),\n",
       " Row(sexe='F', vitesse_a_pied='0.5102795734371228', salaire='44181.50851133359'),\n",
       " Row(sexe='H', vitesse_a_pied='0.030000000000000006', salaire='29180.325850706602'),\n",
       " Row(sexe='H', vitesse_a_pied='1.5341119905077787', salaire='30672.717929552484'),\n",
       " Row(sexe='H', vitesse_a_pied='0.3798927518792828', salaire='22874.1369120264'),\n",
       " Row(sexe='H', vitesse_a_pied='1.4330798002078386', salaire='27905.19845904541'),\n",
       " Row(sexe='H', vitesse_a_pied='0.4671956926188484', salaire='30251.47600101557'),\n",
       " Row(sexe='F', vitesse_a_pied='0.4984199968888535', salaire='21043.46554656485'),\n",
       " Row(sexe='H', vitesse_a_pied='0.5845484006542123', salaire='28425.883884207582'),\n",
       " Row(sexe='H', vitesse_a_pied='0.3148085045610446', salaire='38685.367226338785'),\n",
       " Row(sexe='F', vitesse_a_pied='0.34001657976843047', salaire='29302.01520743528'),\n",
       " Row(sexe='F', vitesse_a_pied='0.7437598586857233', salaire='21002.444796187683'),\n",
       " Row(sexe='F', vitesse_a_pied='1.555806785697804', salaire='23749.778742973795'),\n",
       " Row(sexe='H', vitesse_a_pied='0.640227913278148', salaire='23941.20375779005'),\n",
       " Row(sexe='H', vitesse_a_pied='0.32955842406685837', salaire='27643.279763350034'),\n",
       " Row(sexe='H', vitesse_a_pied='0.4435130036144649', salaire='23009.574237198478'),\n",
       " Row(sexe='F', vitesse_a_pied='0.4277777880753323', salaire='13441.939568620479'),\n",
       " Row(sexe='F', vitesse_a_pied='1.0480612220702894', salaire='21121.79066536916'),\n",
       " Row(sexe='H', vitesse_a_pied='0.6827439142210628', salaire='20361.283804225663'),\n",
       " Row(sexe='F', vitesse_a_pied='0.22681137024036468', salaire='21256.821855302547'),\n",
       " Row(sexe='F', vitesse_a_pied='0.5745623804092388', salaire='24651.112006480023'),\n",
       " Row(sexe='H', vitesse_a_pied='0.6064091702835566', salaire='29180.093969584894'),\n",
       " Row(sexe='H', vitesse_a_pied='0.24957747760882903', salaire='15372.861536919405'),\n",
       " Row(sexe='F', vitesse_a_pied='1.2135987324903148', salaire='21831.918692891904'),\n",
       " Row(sexe='H', vitesse_a_pied='0.8475715602237003', salaire='29880.373321879957'),\n",
       " Row(sexe='F', vitesse_a_pied='0.5836929742371041', salaire='27820.03072283903'),\n",
       " Row(sexe='H', vitesse_a_pied='0.030000000000000006', salaire='42019.1622252076'),\n",
       " Row(sexe='H', vitesse_a_pied='3.271740492948149', salaire='38012.49890584357'),\n",
       " Row(sexe='F', vitesse_a_pied='0.4795496379476979', salaire='37603.632648896324'),\n",
       " Row(sexe='F', vitesse_a_pied='0.6101188975111445', salaire='29106.449431203368'),\n",
       " Row(sexe='H', vitesse_a_pied='2.519110941234998', salaire='19941.634421879353'),\n",
       " Row(sexe='H', vitesse_a_pied='0.19225767461503881', salaire='28677.483722929832'),\n",
       " Row(sexe='H', vitesse_a_pied='0.38130174011496065', salaire='17305.169136800963'),\n",
       " Row(sexe='H', vitesse_a_pied='0.030000000000000006', salaire='35604.54935086713'),\n",
       " Row(sexe='H', vitesse_a_pied='1.243995810643504', salaire='49773.238215910416'),\n",
       " Row(sexe='F', vitesse_a_pied='1.0581578184886165', salaire='14285.453293314411'),\n",
       " Row(sexe='F', vitesse_a_pied='0.5235679465423569', salaire='21096.47754404932'),\n",
       " Row(sexe='H', vitesse_a_pied='1.291979703827781', salaire='28643.458643036858'),\n",
       " Row(sexe='H', vitesse_a_pied='1.2467149780186026', salaire='30715.41572186488'),\n",
       " Row(sexe='H', vitesse_a_pied='0.030000000000000006', salaire='30766.595968252375'),\n",
       " Row(sexe='F', vitesse_a_pied='0.42282515971656476', salaire='26135.743366938386'),\n",
       " Row(sexe='F', vitesse_a_pied='0.06673679017440537', salaire='18307.777417947746'),\n",
       " Row(sexe='H', vitesse_a_pied='1.1411087471248225', salaire='21822.759897462936'),\n",
       " Row(sexe='H', vitesse_a_pied='0.7963768216040498', salaire='42129.91398390134'),\n",
       " Row(sexe='F', vitesse_a_pied='0.7797878751174292', salaire='35096.5366337986'),\n",
       " Row(sexe='H', vitesse_a_pied='0.030000000000000006', salaire='36038.78812432519'),\n",
       " Row(sexe='F', vitesse_a_pied='0.5366359127443354', salaire='11287.789719823171'),\n",
       " Row(sexe='H', vitesse_a_pied='0.030000000000000006', salaire='13555.857264947701'),\n",
       " Row(sexe='H', vitesse_a_pied='0.8953630963316266', salaire='14109.263061357238'),\n",
       " Row(sexe='H', vitesse_a_pied='0.9848589125882754', salaire='24007.450995064017'),\n",
       " Row(sexe='H', vitesse_a_pied='0.5540139672345925', salaire='40879.67118677985'),\n",
       " Row(sexe='F', vitesse_a_pied='0.3615980311120377', salaire='15207.534336911149'),\n",
       " Row(sexe='F', vitesse_a_pied='0.464236011395528', salaire='25644.485751035787'),\n",
       " Row(sexe='H', vitesse_a_pied='0.8458268824684578', salaire='21828.559664938683'),\n",
       " Row(sexe='F', vitesse_a_pied='0.3506549327963314', salaire='24625.644327287097'),\n",
       " Row(sexe='H', vitesse_a_pied='0.0958476279477221', salaire='30572.523205335838'),\n",
       " Row(sexe='H', vitesse_a_pied='0.9637582581688896', salaire='16658.67362235179'),\n",
       " Row(sexe='F', vitesse_a_pied='0.4782134320839166', salaire='11489.653241242995'),\n",
       " Row(sexe='H', vitesse_a_pied='1.4482123458438088', salaire='23664.869984215675'),\n",
       " Row(sexe='F', vitesse_a_pied='0.8227882960256508', salaire='27328.470352744112'),\n",
       " Row(sexe='H', vitesse_a_pied='0.5251243195692581', salaire='22020.863283197497'),\n",
       " Row(sexe='F', vitesse_a_pied='0.2699345201491331', salaire='24266.708780385474'),\n",
       " Row(sexe='F', vitesse_a_pied='0.6758598548527319', salaire='12408.241500839771'),\n",
       " Row(sexe='F', vitesse_a_pied='0.02', salaire='22475.047814349084'),\n",
       " Row(sexe='H', vitesse_a_pied='0.19601391760906267', salaire='26779.550347406283'),\n",
       " Row(sexe='F', vitesse_a_pied='0.02', salaire='23843.812442226837'),\n",
       " Row(sexe='H', vitesse_a_pied='0.030000000000000006', salaire='32223.19429682512'),\n",
       " Row(sexe='F', vitesse_a_pied='0.3625321470536648', salaire='27715.188375114787'),\n",
       " Row(sexe='H', vitesse_a_pied='0.3474914894849667', salaire='37702.11559968335'),\n",
       " Row(sexe='F', vitesse_a_pied='0.3476513021031222', salaire='22198.482331580664'),\n",
       " Row(sexe='H', vitesse_a_pied='0.6301685810674253', salaire='16550.584317088047'),\n",
       " Row(sexe='F', vitesse_a_pied='0.3919525609635188', salaire='21067.371967561478'),\n",
       " Row(sexe='H', vitesse_a_pied='0.030000000000000006', salaire='11768.72943629836'),\n",
       " Row(sexe='H', vitesse_a_pied='0.8157948087707346', salaire='24460.395998172295'),\n",
       " Row(sexe='H', vitesse_a_pied='0.030000000000000006', salaire='17596.54001004161'),\n",
       " Row(sexe='H', vitesse_a_pied='1.044731805172106', salaire='22972.248978807325'),\n",
       " Row(sexe='H', vitesse_a_pied='1.2327365111878394', salaire='20975.374973525937'),\n",
       " Row(sexe='H', vitesse_a_pied='0.8679653796253533', salaire='21335.612049946267'),\n",
       " Row(sexe='H', vitesse_a_pied='0.37648085052772384', salaire='28954.952950535906'),\n",
       " Row(sexe='F', vitesse_a_pied='0.6735018706606567', salaire='21441.815980675303'),\n",
       " Row(sexe='F', vitesse_a_pied='0.21783678823636848', salaire='18784.82411937633'),\n",
       " Row(sexe='F', vitesse_a_pied='0.5473342073256345', salaire='20820.177608181573'),\n",
       " Row(sexe='F', vitesse_a_pied='0.36794233622957556', salaire='31664.506278859'),\n",
       " Row(sexe='F', vitesse_a_pied='0.5011380901533282', salaire='15739.989880092204'),\n",
       " Row(sexe='H', vitesse_a_pied='0.030000000000000006', salaire='19808.140608386402'),\n",
       " Row(sexe='F', vitesse_a_pied='0.5260816743261071', salaire='23771.354003328215'),\n",
       " Row(sexe='F', vitesse_a_pied='0.5351071722197742', salaire='20407.36581098978'),\n",
       " Row(sexe='H', vitesse_a_pied='1.4071504338858558', salaire='9107.610234223128'),\n",
       " Row(sexe='F', vitesse_a_pied='0.02', salaire='19806.020756860285'),\n",
       " Row(sexe='H', vitesse_a_pied='0.36767096301526586', salaire='18075.838271610995'),\n",
       " Row(sexe='H', vitesse_a_pied='0.359861905824156', salaire='28550.496571745203'),\n",
       " Row(sexe='H', vitesse_a_pied='1.3256843082027854', salaire='42886.54562787564'),\n",
       " Row(sexe='H', vitesse_a_pied='0.7329094790233412', salaire='28126.240094386718'),\n",
       " Row(sexe='H', vitesse_a_pied='1.1734317208137688', salaire='27140.988455619547'),\n",
       " Row(sexe='H', vitesse_a_pied='0.030000000000000006', salaire='23515.2517521689'),\n",
       " Row(sexe='F', vitesse_a_pied='0.02', salaire='12045.894063416205'),\n",
       " Row(sexe='F', vitesse_a_pied='0.02', salaire='27590.713658384204'),\n",
       " Row(sexe='H', vitesse_a_pied='0.6482834353852958', salaire='32227.985159518412'),\n",
       " Row(sexe='F', vitesse_a_pied='0.1798288152161985', salaire='18977.306370517406'),\n",
       " Row(sexe='H', vitesse_a_pied='0.030000000000000006', salaire='25709.813749611356'),\n",
       " Row(sexe='H', vitesse_a_pied='1.2743760624446465', salaire='17059.792505719168'),\n",
       " Row(sexe='H', vitesse_a_pied='0.030000000000000006', salaire='31798.757156443535'),\n",
       " Row(sexe='F', vitesse_a_pied='0.02', salaire='19395.345169564316'),\n",
       " Row(sexe='F', vitesse_a_pied='0.8322423599264844', salaire='39986.858730102555'),\n",
       " Row(sexe='F', vitesse_a_pied='1.125223565120354', salaire='25095.024799504805'),\n",
       " Row(sexe='H', vitesse_a_pied='1.1007912607216401', salaire='48243.80325701508'),\n",
       " Row(sexe='H', vitesse_a_pied='0.8159127447379214', salaire='21516.302377056676'),\n",
       " Row(sexe='H', vitesse_a_pied='1.006517820702389', salaire='28842.612538850986'),\n",
       " Row(sexe='F', vitesse_a_pied='0.2652073839265886', salaire='17148.991899604534'),\n",
       " Row(sexe='F', vitesse_a_pied='0.6072252688106692', salaire='12567.37617457591'),\n",
       " Row(sexe='F', vitesse_a_pied='0.7170334241299345', salaire='15864.939683997693'),\n",
       " Row(sexe='H', vitesse_a_pied='1.8453608927700755', salaire='19851.97563760938'),\n",
       " Row(sexe='F', vitesse_a_pied='0.9457271083361887', salaire='22048.733766872672'),\n",
       " Row(sexe='H', vitesse_a_pied='0.030000000000000006', salaire='32585.559417449225'),\n",
       " Row(sexe='H', vitesse_a_pied='0.030000000000000006', salaire='18597.559473232355'),\n",
       " Row(sexe='F', vitesse_a_pied='0.23023081950082122', salaire='22445.162346547197'),\n",
       " Row(sexe='F', vitesse_a_pied='0.20168667090654568', salaire='28084.485592012657'),\n",
       " Row(sexe='H', vitesse_a_pied='0.030000000000000006', salaire='21770.834539632964'),\n",
       " Row(sexe='H', vitesse_a_pied='1.2267399416970632', salaire='24165.896350509665'),\n",
       " Row(sexe='F', vitesse_a_pied='0.7649304679665047', salaire='21698.090135865114'),\n",
       " Row(sexe='H', vitesse_a_pied='0.17011780562823856', salaire='45795.64325891225'),\n",
       " Row(sexe='F', vitesse_a_pied='0.02', salaire='29699.871584670556'),\n",
       " Row(sexe='H', vitesse_a_pied='0.030000000000000006', salaire='18080.45137607354'),\n",
       " Row(sexe='H', vitesse_a_pied='1.3271825298443418', salaire='22987.81284279757'),\n",
       " Row(sexe='H', vitesse_a_pied='0.24132484589444303', salaire='23831.662253417675'),\n",
       " Row(sexe='H', vitesse_a_pied='0.45546320162913656', salaire='35435.29507831379'),\n",
       " Row(sexe='F', vitesse_a_pied='0.02', salaire='11309.67559224571'),\n",
       " Row(sexe='H', vitesse_a_pied='0.6414093696521648', salaire='13101.94066447814'),\n",
       " Row(sexe='H', vitesse_a_pied='1.4440471442794864', salaire='21557.761525782673'),\n",
       " Row(sexe='F', vitesse_a_pied='0.3727520088823853', salaire='18073.18850274231'),\n",
       " Row(sexe='F', vitesse_a_pied='0.02', salaire='22981.293559545273'),\n",
       " Row(sexe='F', vitesse_a_pied='0.7354177928614474', salaire='18605.713365822194'),\n",
       " Row(sexe='F', vitesse_a_pied='0.7765651781562661', salaire='41132.24856284279'),\n",
       " Row(sexe='F', vitesse_a_pied='0.5871392360585685', salaire='36063.126300161966'),\n",
       " Row(sexe='F', vitesse_a_pied='0.7589101702383875', salaire='27366.094864685652'),\n",
       " Row(sexe='F', vitesse_a_pied='0.26683243408717217', salaire='21296.96410223492'),\n",
       " Row(sexe='H', vitesse_a_pied='0.46850092391743114', salaire='32315.01877109296'),\n",
       " Row(sexe='H', vitesse_a_pied='0.943895422449609', salaire='36433.5060565994'),\n",
       " Row(sexe='F', vitesse_a_pied='0.02', salaire='20033.88258332259'),\n",
       " Row(sexe='F', vitesse_a_pied='0.7796591090613868', salaire='17892.95329230286'),\n",
       " Row(sexe='F', vitesse_a_pied='0.44668454829103527', salaire='31282.211180708393'),\n",
       " Row(sexe='H', vitesse_a_pied='0.030000000000000006', salaire='25480.49554855005'),\n",
       " Row(sexe='F', vitesse_a_pied='0.45644370828407965', salaire='15807.385715666385'),\n",
       " Row(sexe='H', vitesse_a_pied='1.3203489751265232', salaire='21276.321947643646'),\n",
       " Row(sexe='F', vitesse_a_pied='0.5031683941157687', salaire='30247.13263314953'),\n",
       " Row(sexe='F', vitesse_a_pied='0.02', salaire='26111.208914890147'),\n",
       " Row(sexe='H', vitesse_a_pied='1.4789196070393706', salaire='26557.305661317583'),\n",
       " Row(sexe='F', vitesse_a_pied='0.7551762918675833', salaire='33873.462321304956'),\n",
       " Row(sexe='H', vitesse_a_pied='0.13413827519267413', salaire='36669.60258401745'),\n",
       " Row(sexe='H', vitesse_a_pied='0.9203246658957493', salaire='24424.970690776147'),\n",
       " Row(sexe='F', vitesse_a_pied='0.08011947378264077', salaire='34886.056415268984'),\n",
       " Row(sexe='H', vitesse_a_pied='1.5810802491087315', salaire='47469.33920349567'),\n",
       " Row(sexe='H', vitesse_a_pied='0.030000000000000006', salaire='42722.93789119604'),\n",
       " Row(sexe='F', vitesse_a_pied='0.6345995944920342', salaire='17684.647896414685'),\n",
       " Row(sexe='H', vitesse_a_pied='0.13312409445236043', salaire='28529.26700227492'),\n",
       " Row(sexe='H', vitesse_a_pied='0.030000000000000006', salaire='10558.524131215318'),\n",
       " Row(sexe='F', vitesse_a_pied='0.8082270135003862', salaire='14089.34792089161'),\n",
       " Row(sexe='H', vitesse_a_pied='0.75805601005394', salaire='22741.632005141742'),\n",
       " Row(sexe='F', vitesse_a_pied='0.4593984879230601', salaire='19340.27781152483'),\n",
       " Row(sexe='H', vitesse_a_pied='0.8340412970117335', salaire='19109.27616757362'),\n",
       " Row(sexe='F', vitesse_a_pied='0.027991390202503918', salaire='32557.964856926144'),\n",
       " Row(sexe='H', vitesse_a_pied='0.030000000000000006', salaire='26561.769387118715'),\n",
       " Row(sexe='F', vitesse_a_pied='0.9291665079325655', salaire='17932.054277614643'),\n",
       " Row(sexe='H', vitesse_a_pied='1.2673215631825938', salaire='21147.435300989062'),\n",
       " Row(sexe='H', vitesse_a_pied='1.779870693119684', salaire='19020.022163084057'),\n",
       " Row(sexe='H', vitesse_a_pied='0.2823645454872965', salaire='36709.59330964761'),\n",
       " Row(sexe='F', vitesse_a_pied='0.3689934087658156', salaire='12582.616652331768'),\n",
       " Row(sexe='H', vitesse_a_pied='0.6337637336940093', salaire='45844.48776756831'),\n",
       " Row(sexe='F', vitesse_a_pied='0.04402447333277637', salaire='31015.1642365126'),\n",
       " Row(sexe='F', vitesse_a_pied='0.02', salaire='37630.67734736526'),\n",
       " Row(sexe='H', vitesse_a_pied='1.514004221676354', salaire='26019.697080648297'),\n",
       " Row(sexe='F', vitesse_a_pied='0.5126762435735506', salaire='16504.690019076137'),\n",
       " Row(sexe='F', vitesse_a_pied='0.02', salaire='22949.317580170253'),\n",
       " Row(sexe='H', vitesse_a_pied='1.002695692839221', salaire='14974.83618373643'),\n",
       " Row(sexe='H', vitesse_a_pied='2.719969733783113', salaire='32596.946923196512'),\n",
       " Row(sexe='F', vitesse_a_pied='0.24563567856504614', salaire='40791.28478110689'),\n",
       " Row(sexe='H', vitesse_a_pied='1.0215430205859548', salaire='27306.6268164864'),\n",
       " Row(sexe='H', vitesse_a_pied='0.36816715490210916', salaire='32017.44768342351'),\n",
       " Row(sexe='H', vitesse_a_pied='0.6959564483511109', salaire='31729.88236582247'),\n",
       " Row(sexe='H', vitesse_a_pied='0.67978404447152', salaire='8805.694560403495'),\n",
       " Row(sexe='F', vitesse_a_pied='0.8644597340437574', salaire='20463.593770964475'),\n",
       " Row(sexe='F', vitesse_a_pied='0.9060081975000112', salaire='25532.404223270976'),\n",
       " Row(sexe='F', vitesse_a_pied='0.11467544064796789', salaire='24036.785616569316'),\n",
       " Row(sexe='F', vitesse_a_pied='0.17996248122437222', salaire='18484.374167528338'),\n",
       " Row(sexe='F', vitesse_a_pied='0.5345476885617901', salaire='39781.251634001055'),\n",
       " Row(sexe='F', vitesse_a_pied='0.30226050443361846', salaire='17231.216926648092'),\n",
       " Row(sexe='F', vitesse_a_pied='0.4232863785717673', salaire='13034.530513050857'),\n",
       " Row(sexe='H', vitesse_a_pied='0.030000000000000006', salaire='37942.671812160166'),\n",
       " Row(sexe='F', vitesse_a_pied='0.2821179301315467', salaire='22745.84092068776'),\n",
       " Row(sexe='F', vitesse_a_pied='0.3966579986224211', salaire='39317.533163250424'),\n",
       " Row(sexe='F', vitesse_a_pied='0.9040958916672203', salaire='39042.07165562923'),\n",
       " Row(sexe='F', vitesse_a_pied='0.7074275244621115', salaire='32064.653550439936'),\n",
       " Row(sexe='F', vitesse_a_pied='1.000818086104657', salaire='32893.926762053125'),\n",
       " Row(sexe='F', vitesse_a_pied='0.6179314447213716', salaire='24624.631949247378'),\n",
       " Row(sexe='H', vitesse_a_pied='0.13013589385765864', salaire='43209.33376803275'),\n",
       " Row(sexe='F', vitesse_a_pied='0.9124440746468212', salaire='21677.78644625172'),\n",
       " Row(sexe='H', vitesse_a_pied='0.030000000000000006', salaire='30339.10195200273'),\n",
       " Row(sexe='F', vitesse_a_pied='1.0884309199884328', salaire='27736.3168599567'),\n",
       " Row(sexe='H', vitesse_a_pied='0.8702409059568416', salaire='31242.530763395254'),\n",
       " Row(sexe='H', vitesse_a_pied='0.5550453344033647', salaire='33861.18529589451'),\n",
       " Row(sexe='F', vitesse_a_pied='0.22862299482797938', salaire='14663.89192406506'),\n",
       " Row(sexe='H', vitesse_a_pied='0.7140352413272457', salaire='46971.91222570144'),\n",
       " Row(sexe='F', vitesse_a_pied='0.5021120979214344', salaire='31429.168123679992'),\n",
       " Row(sexe='H', vitesse_a_pied='0.9046852503212195', salaire='10024.838623900449'),\n",
       " Row(sexe='H', vitesse_a_pied='0.9878442623433756', salaire='35171.83967353359'),\n",
       " Row(sexe='F', vitesse_a_pied='0.24606067900891734', salaire='18001.46181215169'),\n",
       " Row(sexe='F', vitesse_a_pied='1.025418427702408', salaire='22299.610295164497'),\n",
       " Row(sexe='H', vitesse_a_pied='0.5257773305604732', salaire='24165.224773603975'),\n",
       " Row(sexe='F', vitesse_a_pied='0.02', salaire='25478.446272398192'),\n",
       " Row(sexe='F', vitesse_a_pied='0.12440220623007062', salaire='25524.62006998167'),\n",
       " Row(sexe='H', vitesse_a_pied='1.022750482179567', salaire='70774.33586970864'),\n",
       " Row(sexe='H', vitesse_a_pied='1.455335297514965', salaire='22914.18501238765'),\n",
       " Row(sexe='F', vitesse_a_pied='0.34528583404346325', salaire='12915.611710868608'),\n",
       " Row(sexe='H', vitesse_a_pied='0.4964896664696479', salaire='29167.959942346188'),\n",
       " Row(sexe='F', vitesse_a_pied='0.471060151458569', salaire='26255.30156024432'),\n",
       " Row(sexe='H', vitesse_a_pied='1.1961439879012459', salaire='20371.56086714531'),\n",
       " Row(sexe='H', vitesse_a_pied='1.2489190430943347', salaire='26107.71998668863'),\n",
       " Row(sexe='H', vitesse_a_pied='0.030000000000000006', salaire='13638.524620927685'),\n",
       " Row(sexe='F', vitesse_a_pied='0.24482068957085618', salaire='12248.809191554772'),\n",
       " Row(sexe='H', vitesse_a_pied='0.5642384188955836', salaire='31684.50546787962'),\n",
       " Row(sexe='H', vitesse_a_pied='0.3867836464388962', salaire='26138.613016586583'),\n",
       " Row(sexe='H', vitesse_a_pied='0.3311745969457471', salaire='38213.81443862405'),\n",
       " Row(sexe='H', vitesse_a_pied='0.20558995302735905', salaire='38014.31927295661'),\n",
       " Row(sexe='F', vitesse_a_pied='0.2960464413923528', salaire='29904.490646435508'),\n",
       " Row(sexe='F', vitesse_a_pied='0.2604159417922512', salaire='22071.027249514926'),\n",
       " Row(sexe='F', vitesse_a_pied='0.20643872526718415', salaire='27834.756657372804'),\n",
       " Row(sexe='H', vitesse_a_pied='0.03300984985919764', salaire='44335.90833009898'),\n",
       " Row(sexe='H', vitesse_a_pied='0.309182818610745', salaire='28838.227792534264'),\n",
       " Row(sexe='F', vitesse_a_pied='0.1960522039335646', salaire='26520.894020976986'),\n",
       " Row(sexe='F', vitesse_a_pied='0.2804189608340654', salaire='18986.037995545856'),\n",
       " Row(sexe='F', vitesse_a_pied='0.7138712591737498', salaire='21119.72802927799'),\n",
       " Row(sexe='H', vitesse_a_pied='0.2681135891631198', salaire='41225.62734675889'),\n",
       " Row(sexe='H', vitesse_a_pied='0.030000000000000006', salaire='35118.22122529919'),\n",
       " Row(sexe='H', vitesse_a_pied='0.22487430892364504', salaire='14621.867109122193'),\n",
       " Row(sexe='H', vitesse_a_pied='0.030000000000000006', salaire='12140.515921761453'),\n",
       " Row(sexe='H', vitesse_a_pied='0.030000000000000006', salaire='51712.603540401906'),\n",
       " Row(sexe='H', vitesse_a_pied='0.4007680622906336', salaire='25875.846097953352'),\n",
       " Row(sexe='H', vitesse_a_pied='0.3773931246592155', salaire='22524.44344728521'),\n",
       " Row(sexe='H', vitesse_a_pied='0.030000000000000006', salaire='15504.790383765652'),\n",
       " Row(sexe='F', vitesse_a_pied='0.7983589774384319', salaire='20329.625969107703'),\n",
       " Row(sexe='H', vitesse_a_pied='0.26314323335825096', salaire='21372.762306162484'),\n",
       " Row(sexe='F', vitesse_a_pied='0.07723542289297299', salaire='28090.61658865556'),\n",
       " Row(sexe='H', vitesse_a_pied='0.6349146209931029', salaire='16365.53386002792'),\n",
       " Row(sexe='F', vitesse_a_pied='0.9603087654280745', salaire='30238.21644283179'),\n",
       " Row(sexe='F', vitesse_a_pied='0.29985048775364065', salaire='33325.54292128016'),\n",
       " Row(sexe='F', vitesse_a_pied='0.325212886409265', salaire='22082.57730031482'),\n",
       " Row(sexe='H', vitesse_a_pied='1.328767725283902', salaire='22804.525737280484'),\n",
       " Row(sexe='F', vitesse_a_pied='1.1285020902518046', salaire='15511.964327672118'),\n",
       " Row(sexe='H', vitesse_a_pied='0.9564353005971615', salaire='27986.614145171563'),\n",
       " Row(sexe='H', vitesse_a_pied='1.23257757463587', salaire='35043.308669798105'),\n",
       " Row(sexe='H', vitesse_a_pied='1.4105140974433854', salaire='20407.703680846105'),\n",
       " Row(sexe='H', vitesse_a_pied='0.04615889177040968', salaire='45629.78189404402'),\n",
       " Row(sexe='F', vitesse_a_pied='0.02', salaire='24492.929294180813'),\n",
       " Row(sexe='F', vitesse_a_pied='1.229124785492192', salaire='21544.47685158256'),\n",
       " Row(sexe='H', vitesse_a_pied='0.3939412871592877', salaire='19916.14228031448'),\n",
       " Row(sexe='H', vitesse_a_pied='0.7628650188339616', salaire='37522.70760719745'),\n",
       " Row(sexe='F', vitesse_a_pied='0.601709689531562', salaire='24814.376867731997'),\n",
       " Row(sexe='F', vitesse_a_pied='0.6176507551141992', salaire='38798.762580581555'),\n",
       " Row(sexe='H', vitesse_a_pied='1.0856153178643837', salaire='61808.843228595666'),\n",
       " Row(sexe='F', vitesse_a_pied='0.7440875155822673', salaire='16826.10804510672'),\n",
       " Row(sexe='H', vitesse_a_pied='0.030000000000000006', salaire='24425.448518042365'),\n",
       " Row(sexe='F', vitesse_a_pied='0.29713802615785456', salaire='21167.503107422166'),\n",
       " Row(sexe='H', vitesse_a_pied='1.070597386450903', salaire='26663.598200781922'),\n",
       " Row(sexe='H', vitesse_a_pied='0.9083000526607636', salaire='10413.272672555939'),\n",
       " Row(sexe='F', vitesse_a_pied='0.8534527611234963', salaire='28187.507643931778'),\n",
       " Row(sexe='H', vitesse_a_pied='0.600242183484388', salaire='29287.86083631811'),\n",
       " Row(sexe='H', vitesse_a_pied='0.31227391813420624', salaire='16454.859010521213'),\n",
       " Row(sexe='H', vitesse_a_pied='1.804890910392028', salaire='16897.58663757199'),\n",
       " Row(sexe='H', vitesse_a_pied='2.2089650075428318', salaire='19955.791488316216'),\n",
       " Row(sexe='H', vitesse_a_pied='1.07046448001924', salaire='42294.85922274387'),\n",
       " Row(sexe='H', vitesse_a_pied='0.10949273586843553', salaire='35809.19599175276'),\n",
       " Row(sexe='F', vitesse_a_pied='0.9226044843428383', salaire='31968.695225760384'),\n",
       " Row(sexe='F', vitesse_a_pied='0.02', salaire='13043.372488021916'),\n",
       " Row(sexe='H', vitesse_a_pied='0.8594950012758774', salaire='39820.79782638958'),\n",
       " Row(sexe='H', vitesse_a_pied='0.7830936290471355', salaire='36055.006816190784'),\n",
       " Row(sexe='F', vitesse_a_pied='1.7367145413390783', salaire='18290.354293186196'),\n",
       " Row(sexe='H', vitesse_a_pied='0.4361495984638527', salaire='27581.184975550314'),\n",
       " Row(sexe='F', vitesse_a_pied='0.6267189705621833', salaire='21529.480909504444'),\n",
       " Row(sexe='F', vitesse_a_pied='0.6382690237180995', salaire='26155.1596784927'),\n",
       " Row(sexe='F', vitesse_a_pied='0.7571349480650029', salaire='22692.06664303308'),\n",
       " Row(sexe='F', vitesse_a_pied='0.14653134035123255', salaire='25837.203844124775'),\n",
       " Row(sexe='H', vitesse_a_pied='0.3671582228796071', salaire='24707.141300817322'),\n",
       " Row(sexe='F', vitesse_a_pied='0.8383862769558276', salaire='22833.769295433507'),\n",
       " Row(sexe='F', vitesse_a_pied='1.2444959117395582', salaire='35464.295942801065'),\n",
       " Row(sexe='F', vitesse_a_pied='0.38480605821836183', salaire='23036.123633112766'),\n",
       " Row(sexe='H', vitesse_a_pied='0.7605623561107903', salaire='22423.178411266792'),\n",
       " Row(sexe='H', vitesse_a_pied='0.4577445398662241', salaire='23793.36146837293'),\n",
       " Row(sexe='H', vitesse_a_pied='0.030000000000000006', salaire='18860.75356249726'),\n",
       " Row(sexe='H', vitesse_a_pied='0.5597014817198389', salaire='13025.335572866898'),\n",
       " Row(sexe='H', vitesse_a_pied='0.432079173336909', salaire='34763.487251493774'),\n",
       " Row(sexe='H', vitesse_a_pied='1.7877688716764244', salaire='28855.71572062157'),\n",
       " Row(sexe='H', vitesse_a_pied='1.5028017220401548', salaire='48913.44174800738'),\n",
       " Row(sexe='F', vitesse_a_pied='0.5241970230678855', salaire='34486.31166698678'),\n",
       " Row(sexe='F', vitesse_a_pied='0.07164273972612598', salaire='15017.526025650324'),\n",
       " Row(sexe='H', vitesse_a_pied='0.23415410281783', salaire='30719.782829724816'),\n",
       " Row(sexe='F', vitesse_a_pied='0.4790520659019607', salaire='26990.388445878703'),\n",
       " Row(sexe='H', vitesse_a_pied='0.030000000000000006', salaire='44862.11123180018'),\n",
       " Row(sexe='H', vitesse_a_pied='0.939358100492145', salaire='22259.70668429768'),\n",
       " Row(sexe='H', vitesse_a_pied='0.8368401585358469', salaire='19421.25931240872'),\n",
       " Row(sexe='H', vitesse_a_pied='0.47702125792661454', salaire='43904.48457371797'),\n",
       " Row(sexe='F', vitesse_a_pied='0.6371104069346138', salaire='27231.97681963231'),\n",
       " Row(sexe='H', vitesse_a_pied='0.282994661809401', salaire='20105.57314284235'),\n",
       " Row(sexe='H', vitesse_a_pied='0.8536591954365249', salaire='23560.72257651122'),\n",
       " Row(sexe='H', vitesse_a_pied='0.6012093876796024', salaire='26901.331368838048'),\n",
       " Row(sexe='F', vitesse_a_pied='1.2107635116330635', salaire='19621.183192120643'),\n",
       " Row(sexe='F', vitesse_a_pied='0.02', salaire='25006.78509274169'),\n",
       " Row(sexe='H', vitesse_a_pied='1.044996331480105', salaire='14487.257617992156'),\n",
       " Row(sexe='H', vitesse_a_pied='0.09', salaire='40218.5024804306'),\n",
       " Row(sexe='F', vitesse_a_pied='0.22343461636586853', salaire='18901.485204111686'),\n",
       " Row(sexe='H', vitesse_a_pied='0.030000000000000006', salaire='23924.38454269676'),\n",
       " Row(sexe='H', vitesse_a_pied='1.1661636097993113', salaire='20281.192969616335'),\n",
       " Row(sexe='F', vitesse_a_pied='0.6995472421715798', salaire='21086.719584683557'),\n",
       " Row(sexe='H', vitesse_a_pied='1.178386499704358', salaire='25446.69813469291'),\n",
       " Row(sexe='H', vitesse_a_pied='0.030000000000000006', salaire='25772.889571220323'),\n",
       " Row(sexe='F', vitesse_a_pied='0.9239620898447483', salaire='24668.653220208507'),\n",
       " Row(sexe='F', vitesse_a_pied='0.06068211761651741', salaire='25076.301267081188'),\n",
       " Row(sexe='F', vitesse_a_pied='0.2409227330438008', salaire='18430.489622458306'),\n",
       " Row(sexe='F', vitesse_a_pied='0.02', salaire='16616.662714142156'),\n",
       " Row(sexe='H', vitesse_a_pied='0.903669187551422', salaire='30252.38092938584'),\n",
       " Row(sexe='H', vitesse_a_pied='0.7513805207946411', salaire='33877.5372482576'),\n",
       " Row(sexe='F', vitesse_a_pied='1.4035763435457864', salaire='21579.02659934946'),\n",
       " Row(sexe='H', vitesse_a_pied='0.030000000000000006', salaire='31652.750985730025'),\n",
       " Row(sexe='F', vitesse_a_pied='0.1520567533058271', salaire='25092.869990972617'),\n",
       " Row(sexe='H', vitesse_a_pied='0.030000000000000006', salaire='29626.7478187916'),\n",
       " Row(sexe='F', vitesse_a_pied='0.1596258045467517', salaire='42347.95887243344'),\n",
       " Row(sexe='F', vitesse_a_pied='0.44957521751805674', salaire='24214.423369877484'),\n",
       " Row(sexe='H', vitesse_a_pied='0.45183430597310215', salaire='18301.97902646875'),\n",
       " Row(sexe='H', vitesse_a_pied='0.5249464586655707', salaire='23916.09840955656'),\n",
       " Row(sexe='F', vitesse_a_pied='0.6703579256171377', salaire='20224.51237039082'),\n",
       " Row(sexe='F', vitesse_a_pied='0.44712721088592283', salaire='15766.680811301118'),\n",
       " Row(sexe='H', vitesse_a_pied='0.6867783813530743', salaire='33075.322040322186'),\n",
       " Row(sexe='H', vitesse_a_pied='0.030000000000000006', salaire='16022.541306697542'),\n",
       " Row(sexe='H', vitesse_a_pied='0.04540043411745198', salaire='43381.062262337204'),\n",
       " Row(sexe='H', vitesse_a_pied='0.6980255025561475', salaire='21397.622277268663'),\n",
       " Row(sexe='F', vitesse_a_pied='0.5646422219375551', salaire='38873.896983295155'),\n",
       " Row(sexe='F', vitesse_a_pied='0.02', salaire='13824.66277263129'),\n",
       " Row(sexe='H', vitesse_a_pied='1.0416850797164987', salaire='18973.294971947667'),\n",
       " Row(sexe='H', vitesse_a_pied='1.6855607838539677', salaire='29346.896876228086'),\n",
       " Row(sexe='F', vitesse_a_pied='0.8815450048746364', salaire='25079.713851890152'),\n",
       " Row(sexe='F', vitesse_a_pied='0.5591788829410075', salaire='15761.846194105658'),\n",
       " Row(sexe='H', vitesse_a_pied='0.030000000000000006', salaire='18050.806919778614'),\n",
       " Row(sexe='F', vitesse_a_pied='1.1071081199174018', salaire='15086.383866696213'),\n",
       " Row(sexe='F', vitesse_a_pied='0.06614102707950162', salaire='18553.292569786936'),\n",
       " Row(sexe='H', vitesse_a_pied='0.030000000000000006', salaire='33752.16625686528'),\n",
       " Row(sexe='F', vitesse_a_pied='0.02', salaire='53000.61637725879'),\n",
       " Row(sexe='H', vitesse_a_pied='0.45342609860170724', salaire='31342.201277894488'),\n",
       " Row(sexe='F', vitesse_a_pied='0.02', salaire='24873.566837154016'),\n",
       " Row(sexe='F', vitesse_a_pied='0.70630199413039', salaire='16787.601556728583'),\n",
       " Row(sexe='H', vitesse_a_pied='0.3419002908540914', salaire='34040.833365137485'),\n",
       " Row(sexe='F', vitesse_a_pied='0.5780092145933617', salaire='17512.800116215523'),\n",
       " Row(sexe='F', vitesse_a_pied='1.106068100758831', salaire='20444.415055805453'),\n",
       " Row(sexe='F', vitesse_a_pied='0.26957560371467', salaire='45866.84243437149'),\n",
       " Row(sexe='H', vitesse_a_pied='1.8136777500829488', salaire='29768.31701121967'),\n",
       " Row(sexe='H', vitesse_a_pied='0.9702228924466454', salaire='21797.829020524747'),\n",
       " Row(sexe='H', vitesse_a_pied='0.7424374034349418', salaire='39985.18407458295'),\n",
       " Row(sexe='F', vitesse_a_pied='0.22502482102844304', salaire='40920.32962753142'),\n",
       " Row(sexe='H', vitesse_a_pied='0.04035759457527308', salaire='32381.54543767931'),\n",
       " Row(sexe='H', vitesse_a_pied='0.7824502599714632', salaire='28327.485274164403'),\n",
       " Row(sexe='H', vitesse_a_pied='1.060314185671949', salaire='28783.086901027935'),\n",
       " Row(sexe='F', vitesse_a_pied='0.06000000000000001', salaire='21473.43925002607'),\n",
       " Row(sexe='H', vitesse_a_pied='0.40025854209141', salaire='32982.4864582472'),\n",
       " Row(sexe='F', vitesse_a_pied='0.08519833376090657', salaire='17044.218872799942'),\n",
       " Row(sexe='F', vitesse_a_pied='0.5069367083369329', salaire='21879.33296512394'),\n",
       " Row(sexe='H', vitesse_a_pied='0.7285673041065472', salaire='27360.358789206537'),\n",
       " Row(sexe='F', vitesse_a_pied='0.49562572276258043', salaire='17972.1601902556'),\n",
       " Row(sexe='F', vitesse_a_pied='0.6560756325204876', salaire='27357.112265218544'),\n",
       " Row(sexe='H', vitesse_a_pied='0.586705834792969', salaire='16703.855605487166'),\n",
       " Row(sexe='F', vitesse_a_pied='0.7026836128329077', salaire='38310.07874211327'),\n",
       " Row(sexe='H', vitesse_a_pied='0.3760158239075514', salaire='13286.268297313807'),\n",
       " Row(sexe='H', vitesse_a_pied='0.030000000000000006', salaire='17861.798756382206'),\n",
       " Row(sexe='F', vitesse_a_pied='0.7235663533000921', salaire='24524.915499337356'),\n",
       " Row(sexe='F', vitesse_a_pied='0.7573298126615654', salaire='42883.94054635448'),\n",
       " Row(sexe='H', vitesse_a_pied='0.43914107364576155', salaire='27279.898068849732'),\n",
       " Row(sexe='F', vitesse_a_pied='0.41125010247958355', salaire='26525.46658524621'),\n",
       " Row(sexe='H', vitesse_a_pied='0.030000000000000006', salaire='38564.37918649429'),\n",
       " Row(sexe='F', vitesse_a_pied='0.02', salaire='21773.43828524802'),\n",
       " Row(sexe='F', vitesse_a_pied='0.3162163844069937', salaire='42952.75857544373'),\n",
       " Row(sexe='F', vitesse_a_pied='0.02', salaire='22413.603786241143'),\n",
       " Row(sexe='H', vitesse_a_pied='1.194724008604996', salaire='21996.477064016944'),\n",
       " Row(sexe='F', vitesse_a_pied='0.02', salaire='13171.835179049001'),\n",
       " Row(sexe='H', vitesse_a_pied='0.035942066945854244', salaire='15767.922089602209'),\n",
       " Row(sexe='H', vitesse_a_pied='1.531834675718796', salaire='37584.8157949364'),\n",
       " Row(sexe='F', vitesse_a_pied='0.02', salaire='19005.99171183386'),\n",
       " Row(sexe='H', vitesse_a_pied='0.48323822920446047', salaire='44204.68144993396'),\n",
       " Row(sexe='F', vitesse_a_pied='0.7088559188261847', salaire='14157.306981781341'),\n",
       " Row(sexe='F', vitesse_a_pied='0.02', salaire='21036.02781850448'),\n",
       " Row(sexe='F', vitesse_a_pied='0.07640308770171518', salaire='18455.9845082819'),\n",
       " Row(sexe='F', vitesse_a_pied='0.3069263330590912', salaire='14671.377347225434'),\n",
       " Row(sexe='F', vitesse_a_pied='0.08297638134257061', salaire='24107.2860847828'),\n",
       " Row(sexe='F', vitesse_a_pied='0.643793853597799', salaire='23793.582216417868'),\n",
       " Row(sexe='H', vitesse_a_pied='0.9747839544890541', salaire='16803.758062731627'),\n",
       " Row(sexe='F', vitesse_a_pied='0.12666119367360418', salaire='17267.150561354905'),\n",
       " Row(sexe='H', vitesse_a_pied='0.7702786981744625', salaire='12918.418278996707'),\n",
       " Row(sexe='F', vitesse_a_pied='0.6398060252839304', salaire='26188.626569315486'),\n",
       " Row(sexe='H', vitesse_a_pied='0.8829720289416109', salaire='21532.987357848517'),\n",
       " Row(sexe='F', vitesse_a_pied='0.02', salaire='39774.38265806412'),\n",
       " Row(sexe='F', vitesse_a_pied='0.31566103810391244', salaire='16493.010161321952'),\n",
       " Row(sexe='H', vitesse_a_pied='0.9533725735709142', salaire='80017.45851327667'),\n",
       " Row(sexe='H', vitesse_a_pied='0.21399661769730197', salaire='41253.298386587994'),\n",
       " Row(sexe='F', vitesse_a_pied='0.7589683405957232', salaire='14513.99968848394'),\n",
       " Row(sexe='H', vitesse_a_pied='0.26736737826697554', salaire='29252.84952806354'),\n",
       " Row(sexe='F', vitesse_a_pied='0.02', salaire='27241.16398981463'),\n",
       " Row(sexe='H', vitesse_a_pied='0.030000000000000006', salaire='17525.30578876164'),\n",
       " Row(sexe='H', vitesse_a_pied='0.7491188397335617', salaire='21450.946623927946'),\n",
       " Row(sexe='H', vitesse_a_pied='0.4367949307528386', salaire='20132.177657376462'),\n",
       " Row(sexe='H', vitesse_a_pied='0.4312845430707971', salaire='14492.871205374044'),\n",
       " Row(sexe='F', vitesse_a_pied='0.02', salaire='22996.55512730984'),\n",
       " Row(sexe='F', vitesse_a_pied='0.37565244504095696', salaire='30386.43285291214'),\n",
       " Row(sexe='H', vitesse_a_pied='0.3699359996303234', salaire='37183.855435635494'),\n",
       " Row(sexe='F', vitesse_a_pied='0.4679741225266801', salaire='21349.976113752018'),\n",
       " Row(sexe='H', vitesse_a_pied='1.3687968029838022', salaire='27968.6788769136'),\n",
       " Row(sexe='H', vitesse_a_pied='1.4519835555751777', salaire='28498.040884244685'),\n",
       " Row(sexe='F', vitesse_a_pied='0.22507325879753276', salaire='33837.79448871193'),\n",
       " Row(sexe='F', vitesse_a_pied='0.02', salaire='32642.901368034505'),\n",
       " Row(sexe='H', vitesse_a_pied='0.5416192418249802', salaire='51862.016590142994'),\n",
       " Row(sexe='F', vitesse_a_pied='1.084814761296524', salaire='16851.841885506066'),\n",
       " Row(sexe='F', vitesse_a_pied='1.2726237118096533', salaire='18598.16313187511'),\n",
       " Row(sexe='F', vitesse_a_pied='0.4893183012907095', salaire='20972.273656498524'),\n",
       " Row(sexe='F', vitesse_a_pied='0.02', salaire='39943.50257594889'),\n",
       " Row(sexe='F', vitesse_a_pied='0.02370815369912993', salaire='19088.882487325507'),\n",
       " Row(sexe='H', vitesse_a_pied='0.4515038606013729', salaire='21819.761365792176'),\n",
       " Row(sexe='F', vitesse_a_pied='1.10093715813622', salaire='33579.490138271285'),\n",
       " Row(sexe='H', vitesse_a_pied='0.030000000000000006', salaire='23382.245041591766'),\n",
       " Row(sexe='F', vitesse_a_pied='0.30400784305190737', salaire='17520.554787570403'),\n",
       " Row(sexe='H', vitesse_a_pied='0.33955613817882097', salaire='26082.584468211076'),\n",
       " Row(sexe='H', vitesse_a_pied='0.9231067683363607', salaire='33268.709448130845'),\n",
       " Row(sexe='H', vitesse_a_pied='0.765033879024648', salaire='34333.52708960374'),\n",
       " Row(sexe='H', vitesse_a_pied='0.5719892842965757', salaire='24691.229973002366'),\n",
       " Row(sexe='H', vitesse_a_pied='0.7361764248388103', salaire='21866.0772905132'),\n",
       " Row(sexe='F', vitesse_a_pied='0.12334529364918682', salaire='23576.263959111147'),\n",
       " Row(sexe='F', vitesse_a_pied='0.20548006072243824', salaire='12759.782090419985'),\n",
       " Row(sexe='H', vitesse_a_pied='0.2578424433910655', salaire='21967.2640527916'),\n",
       " Row(sexe='H', vitesse_a_pied='0.97631854268758', salaire='34870.46854753389'),\n",
       " Row(sexe='H', vitesse_a_pied='1.348713794466228', salaire='21222.688244947007'),\n",
       " Row(sexe='H', vitesse_a_pied='0.5616211395189857', salaire='28502.726104357305'),\n",
       " Row(sexe='F', vitesse_a_pied='0.7251636736163921', salaire='22511.05294666574'),\n",
       " Row(sexe='H', vitesse_a_pied='0.09282811687683676', salaire='32044.091302419758'),\n",
       " Row(sexe='F', vitesse_a_pied='0.02', salaire='37407.913039968495'),\n",
       " Row(sexe='F', vitesse_a_pied='1.0227922410816792', salaire='20353.593671446113'),\n",
       " Row(sexe='H', vitesse_a_pied='0.3335279492873484', salaire='13889.478158610145'),\n",
       " Row(sexe='H', vitesse_a_pied='2.59900875227665', salaire='41077.166372494125'),\n",
       " Row(sexe='F', vitesse_a_pied='0.02', salaire='13423.13509515201'),\n",
       " Row(sexe='F', vitesse_a_pied='0.18257275913875418', salaire='24586.49548896134'),\n",
       " Row(sexe='H', vitesse_a_pied='1.044812632697407', salaire='28418.503045256188'),\n",
       " Row(sexe='H', vitesse_a_pied='2.238081295861563', salaire='46825.270331830354'),\n",
       " Row(sexe='H', vitesse_a_pied='0.5535648002824738', salaire='29386.562173319737'),\n",
       " Row(sexe='H', vitesse_a_pied='0.3448379354770722', salaire='29809.27844767371'),\n",
       " Row(sexe='F', vitesse_a_pied='0.9040040566134607', salaire='22925.398654759185'),\n",
       " Row(sexe='H', vitesse_a_pied='1.1075403931358305', salaire='24706.576845182877'),\n",
       " Row(sexe='F', vitesse_a_pied='0.02', salaire='25372.926577413622'),\n",
       " Row(sexe='F', vitesse_a_pied='0.25051561901368596', salaire='29111.84744607227'),\n",
       " Row(sexe='H', vitesse_a_pied='0.030000000000000006', salaire='31284.521413590755'),\n",
       " Row(sexe='H', vitesse_a_pied='1.411603969296373', salaire='24607.048975808975'),\n",
       " Row(sexe='F', vitesse_a_pied='0.17350738784421119', salaire='33758.09302405525'),\n",
       " Row(sexe='H', vitesse_a_pied='0.030000000000000006', salaire='31487.018777540125'),\n",
       " Row(sexe='F', vitesse_a_pied='0.3766483123290513', salaire='20046.749063125266'),\n",
       " Row(sexe='F', vitesse_a_pied='0.3668379691073435', salaire='16983.363248022393'),\n",
       " Row(sexe='F', vitesse_a_pied='0.7637377511276492', salaire='23306.395772866814'),\n",
       " Row(sexe='H', vitesse_a_pied='0.35896330852800684', salaire='23105.30325481666'),\n",
       " Row(sexe='H', vitesse_a_pied='0.3100134606770688', salaire='19487.785221715192'),\n",
       " Row(sexe='H', vitesse_a_pied='0.3243888075846657', salaire='16459.060650694093'),\n",
       " Row(sexe='F', vitesse_a_pied='0.41455908018250576', salaire='18580.725224832437'),\n",
       " Row(sexe='H', vitesse_a_pied='0.2331048148847567', salaire='16031.359272626212'),\n",
       " Row(sexe='H', vitesse_a_pied='0.3369273628270024', salaire='21512.483460646887'),\n",
       " Row(sexe='F', vitesse_a_pied='0.7161845786736464', salaire='64837.42616881575'),\n",
       " Row(sexe='H', vitesse_a_pied='0.969445970411223', salaire='24974.192366743184'),\n",
       " Row(sexe='H', vitesse_a_pied='0.697306021700302', salaire='46157.218737990625'),\n",
       " Row(sexe='H', vitesse_a_pied='0.9799336549901897', salaire='17346.364356684895'),\n",
       " Row(sexe='F', vitesse_a_pied='0.4093950756194153', salaire='34166.29389072286'),\n",
       " Row(sexe='H', vitesse_a_pied='0.030000000000000006', salaire='27758.109844958173'),\n",
       " Row(sexe='F', vitesse_a_pied='0.20028112372605653', salaire='25943.30025712192'),\n",
       " Row(sexe='F', vitesse_a_pied='0.46044458615178635', salaire='15876.006297584709'),\n",
       " Row(sexe='H', vitesse_a_pied='0.32998272091983544', salaire='17276.293584791805'),\n",
       " Row(sexe='F', vitesse_a_pied='0.30914807605475525', salaire='11628.218620655482'),\n",
       " Row(sexe='F', vitesse_a_pied='0.5489825473988988', salaire='18393.902050841723'),\n",
       " Row(sexe='F', vitesse_a_pied='0.4924708227231306', salaire='38664.37322168374'),\n",
       " Row(sexe='F', vitesse_a_pied='0.6953453209071592', salaire='20897.66653544601'),\n",
       " Row(sexe='H', vitesse_a_pied='0.030000000000000006', salaire='27499.374976383686'),\n",
       " Row(sexe='F', vitesse_a_pied='0.506566454296827', salaire='24024.972464598806'),\n",
       " Row(sexe='H', vitesse_a_pied='0.6269522182833727', salaire='38873.00456262684'),\n",
       " Row(sexe='F', vitesse_a_pied='0.6433472666582922', salaire='17270.769543428083'),\n",
       " Row(sexe='H', vitesse_a_pied='0.030000000000000006', salaire='33841.93110663228'),\n",
       " Row(sexe='F', vitesse_a_pied='0.32530770858672653', salaire='14558.102612593959'),\n",
       " Row(sexe='F', vitesse_a_pied='0.02', salaire='42281.88165871752'),\n",
       " Row(sexe='F', vitesse_a_pied='0.27388457060878824', salaire='28430.023531256822'),\n",
       " Row(sexe='F', vitesse_a_pied='0.5579291674816165', salaire='13207.33564505833'),\n",
       " Row(sexe='F', vitesse_a_pied='0.43466273211226075', salaire='14194.670903033826'),\n",
       " Row(sexe='F', vitesse_a_pied='0.14182523477269354', salaire='16237.869638503733'),\n",
       " Row(sexe='H', vitesse_a_pied='0.6371801281044622', salaire='24250.895660484992'),\n",
       " Row(sexe='F', vitesse_a_pied='0.49675116796847857', salaire='17197.252546723517'),\n",
       " Row(sexe='H', vitesse_a_pied='0.030000000000000006', salaire='16130.54801785201'),\n",
       " Row(sexe='F', vitesse_a_pied='0.8918391816782048', salaire='33141.69721518098'),\n",
       " Row(sexe='H', vitesse_a_pied='0.25499646855559205', salaire='18310.99777715224'),\n",
       " Row(sexe='F', vitesse_a_pied='0.5167307434059112', salaire='21750.51249518781'),\n",
       " Row(sexe='F', vitesse_a_pied='0.7070226116150307', salaire='16295.625282675566'),\n",
       " Row(sexe='H', vitesse_a_pied='1.2702575780050358', salaire='20717.148766451046'),\n",
       " Row(sexe='F', vitesse_a_pied='0.08328838658186277', salaire='8652.515667996415'),\n",
       " Row(sexe='H', vitesse_a_pied='0.5140980138056865', salaire='25567.242260416995'),\n",
       " Row(sexe='F', vitesse_a_pied='0.03423513398489879', salaire='18871.050042490097'),\n",
       " Row(sexe='F', vitesse_a_pied='0.19872619503062094', salaire='29595.226211208257'),\n",
       " Row(sexe='H', vitesse_a_pied='1.4738725973346583', salaire='50926.41742806699'),\n",
       " Row(sexe='H', vitesse_a_pied='0.20720176976188842', salaire='21624.822667506032'),\n",
       " Row(sexe='H', vitesse_a_pied='0.030000000000000006', salaire='30521.572539589102'),\n",
       " Row(sexe='F', vitesse_a_pied='0.38400967266317565', salaire='16723.479475266668'),\n",
       " Row(sexe='F', vitesse_a_pied='0.5810378643200782', salaire='20699.418002926242'),\n",
       " Row(sexe='F', vitesse_a_pied='0.5738712240995087', salaire='13992.418835484761'),\n",
       " Row(sexe='F', vitesse_a_pied='0.7027447737532306', salaire='21381.97885963411'),\n",
       " Row(sexe='F', vitesse_a_pied='0.11724054615046882', salaire='28508.41457041502'),\n",
       " Row(sexe='H', vitesse_a_pied='1.0202415520375305', salaire='31773.824053085656'),\n",
       " Row(sexe='F', vitesse_a_pied='0.5662243494207182', salaire='23182.29483875742'),\n",
       " Row(sexe='H', vitesse_a_pied='0.4472674422351058', salaire='31956.01286092091'),\n",
       " Row(sexe='F', vitesse_a_pied='0.78352682339361', salaire='21115.977945082963'),\n",
       " Row(sexe='H', vitesse_a_pied='0.669107799062927', salaire='28780.041840692807'),\n",
       " Row(sexe='F', vitesse_a_pied='0.27868018358858143', salaire='16908.18063899964'),\n",
       " Row(sexe='H', vitesse_a_pied='0.5391730993802565', salaire='14068.098307234555'),\n",
       " Row(sexe='F', vitesse_a_pied='1.075855603292265', salaire='19708.73958575785'),\n",
       " Row(sexe='H', vitesse_a_pied='0.2872594385506175', salaire='24020.3336740787'),\n",
       " Row(sexe='F', vitesse_a_pied='0.98002346132978', salaire='31675.98740333361'),\n",
       " Row(sexe='F', vitesse_a_pied='0.02', salaire='17415.338176918296'),\n",
       " Row(sexe='H', vitesse_a_pied='0.3133248481021701', salaire='13629.723487160101'),\n",
       " Row(sexe='F', vitesse_a_pied='0.02', salaire='27973.45925285144'),\n",
       " Row(sexe='F', vitesse_a_pied='0.17589217225059542', salaire='30667.115554111588'),\n",
       " Row(sexe='F', vitesse_a_pied='0.02', salaire='20311.03575966934'),\n",
       " Row(sexe='H', vitesse_a_pied='0.4046865348848052', salaire='27298.340279981105'),\n",
       " Row(sexe='H', vitesse_a_pied='0.7870929688550543', salaire='17019.073870166296'),\n",
       " Row(sexe='F', vitesse_a_pied='0.02', salaire='20097.33721374812'),\n",
       " Row(sexe='H', vitesse_a_pied='1.0122776370861595', salaire='23737.81197637946'),\n",
       " Row(sexe='H', vitesse_a_pied='0.31039918934840827', salaire='27614.957504595743'),\n",
       " Row(sexe='H', vitesse_a_pied='0.030000000000000006', salaire='40903.34042216309'),\n",
       " Row(sexe='F', vitesse_a_pied='0.5112782122248591', salaire='24008.27136174167'),\n",
       " Row(sexe='F', vitesse_a_pied='0.04906225935996793', salaire='26283.259603510134'),\n",
       " Row(sexe='H', vitesse_a_pied='0.6607295853204862', salaire='33120.80668726869'),\n",
       " Row(sexe='H', vitesse_a_pied='0.6116142467852412', salaire='47887.58806607143'),\n",
       " Row(sexe='F', vitesse_a_pied='0.02', salaire='18057.039261548936'),\n",
       " Row(sexe='H', vitesse_a_pied='0.12480589077577782', salaire='22164.502264482515'),\n",
       " Row(sexe='H', vitesse_a_pied='0.32902240856368664', salaire='20111.56012976265'),\n",
       " Row(sexe='F', vitesse_a_pied='0.20663045165857358', salaire='13422.220184336678'),\n",
       " Row(sexe='H', vitesse_a_pied='0.07491841139075958', salaire='36039.07361328033'),\n",
       " Row(sexe='H', vitesse_a_pied='0.5856086642945375', salaire='25192.50642463719'),\n",
       " Row(sexe='F', vitesse_a_pied='0.5329910711246603', salaire='16448.13161368381'),\n",
       " Row(sexe='F', vitesse_a_pied='0.30347136737356223', salaire='11912.611662589805'),\n",
       " Row(sexe='H', vitesse_a_pied='1.1382996016082387', salaire='16811.253017471103'),\n",
       " Row(sexe='F', vitesse_a_pied='0.7496808566283655', salaire='18285.35224046542'),\n",
       " Row(sexe='H', vitesse_a_pied='1.4114369892363494', salaire='16719.931150804216'),\n",
       " Row(sexe='H', vitesse_a_pied='0.26449076039529645', salaire='30807.065870173003'),\n",
       " Row(sexe='F', vitesse_a_pied='0.7426557888770842', salaire='34953.017856675666'),\n",
       " Row(sexe='F', vitesse_a_pied='0.27191306770809937', salaire='12488.602159236489'),\n",
       " Row(sexe='H', vitesse_a_pied='0.030000000000000006', salaire='34224.035093672675'),\n",
       " Row(sexe='H', vitesse_a_pied='0.9163340652169094', salaire='16903.430267047082'),\n",
       " Row(sexe='F', vitesse_a_pied='0.41504964139658657', salaire='30774.936098611874'),\n",
       " Row(sexe='F', vitesse_a_pied='0.8946627558688703', salaire='28458.234669559453'),\n",
       " Row(sexe='H', vitesse_a_pied='0.24297972198027845', salaire='24110.638386912287'),\n",
       " Row(sexe='F', vitesse_a_pied='0.7290289001291823', salaire='14972.391139698528'),\n",
       " Row(sexe='H', vitesse_a_pied='0.14429963058623224', salaire='39925.30209348018'),\n",
       " Row(sexe='F', vitesse_a_pied='0.19655678950657834', salaire='25089.106872597735'),\n",
       " Row(sexe='F', vitesse_a_pied='0.36362187863495177', salaire='19711.98220963338'),\n",
       " Row(sexe='H', vitesse_a_pied='1.3478907024060844', salaire='29721.056658763715'),\n",
       " Row(sexe='F', vitesse_a_pied='0.3707092956938147', salaire='17611.875968143966'),\n",
       " Row(sexe='F', vitesse_a_pied='0.15774008606945059', salaire='18188.679096234468'),\n",
       " Row(sexe='F', vitesse_a_pied='0.9372733872735232', salaire='23164.87118261679'),\n",
       " Row(sexe='F', vitesse_a_pied='0.02', salaire='33157.621300022'),\n",
       " Row(sexe='H', vitesse_a_pied='0.049185197517621536', salaire='35516.91210095353'),\n",
       " Row(sexe='H', vitesse_a_pied='0.030000000000000006', salaire='42588.811791981425'),\n",
       " Row(sexe='H', vitesse_a_pied='0.5024565205843704', salaire='29794.26805038783'),\n",
       " Row(sexe='F', vitesse_a_pied='0.19870379677580088', salaire='42820.50005201614'),\n",
       " Row(sexe='H', vitesse_a_pied='2.0864994525114504', salaire='25137.590274361777'),\n",
       " Row(sexe='F', vitesse_a_pied='0.3068070065355305', salaire='20428.909237737123'),\n",
       " Row(sexe='H', vitesse_a_pied='0.1436891262185734', salaire='24589.603717128255'),\n",
       " Row(sexe='F', vitesse_a_pied='0.8055825340094882', salaire='11413.990214609878'),\n",
       " Row(sexe='H', vitesse_a_pied='0.030000000000000006', salaire='37071.567780671045'),\n",
       " Row(sexe='H', vitesse_a_pied='1.1967400826582986', salaire='27900.277559178397'),\n",
       " Row(sexe='H', vitesse_a_pied='0.030000000000000006', salaire='30619.10618884391'),\n",
       " Row(sexe='H', vitesse_a_pied='0.6259695740470621', salaire='29829.869401367556'),\n",
       " Row(sexe='H', vitesse_a_pied='1.05503730340796', salaire='34033.59816764861'),\n",
       " Row(sexe='H', vitesse_a_pied='0.24160279418368566', salaire='19349.735584108075'),\n",
       " Row(sexe='F', vitesse_a_pied='0.3920214678867266', salaire='19372.06951607552'),\n",
       " Row(sexe='H', vitesse_a_pied='1.4657256671918222', salaire='32105.303377977812'),\n",
       " Row(sexe='F', vitesse_a_pied='0.02', salaire='17627.336599775383'),\n",
       " Row(sexe='F', vitesse_a_pied='0.16246333473669855', salaire='22752.6321014341'),\n",
       " Row(sexe='H', vitesse_a_pied='0.030000000000000006', salaire='31272.76270858271'),\n",
       " Row(sexe='F', vitesse_a_pied='0.5810204426653062', salaire='30257.275909993936'),\n",
       " Row(sexe='H', vitesse_a_pied='1.0613187109064932', salaire='26649.088442510776'),\n",
       " Row(sexe='F', vitesse_a_pied='0.8905828131043554', salaire='20765.550981789474'),\n",
       " Row(sexe='F', vitesse_a_pied='0.02', salaire='27859.591778075286'),\n",
       " Row(sexe='H', vitesse_a_pied='0.9393891148002286', salaire='14430.628271911562'),\n",
       " Row(sexe='F', vitesse_a_pied='0.7093076252540771', salaire='21421.154893808634'),\n",
       " Row(sexe='H', vitesse_a_pied='0.030000000000000006', salaire='19238.339590482545'),\n",
       " Row(sexe='F', vitesse_a_pied='0.9434795287484864', salaire='29841.241849213206'),\n",
       " Row(sexe='F', vitesse_a_pied='0.16587610462754862', salaire='32468.58142990196'),\n",
       " Row(sexe='F', vitesse_a_pied='2.0006216969981', salaire='27163.609858895103'),\n",
       " Row(sexe='F', vitesse_a_pied='0.6945016511384148', salaire='19857.612333723748'),\n",
       " Row(sexe='F', vitesse_a_pied='0.3260352980696933', salaire='20926.24128269851'),\n",
       " Row(sexe='F', vitesse_a_pied='0.979217313632225', salaire='17015.85729936808'),\n",
       " Row(sexe='H', vitesse_a_pied='0.9141061874826424', salaire='22385.71852560517'),\n",
       " Row(sexe='H', vitesse_a_pied='0.5335832252792062', salaire='49091.84413481269'),\n",
       " Row(sexe='H', vitesse_a_pied='1.169673817086581', salaire='36979.204637855895'),\n",
       " Row(sexe='H', vitesse_a_pied='1.2481056256898815', salaire='31073.093344539237'),\n",
       " Row(sexe='H', vitesse_a_pied='0.8425174888238797', salaire='37666.495347041666'),\n",
       " Row(sexe='H', vitesse_a_pied='1.4810547536189478', salaire='45144.010561649215'),\n",
       " Row(sexe='F', vitesse_a_pied='0.10959610944347573', salaire='35285.49064727013'),\n",
       " Row(sexe='H', vitesse_a_pied='0.645395140756189', salaire='23688.09260602692'),\n",
       " Row(sexe='F', vitesse_a_pied='0.6428731641034935', salaire='22306.026830056035'),\n",
       " Row(sexe='H', vitesse_a_pied='0.030000000000000006', salaire='49140.59635441695'),\n",
       " Row(sexe='H', vitesse_a_pied='0.6480532800069252', salaire='17026.242116690057'),\n",
       " Row(sexe='H', vitesse_a_pied='1.1406702025826942', salaire='22430.597817057445'),\n",
       " Row(sexe='F', vitesse_a_pied='1.7028578509647923', salaire='18144.90263133753'),\n",
       " Row(sexe='H', vitesse_a_pied='0.030000000000000006', salaire='23792.4598284303'),\n",
       " Row(sexe='H', vitesse_a_pied='1.3236454217488274', salaire='26043.528680395037'),\n",
       " Row(sexe='H', vitesse_a_pied='1.0236084908019807', salaire='21119.94363935148'),\n",
       " Row(sexe='F', vitesse_a_pied='0.6929711309456731', salaire='24280.654011079918'),\n",
       " Row(sexe='H', vitesse_a_pied='0.40413615052270657', salaire='39395.042578893524'),\n",
       " Row(sexe='H', vitesse_a_pied='0.6484675530012053', salaire='18503.473889623343'),\n",
       " Row(sexe='H', vitesse_a_pied='0.2712777345415561', salaire='34078.864654974204'),\n",
       " Row(sexe='F', vitesse_a_pied='0.31585915330873754', salaire='20864.3128453234'),\n",
       " Row(sexe='H', vitesse_a_pied='0.7332153721943989', salaire='35545.69024856856'),\n",
       " Row(sexe='F', vitesse_a_pied='0.6154016363239302', salaire='15097.239988702102'),\n",
       " Row(sexe='H', vitesse_a_pied='2.307455204075324', salaire='16119.499948151417'),\n",
       " Row(sexe='F', vitesse_a_pied='0.02', salaire='26782.791713274695'),\n",
       " Row(sexe='F', vitesse_a_pied='0.16147867807602415', salaire='26168.556136139545'),\n",
       " Row(sexe='F', vitesse_a_pied='0.31460956073988305', salaire='20090.949603137713'),\n",
       " Row(sexe='H', vitesse_a_pied='0.030000000000000006', salaire='48333.15073995423'),\n",
       " Row(sexe='H', vitesse_a_pied='0.7631423322459214', salaire='34089.79230505612'),\n",
       " Row(sexe='H', vitesse_a_pied='1.2839981680646626', salaire='22679.319615147677'),\n",
       " Row(sexe='F', vitesse_a_pied='0.6646253893160086', salaire='31714.788643970485'),\n",
       " Row(sexe='F', vitesse_a_pied='0.02', salaire='30427.540165921753'),\n",
       " Row(sexe='F', vitesse_a_pied='0.166112572169783', salaire='19774.286980162422'),\n",
       " Row(sexe='F', vitesse_a_pied='0.7454657990692691', salaire='31734.104636210952'),\n",
       " Row(sexe='H', vitesse_a_pied='0.5285812674265965', salaire='26142.99868099621'),\n",
       " Row(sexe='H', vitesse_a_pied='0.5565953326835685', salaire='35673.98959249084'),\n",
       " Row(sexe='H', vitesse_a_pied='1.0806601784936418', salaire='23440.633942595734'),\n",
       " Row(sexe='F', vitesse_a_pied='0.5723187881342116', salaire='20923.33796526012'),\n",
       " Row(sexe='H', vitesse_a_pied='0.41156140782763934', salaire='22921.122647236836'),\n",
       " Row(sexe='F', vitesse_a_pied='0.02', salaire='21706.370784336697'),\n",
       " Row(sexe='H', vitesse_a_pied='0.2641551706753674', salaire='29578.7260533619'),\n",
       " Row(sexe='F', vitesse_a_pied='0.12188568768236471', salaire='26338.84337156246'),\n",
       " Row(sexe='F', vitesse_a_pied='0.02', salaire='25632.812482072764'),\n",
       " Row(sexe='H', vitesse_a_pied='2.935875301914144', salaire='20090.352944689952'),\n",
       " Row(sexe='H', vitesse_a_pied='0.7724890449466166', salaire='30191.48968806422'),\n",
       " Row(sexe='H', vitesse_a_pied='0.9585200955446176', salaire='25823.600722420404'),\n",
       " Row(sexe='H', vitesse_a_pied='1.0801998682890894', salaire='21371.264111616645'),\n",
       " Row(sexe='H', vitesse_a_pied='2.2551770659881036', salaire='23349.0170155531'),\n",
       " Row(sexe='H', vitesse_a_pied='0.030000000000000006', salaire='32941.8875733559'),\n",
       " Row(sexe='H', vitesse_a_pied='0.7700586199958819', salaire='29056.51777200825'),\n",
       " Row(sexe='H', vitesse_a_pied='0.6424374393029909', salaire='20501.935613381065'),\n",
       " Row(sexe='H', vitesse_a_pied='1.4437099015090253', salaire='25550.322966719574'),\n",
       " Row(sexe='H', vitesse_a_pied='0.8694201380207872', salaire='42520.35047668498'),\n",
       " Row(sexe='H', vitesse_a_pied='0.6160402287635781', salaire='9683.797343324175'),\n",
       " Row(sexe='H', vitesse_a_pied='0.9665119281664278', salaire='29739.145803816697'),\n",
       " Row(sexe='F', vitesse_a_pied='0.18016198617382825', salaire='20198.74051901945'),\n",
       " Row(sexe='F', vitesse_a_pied='0.25751169186273176', salaire='17108.59805727426'),\n",
       " Row(sexe='F', vitesse_a_pied='0.03272761721919846', salaire='15686.525383988685'),\n",
       " Row(sexe='H', vitesse_a_pied='0.6467031748006915', salaire='22600.786618353595'),\n",
       " Row(sexe='F', vitesse_a_pied='0.02', salaire='41695.64720003373'),\n",
       " Row(sexe='F', vitesse_a_pied='0.02', salaire='18793.844867733726'),\n",
       " Row(sexe='F', vitesse_a_pied='0.05433093047263941', salaire='22756.913591049342'),\n",
       " Row(sexe='F', vitesse_a_pied='0.6572376634908883', salaire='20604.67653519226'),\n",
       " Row(sexe='H', vitesse_a_pied='0.13982990127996697', salaire='30520.685071114694'),\n",
       " Row(sexe='F', vitesse_a_pied='0.3568906084798609', salaire='31522.451437945947'),\n",
       " Row(sexe='F', vitesse_a_pied='0.02', salaire='31469.11505987816'),\n",
       " Row(sexe='H', vitesse_a_pied='0.37936536972332885', salaire='36805.81870831336'),\n",
       " Row(sexe='F', vitesse_a_pied='0.9365846517193976', salaire='20974.88225508655'),\n",
       " Row(sexe='F', vitesse_a_pied='0.02', salaire='15208.335234611572'),\n",
       " Row(sexe='H', vitesse_a_pied='0.9361133810273383', salaire='34897.57059119824'),\n",
       " Row(sexe='H', vitesse_a_pied='0.7772289573460343', salaire='28794.50441924611'),\n",
       " Row(sexe='H', vitesse_a_pied='0.5570422195783286', salaire='36855.7262305013'),\n",
       " Row(sexe='H', vitesse_a_pied='0.030000000000000006', salaire='25543.906157847458'),\n",
       " Row(sexe='F', vitesse_a_pied='0.7408840776442893', salaire='12877.707615156709'),\n",
       " Row(sexe='H', vitesse_a_pied='0.030000000000000006', salaire='25920.48588653464'),\n",
       " Row(sexe='F', vitesse_a_pied='0.6708234792620917', salaire='16670.529412429227'),\n",
       " Row(sexe='F', vitesse_a_pied='0.18836042472363754', salaire='30962.51180268268'),\n",
       " Row(sexe='F', vitesse_a_pied='0.5086910171982891', salaire='20989.581219404623'),\n",
       " Row(sexe='H', vitesse_a_pied='0.2229634872331646', salaire='43500.0986863379'),\n",
       " Row(sexe='F', vitesse_a_pied='0.5139264732970514', salaire='13527.301655982681'),\n",
       " Row(sexe='F', vitesse_a_pied='0.6084732575293436', salaire='23663.95718279925'),\n",
       " Row(sexe='H', vitesse_a_pied='0.21938343526082632', salaire='18027.69687237217'),\n",
       " Row(sexe='F', vitesse_a_pied='0.21664311189593882', salaire='27597.227642650712'),\n",
       " Row(sexe='H', vitesse_a_pied='0.030000000000000006', salaire='24207.178552066074'),\n",
       " Row(sexe='F', vitesse_a_pied='0.2910390268644839', salaire='22564.33511316486'),\n",
       " Row(sexe='F', vitesse_a_pied='0.02', salaire='30264.645646841145'),\n",
       " Row(sexe='H', vitesse_a_pied='0.4928717624980131', salaire='39648.97697157339'),\n",
       " Row(sexe='H', vitesse_a_pied='0.9623941924637455', salaire='21825.293966441262'),\n",
       " Row(sexe='F', vitesse_a_pied='0.15731508875721376', salaire='18524.56389070761'),\n",
       " Row(sexe='H', vitesse_a_pied='0.46670868450626185', salaire='19986.91671994681'),\n",
       " Row(sexe='F', vitesse_a_pied='0.02', salaire='17259.352787737193'),\n",
       " Row(sexe='H', vitesse_a_pied='0.3568469502269425', salaire='44878.38873095474'),\n",
       " Row(sexe='H', vitesse_a_pied='0.7379614070176739', salaire='29867.216328039347'),\n",
       " Row(sexe='F', vitesse_a_pied='0.02', salaire='20183.193451625197'),\n",
       " Row(sexe='F', vitesse_a_pied='0.711495217821345', salaire='16741.18353902327'),\n",
       " Row(sexe='F', vitesse_a_pied='0.6717176697522713', salaire='26756.80292184034'),\n",
       " Row(sexe='F', vitesse_a_pied='0.36578237582573314', salaire='26464.84750376662'),\n",
       " Row(sexe='F', vitesse_a_pied='0.8470572758256287', salaire='22708.904243238634'),\n",
       " Row(sexe='F', vitesse_a_pied='0.22477335814287347', salaire='24547.895418016942'),\n",
       " Row(sexe='H', vitesse_a_pied='0.7601973607279223', salaire='36449.72241733738'),\n",
       " Row(sexe='H', vitesse_a_pied='1.2770119937795232', salaire='25340.50712288592'),\n",
       " Row(sexe='H', vitesse_a_pied='0.5601206290790072', salaire='25383.823452135915'),\n",
       " Row(sexe='F', vitesse_a_pied='0.02', salaire='23995.485814816948'),\n",
       " Row(sexe='F', vitesse_a_pied='0.0962787578926271', salaire='18334.373291616794'),\n",
       " Row(sexe='F', vitesse_a_pied='0.2944962799123898', salaire='37486.95494726738'),\n",
       " Row(sexe='H', vitesse_a_pied='0.030000000000000006', salaire='17832.33402998003'),\n",
       " Row(sexe='H', vitesse_a_pied='0.18885150416919239', salaire='34412.91418337283'),\n",
       " Row(sexe='H', vitesse_a_pied='0.20588031066710522', salaire='27546.00669159918'),\n",
       " Row(sexe='F', vitesse_a_pied='0.4789484578913753', salaire='12144.666557857534'),\n",
       " Row(sexe='F', vitesse_a_pied='0.15545422031629683', salaire='25711.056017299583'),\n",
       " Row(sexe='F', vitesse_a_pied='0.27505884888770277', salaire='30562.9465729912'),\n",
       " Row(sexe='F', vitesse_a_pied='0.09967474923237032', salaire='23480.215412636502'),\n",
       " Row(sexe='F', vitesse_a_pied='0.02', salaire='24803.88783544179'),\n",
       " Row(sexe='F', vitesse_a_pied='0.9179983812840984', salaire='19159.536120546996'),\n",
       " Row(sexe='H', vitesse_a_pied='1.157339278110544', salaire='17636.43588909312'),\n",
       " Row(sexe='H', vitesse_a_pied='0.030000000000000006', salaire='14425.991923084503'),\n",
       " Row(sexe='F', vitesse_a_pied='0.6106596092528813', salaire='27891.72966887604'),\n",
       " Row(sexe='H', vitesse_a_pied='1.0855100060473732', salaire='31452.480995719307'),\n",
       " Row(sexe='H', vitesse_a_pied='0.6646546277219927', salaire='27508.688800727756'),\n",
       " Row(sexe='F', vitesse_a_pied='0.02', salaire='14699.773381098075'),\n",
       " Row(sexe='H', vitesse_a_pied='0.6900768985098931', salaire='29062.66143187708'),\n",
       " Row(sexe='H', vitesse_a_pied='0.16033050132196727', salaire='23185.18013976639'),\n",
       " Row(sexe='H', vitesse_a_pied='0.030000000000000006', salaire='53388.10046640917'),\n",
       " ...]"
      ]
     },
     "execution_count": 35,
     "metadata": {},
     "output_type": "execute_result"
    }
   ],
   "source": [
    "colonnes_voulues = [\"sexe\", \"vitesse_a_pied\", \"salaire\"]\n",
    "ville.select(colonnes_voulues).collect()"
   ]
  },
  {
   "cell_type": "markdown",
   "id": "b15448f3",
   "metadata": {},
   "source": [
    "## 2.4) Where => filtrer sur une colonne"
   ]
  },
  {
   "cell_type": "code",
   "execution_count": 41,
   "id": "de3c405b",
   "metadata": {},
   "outputs": [
    {
     "data": {
      "text/plain": [
       "523"
      ]
     },
     "execution_count": 41,
     "metadata": {},
     "output_type": "execute_result"
    }
   ],
   "source": [
    "ville.where(\"sexe = 'F'\").count()"
   ]
  },
  {
   "cell_type": "code",
   "execution_count": 40,
   "id": "ad1de9e1",
   "metadata": {},
   "outputs": [
    {
     "data": {
      "text/plain": [
       "523"
      ]
     },
     "execution_count": 40,
     "metadata": {},
     "output_type": "execute_result"
    }
   ],
   "source": [
    "ville.filter(\"sexe = 'F'\").count()"
   ]
  },
  {
   "cell_type": "code",
   "execution_count": 37,
   "id": "e8a71889",
   "metadata": {},
   "outputs": [
    {
     "data": {
      "text/plain": [
       "523"
      ]
     },
     "execution_count": 37,
     "metadata": {},
     "output_type": "execute_result"
    }
   ],
   "source": [
    "lignes_filtrees = ville.where(ville.sexe==\"F\")\n",
    "lignes_filtrees.count()"
   ]
  },
  {
   "cell_type": "code",
   "execution_count": 36,
   "id": "5e5e2eb8",
   "metadata": {},
   "outputs": [
    {
     "data": {
      "text/plain": [
       "523"
      ]
     },
     "execution_count": 36,
     "metadata": {},
     "output_type": "execute_result"
    }
   ],
   "source": [
    "ville.where(ville.sexe==\"F\").count()"
   ]
  },
  {
   "cell_type": "code",
   "execution_count": 37,
   "id": "bc55a489",
   "metadata": {},
   "outputs": [
    {
     "data": {
      "text/plain": [
       "560"
      ]
     },
     "execution_count": 37,
     "metadata": {},
     "output_type": "execute_result"
    }
   ],
   "source": [
    "ville.where(ville.sexe==\"H\").count()"
   ]
  },
  {
   "cell_type": "markdown",
   "id": "650f6c55",
   "metadata": {},
   "source": [
    "## 2.5) compter par regroupement : groupby"
   ]
  },
  {
   "cell_type": "markdown",
   "id": "71a04db2",
   "metadata": {},
   "source": [
    "#### 2.5.1) sur une col simple"
   ]
  },
  {
   "cell_type": "code",
   "execution_count": 46,
   "id": "535945dd",
   "metadata": {},
   "outputs": [
    {
     "data": {
      "text/plain": [
       "[Row(sexe='F', count=523), Row(sexe='H', count=560)]"
      ]
     },
     "execution_count": 46,
     "metadata": {},
     "output_type": "execute_result"
    }
   ],
   "source": [
    "ville.groupBy(\"sexe\").count().collect()"
   ]
  },
  {
   "cell_type": "markdown",
   "id": "b7879505",
   "metadata": {},
   "source": [
    "#### 2.5.2) sur plusieurs features"
   ]
  },
  {
   "cell_type": "code",
   "execution_count": 45,
   "id": "f273c2fc",
   "metadata": {},
   "outputs": [
    {
     "data": {
      "text/plain": [
       "[Row(casseur='False', sexe='H', count=540),\n",
       " Row(casseur='True', sexe='F', count=17),\n",
       " Row(casseur='False', sexe='F', count=506),\n",
       " Row(casseur='True', sexe='H', count=20)]"
      ]
     },
     "execution_count": 45,
     "metadata": {},
     "output_type": "execute_result"
    }
   ],
   "source": [
    "gp = ville.groupby([\"casseur\", \"sexe\"])\n",
    "gp.count().collect()"
   ]
  },
  {
   "cell_type": "markdown",
   "id": "b9fba911",
   "metadata": {},
   "source": [
    "## 2.6) faire une table de données temporaire et du SQL"
   ]
  },
  {
   "cell_type": "code",
   "execution_count": 51,
   "id": "77b5d041",
   "metadata": {},
   "outputs": [],
   "source": [
    "nom_de_la_table = \"ville_2\"\n",
    "ville.createTempView(nom_de_la_table) # création d'une table en mémoire pour requêter en SQL ensuite"
   ]
  },
  {
   "cell_type": "code",
   "execution_count": 54,
   "id": "3d28174e",
   "metadata": {},
   "outputs": [],
   "source": [
    "# la requête SQL fait référence au nom de la table déclarée précédemment\n",
    "requete_sql = f\"select count(*) from {nom_de_la_table} group by sexe\""
   ]
  },
  {
   "cell_type": "code",
   "execution_count": 53,
   "id": "348f6b32",
   "metadata": {},
   "outputs": [
    {
     "data": {
      "text/plain": [
       "[Row(count(1)=523), Row(count(1)=560)]"
      ]
     },
     "execution_count": 53,
     "metadata": {},
     "output_type": "execute_result"
    }
   ],
   "source": [
    "spark.sql(requete_sql).collect()"
   ]
  },
  {
   "cell_type": "markdown",
   "id": "023c41be",
   "metadata": {},
   "source": [
    "## 2.7) calculer le salaire moyen par sexe"
   ]
  },
  {
   "cell_type": "markdown",
   "id": "e92a5aaa",
   "metadata": {},
   "source": [
    "### 2.7.1) via l'API de la DF Vs SQL"
   ]
  },
  {
   "cell_type": "code",
   "execution_count": 55,
   "id": "cea9668e",
   "metadata": {},
   "outputs": [
    {
     "ename": "AnalysisException",
     "evalue": "\"salaire\" is not a numeric column. Aggregation function can only be applied on a numeric column.",
     "output_type": "error",
     "traceback": [
      "\u001b[0;31m---------------------------------------------------------------------------\u001b[0m",
      "\u001b[0;31mAnalysisException\u001b[0m                         Traceback (most recent call last)",
      "\u001b[0;32m<ipython-input-55-f57a86b887c2>\u001b[0m in \u001b[0;36m<module>\u001b[0;34m\u001b[0m\n\u001b[0;32m----> 1\u001b[0;31m \u001b[0mville\u001b[0m\u001b[0;34m.\u001b[0m\u001b[0mgroupBy\u001b[0m\u001b[0;34m(\u001b[0m\u001b[0;34m[\u001b[0m\u001b[0;34m\"sexe\"\u001b[0m\u001b[0;34m]\u001b[0m\u001b[0;34m)\u001b[0m\u001b[0;34m.\u001b[0m\u001b[0mmean\u001b[0m\u001b[0;34m(\u001b[0m\u001b[0;34m\"salaire\"\u001b[0m\u001b[0;34m)\u001b[0m\u001b[0;34m.\u001b[0m\u001b[0mcollect\u001b[0m\u001b[0;34m(\u001b[0m\u001b[0;34m)\u001b[0m\u001b[0;34m\u001b[0m\u001b[0;34m\u001b[0m\u001b[0m\n\u001b[0m",
      "\u001b[0;32m~/Downloads/spark-3.1.2-bin-hadoop3.2/python/pyspark/sql/group.py\u001b[0m in \u001b[0;36m_api\u001b[0;34m(self, *cols)\u001b[0m\n\u001b[1;32m     39\u001b[0m     \u001b[0;32mdef\u001b[0m \u001b[0m_api\u001b[0m\u001b[0;34m(\u001b[0m\u001b[0mself\u001b[0m\u001b[0;34m,\u001b[0m \u001b[0;34m*\u001b[0m\u001b[0mcols\u001b[0m\u001b[0;34m)\u001b[0m\u001b[0;34m:\u001b[0m\u001b[0;34m\u001b[0m\u001b[0;34m\u001b[0m\u001b[0m\n\u001b[1;32m     40\u001b[0m         \u001b[0mname\u001b[0m \u001b[0;34m=\u001b[0m \u001b[0mf\u001b[0m\u001b[0;34m.\u001b[0m\u001b[0m__name__\u001b[0m\u001b[0;34m\u001b[0m\u001b[0;34m\u001b[0m\u001b[0m\n\u001b[0;32m---> 41\u001b[0;31m         \u001b[0mjdf\u001b[0m \u001b[0;34m=\u001b[0m \u001b[0mgetattr\u001b[0m\u001b[0;34m(\u001b[0m\u001b[0mself\u001b[0m\u001b[0;34m.\u001b[0m\u001b[0m_jgd\u001b[0m\u001b[0;34m,\u001b[0m \u001b[0mname\u001b[0m\u001b[0;34m)\u001b[0m\u001b[0;34m(\u001b[0m\u001b[0m_to_seq\u001b[0m\u001b[0;34m(\u001b[0m\u001b[0mself\u001b[0m\u001b[0;34m.\u001b[0m\u001b[0msql_ctx\u001b[0m\u001b[0;34m.\u001b[0m\u001b[0m_sc\u001b[0m\u001b[0;34m,\u001b[0m \u001b[0mcols\u001b[0m\u001b[0;34m)\u001b[0m\u001b[0;34m)\u001b[0m\u001b[0;34m\u001b[0m\u001b[0;34m\u001b[0m\u001b[0m\n\u001b[0m\u001b[1;32m     42\u001b[0m         \u001b[0;32mreturn\u001b[0m \u001b[0mDataFrame\u001b[0m\u001b[0;34m(\u001b[0m\u001b[0mjdf\u001b[0m\u001b[0;34m,\u001b[0m \u001b[0mself\u001b[0m\u001b[0;34m.\u001b[0m\u001b[0msql_ctx\u001b[0m\u001b[0;34m)\u001b[0m\u001b[0;34m\u001b[0m\u001b[0;34m\u001b[0m\u001b[0m\n\u001b[1;32m     43\u001b[0m     \u001b[0m_api\u001b[0m\u001b[0;34m.\u001b[0m\u001b[0m__name__\u001b[0m \u001b[0;34m=\u001b[0m \u001b[0mf\u001b[0m\u001b[0;34m.\u001b[0m\u001b[0m__name__\u001b[0m\u001b[0;34m\u001b[0m\u001b[0;34m\u001b[0m\u001b[0m\n",
      "\u001b[0;32m~/Downloads/spark-3.1.2-bin-hadoop3.2/python/lib/py4j-0.10.9-src.zip/py4j/java_gateway.py\u001b[0m in \u001b[0;36m__call__\u001b[0;34m(self, *args)\u001b[0m\n\u001b[1;32m   1302\u001b[0m \u001b[0;34m\u001b[0m\u001b[0m\n\u001b[1;32m   1303\u001b[0m         \u001b[0manswer\u001b[0m \u001b[0;34m=\u001b[0m \u001b[0mself\u001b[0m\u001b[0;34m.\u001b[0m\u001b[0mgateway_client\u001b[0m\u001b[0;34m.\u001b[0m\u001b[0msend_command\u001b[0m\u001b[0;34m(\u001b[0m\u001b[0mcommand\u001b[0m\u001b[0;34m)\u001b[0m\u001b[0;34m\u001b[0m\u001b[0;34m\u001b[0m\u001b[0m\n\u001b[0;32m-> 1304\u001b[0;31m         return_value = get_return_value(\n\u001b[0m\u001b[1;32m   1305\u001b[0m             answer, self.gateway_client, self.target_id, self.name)\n\u001b[1;32m   1306\u001b[0m \u001b[0;34m\u001b[0m\u001b[0m\n",
      "\u001b[0;32m~/Downloads/spark-3.1.2-bin-hadoop3.2/python/pyspark/sql/utils.py\u001b[0m in \u001b[0;36mdeco\u001b[0;34m(*a, **kw)\u001b[0m\n\u001b[1;32m    115\u001b[0m                 \u001b[0;31m# Hide where the exception came from that shows a non-Pythonic\u001b[0m\u001b[0;34m\u001b[0m\u001b[0;34m\u001b[0m\u001b[0;34m\u001b[0m\u001b[0m\n\u001b[1;32m    116\u001b[0m                 \u001b[0;31m# JVM exception message.\u001b[0m\u001b[0;34m\u001b[0m\u001b[0;34m\u001b[0m\u001b[0;34m\u001b[0m\u001b[0m\n\u001b[0;32m--> 117\u001b[0;31m                 \u001b[0;32mraise\u001b[0m \u001b[0mconverted\u001b[0m \u001b[0;32mfrom\u001b[0m \u001b[0;32mNone\u001b[0m\u001b[0;34m\u001b[0m\u001b[0;34m\u001b[0m\u001b[0m\n\u001b[0m\u001b[1;32m    118\u001b[0m             \u001b[0;32melse\u001b[0m\u001b[0;34m:\u001b[0m\u001b[0;34m\u001b[0m\u001b[0;34m\u001b[0m\u001b[0m\n\u001b[1;32m    119\u001b[0m                 \u001b[0;32mraise\u001b[0m\u001b[0;34m\u001b[0m\u001b[0;34m\u001b[0m\u001b[0m\n",
      "\u001b[0;31mAnalysisException\u001b[0m: \"salaire\" is not a numeric column. Aggregation function can only be applied on a numeric column."
     ]
    }
   ],
   "source": [
    "ville.groupBy([\"sexe\"]).mean(\"salaire\").collect()"
   ]
  },
  {
   "cell_type": "markdown",
   "id": "9ee94d52",
   "metadata": {},
   "source": [
    "#### => l'api de la dataframe ne permet pas de faire une moyenne d'une colonne de type string, d'où l'erreur"
   ]
  },
  {
   "cell_type": "code",
   "execution_count": 56,
   "id": "fe829855",
   "metadata": {},
   "outputs": [
    {
     "data": {
      "text/plain": [
       "[('id', 'string'),\n",
       " ('vitesse_a_pied', 'string'),\n",
       " ('vitesse_a_velo', 'string'),\n",
       " ('home', 'string'),\n",
       " ('travail', 'string'),\n",
       " ('sportif', 'string'),\n",
       " ('casseur', 'string'),\n",
       " ('statut', 'string'),\n",
       " ('salaire', 'string'),\n",
       " ('sexe', 'string'),\n",
       " ('age', 'string'),\n",
       " ('sportivite', 'string'),\n",
       " ('velo_perf_minimale', 'string')]"
      ]
     },
     "execution_count": 56,
     "metadata": {},
     "output_type": "execute_result"
    }
   ],
   "source": [
    "ville.dtypes"
   ]
  },
  {
   "cell_type": "markdown",
   "id": "eeb4cd79",
   "metadata": {},
   "source": [
    "#### Mais bizarrement le sql nous permet de caster nativement"
   ]
  },
  {
   "cell_type": "code",
   "execution_count": 58,
   "id": "fd852ecf",
   "metadata": {},
   "outputs": [
    {
     "data": {
      "text/plain": [
       "[Row(sexe='F', mean(CAST(salaire AS DOUBLE))=23539.718996012853),\n",
       " Row(sexe='H', mean(CAST(salaire AS DOUBLE))=28187.828451177982)]"
      ]
     },
     "execution_count": 58,
     "metadata": {},
     "output_type": "execute_result"
    }
   ],
   "source": [
    "requete_sql = \"select sexe, mean(salaire) from ville group by sexe\"\n",
    "spark.sql(requete_sql).collect()"
   ]
  },
  {
   "cell_type": "markdown",
   "id": "3ac92411",
   "metadata": {},
   "source": [
    "### 2.7.2) via les 'sql functions\" de spark"
   ]
  },
  {
   "cell_type": "code",
   "execution_count": 60,
   "id": "ae0b604e",
   "metadata": {},
   "outputs": [],
   "source": [
    "from pyspark.sql.functions import avg"
   ]
  },
  {
   "cell_type": "code",
   "execution_count": 49,
   "id": "a9d57040",
   "metadata": {},
   "outputs": [
    {
     "data": {
      "text/plain": [
       "[Row(sexe='F', avg(salaire)=23539.718996012853),\n",
       " Row(sexe='H', avg(salaire)=28187.828451177982)]"
      ]
     },
     "execution_count": 49,
     "metadata": {},
     "output_type": "execute_result"
    }
   ],
   "source": [
    "ville.groupby([\"sexe\"]).agg(avg(\"salaire\")).collect()"
   ]
  },
  {
   "cell_type": "markdown",
   "id": "7fbb311f",
   "metadata": {},
   "source": [
    "### 2.7.3) en convertissant d'abord les 'string' en type numérique"
   ]
  },
  {
   "cell_type": "code",
   "execution_count": 69,
   "id": "03e20c24",
   "metadata": {},
   "outputs": [],
   "source": [
    "from pyspark.sql.types import DoubleType, IntegerType"
   ]
  },
  {
   "cell_type": "code",
   "execution_count": 65,
   "id": "dcc53495",
   "metadata": {},
   "outputs": [],
   "source": [
    "nouvelle_colonne = \"salaire_float\"\n",
    "ville            = ville.withColumn(nouvelle_colonne, ville.salaire.cast(DoubleType()))"
   ]
  },
  {
   "cell_type": "code",
   "execution_count": 70,
   "id": "0ea909c3",
   "metadata": {},
   "outputs": [],
   "source": [
    "nouvelle_colonne = \"salaire_int\"\n",
    "ville            = ville.withColumn(nouvelle_colonne, ville.salaire.cast(IntegerType()))"
   ]
  },
  {
   "cell_type": "markdown",
   "id": "26bf1e3d",
   "metadata": {},
   "source": [
    "### Ecraser une colonne : withColumn permet de remplacer le contenu d'une colonne par autre chose, quitte à l'écraser : "
   ]
  },
  {
   "cell_type": "code",
   "execution_count": 77,
   "id": "3d46d3b7",
   "metadata": {},
   "outputs": [],
   "source": [
    "# => ici on remet l'ancienne valeur avec des strings dans la colonne\n",
    "ville            = ville.withColumn(nouvelle_colonne, ville.salaire) "
   ]
  },
  {
   "cell_type": "code",
   "execution_count": 78,
   "id": "69a7a6c8",
   "metadata": {},
   "outputs": [
    {
     "data": {
      "text/plain": [
       "[Row(salaire='29800.610034665042', salaire_int='29800.610034665042'),\n",
       " Row(salaire='23595.44383981423', salaire_int='23595.44383981423'),\n",
       " Row(salaire='18530.14776280135', salaire_int='18530.14776280135')]"
      ]
     },
     "execution_count": 78,
     "metadata": {},
     "output_type": "execute_result"
    }
   ],
   "source": [
    "ville.select([\"salaire\", nouvelle_colonne]).take(3)"
   ]
  },
  {
   "cell_type": "markdown",
   "id": "96af4db7",
   "metadata": {},
   "source": [
    "###### Une fois que la colonne est en double, je peux utiliser la méthode \"mean\" de la dataFrame pour calculer la moyenne (plus besoin de passer par la fonction 'F.mean' du module sql"
   ]
  },
  {
   "cell_type": "code",
   "execution_count": 81,
   "id": "520a6fe1",
   "metadata": {},
   "outputs": [
    {
     "data": {
      "text/plain": [
       "[Row(sexe='F', avg(salaire_float)=23539.718996012853),\n",
       " Row(sexe='H', avg(salaire_float)=28187.828451177982)]"
      ]
     },
     "execution_count": 81,
     "metadata": {},
     "output_type": "execute_result"
    }
   ],
   "source": [
    "ville.groupBy([\"sexe\"]).mean(\"salaire_float\").collect()"
   ]
  },
  {
   "cell_type": "code",
   "execution_count": 82,
   "id": "eab9005c",
   "metadata": {},
   "outputs": [],
   "source": [
    "# exo : calculer le nombre de salaires différents : "
   ]
  },
  {
   "cell_type": "code",
   "execution_count": 84,
   "id": "3dd3812f",
   "metadata": {},
   "outputs": [
    {
     "data": {
      "text/plain": [
       "1083"
      ]
     },
     "execution_count": 84,
     "metadata": {},
     "output_type": "execute_result"
    }
   ],
   "source": [
    "ville.select(\"salaire\").distinct().count()"
   ]
  },
  {
   "cell_type": "markdown",
   "id": "2bc44ed9",
   "metadata": {},
   "source": [
    "## 2.8) créer des regroupements catégoriels"
   ]
  },
  {
   "cell_type": "markdown",
   "id": "01b006ce",
   "metadata": {},
   "source": [
    "## 2.8.1) créer une fonction"
   ]
  },
  {
   "cell_type": "code",
   "execution_count": 94,
   "id": "4d1f15ae",
   "metadata": {},
   "outputs": [],
   "source": [
    "def categorie(salaire):\n",
    "    \"\"\" Renvoie la tranche en dizaine de millier.\"\"\"\n",
    "    base          = 10000\n",
    "    nb_de_dizaine = float(salaire)// base\n",
    "    categorie     = nb_de_dizaine * base\n",
    "    return int(categorie)"
   ]
  },
  {
   "cell_type": "code",
   "execution_count": 95,
   "id": "223ae63a",
   "metadata": {},
   "outputs": [
    {
     "name": "stdout",
     "output_type": "stream",
     "text": [
      "10000 -> 10000\n",
      "14000 -> 10000\n",
      "18000 -> 10000\n",
      "22000 -> 20000\n",
      "26000 -> 20000\n",
      "30000 -> 30000\n",
      "34000 -> 30000\n",
      "38000 -> 30000\n",
      "42000 -> 40000\n",
      "46000 -> 40000\n"
     ]
    }
   ],
   "source": [
    "for salaire in range(10000, 50000, 4000):\n",
    "    print(salaire, \"->\", categorie(salaire))"
   ]
  },
  {
   "cell_type": "markdown",
   "id": "043b2625",
   "metadata": {},
   "source": [
    "### 2.8.2) Enregistrer cette fonction comme \"user defined\""
   ]
  },
  {
   "cell_type": "code",
   "execution_count": 103,
   "id": "f90cb7c3",
   "metadata": {},
   "outputs": [],
   "source": [
    "from pyspark.sql.functions import udf\n",
    "from pyspark.sql.types import *\n",
    "\n",
    "fonction              = categorie \n",
    "type_de_retour        = IntegerType()\n",
    "fonction_distribuable = udf(fonction, type_de_retour) "
   ]
  },
  {
   "cell_type": "markdown",
   "id": "f4979371",
   "metadata": {},
   "source": [
    "### 2.8.3) Appliquer cette fonction sur une colonne, pour créer une nouvelle colonne"
   ]
  },
  {
   "cell_type": "code",
   "execution_count": 104,
   "id": "036082a6",
   "metadata": {},
   "outputs": [],
   "source": [
    "nom_new_col = \"salaire_categorie\"\n",
    "ville       = ville.withColumn(nom_new_col, fonction_distribuable(\"salaire\"))"
   ]
  },
  {
   "cell_type": "code",
   "execution_count": 105,
   "id": "11ec4da4",
   "metadata": {},
   "outputs": [
    {
     "name": "stdout",
     "output_type": "stream",
     "text": [
      "-RECORD 0----------------------------------\n",
      " id                 | 5251                 \n",
      " vitesse_a_pied     | 0.02                 \n",
      " vitesse_a_velo     | 0.05                 \n",
      " home               | (lon:26.60 lat:28... \n",
      " travail            | (lon:21.08 lat:14... \n",
      " sportif            | False                \n",
      " casseur            | False                \n",
      " statut             | reserviste           \n",
      " salaire            | 29800.610034665042   \n",
      " sexe               | F                    \n",
      " age                | 18                   \n",
      " sportivite         | 0.1                  \n",
      " velo_perf_minimale | 0.4                  \n",
      " salaire_float      | 29800.610034665042   \n",
      " salaire_int        | 29800.610034665042   \n",
      " salaire_categorie  | 20000                \n",
      "only showing top 1 row\n",
      "\n"
     ]
    }
   ],
   "source": [
    "ville.show(1, vertical=True)"
   ]
  },
  {
   "cell_type": "markdown",
   "id": "4b7e48a2",
   "metadata": {},
   "source": [
    "## 2.8.4) calculer le nombre de personne par tranche de salaire "
   ]
  },
  {
   "cell_type": "code",
   "execution_count": 108,
   "id": "e923f2c1",
   "metadata": {},
   "outputs": [
    {
     "data": {
      "text/plain": [
       "[Row(sexe='H', salaire_categorie=20000, count=234),\n",
       " Row(sexe='H', salaire_categorie=60000, count=2),\n",
       " Row(sexe='F', salaire_categorie=10000, count=180),\n",
       " Row(sexe='H', salaire_categorie=10000, count=115),\n",
       " Row(sexe='F', salaire_categorie=60000, count=1),\n",
       " Row(sexe='F', salaire_categorie=30000, count=83),\n",
       " Row(sexe='H', salaire_categorie=0, count=4),\n",
       " Row(sexe='H', salaire_categorie=70000, count=1),\n",
       " Row(sexe='F', salaire_categorie=50000, count=2),\n",
       " Row(sexe='F', salaire_categorie=0, count=2),\n",
       " Row(sexe='H', salaire_categorie=50000, count=12),\n",
       " Row(sexe='H', salaire_categorie=80000, count=1),\n",
       " Row(sexe='F', salaire_categorie=20000, count=242),\n",
       " Row(sexe='F', salaire_categorie=40000, count=13),\n",
       " Row(sexe='H', salaire_categorie=40000, count=52),\n",
       " Row(sexe='H', salaire_categorie=30000, count=139)]"
      ]
     },
     "execution_count": 108,
     "metadata": {},
     "output_type": "execute_result"
    }
   ],
   "source": [
    "gp_by                  = [\"sexe\", \"salaire_categorie\"]\n",
    "population_par_tranche = ville.groupby(gp_by).count()\n",
    "population_par_tranche.collect()"
   ]
  },
  {
   "cell_type": "markdown",
   "id": "7f166cf5",
   "metadata": {},
   "source": [
    "##### Récupérer les data dans pandas"
   ]
  },
  {
   "cell_type": "code",
   "execution_count": 130,
   "id": "bf73839c",
   "metadata": {},
   "outputs": [],
   "source": [
    "pd_df = population_par_tranche.toPandas()"
   ]
  },
  {
   "cell_type": "code",
   "execution_count": 131,
   "id": "8bf290ac",
   "metadata": {},
   "outputs": [],
   "source": [
    "%matplotlib inline"
   ]
  },
  {
   "cell_type": "code",
   "execution_count": 132,
   "id": "e831f048",
   "metadata": {},
   "outputs": [
    {
     "data": {
      "image/png": "[encoded data removed]",
      "text/plain": [
       "<Figure size 432x288 with 1 Axes>"
      ]
     },
     "metadata": {
      "needs_background": "light"
     },
     "output_type": "display_data"
    }
   ],
   "source": [
    "pivot = pd_df.pivot_table(index   = [\"salaire_categorie\"], \n",
    "                          columns = [\"sexe\"]             ,  \n",
    "                          values  = \"count\"              )\n",
    "pivot.plot(kind=\"bar\", \n",
    "           ylabel=\"count\", \n",
    "           title=\"Nb de personne par niveau de salaire et sexe\");"
   ]
  },
  {
   "cell_type": "markdown",
   "id": "f2da9832",
   "metadata": {},
   "source": [
    "## 2.9) compter des éléments dans un group by "
   ]
  },
  {
   "cell_type": "code",
   "execution_count": 87,
   "id": "acd1338c",
   "metadata": {},
   "outputs": [],
   "source": [
    "from pyspark.sql import functions as f"
   ]
  },
  {
   "cell_type": "code",
   "execution_count": 135,
   "id": "d211dbb1",
   "metadata": {},
   "outputs": [],
   "source": [
    "from pyspark.sql.functions import collect_list # récupère toutes les data du groupby\n",
    "from pyspark.sql.functions import collect_set  # récupère les valeurs sans doublons\n",
    "from pyspark.sql.functions import size         # compte le nombre de valeurs"
   ]
  },
  {
   "cell_type": "markdown",
   "id": "057c727b",
   "metadata": {},
   "source": [
    "### 2.9.1) nb de ligne par sexe"
   ]
  },
  {
   "cell_type": "code",
   "execution_count": 136,
   "id": "e45f6505",
   "metadata": {},
   "outputs": [
    {
     "name": "stdout",
     "output_type": "stream",
     "text": [
      "+----+-----+\n",
      "|sexe|count|\n",
      "+----+-----+\n",
      "|   F|  523|\n",
      "|   H|  560|\n",
      "+----+-----+\n",
      "\n"
     ]
    }
   ],
   "source": [
    "ville.groupby(\"sexe\").count().show()"
   ]
  },
  {
   "cell_type": "code",
   "execution_count": 93,
   "id": "d1d9438e",
   "metadata": {},
   "outputs": [
    {
     "name": "stdout",
     "output_type": "stream",
     "text": [
      "+----+------------------------+\n",
      "|sexe|size(collect_list(sexe))|\n",
      "+----+------------------------+\n",
      "|   F|                     523|\n",
      "|   H|                     560|\n",
      "+----+------------------------+\n",
      "\n"
     ]
    }
   ],
   "source": [
    "ville.groupBy(\"sexe\").agg(size(collect_list(\"sexe\"))).show()"
   ]
  },
  {
   "cell_type": "markdown",
   "id": "16dbb737",
   "metadata": {},
   "source": [
    "### 2.9.2) nb de sexe different par tranche salariale"
   ]
  },
  {
   "cell_type": "code",
   "execution_count": 137,
   "id": "df5dd5aa",
   "metadata": {},
   "outputs": [
    {
     "name": "stdout",
     "output_type": "stream",
     "text": [
      "+-----------------+-----------------------+\n",
      "|salaire_categorie|size(collect_set(sexe))|\n",
      "+-----------------+-----------------------+\n",
      "|            30000|                      2|\n",
      "|            10000|                      2|\n",
      "|            60000|                      2|\n",
      "|            20000|                      2|\n",
      "|            80000|                      1|\n",
      "|            50000|                      2|\n",
      "|            70000|                      1|\n",
      "|            40000|                      2|\n",
      "|                0|                      2|\n",
      "+-----------------+-----------------------+\n",
      "\n"
     ]
    }
   ],
   "source": [
    "ville.groupBy(\"salaire_categorie\").agg(size(collect_set(\"sexe\"))).show()"
   ]
  },
  {
   "cell_type": "markdown",
   "id": "57cca809",
   "metadata": {},
   "source": [
    "#### Exo : trouver les sexes des catégories 80000 et 70000"
   ]
  },
  {
   "cell_type": "markdown",
   "id": "baf04467",
   "metadata": {},
   "source": [
    "##### avec where"
   ]
  },
  {
   "cell_type": "code",
   "execution_count": 142,
   "id": "1b47edf5",
   "metadata": {},
   "outputs": [
    {
     "name": "stdout",
     "output_type": "stream",
     "text": [
      "+----+\n",
      "|sexe|\n",
      "+----+\n",
      "|   H|\n",
      "+----+\n",
      "\n"
     ]
    }
   ],
   "source": [
    "ville.where(\"salaire_categorie = 80000\").select(\"sexe\").show()"
   ]
  },
  {
   "cell_type": "markdown",
   "id": "89950687",
   "metadata": {},
   "source": [
    "###### where + or"
   ]
  },
  {
   "cell_type": "code",
   "execution_count": 145,
   "id": "72e26754",
   "metadata": {},
   "outputs": [
    {
     "name": "stdout",
     "output_type": "stream",
     "text": [
      "+----+-----------------+\n",
      "|sexe|salaire_categorie|\n",
      "+----+-----------------+\n",
      "|   H|            70000|\n",
      "|   H|            80000|\n",
      "+----+-----------------+\n",
      "\n"
     ]
    }
   ],
   "source": [
    "colonnes_voulues = [\"sexe\", \"salaire_categorie\"]\n",
    "ville.where(\"salaire_categorie = 80000 or salaire_categorie = 70000 \").select(colonnes_voulues).show()"
   ]
  },
  {
   "cell_type": "markdown",
   "id": "06bd71d9",
   "metadata": {},
   "source": [
    "###### collect_set"
   ]
  },
  {
   "cell_type": "code",
   "execution_count": 150,
   "id": "63c41c9a",
   "metadata": {},
   "outputs": [
    {
     "name": "stdout",
     "output_type": "stream",
     "text": [
      "+-----------------+-----------------+\n",
      "|salaire_categorie|collect_set(sexe)|\n",
      "+-----------------+-----------------+\n",
      "|                0|           [F, H]|\n",
      "|            10000|           [F, H]|\n",
      "|            20000|           [F, H]|\n",
      "|            30000|           [F, H]|\n",
      "|            40000|           [F, H]|\n",
      "|            50000|           [F, H]|\n",
      "|            60000|           [F, H]|\n",
      "|            70000|              [H]|\n",
      "|            80000|              [H]|\n",
      "+-----------------+-----------------+\n",
      "\n"
     ]
    }
   ],
   "source": [
    "aggregated = ville.groupBy(\"salaire_categorie\").agg(collect_set(\"sexe\"))\n",
    "aggregated = aggregated.sort(\"salaire_categorie\")\n",
    "aggregated.show()"
   ]
  },
  {
   "cell_type": "markdown",
   "id": "5b5051ec",
   "metadata": {},
   "source": [
    "### 2.9.3) nb de categorie de salaire par sexe"
   ]
  },
  {
   "cell_type": "code",
   "execution_count": 153,
   "id": "040bc770",
   "metadata": {},
   "outputs": [
    {
     "name": "stdout",
     "output_type": "stream",
     "text": [
      "+----+------------------------------------+\n",
      "|sexe|size(collect_set(salaire_categorie))|\n",
      "+----+------------------------------------+\n",
      "|   F|                                   7|\n",
      "|   H|                                   9|\n",
      "+----+------------------------------------+\n",
      "\n"
     ]
    }
   ],
   "source": [
    "ville.groupby(\"sexe\").agg(size(collect_set(\"salaire_categorie\"))).show()"
   ]
  },
  {
   "cell_type": "markdown",
   "id": "91a42c53",
   "metadata": {},
   "source": [
    "# 3) calculer des quantiles "
   ]
  },
  {
   "cell_type": "markdown",
   "id": "f2e6154c",
   "metadata": {},
   "source": [
    "## 3.1) on recharge la base, en demandant une détection automatique des types "
   ]
  },
  {
   "cell_type": "code",
   "execution_count": 154,
   "id": "9f54dfd1",
   "metadata": {},
   "outputs": [
    {
     "data": {
      "text/plain": [
       "[('id', 'string'),\n",
       " ('vitesse_a_pied', 'string'),\n",
       " ('vitesse_a_velo', 'string'),\n",
       " ('home', 'string'),\n",
       " ('travail', 'string'),\n",
       " ('sportif', 'string'),\n",
       " ('casseur', 'string'),\n",
       " ('statut', 'string'),\n",
       " ('salaire', 'string'),\n",
       " ('sexe', 'string'),\n",
       " ('age', 'string'),\n",
       " ('sportivite', 'string'),\n",
       " ('velo_perf_minimale', 'string'),\n",
       " ('salaire_float', 'double'),\n",
       " ('salaire_int', 'string'),\n",
       " ('salaire_categorie', 'int')]"
      ]
     },
     "execution_count": 154,
     "metadata": {},
     "output_type": "execute_result"
    }
   ],
   "source": [
    "ville.dtypes"
   ]
  },
  {
   "cell_type": "markdown",
   "id": "e5ad0b21",
   "metadata": {},
   "source": [
    "##### inferschema = True"
   ]
  },
  {
   "cell_type": "code",
   "execution_count": 10,
   "id": "e9518111",
   "metadata": {},
   "outputs": [],
   "source": [
    "ville = spark.read.load(\"./ville_1.csv\"      , \n",
    "                        format      = \"csv\"  , \n",
    "                        header      = True   ,\n",
    "                        inferSchema = \"True\" )"
   ]
  },
  {
   "cell_type": "code",
   "execution_count": 11,
   "id": "b0c21446",
   "metadata": {},
   "outputs": [
    {
     "data": {
      "text/plain": [
       "[('id', 'int'),\n",
       " ('vitesse_a_pied', 'double'),\n",
       " ('vitesse_a_velo', 'double'),\n",
       " ('home', 'string'),\n",
       " ('travail', 'string'),\n",
       " ('sportif', 'boolean'),\n",
       " ('casseur', 'boolean'),\n",
       " ('statut', 'string'),\n",
       " ('salaire', 'double'),\n",
       " ('sexe', 'string'),\n",
       " ('age', 'int'),\n",
       " ('sportivite', 'double'),\n",
       " ('velo_perf_minimale', 'double')]"
      ]
     },
     "execution_count": 11,
     "metadata": {},
     "output_type": "execute_result"
    }
   ],
   "source": [
    "ville.dtypes"
   ]
  },
  {
   "cell_type": "code",
   "execution_count": 12,
   "id": "36e9f184",
   "metadata": {},
   "outputs": [],
   "source": [
    "from time import time"
   ]
  },
  {
   "cell_type": "code",
   "execution_count": 13,
   "id": "710fa659",
   "metadata": {},
   "outputs": [],
   "source": [
    "def calcul_quantile(df,colonne, erreur_acceptee, ):\n",
    "    debut           = time()\n",
    "    quantile_voulus = [0.25, 0.5, 0.75]\n",
    "    resultat        = df.approxQuantile(colonne, quantile_voulus, erreur_acceptee)\n",
    "    fin             = time()\n",
    "    delais          = fin - debut\n",
    "    print(f\"delais = {delais:.4} sec,  quantiles ={resultat}\")"
   ]
  },
  {
   "cell_type": "code",
   "execution_count": 14,
   "id": "7c8b8963",
   "metadata": {},
   "outputs": [
    {
     "data": {
      "text/plain": [
       "[0.15731508875721376, 0.47702125792661454, 0.7628650188339616]"
      ]
     },
     "execution_count": 14,
     "metadata": {},
     "output_type": "execute_result"
    }
   ],
   "source": [
    "ville.approxQuantile(\"vitesse_a_pied\", [0.25, 0.5, 0.75], 0.05)"
   ]
  },
  {
   "cell_type": "code",
   "execution_count": 198,
   "id": "0b66d1e7",
   "metadata": {},
   "outputs": [
    {
     "data": {
      "text/plain": [
       "[0.20643872526718415, 0.3671582228796071, 0.6907825448897998]"
      ]
     },
     "execution_count": 198,
     "metadata": {},
     "output_type": "execute_result"
    }
   ],
   "source": [
    "ville.approxQuantile(\"vitesse_a_pied\", [0.25, 0.5, 0.75], 0.1)"
   ]
  },
  {
   "cell_type": "code",
   "execution_count": 199,
   "id": "3e6648b7",
   "metadata": {},
   "outputs": [
    {
     "data": {
      "text/plain": [
       "[0.14653134035123255, 0.49033450127802747, 0.8383862769558276]"
      ]
     },
     "execution_count": 199,
     "metadata": {},
     "output_type": "execute_result"
    }
   ],
   "source": [
    "ville.approxQuantile(\"vitesse_a_pied\", [0.25, 0.5, 0.75], 0)"
   ]
  },
  {
   "cell_type": "code",
   "execution_count": 200,
   "id": "e8c185f0",
   "metadata": {},
   "outputs": [
    {
     "data": {
      "text/plain": [
       "1083"
      ]
     },
     "execution_count": 200,
     "metadata": {},
     "output_type": "execute_result"
    }
   ],
   "source": [
    "ville.count()"
   ]
  },
  {
   "cell_type": "code",
   "execution_count": 15,
   "id": "034e80d3",
   "metadata": {},
   "outputs": [],
   "source": [
    "big_df = ville\n",
    "for i in range(10):\n",
    "    big_df = big_df.union(big_df)"
   ]
  },
  {
   "cell_type": "code",
   "execution_count": 202,
   "id": "d7eb2926",
   "metadata": {},
   "outputs": [
    {
     "data": {
      "text/plain": [
       "1108992"
      ]
     },
     "execution_count": 202,
     "metadata": {},
     "output_type": "execute_result"
    }
   ],
   "source": [
    "big_df.count()"
   ]
  },
  {
   "cell_type": "code",
   "execution_count": 205,
   "id": "a0d8135d",
   "metadata": {},
   "outputs": [
    {
     "data": {
      "text/plain": [
       "True"
      ]
     },
     "execution_count": 205,
     "metadata": {},
     "output_type": "execute_result"
    }
   ],
   "source": [
    "big_df.is_cached"
   ]
  },
  {
   "cell_type": "code",
   "execution_count": 16,
   "id": "77cb73a3",
   "metadata": {},
   "outputs": [
    {
     "data": {
      "text/plain": [
       "DataFrame[id: int, vitesse_a_pied: double, vitesse_a_velo: double, home: string, travail: string, sportif: boolean, casseur: boolean, statut: string, salaire: double, sexe: string, age: int, sportivite: double, velo_perf_minimale: double]"
      ]
     },
     "execution_count": 16,
     "metadata": {},
     "output_type": "execute_result"
    }
   ],
   "source": [
    "big_df.cache()"
   ]
  },
  {
   "cell_type": "code",
   "execution_count": 207,
   "id": "bbd40eb4",
   "metadata": {},
   "outputs": [
    {
     "data": {
      "text/plain": [
       "True"
      ]
     },
     "execution_count": 207,
     "metadata": {},
     "output_type": "execute_result"
    }
   ],
   "source": [
    "big_df.is_cached"
   ]
  },
  {
   "cell_type": "code",
   "execution_count": 17,
   "id": "e9e987d9",
   "metadata": {},
   "outputs": [
    {
     "data": {
      "text/plain": [
       "1108992"
      ]
     },
     "execution_count": 17,
     "metadata": {},
     "output_type": "execute_result"
    }
   ],
   "source": [
    "big_df.count()"
   ]
  },
  {
   "cell_type": "code",
   "execution_count": 178,
   "id": "9b89629c",
   "metadata": {},
   "outputs": [
    {
     "data": {
      "text/plain": [
       "1108992"
      ]
     },
     "execution_count": 178,
     "metadata": {},
     "output_type": "execute_result"
    }
   ],
   "source": [
    "big_df.count()"
   ]
  },
  {
   "cell_type": "code",
   "execution_count": 209,
   "id": "d79a9369",
   "metadata": {},
   "outputs": [
    {
     "name": "stdout",
     "output_type": "stream",
     "text": [
      "erreur= 0\n",
      "delais = 32.6 sec,  quantiles =[0.14653134035123255, 0.49033450127802747, 0.8383862769558276]\n",
      "erreur= 1\n",
      "delais = 22.64 sec,  quantiles =[0.20643872526718415, 0.3671582228796071, 0.6907825448897998]\n",
      "erreur= 2\n",
      "delais = 19.15 sec,  quantiles =[0.08328838658186277, 0.40025854209141, 0.6259695740470621]\n",
      "erreur= 3\n",
      "delais = 19.51 sec,  quantiles =[0.02, 0.3615980311120377, 3.7766588011416977]\n",
      "erreur= 4\n",
      "delais = 19.93 sec,  quantiles =[0.02, 0.04615889177040968, 3.7766588011416977]\n",
      "erreur= 5\n",
      "delais = 23.85 sec,  quantiles =[0.02, 0.02, 3.7766588011416977]\n",
      "erreur= 6\n",
      "delais = 18.01 sec,  quantiles =[0.02, 0.02, 3.7766588011416977]\n",
      "erreur= 7\n",
      "delais = 24.1 sec,  quantiles =[0.02, 0.02, 3.7766588011416977]\n",
      "erreur= 8\n",
      "delais = 14.68 sec,  quantiles =[0.02, 0.02, 0.02]\n",
      "erreur= 9\n",
      "delais = 14.48 sec,  quantiles =[0.02, 0.02, 0.02]\n"
     ]
    }
   ],
   "source": [
    "for erreur in range(0,10, 1):\n",
    "    print(\"erreur=\", erreur)\n",
    "    calcul_quantile(big_df, \"vitesse_a_pied\", erreur/10)"
   ]
  },
  {
   "cell_type": "code",
   "execution_count": null,
   "id": "7e72a4a4",
   "metadata": {},
   "outputs": [],
   "source": [
    "calcul_quantile(big_df, \"vitesse_a_pied\", 10)"
   ]
  },
  {
   "cell_type": "code",
   "execution_count": null,
   "id": "7ffac79b",
   "metadata": {},
   "outputs": [],
   "source": [
    "big_df.approxQuantile()"
   ]
  },
  {
   "cell_type": "code",
   "execution_count": 212,
   "id": "87c73da9",
   "metadata": {},
   "outputs": [],
   "source": [
    "import sys"
   ]
  },
  {
   "cell_type": "code",
   "execution_count": 214,
   "id": "17f05002",
   "metadata": {},
   "outputs": [
    {
     "data": {
      "text/plain": [
       "'3.8.8 (default, Apr 13 2021, 12:59:45) \\n[Clang 10.0.0 ]'"
      ]
     },
     "execution_count": 214,
     "metadata": {},
     "output_type": "execute_result"
    }
   ],
   "source": [
    "sys.version"
   ]
  },
  {
   "cell_type": "markdown",
   "id": "9799ae8d",
   "metadata": {},
   "source": [
    "# 4) diverses fonctions"
   ]
  },
  {
   "cell_type": "markdown",
   "id": "62d10a67",
   "metadata": {},
   "source": [
    "## 4.1) récupérer des noms de colonne via une expression régulière"
   ]
  },
  {
   "cell_type": "code",
   "execution_count": 19,
   "id": "0c26dbfc",
   "metadata": {},
   "outputs": [
    {
     "data": {
      "text/plain": [
       "['id',\n",
       " 'vitesse_a_pied',\n",
       " 'vitesse_a_velo',\n",
       " 'home',\n",
       " 'travail',\n",
       " 'sportif',\n",
       " 'casseur',\n",
       " 'statut',\n",
       " 'salaire',\n",
       " 'sexe',\n",
       " 'age',\n",
       " 'sportivite',\n",
       " 'velo_perf_minimale']"
      ]
     },
     "execution_count": 19,
     "metadata": {},
     "output_type": "execute_result"
    }
   ],
   "source": [
    "ville.columns"
   ]
  },
  {
   "cell_type": "code",
   "execution_count": 30,
   "id": "8259e7b5",
   "metadata": {},
   "outputs": [
    {
     "name": "stdout",
     "output_type": "stream",
     "text": [
      "+--------------------+-------------------+\n",
      "|      vitesse_a_pied|     vitesse_a_velo|\n",
      "+--------------------+-------------------+\n",
      "|                0.02|               0.05|\n",
      "| 0.14974625830876215|0.37436564577190534|\n",
      "|  0.6309711587089704| 1.6825897565572543|\n",
      "| 0.04009596300649916|0.10692256801733109|\n",
      "|                0.02|               0.05|\n",
      "|  0.8655449921165502|  2.308119978977467|\n",
      "|  0.5879992290928728| 1.4699980727321822|\n",
      "|  0.8306610123216782|  2.215096032857809|\n",
      "| 0.12542885835859416| 0.3344769556229178|\n",
      "|0.030000000000000006|               0.08|\n",
      "|0.030000000000000006|               0.08|\n",
      "|                0.02|               0.05|\n",
      "|  1.4342769187788869| 3.8247384500770316|\n",
      "|  0.6272243144514219| 1.5680607861285547|\n",
      "|  0.5056944896192869|  1.348518638984765|\n",
      "|  0.3167145553844886| 0.7917863884612215|\n",
      "|  0.3358134613272747| 0.8955025635393993|\n",
      "|0.030000000000000006|               0.08|\n",
      "|    0.94148024700412|  2.510613992010987|\n",
      "|0.030000000000000006|               0.08|\n",
      "+--------------------+-------------------+\n",
      "only showing top 20 rows\n",
      "\n"
     ]
    }
   ],
   "source": [
    "regex = '`vitesse.*`'\n",
    "ville.select(ville.colRegex(regex)).show()"
   ]
  },
  {
   "cell_type": "markdown",
   "id": "98073e98",
   "metadata": {},
   "source": [
    "## exo : comment caster les salaires en int (création de nouvelle colonne)"
   ]
  },
  {
   "cell_type": "code",
   "execution_count": 33,
   "id": "160087e4",
   "metadata": {},
   "outputs": [],
   "source": [
    "from pyspark.sql.types import *"
   ]
  },
  {
   "cell_type": "code",
   "execution_count": 34,
   "id": "786aae74",
   "metadata": {},
   "outputs": [],
   "source": [
    "ville = ville.withColumn(\"salaire_int\", ville.salaire.cast(DoubleType()))"
   ]
  },
  {
   "cell_type": "code",
   "execution_count": 35,
   "id": "e66764d3",
   "metadata": {},
   "outputs": [
    {
     "name": "stdout",
     "output_type": "stream",
     "text": [
      "+------------------+------------------+\n",
      "|           salaire|       salaire_int|\n",
      "+------------------+------------------+\n",
      "|29800.610034665042|29800.610034665042|\n",
      "| 23595.44383981423| 23595.44383981423|\n",
      "| 18530.14776280135| 18530.14776280135|\n",
      "| 18997.60281005325| 18997.60281005325|\n",
      "|23618.479750220806|23618.479750220806|\n",
      "| 19082.30894283764| 19082.30894283764|\n",
      "|21782.945135729053|21782.945135729053|\n",
      "|41451.270468058414|41451.270468058414|\n",
      "| 22025.17074872747| 22025.17074872747|\n",
      "| 38211.06301426453| 38211.06301426453|\n",
      "|32384.038031466876|32384.038031466876|\n",
      "|18155.392787144123|18155.392787144123|\n",
      "| 34479.64091466565| 34479.64091466565|\n",
      "|17894.342734488273|17894.342734488273|\n",
      "|15272.646527406627|15272.646527406627|\n",
      "| 32340.37164134604| 32340.37164134604|\n",
      "|30332.817374659553|30332.817374659553|\n",
      "| 11069.70965021214| 11069.70965021214|\n",
      "|32542.663936348865|32542.663936348865|\n",
      "| 31264.86511628485| 31264.86511628485|\n",
      "+------------------+------------------+\n",
      "only showing top 20 rows\n",
      "\n"
     ]
    }
   ],
   "source": [
    "regex = '`salaire.*`'\n",
    "ville.select(ville.colRegex(regex)).show()"
   ]
  },
  {
   "cell_type": "markdown",
   "id": "bc7eb1ad",
   "metadata": {},
   "source": [
    "## 4.2) Covariance"
   ]
  },
  {
   "cell_type": "code",
   "execution_count": 36,
   "id": "9cf6e562",
   "metadata": {},
   "outputs": [
    {
     "data": {
      "text/plain": [
       "['id',\n",
       " 'vitesse_a_pied',\n",
       " 'vitesse_a_velo',\n",
       " 'home',\n",
       " 'travail',\n",
       " 'sportif',\n",
       " 'casseur',\n",
       " 'statut',\n",
       " 'salaire',\n",
       " 'sexe',\n",
       " 'age',\n",
       " 'sportivite',\n",
       " 'velo_perf_minimale',\n",
       " 'salaire_int']"
      ]
     },
     "execution_count": 36,
     "metadata": {},
     "output_type": "execute_result"
    }
   ],
   "source": [
    "ville.columns"
   ]
  },
  {
   "cell_type": "code",
   "execution_count": 37,
   "id": "004f5fcf",
   "metadata": {},
   "outputs": [
    {
     "data": {
      "text/plain": [
       "-0.4752524914308339"
      ]
     },
     "execution_count": 37,
     "metadata": {},
     "output_type": "execute_result"
    }
   ],
   "source": [
    "ville.cov(\"age\", \"vitesse_a_velo\")"
   ]
  },
  {
   "cell_type": "code",
   "execution_count": 38,
   "id": "3f0253ec",
   "metadata": {},
   "outputs": [
    {
     "data": {
      "text/plain": [
       "0.6699079708245432"
      ]
     },
     "execution_count": 38,
     "metadata": {},
     "output_type": "execute_result"
    }
   ],
   "source": [
    "ville.cov(\"vitesse_a_pied\", \"vitesse_a_velo\")"
   ]
  },
  {
   "cell_type": "markdown",
   "id": "d66c6eef",
   "metadata": {},
   "source": [
    "## 4.3) drop_duplicates => suppression de doublons"
   ]
  },
  {
   "cell_type": "code",
   "execution_count": 39,
   "id": "2ba4ad0e",
   "metadata": {},
   "outputs": [
    {
     "data": {
      "text/plain": [
       "140"
      ]
     },
     "execution_count": 39,
     "metadata": {},
     "output_type": "execute_result"
    }
   ],
   "source": [
    "colonnes_a_tester = [\"sexe\", \"age\"]\n",
    "ville.drop_duplicates(colonnes_a_tester).count()"
   ]
  },
  {
   "cell_type": "markdown",
   "id": "dac44822",
   "metadata": {},
   "source": [
    "## 4.4) exceptAll => enlever les lignes qui sont dans un autre ensemble"
   ]
  },
  {
   "cell_type": "code",
   "execution_count": 42,
   "id": "bb854f64",
   "metadata": {},
   "outputs": [],
   "source": [
    "dix_pct = ville.sample(False, 0.1)"
   ]
  },
  {
   "cell_type": "code",
   "execution_count": 45,
   "id": "ff37e14f",
   "metadata": {},
   "outputs": [
    {
     "data": {
      "text/plain": [
       "105"
      ]
     },
     "execution_count": 45,
     "metadata": {},
     "output_type": "execute_result"
    }
   ],
   "source": [
    "dix_pct.count()"
   ]
  },
  {
   "cell_type": "code",
   "execution_count": 46,
   "id": "823cd83e",
   "metadata": {},
   "outputs": [
    {
     "data": {
      "text/plain": [
       "978"
      ]
     },
     "execution_count": 46,
     "metadata": {},
     "output_type": "execute_result"
    }
   ],
   "source": [
    "ville.exceptAll(dix_pct).count()"
   ]
  },
  {
   "cell_type": "code",
   "execution_count": 44,
   "id": "fd0bc35a",
   "metadata": {},
   "outputs": [
    {
     "data": {
      "text/plain": [
       "1083"
      ]
     },
     "execution_count": 44,
     "metadata": {},
     "output_type": "execute_result"
    }
   ],
   "source": [
    "ville.count()"
   ]
  },
  {
   "cell_type": "markdown",
   "id": "2bfe8401",
   "metadata": {},
   "source": [
    "## 4.5) fillna => remplir les vides"
   ]
  },
  {
   "cell_type": "code",
   "execution_count": 48,
   "id": "e04f8bc6",
   "metadata": {},
   "outputs": [
    {
     "data": {
      "text/plain": [
       "DataFrame[id: int, vitesse_a_pied: double, vitesse_a_velo: double, home: string, travail: string, sportif: boolean, casseur: boolean, statut: string, salaire: double, sexe: string, age: int, sportivite: double, velo_perf_minimale: double, salaire_int: double]"
      ]
     },
     "execution_count": 48,
     "metadata": {},
     "output_type": "execute_result"
    }
   ],
   "source": [
    "ville.fillna(\"TBD\", subset=colonnes_a_tester)"
   ]
  },
  {
   "cell_type": "markdown",
   "id": "7c41ce5b",
   "metadata": {},
   "source": [
    "## 4.6) printschema : donne de l'info sur la dataframe"
   ]
  },
  {
   "cell_type": "code",
   "execution_count": 49,
   "id": "851014da",
   "metadata": {},
   "outputs": [
    {
     "name": "stdout",
     "output_type": "stream",
     "text": [
      "root\n",
      " |-- id: integer (nullable = true)\n",
      " |-- vitesse_a_pied: double (nullable = true)\n",
      " |-- vitesse_a_velo: double (nullable = true)\n",
      " |-- home: string (nullable = true)\n",
      " |-- travail: string (nullable = true)\n",
      " |-- sportif: boolean (nullable = true)\n",
      " |-- casseur: boolean (nullable = true)\n",
      " |-- statut: string (nullable = true)\n",
      " |-- salaire: double (nullable = true)\n",
      " |-- sexe: string (nullable = true)\n",
      " |-- age: integer (nullable = true)\n",
      " |-- sportivite: double (nullable = true)\n",
      " |-- velo_perf_minimale: double (nullable = true)\n",
      " |-- salaire_int: double (nullable = true)\n",
      "\n"
     ]
    }
   ],
   "source": [
    "ville.printSchema()"
   ]
  },
  {
   "cell_type": "markdown",
   "id": "511c1505",
   "metadata": {},
   "source": [
    "## 4.7) statistiques automatiques sur des colonnes"
   ]
  },
  {
   "cell_type": "code",
   "execution_count": 55,
   "id": "a641575c",
   "metadata": {},
   "outputs": [
    {
     "name": "stdout",
     "output_type": "stream",
     "text": [
      "-RECORD 0----------------------------------\n",
      " summary            | count                \n",
      " id                 | 1083                 \n",
      " vitesse_a_pied     | 1083                 \n",
      " vitesse_a_velo     | 1083                 \n",
      " home               | 1083                 \n",
      " travail            | 1083                 \n",
      " statut             | 1083                 \n",
      " salaire            | 1083                 \n",
      " sexe               | 1083                 \n",
      " age                | 1083                 \n",
      " sportivite         | 1083                 \n",
      " velo_perf_minimale | 1083                 \n",
      " salaire_int        | 1083                 \n",
      "-RECORD 1----------------------------------\n",
      " summary            | max                  \n",
      " id                 | 6333                 \n",
      " vitesse_a_pied     | 3.7766588011416977   \n",
      " vitesse_a_velo     | 10.07109013637786    \n",
      " home               | (lon:9.99 lat:17.81) \n",
      " travail            | (lon:9.90 lat:0.36)  \n",
      " statut             | éboueur              \n",
      " salaire            | 80017.45851327667    \n",
      " sexe               | H                    \n",
      " age                | 84                   \n",
      " sportivite         | 8.683572706695392    \n",
      " velo_perf_minimale | 4.596287556824109    \n",
      " salaire_int        | 80017.45851327667    \n",
      "-RECORD 2----------------------------------\n",
      " summary            | min                  \n",
      " id                 | 5251                 \n",
      " vitesse_a_pied     | 0.02                 \n",
      " vitesse_a_velo     | 0.05                 \n",
      " home               | (lon:0.07 lat:26.71) \n",
      " travail            | (lon:0.06 lat:31.20) \n",
      " statut             | cadre                \n",
      " salaire            | 5082.069104697515    \n",
      " sexe               | F                    \n",
      " age                | 15                   \n",
      " sportivite         | 0.1                  \n",
      " velo_perf_minimale | 0.4                  \n",
      " salaire_int        | 5082.069104697515    \n",
      "\n"
     ]
    }
   ],
   "source": [
    "ville.summary([\"count\", \"max\", \"min\"]).show(vertical=True)"
   ]
  },
  {
   "cell_type": "markdown",
   "id": "a46c32d8",
   "metadata": {},
   "source": [
    "## 4.8) Renommer une colonne"
   ]
  },
  {
   "cell_type": "code",
   "execution_count": 58,
   "id": "97d848e2",
   "metadata": {},
   "outputs": [
    {
     "data": {
      "text/plain": [
       "['id',\n",
       " 'vitesse_a_pied',\n",
       " 'vitesse_a_velo',\n",
       " 'home',\n",
       " 'travail',\n",
       " 'sportif',\n",
       " 'casseur',\n",
       " 'statut',\n",
       " 'salaire',\n",
       " 'sexe',\n",
       " 'age',\n",
       " 'sportivite',\n",
       " 'velo_perf_minimale',\n",
       " 'salaire_entier']"
      ]
     },
     "execution_count": 58,
     "metadata": {},
     "output_type": "execute_result"
    }
   ],
   "source": [
    "ancien_nom = \"salaire_int\"\n",
    "nouveau_nom = \"salaire_entier\"\n",
    "ville.withColumnRenamed(ancien_nom, nouveau_nom).columns"
   ]
  },
  {
   "cell_type": "markdown",
   "id": "9e5d1f78",
   "metadata": {},
   "source": [
    "## 4.9) calculer un arrondi d'une colonne"
   ]
  },
  {
   "cell_type": "code",
   "execution_count": 59,
   "id": "0422520e",
   "metadata": {},
   "outputs": [
    {
     "data": {
      "text/plain": [
       "[('id', 'int'),\n",
       " ('vitesse_a_pied', 'double'),\n",
       " ('vitesse_a_velo', 'double'),\n",
       " ('home', 'string'),\n",
       " ('travail', 'string'),\n",
       " ('sportif', 'boolean'),\n",
       " ('casseur', 'boolean'),\n",
       " ('statut', 'string'),\n",
       " ('salaire', 'double'),\n",
       " ('sexe', 'string'),\n",
       " ('age', 'int'),\n",
       " ('sportivite', 'double'),\n",
       " ('velo_perf_minimale', 'double'),\n",
       " ('salaire_int', 'double')]"
      ]
     },
     "execution_count": 59,
     "metadata": {},
     "output_type": "execute_result"
    }
   ],
   "source": [
    "ville.dtypes"
   ]
  },
  {
   "cell_type": "code",
   "execution_count": 60,
   "id": "5e5e41ae",
   "metadata": {},
   "outputs": [],
   "source": [
    "from pyspark.sql import functions as F"
   ]
  },
  {
   "cell_type": "code",
   "execution_count": 62,
   "id": "5ef79fae",
   "metadata": {},
   "outputs": [
    {
     "data": {
      "text/plain": [
       "[Row(id=5251, vitesse_a_pied=0.02, vitesse_a_velo=0.05, home='(lon:26.60 lat:28.13)', travail='(lon:21.08 lat:14.11)', sportif=False, casseur=False, statut='reserviste', salaire=29800.610034665042, sexe='F', age=18, sportivite=0.1, velo_perf_minimale=0.4, salaire_int=29800.610034665042, test=29801.0),\n",
       " Row(id=5252, vitesse_a_pied=0.14974625830876215, vitesse_a_velo=0.37436564577190534, home='(lon:0.26 lat:42.61)', travail='(lon:36.35 lat:33.28)', sportif=False, casseur=False, statut='professeur', salaire=23595.44383981423, sexe='F', age=28, sportivite=0.7487312915438107, velo_perf_minimale=0.4, salaire_int=23595.44383981423, test=23595.0),\n",
       " Row(id=5253, vitesse_a_pied=0.6309711587089704, vitesse_a_velo=1.6825897565572543, home='(lon:3.34 lat:13.95)', travail='(lon:24.75 lat:48.15)', sportif=False, casseur=False, statut='technicien_de_surface', salaire=18530.14776280135, sexe='H', age=65, sportivite=2.103237195696568, velo_perf_minimale=0.4, salaire_int=18530.14776280135, test=18530.0)]"
      ]
     },
     "execution_count": 62,
     "metadata": {},
     "output_type": "execute_result"
    }
   ],
   "source": [
    "ville.withColumn(\"test\", F.bround(\"salaire\", 0)).take(3)"
   ]
  },
  {
   "cell_type": "code",
   "execution_count": 69,
   "id": "aeda81c3",
   "metadata": {},
   "outputs": [
    {
     "name": "stdout",
     "output_type": "stream",
     "text": [
      "-RECORD 0----------------------------------\n",
      " id                 | 5251                 \n",
      " vitesse_a_pied     | 0.02                 \n",
      " vitesse_a_velo     | 0.05                 \n",
      " home               | (lon:26.60 lat:28... \n",
      " travail            | (lon:21.08 lat:14... \n",
      " sportif            | false                \n",
      " casseur            | false                \n",
      " statut             | reserviste           \n",
      " salaire            | 29800.610034665042   \n",
      " sexe               | F                    \n",
      " age                | 18                   \n",
      " sportivite         | 0.1                  \n",
      " velo_perf_minimale | 0.4                  \n",
      " salaire_int        | 29800.610034665042   \n",
      "-RECORD 1----------------------------------\n",
      " id                 | 5252                 \n",
      " vitesse_a_pied     | 0.14974625830876215  \n",
      " vitesse_a_velo     | 0.37436564577190534  \n",
      " home               | (lon:0.26 lat:42.61) \n",
      " travail            | (lon:36.35 lat:33... \n",
      " sportif            | false                \n",
      " casseur            | false                \n",
      " statut             | professeur           \n",
      " salaire            | 23595.44383981423    \n",
      " sexe               | F                    \n",
      " age                | 28                   \n",
      " sportivite         | 0.7487312915438107   \n",
      " velo_perf_minimale | 0.4                  \n",
      " salaire_int        | 23595.44383981423    \n",
      "-RECORD 2----------------------------------\n",
      " id                 | 5253                 \n",
      " vitesse_a_pied     | 0.6309711587089704   \n",
      " vitesse_a_velo     | 1.6825897565572543   \n",
      " home               | (lon:3.34 lat:13.95) \n",
      " travail            | (lon:24.75 lat:48... \n",
      " sportif            | false                \n",
      " casseur            | false                \n",
      " statut             | technicien_de_sur... \n",
      " salaire            | 18530.14776280135    \n",
      " sexe               | H                    \n",
      " age                | 65                   \n",
      " sportivite         | 2.103237195696568    \n",
      " velo_perf_minimale | 0.4                  \n",
      " salaire_int        | 18530.14776280135    \n",
      "only showing top 3 rows\n",
      "\n"
     ]
    }
   ],
   "source": [
    "ville.show(3, vertical=True)"
   ]
  },
  {
   "cell_type": "markdown",
   "id": "28d44cf8",
   "metadata": {},
   "source": [
    "# 5) back to the \"cycliste\" file"
   ]
  },
  {
   "cell_type": "code",
   "execution_count": 71,
   "id": "6f513d8d",
   "metadata": {},
   "outputs": [
    {
     "name": "stdout",
     "output_type": "stream",
     "text": [
      "cycliste,n_message,time,message\r\n",
      "cycliste_azey2,0442, 1486038900.39,velo rendu sur la station azgb6 ( a la maison = False) (elem de station_travail)\r\n",
      "cycliste_azey2,0441, 1486038900.39,impossible de rendre sur ,aesjv ( a la maison = False)\r\n",
      "cycliste_azey2,0440, 1486038900.38,self.a_la_maison = False\r\n",
      "cycliste_azey2,0439, 1486038897.85,True a pris le velo velo_aelcv_1486034979.01 sur la station ars89\r\n",
      "cycliste_azefc,0616, 1486038900.41,impossible de rendre sur ,ars89 ( a la maison = True)\r\n",
      "cycliste_azefc,0615, 1486038900.41,impossible de rendre sur ,aesjv ( a la maison = True)\r\n",
      "cycliste_azei1,0455, 1486038900.42,velo rendu sur la station arfh7 ( a la maison = False) (elem de station_travail)\r\n",
      "cycliste_azei1,0454, 1486038900.42,impossible de rendre sur ,artl6 ( a la maison = False)\r\n",
      "cycliste_azei1,0453, 1486038900.42,impossible de rendre sur ,azop9 ( a la maison = False)\r\n"
     ]
    }
   ],
   "source": [
    "!head cycliste_debug.csv"
   ]
  },
  {
   "cell_type": "code",
   "execution_count": 74,
   "id": "00934233",
   "metadata": {},
   "outputs": [],
   "source": [
    "cycliste = spark.read.format(\"csv\").option(\"header\", \"true\").load(\"./cycliste_debug.csv\", inferschema=True)"
   ]
  },
  {
   "cell_type": "code",
   "execution_count": 75,
   "id": "c24d74fe",
   "metadata": {},
   "outputs": [
    {
     "data": {
      "text/plain": [
       "[('cycliste', 'string'),\n",
       " ('n_message', 'int'),\n",
       " ('time', 'double'),\n",
       " ('message', 'string')]"
      ]
     },
     "execution_count": 75,
     "metadata": {},
     "output_type": "execute_result"
    }
   ],
   "source": [
    "cycliste.dtypes"
   ]
  },
  {
   "cell_type": "code",
   "execution_count": 76,
   "id": "49c9a244",
   "metadata": {},
   "outputs": [],
   "source": [
    "cycliste  = cycliste.withColumnRenamed(\"time\", \"timestamp\")"
   ]
  },
  {
   "cell_type": "code",
   "execution_count": 77,
   "id": "c0e59bda",
   "metadata": {},
   "outputs": [
    {
     "name": "stdout",
     "output_type": "stream",
     "text": [
      "root\n",
      " |-- cycliste: string (nullable = true)\n",
      " |-- n_message: integer (nullable = true)\n",
      " |-- timestamp: double (nullable = true)\n",
      " |-- message: string (nullable = true)\n",
      "\n"
     ]
    }
   ],
   "source": [
    "cycliste.printSchema()"
   ]
  },
  {
   "cell_type": "code",
   "execution_count": 79,
   "id": "623fef89",
   "metadata": {},
   "outputs": [
    {
     "data": {
      "text/plain": [
       "101774"
      ]
     },
     "execution_count": 79,
     "metadata": {},
     "output_type": "execute_result"
    }
   ],
   "source": [
    "cycliste.select(\"timestamp\").drop_duplicates().count()"
   ]
  },
  {
   "cell_type": "code",
   "execution_count": 80,
   "id": "f47385b3",
   "metadata": {},
   "outputs": [],
   "source": [
    "# Exo : transformer les timestamp en date "
   ]
  },
  {
   "cell_type": "code",
   "execution_count": 89,
   "id": "ae59acee",
   "metadata": {},
   "outputs": [],
   "source": [
    "from pyspark.sql.functions import udf\n",
    "from pyspark.sql.types import TimestampType"
   ]
  },
  {
   "cell_type": "markdown",
   "id": "ec11c947",
   "metadata": {},
   "source": [
    "### Décoration d'une fonction python avec @udf"
   ]
  },
  {
   "cell_type": "code",
   "execution_count": 86,
   "id": "fda51e3e",
   "metadata": {},
   "outputs": [],
   "source": [
    "@udf(returnType=TimestampType())\n",
    "def transform_timestamp_in_date(timestamp):\n",
    "    import datetime\n",
    "    return datetime.datetime.fromtimestamp(timestamp)    "
   ]
  },
  {
   "cell_type": "code",
   "execution_count": 88,
   "id": "5545ef57",
   "metadata": {},
   "outputs": [
    {
     "name": "stdout",
     "output_type": "stream",
     "text": [
      "-RECORD 0-------------------------\n",
      " cycliste  | cycliste_azey2       \n",
      " n_message | 442                  \n",
      " timestamp | 1.48603890039E9      \n",
      " message   | velo rendu sur la... \n",
      " date      | 2017-02-02 13:35:... \n",
      "-RECORD 1-------------------------\n",
      " cycliste  | cycliste_azey2       \n",
      " n_message | 441                  \n",
      " timestamp | 1.48603890039E9      \n",
      " message   | impossible de ren... \n",
      " date      | 2017-02-02 13:35:... \n",
      "-RECORD 2-------------------------\n",
      " cycliste  | cycliste_azey2       \n",
      " n_message | 440                  \n",
      " timestamp | 1.48603890038E9      \n",
      " message   | self.a_la_maison ... \n",
      " date      | 2017-02-02 13:35:... \n",
      "only showing top 3 rows\n",
      "\n"
     ]
    }
   ],
   "source": [
    "cycliste.withColumn(\"date\", transform_timestamp_in_date(\"timestamp\") ).show(3, vertical=True)"
   ]
  },
  {
   "cell_type": "code",
   "execution_count": null,
   "id": "9091e008",
   "metadata": {},
   "outputs": [],
   "source": []
  }
 ],
 "metadata": {
  "kernelspec": {
   "display_name": "Python 3",
   "language": "python",
   "name": "python3"
  },
  "language_info": {
   "codemirror_mode": {
    "name": "ipython",
    "version": 3
   },
   "file_extension": ".py",
   "mimetype": "text/x-python",
   "name": "python",
   "nbconvert_exporter": "python",
   "pygments_lexer": "ipython3",
   "version": "3.8.8"
  }
 },
 "nbformat": 4,
 "nbformat_minor": 5
}
